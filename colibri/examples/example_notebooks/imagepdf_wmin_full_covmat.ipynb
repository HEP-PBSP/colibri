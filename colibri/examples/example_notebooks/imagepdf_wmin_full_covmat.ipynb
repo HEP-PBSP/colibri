{
 "cells": [
  {
   "cell_type": "markdown",
   "id": "df4094c2",
   "metadata": {},
   "source": [
    "# ImagePDF - wmin (Full Covmat)"
   ]
  },
  {
   "cell_type": "code",
   "execution_count": 1,
   "id": "ea5ea34e",
   "metadata": {},
   "outputs": [],
   "source": [
    "import itertools\n",
    "\n",
    "import numpy as np\n",
    "\n",
    "import jax.numpy as jnp\n",
    "import jax\n",
    "\n",
    "from jax.example_libraries import optimizers\n",
    "\n",
    "from validphys.api import API\n",
    "from validphys.fkparser import load_fktable\n",
    "from validphys.commondataparser import load_commondata\n",
    "\n",
    "from reportengine import collect\n",
    "\n",
    "import pandas as pd\n",
    "from validphys.core import DataGroupSpec\n",
    "\n",
    "from validphys.pdfbases import evolution\n",
    "from validphys import convolution\n",
    "from validphys import covmats\n",
    "from validphys.loader import Loader\n",
    "\n",
    "import jax.scipy.linalg as jla\n",
    "\n"
   ]
  },
  {
   "cell_type": "code",
   "execution_count": 2,
   "id": "71bc24c1",
   "metadata": {},
   "outputs": [],
   "source": [
    "inp = {\n",
    "    \"fit\": \"210713-n3fit-001\",\n",
    "    \"dataset_inputs\": {\"from_\": \"fit\"},\n",
    "    \"use_cuts\": \"internal\",\n",
    "    \"theoryid\": 400\n",
    "}"
   ]
  },
  {
   "cell_type": "code",
   "execution_count": 3,
   "id": "565a0087",
   "metadata": {},
   "outputs": [],
   "source": [
    "data = API.data(**inp)"
   ]
  },
  {
   "cell_type": "code",
   "execution_count": 4,
   "id": "279b08df",
   "metadata": {},
   "outputs": [
    {
     "name": "stdout",
     "output_type": "stream",
     "text": [
      "Excluding ATLAS_1JET_8TEV_R06_DEC\n",
      "Excluding ATLAS_2JET_7TEV_R06\n",
      "Excluding CMS_2JET_7TEV\n",
      "Excluding CMS_1JET_8TEV\n"
     ]
    }
   ],
   "source": [
    "# store grids with shape (50,) only\n",
    "xx = []\n",
    "\n",
    "excluded = set()\n",
    "included = set()\n",
    "\n",
    "for ds in data.datasets:\n",
    "\n",
    "    for fk in ds.fkspecs:\n",
    "\n",
    "        xgrid = load_fktable(fk).xgrid\n",
    "        \n",
    "        if xgrid.shape != (50,):\n",
    "            print(\"Excluding\", ds)\n",
    "            excluded.add(ds)\n",
    "            continue\n",
    "        else:\n",
    "            xx.append(xgrid)\n",
    "            included.add(ds)\n",
    "included = list(included)"
   ]
  },
  {
   "cell_type": "code",
   "execution_count": 5,
   "id": "9420fae6",
   "metadata": {},
   "outputs": [],
   "source": [
    "class FilteredDataGroupSpec(DataGroupSpec):\n",
    "        pass\n",
    "\n",
    "# FilteredDataGroupSpec = namedtuple('DataGroupSpec', ('name', 'datasets'))\n",
    "filtered_data = FilteredDataGroupSpec(name = \"data\", datasets = tuple(included), dsinputs = included)\n"
   ]
  },
  {
   "cell_type": "code",
   "execution_count": 6,
   "id": "7dcb7372",
   "metadata": {},
   "outputs": [],
   "source": [
    "arr = np.array(xx)"
   ]
  },
  {
   "cell_type": "code",
   "execution_count": 7,
   "id": "083f7f24",
   "metadata": {},
   "outputs": [
    {
     "data": {
      "text/plain": [
       "1.3322676295501878e-15"
      ]
     },
     "execution_count": 7,
     "metadata": {},
     "output_type": "execute_result"
    }
   ],
   "source": [
    "arr.std(axis=0).max()"
   ]
  },
  {
   "cell_type": "code",
   "execution_count": 8,
   "id": "7f743db2",
   "metadata": {},
   "outputs": [],
   "source": [
    "# list of datasetspecs\n",
    "datasets = list(filtered_data.dsinputs)"
   ]
  },
  {
   "cell_type": "code",
   "execution_count": 9,
   "id": "199a0c99",
   "metadata": {},
   "outputs": [],
   "source": [
    "# TODO: Is this needed?\n",
    "# jit: just-in-time (JIT) compilation decorator\n",
    "# compile functions\n",
    "OP = {key: jax.jit(val) for key,val in convolution.OP.items()}"
   ]
  },
  {
   "cell_type": "code",
   "execution_count": 10,
   "id": "674535d8",
   "metadata": {},
   "outputs": [
    {
     "data": {
      "text/plain": [
       "{'RATIO': <CompiledFunction of <built-in function truediv>>,\n",
       " 'ASY': <CompiledFunction of <function _asy at 0x185d7e160>>,\n",
       " 'ADD': <CompiledFunction of <built-in function add>>,\n",
       " 'SMN': <CompiledFunction of <function _smn at 0x185d7e1f0>>,\n",
       " 'COM': <CompiledFunction of <function _com at 0x185d95550>>,\n",
       " 'SMT': <CompiledFunction of <function _smt at 0x185d955e0>>,\n",
       " 'NULL': <CompiledFunction of <function _id at 0x185d95670>>}"
      ]
     },
     "execution_count": 10,
     "metadata": {},
     "output_type": "execute_result"
    }
   ],
   "source": [
    "OP"
   ]
  },
  {
   "cell_type": "code",
   "execution_count": 11,
   "id": "71fa8b05",
   "metadata": {},
   "outputs": [],
   "source": [
    "rng = jax.random.PRNGKey(0xDEADBEEF)"
   ]
  },
  {
   "cell_type": "code",
   "execution_count": 12,
   "id": "685f9a88",
   "metadata": {},
   "outputs": [
    {
     "name": "stdout",
     "output_type": "stream",
     "text": [
      "LHAPDF 6.4.0 loading all 101 PDFs in set 210713-n3fit-001\n",
      "210713-n3fit-001, version 1; 101 PDF members\n"
     ]
    }
   ],
   "source": [
    "l = Loader()\n",
    "pdf = l.check_pdf(\"210713-n3fit-001\")\n",
    "\n",
    "\n",
    "# shape (101, 14, 50)\n",
    "# LinearBasis Class - > implements basis transformation from flavour to any?\n",
    "# grid_values: Evaluate ``x*f(x)`` on a grid of points in flavour, x and Q.\n",
    "\n",
    "INPUT_GRID = evolution.grid_values(pdf, convolution.FK_FLAVOURS, xx[0], [1.65]).squeeze(-1)\n",
    "\n",
    "# initial weights for weight minimization?\n",
    "weight_base_num = jax.random.normal(rng, shape=(INPUT_GRID.shape[0],))\n",
    "weight_base = weight_base_num/jnp.sum(weight_base_num)"
   ]
  },
  {
   "cell_type": "code",
   "execution_count": 13,
   "id": "4697f623",
   "metadata": {},
   "outputs": [
    {
     "data": {
      "text/plain": [
       "PDF(name='210713-n3fit-001')"
      ]
     },
     "execution_count": 13,
     "metadata": {},
     "output_type": "execute_result"
    }
   ],
   "source": [
    "pdf"
   ]
  },
  {
   "cell_type": "code",
   "execution_count": 14,
   "id": "ddd5a971",
   "metadata": {},
   "outputs": [
    {
     "data": {
      "text/plain": [
       "<bound method Basis.grid_values of <validphys.pdfbases.LinearBasis object at 0x185d894c0>>"
      ]
     },
     "execution_count": 14,
     "metadata": {},
     "output_type": "execute_result"
    }
   ],
   "source": [
    "evolution.grid_values"
   ]
  },
  {
   "cell_type": "markdown",
   "id": "84997adf",
   "metadata": {},
   "source": [
    "## Prediction Functions"
   ]
  },
  {
   "cell_type": "code",
   "execution_count": 15,
   "id": "eff3c317",
   "metadata": {},
   "outputs": [],
   "source": [
    "def make_dis_prediction(fk):\n",
    "    \"\"\"\n",
    "    TODO\n",
    "    \n",
    "    Parameters\n",
    "    ----------\n",
    "    fk : \n",
    "    \n",
    "    Returns\n",
    "    -------\n",
    "    \n",
    "    \n",
    "    \"\"\"\n",
    "    indices = fk.luminosity_mapping\n",
    "    fk_arr = jnp.array(fk.get_np_fktable())\n",
    "    \n",
    "    @jax.jit\n",
    "    def dis_prediction(pdf):\n",
    "        \"\"\"\n",
    "        Compute theory prediction as\n",
    "        \n",
    "        T_i = FK_{i,a,x} f_{a,x}\n",
    "        \n",
    "        summing over repeated indices\n",
    "        \n",
    "        Parameters\n",
    "        ----------\n",
    "        pdf : \n",
    "        \n",
    "        \"\"\"\n",
    "        return jnp.einsum(\"ijk, jk ->i\", fk_arr, pdf[indices, :])\n",
    "    return dis_prediction\n",
    "    \n",
    "    \n",
    "def make_had_prediction(fk):\n",
    "    indices = fk.luminosity_mapping\n",
    "    first_indices = indices[0::2]\n",
    "    second_indices = indices[1::2]\n",
    "    fk_arr = jnp.array(fk.get_np_fktable())\n",
    "    @jax.jit\n",
    "    def had_prediction(pdf):\n",
    "        return jnp.einsum(\"ijkl,jk,jl->i\", fk_arr, pdf[first_indices,:], pdf[second_indices,:])\n",
    "    return had_prediction\n",
    "\n",
    "\n",
    "def make_pred_dataset(dataset):\n",
    "    \"\"\"\n",
    "    \"\"\"\n",
    "    \n",
    "    pred_funcs = []\n",
    "    \n",
    "    # why does each dataset have several fkspecs?\n",
    "    # e.g. compound has two fkspec?\n",
    "    \n",
    "    for fkspec in dataset.fkspecs:\n",
    "        fk = load_fktable(fkspec).with_cuts(dataset.cuts)\n",
    "        if fk.hadronic:\n",
    "            pred = make_had_prediction(fk)\n",
    "        else:\n",
    "            pred = make_dis_prediction(fk)\n",
    "        pred_funcs.append(pred)\n",
    "    @jax.jit\n",
    "    def prediction(pdf):\n",
    "        return OP[dataset.op](*[f(pdf) for f in pred_funcs])\n",
    "    \n",
    "    return prediction\n",
    "\n",
    "def make_pred_data(data):\n",
    "    \"\"\"\n",
    "    TODO\n",
    "    same as make_pred_datasets but for datagroupspec\n",
    "    \n",
    "    returns jnp.array\n",
    "    \n",
    "    \"\"\"\n",
    "    predictions = []\n",
    "    for ds in data.datasets:\n",
    "        predictions.append(make_pred_dataset(ds))\n",
    "\n",
    "    def eval_preds(pdf):\n",
    "        return jnp.array(list(itertools.chain(*[f(pdf) for f in predictions])))\n",
    "\n",
    "    return eval_preds"
   ]
  },
  {
   "cell_type": "code",
   "execution_count": 16,
   "id": "f089daa9",
   "metadata": {},
   "outputs": [
    {
     "data": {
      "text/plain": [
       "DeviceArray([ 0.00634867,  0.00335842,  0.00362329,  0.01082769,\n",
       "              0.00603989,  0.00212616,  0.00160196,  0.00900104,\n",
       "             -0.00943604], dtype=float32)"
      ]
     },
     "execution_count": 16,
     "metadata": {},
     "output_type": "execute_result"
    }
   ],
   "source": [
    "make_pred_dataset(datasets[41])(INPUT_GRID[1]) - jnp.array(datasets[41].load_commondata().central_values)"
   ]
  },
  {
   "cell_type": "code",
   "execution_count": 17,
   "id": "56f8fe35",
   "metadata": {},
   "outputs": [
    {
     "data": {
      "text/plain": [
       "<CompiledFunction of <function make_pred_dataset.<locals>.prediction at 0x186d9c5e0>>"
      ]
     },
     "execution_count": 17,
     "metadata": {},
     "output_type": "execute_result"
    }
   ],
   "source": [
    "make_pred_dataset(datasets[42])#(INPUT_GRID[0])"
   ]
  },
  {
   "cell_type": "code",
   "execution_count": 18,
   "id": "76341d23",
   "metadata": {
    "scrolled": true
   },
   "outputs": [],
   "source": [
    "m_p_d = make_pred_data(filtered_data)"
   ]
  },
  {
   "cell_type": "code",
   "execution_count": 19,
   "id": "3ad94899",
   "metadata": {},
   "outputs": [
    {
     "data": {
      "text/plain": [
       "(14, 50)"
      ]
     },
     "execution_count": 19,
     "metadata": {},
     "output_type": "execute_result"
    }
   ],
   "source": [
    "INPUT_GRID[0].shape"
   ]
  },
  {
   "cell_type": "code",
   "execution_count": 20,
   "id": "475cde00",
   "metadata": {},
   "outputs": [
    {
     "data": {
      "text/plain": [
       "DeviceArray([ 0.27635032,  0.27725986,  0.27277255, ..., 14.925656  ,\n",
       "             11.301424  ,  4.898467  ], dtype=float32)"
      ]
     },
     "execution_count": 20,
     "metadata": {},
     "output_type": "execute_result"
    }
   ],
   "source": [
    "m_p_d(INPUT_GRID[0])"
   ]
  },
  {
   "cell_type": "markdown",
   "id": "7394f102",
   "metadata": {},
   "source": [
    "## Loss functions"
   ]
  },
  {
   "cell_type": "code",
   "execution_count": 42,
   "id": "675e4fa1",
   "metadata": {},
   "outputs": [],
   "source": [
    "def make_chi2(ds):\n",
    "    \"\"\"\n",
    "    \n",
    "    \"\"\"\n",
    "    cd = load_commondata(ds.commondata).with_cuts(ds.cuts)\n",
    "\n",
    "    central_value = jnp.array(cd.central_values)\n",
    "\n",
    "    covmat = covmats.covmat_from_systematics(cd, dataset_input=ds)\n",
    "\n",
    "    sqrt_covmat = jnp.array(covmats.sqrt_covmat(covmat))\n",
    "\n",
    "    pred = make_pred(ds)\n",
    "    \n",
    "    @jax.jit\n",
    "    def chi2(pdf):\n",
    "        diff = pred(pdf) - central_value\n",
    "        # solve_triangular: solve the equation a x = b for x, assuming a is a triangular matrix.\n",
    "        chi2_vec = jla.solve_triangular(sqrt_covmat, diff, lower=True)\n",
    "        return jnp.sum(chi2_vec**2)\n",
    "    \n",
    "    return chi2\n",
    "\n",
    "\n",
    "def make_chi2_data(data):\n",
    "    \"\"\"\n",
    "    \n",
    "    \"\"\"\n",
    "\n",
    "    cd_list = data.load_commondata_instance()\n",
    "\n",
    "    central_values = [cd.central_values for cd in cd_list]\n",
    "    \n",
    "    central_values = jnp.array(pd.concat(central_values, axis=0))\n",
    "\n",
    "    covmat = covmats.dataset_inputs_covmat_from_systematics(cd_list, data_input=data.dsinputs)\n",
    "    \n",
    "    sqrt_covmat = jnp.array(covmats.sqrt_covmat(covmat))\n",
    "    \n",
    "    pred = make_pred_data(data) \n",
    "    \n",
    "    @jax.jit\n",
    "    def chi2(pdf):\n",
    "        diff = pred(pdf) - central_values\n",
    "\n",
    "        # solve_triangular: solve the equation a x = b for x, assuming a is a triangular matrix.\n",
    "        chi2_vec = jla.solve_triangular(sqrt_covmat, diff, lower=True)\n",
    "        return jnp.sum(chi2_vec**2)\n",
    "    \n",
    "    return chi2\n",
    "\n",
    "def make_chi2_data_mini_batch(data):\n",
    "    \"\"\"\n",
    "    \n",
    "    \"\"\"\n",
    "\n",
    "    cd_list = data.load_commondata_instance()\n",
    "\n",
    "    central_values = [cd.central_values for cd in cd_list]\n",
    "    \n",
    "    central_values = jnp.array(pd.concat(central_values, axis=0))\n",
    "\n",
    "    covmat = covmats.dataset_inputs_covmat_from_systematics(cd_list, data_input=data.dsinputs)\n",
    "    \n",
    "    sqrt_covmat = jnp.array(covmats.sqrt_covmat(covmat))\n",
    "    \n",
    "    pred = make_pred_data(data) \n",
    "    \n",
    "    @jax.jit\n",
    "    def chi2(pdf,batch_idx):\n",
    "        diff = pred(pdf)[batch_idx] - central_values[batch_idx]\n",
    "\n",
    "        # solve_triangular: solve the equation a x = b for x, assuming a is a triangular matrix.\n",
    "        chi2_vec = jla.solve_triangular(sqrt_covmat[batch_idx][:,batch_idx], diff[batch_idx], lower=True)\n",
    "        return jnp.sum(chi2_vec**2)\n",
    "    \n",
    "    return chi2\n",
    "\n",
    "\n",
    "chi2_contribs_data = make_chi2_data(filtered_data)\n",
    "chi2_contribs_data_mini_batch = make_chi2_data_mini_batch(filtered_data)\n",
    "\n",
    "@jax.jit\n",
    "def loss_data(weights):\n",
    "    pdf = jnp.einsum(\"i,ijk\", weights, INPUT_GRID)\n",
    "    return chi2_contribs_data(pdf)\n",
    "\n"
   ]
  },
  {
   "cell_type": "code",
   "execution_count": 49,
   "id": "8eaa9841",
   "metadata": {},
   "outputs": [
    {
     "name": "stdout",
     "output_type": "stream",
     "text": [
      "<class 'validphys.core.DataGroupSpec'>\n",
      "77\n",
      "<class '__main__.FilteredDataGroupSpec'>\n",
      "73\n",
      "(4116,)\n"
     ]
    }
   ],
   "source": [
    "print(type(data))\n",
    "print(len(data))\n",
    "print(type(filtered_data))\n",
    "print(len(filtered_data))\n",
    "print(m_p_d(INPUT_GRID[0]).shape)\n",
    "\n",
    "Ndat = m_p_d(INPUT_GRID[0]).shape[0]\n",
    "# filtered_data\n"
   ]
  },
  {
   "cell_type": "code",
   "execution_count": 58,
   "id": "749fd2ac",
   "metadata": {},
   "outputs": [
    {
     "data": {
      "text/plain": [
       "DeviceArray([ 0.27635032,  0.27725986,  0.27277255, ..., 14.925656  ,\n",
       "             11.301424  ,  4.898467  ], dtype=float32)"
      ]
     },
     "execution_count": 58,
     "metadata": {},
     "output_type": "execute_result"
    }
   ],
   "source": [
    "m_p_d(INPUT_GRID[0])"
   ]
  },
  {
   "cell_type": "markdown",
   "id": "acbcc7fb",
   "metadata": {},
   "source": [
    "## mini batch gradient descendt"
   ]
  },
  {
   "cell_type": "code",
   "execution_count": 50,
   "id": "358fc058",
   "metadata": {},
   "outputs": [],
   "source": [
    "@jax.jit\n",
    "def loss_data_batch(weights,batch_idx):\n",
    "    pdf = jnp.einsum(\"i,ijk\", weights, INPUT_GRID)\n",
    "    return chi2_contribs_data_mini_batch(pdf,batch_idx)"
   ]
  },
  {
   "cell_type": "code",
   "execution_count": 59,
   "id": "cf139be6",
   "metadata": {},
   "outputs": [],
   "source": [
    "# compute grad on mini batch\n",
    "grad = jax.grad(loss_data_batch)(weight_base,jnp.array([0,1,2,3]))"
   ]
  },
  {
   "cell_type": "code",
   "execution_count": 60,
   "id": "5b107197",
   "metadata": {},
   "outputs": [
    {
     "data": {
      "text/plain": [
       "DeviceArray([ 0.07370774, -0.06984708,  0.2326659 ,  0.21401976,\n",
       "              0.14169309,  0.24338755,  0.26339436, -0.07089938,\n",
       "              0.25879586,  0.22700156,  0.21106575, -0.09053056,\n",
       "             -0.05604686,  0.18920036,  0.4141542 ,  0.04981143,\n",
       "              0.2398088 ,  0.01739606,  0.02950082, -0.02924328,\n",
       "              0.05645839,  0.1376925 ,  0.21773429,  0.07515126,\n",
       "             -0.09077772, -0.15392087,  0.00882408,  0.569267  ,\n",
       "             -0.11413179,  0.06770868, -0.0955558 ,  0.18222985,\n",
       "             -0.02590208,  0.13533315, -0.2090689 ,  0.05113196,\n",
       "              0.24823275,  0.44652343,  0.26688057,  0.07456423,\n",
       "              0.0603768 ,  0.10705925,  0.00471255,  0.3321698 ,\n",
       "              0.02325457,  0.11122127,  0.16759439,  0.05920324,\n",
       "              0.0203609 , -0.01021271, -0.16155577,  0.20317361,\n",
       "              0.01823807,  0.03586987,  0.03987553,  0.24731207,\n",
       "             -0.04371199, -0.07825259,  0.06823428,  0.14928731,\n",
       "              0.1041695 ,  0.11326732, -0.05168184,  0.07778831,\n",
       "              0.04666319, -0.06083273, -0.32298   ,  0.02162681,\n",
       "              0.02897849,  0.17252125, -0.14157364,  0.03746291,\n",
       "             -0.08931635,  0.14924736,  0.12377024,  0.00539903,\n",
       "             -0.01831737,  0.01071214,  0.11497695,  0.05612925,\n",
       "              0.10688399,  0.11518919,  0.13552086, -0.19128193,\n",
       "              0.26567456, -0.08280034,  0.30643776,  0.15813136,\n",
       "              0.09350304,  0.07370581,  0.05543572, -0.16473322,\n",
       "             -0.02221555, -0.00308677,  0.21078815, -0.17326492,\n",
       "             -0.11988468,  0.29476708,  0.23155588, -0.05576765,\n",
       "              0.14023075], dtype=float32)"
      ]
     },
     "execution_count": 60,
     "metadata": {},
     "output_type": "execute_result"
    }
   ],
   "source": [
    "grad"
   ]
  },
  {
   "cell_type": "code",
   "execution_count": 28,
   "id": "edd5ecb4",
   "metadata": {},
   "outputs": [],
   "source": [
    "mcd = make_chi2_data(filtered_data)"
   ]
  },
  {
   "cell_type": "code",
   "execution_count": 29,
   "id": "2d5a87a5",
   "metadata": {},
   "outputs": [
    {
     "data": {
      "text/plain": [
       "DeviceArray(4760.2744, dtype=float32)"
      ]
     },
     "execution_count": 29,
     "metadata": {},
     "output_type": "execute_result"
    }
   ],
   "source": [
    "mcd(INPUT_GRID[0])"
   ]
  },
  {
   "cell_type": "code",
   "execution_count": 30,
   "id": "7a8e6bd7",
   "metadata": {},
   "outputs": [
    {
     "data": {
      "text/plain": [
       "DeviceArray(4854.155, dtype=float32)"
      ]
     },
     "execution_count": 30,
     "metadata": {},
     "output_type": "execute_result"
    }
   ],
   "source": [
    "\n",
    "chi2_contribs_data(jnp.einsum(\"i,ijk\",weight_base,INPUT_GRID))\n"
   ]
  },
  {
   "cell_type": "code",
   "execution_count": 31,
   "id": "80205628",
   "metadata": {},
   "outputs": [
    {
     "data": {
      "text/plain": [
       "DeviceArray(4760.2744, dtype=float32)"
      ]
     },
     "execution_count": 31,
     "metadata": {},
     "output_type": "execute_result"
    }
   ],
   "source": [
    "# loss(jnp.eye(1, 1001)[0,:])\n",
    "loss_data(jnp.eye(1, 101)[0,:])"
   ]
  },
  {
   "cell_type": "code",
   "execution_count": 32,
   "id": "dee90b54",
   "metadata": {},
   "outputs": [
    {
     "data": {
      "text/plain": [
       "DeviceArray(4854.1577, dtype=float32)"
      ]
     },
     "execution_count": 32,
     "metadata": {},
     "output_type": "execute_result"
    }
   ],
   "source": [
    "# loss(weight_base)\n",
    "loss_data(weight_base)"
   ]
  },
  {
   "cell_type": "markdown",
   "id": "dd098b35",
   "metadata": {},
   "source": [
    "### Compute gradient"
   ]
  },
  {
   "cell_type": "code",
   "execution_count": 33,
   "id": "cab9259a",
   "metadata": {},
   "outputs": [],
   "source": [
    "grad = jax.grad(loss_data)(weight_base)"
   ]
  },
  {
   "cell_type": "code",
   "execution_count": 34,
   "id": "db721f8b",
   "metadata": {},
   "outputs": [
    {
     "data": {
      "text/plain": [
       "(101,)"
      ]
     },
     "execution_count": 34,
     "metadata": {},
     "output_type": "execute_result"
    }
   ],
   "source": [
    "grad.shape"
   ]
  },
  {
   "cell_type": "code",
   "execution_count": 35,
   "id": "055973b2",
   "metadata": {},
   "outputs": [],
   "source": [
    "import random"
   ]
  },
  {
   "cell_type": "code",
   "execution_count": 63,
   "id": "13f2d906",
   "metadata": {},
   "outputs": [],
   "source": [
    "optimizers?"
   ]
  },
  {
   "cell_type": "code",
   "execution_count": 36,
   "id": "0e459637",
   "metadata": {},
   "outputs": [],
   "source": [
    "#batch_size = len(datasets)\n",
    "\n",
    "momentum_mass = 0.9\n",
    "\n",
    "step_size = 1e-8\n",
    "\n",
    "num_epochs = 500\n",
    "\n",
    "#num_complete_batches, leftover = divmod(len(chi2_contribs), batch_size)\n",
    "#num_batches = num_complete_batches + bool(leftover)\n",
    "\n",
    "opt_init, opt_update, get_params = optimizers.momentum(step_size, mass=momentum_mass)\n",
    "\n",
    "\n"
   ]
  },
  {
   "cell_type": "code",
   "execution_count": 51,
   "id": "d6a0350a",
   "metadata": {},
   "outputs": [],
   "source": [
    "#def batch_stream():\n",
    "#    state = random.Random(0)\n",
    "#    while True:\n",
    "#        permutation = state.sample(chi2_contribs, len(chi2_contribs))\n",
    "#        for i in range(num_batches):\n",
    "#            yield permutation[i*batch_size: (i+1)*batch_size]"
   ]
  },
  {
   "cell_type": "code",
   "execution_count": 37,
   "id": "7cd7e6cd",
   "metadata": {},
   "outputs": [],
   "source": [
    "@jax.jit\n",
    "def update(i, opt_state, \n",
    "          # batch\n",
    "          ):\n",
    "    params = get_params(opt_state)\n",
    "    return opt_update(i, jax.grad(loss_data)(params, \n",
    "                      #                  batch\n",
    "                                       ), \n",
    "                      opt_state)"
   ]
  },
  {
   "cell_type": "code",
   "execution_count": 38,
   "id": "3a412c01",
   "metadata": {},
   "outputs": [
    {
     "name": "stdout",
     "output_type": "stream",
     "text": [
      "Epoch 0, loss 4854.1577\n",
      "Epoch 1, loss 4853.0024\n",
      "Epoch 2, loss 4854.4175\n",
      "Epoch 3, loss 4852.393\n",
      "Epoch 4, loss 4854.2393\n",
      "Epoch 5, loss 4852.252\n",
      "Epoch 6, loss 4853.719\n",
      "Epoch 7, loss 4852.369\n",
      "Epoch 8, loss 4853.103\n",
      "Epoch 9, loss 4852.551\n",
      "Epoch 10, loss 4852.5234\n",
      "Epoch 11, loss 4852.662\n",
      "Epoch 12, loss 4852.111\n",
      "Epoch 13, loss 4852.615\n",
      "Epoch 14, loss 4851.877\n",
      "Epoch 15, loss 4852.4297\n",
      "Epoch 16, loss 4851.781\n",
      "Epoch 17, loss 4852.1494\n",
      "Epoch 18, loss 4851.7397\n",
      "Epoch 19, loss 4851.852\n",
      "Epoch 20, loss 4851.7095\n",
      "Epoch 21, loss 4851.5933\n",
      "Epoch 22, loss 4851.63\n",
      "Epoch 23, loss 4851.3887\n",
      "Epoch 24, loss 4851.5283\n",
      "Epoch 25, loss 4851.239\n",
      "Epoch 26, loss 4851.3525\n",
      "Epoch 27, loss 4851.1206\n",
      "Epoch 28, loss 4851.18\n",
      "Epoch 29, loss 4851.0273\n",
      "Epoch 30, loss 4850.9893\n",
      "Epoch 31, loss 4850.917\n",
      "Epoch 32, loss 4850.835\n",
      "Epoch 33, loss 4850.8193\n",
      "Epoch 34, loss 4850.6826\n",
      "Epoch 35, loss 4850.672\n",
      "Epoch 36, loss 4850.539\n",
      "Epoch 37, loss 4850.5347\n",
      "Epoch 38, loss 4850.434\n",
      "Epoch 39, loss 4850.387\n",
      "Epoch 40, loss 4850.302\n",
      "Epoch 41, loss 4850.249\n",
      "Epoch 42, loss 4850.19\n",
      "Epoch 43, loss 4850.1025\n",
      "Epoch 44, loss 4850.048\n",
      "Epoch 45, loss 4849.957\n",
      "Epoch 46, loss 4849.928\n",
      "Epoch 47, loss 4849.8345\n",
      "Epoch 48, loss 4849.784\n",
      "Epoch 49, loss 4849.7114\n",
      "Epoch 50, loss 4849.6543\n",
      "Epoch 51, loss 4849.587\n",
      "Epoch 52, loss 4849.5156\n",
      "Epoch 53, loss 4849.4585\n",
      "Epoch 54, loss 4849.375\n",
      "Epoch 55, loss 4849.329\n",
      "Epoch 56, loss 4849.2476\n",
      "Epoch 57, loss 4849.1973\n",
      "Epoch 58, loss 4849.1177\n",
      "Epoch 59, loss 4849.0596\n",
      "Epoch 60, loss 4848.9937\n",
      "Epoch 61, loss 4848.935\n",
      "Epoch 62, loss 4848.871\n",
      "Epoch 63, loss 4848.788\n",
      "Epoch 64, loss 4848.736\n",
      "Epoch 65, loss 4848.6646\n",
      "Epoch 66, loss 4848.6074\n",
      "Epoch 67, loss 4848.547\n",
      "Epoch 68, loss 4848.4727\n",
      "Epoch 69, loss 4848.4116\n",
      "Epoch 70, loss 4848.344\n",
      "Epoch 71, loss 4848.284\n",
      "Epoch 72, loss 4848.2144\n",
      "Epoch 73, loss 4848.151\n",
      "Epoch 74, loss 4848.0825\n",
      "Epoch 75, loss 4848.029\n",
      "Epoch 76, loss 4847.958\n",
      "Epoch 77, loss 4847.889\n",
      "Epoch 78, loss 4847.8306\n",
      "Epoch 79, loss 4847.7676\n",
      "Epoch 80, loss 4847.6963\n",
      "Epoch 81, loss 4847.6284\n",
      "Epoch 82, loss 4847.564\n",
      "Epoch 83, loss 4847.5166\n",
      "Epoch 84, loss 4847.4463\n",
      "Epoch 85, loss 4847.387\n",
      "Epoch 86, loss 4847.3164\n",
      "Epoch 87, loss 4847.2544\n",
      "Epoch 88, loss 4847.186\n",
      "Epoch 89, loss 4847.1216\n",
      "Epoch 90, loss 4847.0586\n",
      "Epoch 91, loss 4846.9927\n",
      "Epoch 92, loss 4846.919\n",
      "Epoch 93, loss 4846.8594\n",
      "Epoch 94, loss 4846.811\n",
      "Epoch 95, loss 4846.741\n",
      "Epoch 96, loss 4846.6846\n",
      "Epoch 97, loss 4846.6133\n",
      "Epoch 98, loss 4846.546\n",
      "Epoch 99, loss 4846.486\n",
      "Epoch 100, loss 4846.419\n",
      "Epoch 101, loss 4846.3564\n",
      "Epoch 102, loss 4846.285\n",
      "Epoch 103, loss 4846.226\n",
      "Epoch 104, loss 4846.1685\n",
      "Epoch 105, loss 4846.1\n",
      "Epoch 106, loss 4846.0474\n",
      "Epoch 107, loss 4845.9736\n",
      "Epoch 108, loss 4845.9062\n",
      "Epoch 109, loss 4845.8433\n",
      "Epoch 110, loss 4845.7837\n",
      "Epoch 111, loss 4845.715\n",
      "Epoch 112, loss 4845.6514\n",
      "Epoch 113, loss 4845.592\n",
      "Epoch 114, loss 4845.522\n",
      "Epoch 115, loss 4845.461\n",
      "Epoch 116, loss 4845.3965\n",
      "Epoch 117, loss 4845.336\n",
      "Epoch 118, loss 4845.278\n",
      "Epoch 119, loss 4845.212\n",
      "Epoch 120, loss 4845.1494\n",
      "Epoch 121, loss 4845.0806\n",
      "Epoch 122, loss 4845.0176\n",
      "Epoch 123, loss 4844.958\n",
      "Epoch 124, loss 4844.89\n",
      "Epoch 125, loss 4844.83\n",
      "Epoch 126, loss 4844.7715\n",
      "Epoch 127, loss 4844.698\n",
      "Epoch 128, loss 4844.644\n",
      "Epoch 129, loss 4844.575\n",
      "Epoch 130, loss 4844.508\n",
      "Epoch 131, loss 4844.445\n",
      "Epoch 132, loss 4844.376\n",
      "Epoch 133, loss 4844.312\n",
      "Epoch 134, loss 4844.2554\n",
      "Epoch 135, loss 4844.195\n",
      "Epoch 136, loss 4844.1333\n",
      "Epoch 137, loss 4844.074\n",
      "Epoch 138, loss 4844.004\n",
      "Epoch 139, loss 4843.9395\n",
      "Epoch 140, loss 4843.8765\n",
      "Epoch 141, loss 4843.809\n",
      "Epoch 142, loss 4843.743\n",
      "Epoch 143, loss 4843.679\n",
      "Epoch 144, loss 4843.6216\n",
      "Epoch 145, loss 4843.56\n",
      "Epoch 146, loss 4843.491\n",
      "Epoch 147, loss 4843.436\n",
      "Epoch 148, loss 4843.3687\n",
      "Epoch 149, loss 4843.31\n",
      "Epoch 150, loss 4843.2534\n",
      "Epoch 151, loss 4843.1865\n",
      "Epoch 152, loss 4843.123\n",
      "Epoch 153, loss 4843.061\n",
      "Epoch 154, loss 4842.993\n",
      "Epoch 155, loss 4842.935\n",
      "Epoch 156, loss 4842.8633\n",
      "Epoch 157, loss 4842.8057\n",
      "Epoch 158, loss 4842.744\n",
      "Epoch 159, loss 4842.676\n",
      "Epoch 160, loss 4842.6187\n",
      "Epoch 161, loss 4842.556\n",
      "Epoch 162, loss 4842.493\n",
      "Epoch 163, loss 4842.4214\n",
      "Epoch 164, loss 4842.359\n",
      "Epoch 165, loss 4842.2925\n",
      "Epoch 166, loss 4842.2314\n",
      "Epoch 167, loss 4842.174\n",
      "Epoch 168, loss 4842.1055\n",
      "Epoch 169, loss 4842.049\n",
      "Epoch 170, loss 4841.9883\n",
      "Epoch 171, loss 4841.9272\n",
      "Epoch 172, loss 4841.8623\n",
      "Epoch 173, loss 4841.795\n",
      "Epoch 174, loss 4841.741\n",
      "Epoch 175, loss 4841.6665\n",
      "Epoch 176, loss 4841.608\n",
      "Epoch 177, loss 4841.553\n",
      "Epoch 178, loss 4841.4863\n",
      "Epoch 179, loss 4841.431\n",
      "Epoch 180, loss 4841.371\n",
      "Epoch 181, loss 4841.3027\n",
      "Epoch 182, loss 4841.2393\n",
      "Epoch 183, loss 4841.1743\n",
      "Epoch 184, loss 4841.1196\n",
      "Epoch 185, loss 4841.0527\n",
      "Epoch 186, loss 4840.9946\n",
      "Epoch 187, loss 4840.9297\n",
      "Epoch 188, loss 4840.872\n",
      "Epoch 189, loss 4840.8027\n",
      "Epoch 190, loss 4840.74\n",
      "Epoch 191, loss 4840.6826\n",
      "Epoch 192, loss 4840.6143\n",
      "Epoch 193, loss 4840.5596\n",
      "Epoch 194, loss 4840.4883\n",
      "Epoch 195, loss 4840.429\n",
      "Epoch 196, loss 4840.365\n",
      "Epoch 197, loss 4840.3115\n",
      "Epoch 198, loss 4840.248\n",
      "Epoch 199, loss 4840.184\n",
      "Epoch 200, loss 4840.1143\n",
      "Epoch 201, loss 4840.0527\n",
      "Epoch 202, loss 4839.9966\n",
      "Epoch 203, loss 4839.9365\n",
      "Epoch 204, loss 4839.87\n",
      "Epoch 205, loss 4839.812\n",
      "Epoch 206, loss 4839.7515\n",
      "Epoch 207, loss 4839.6836\n",
      "Epoch 208, loss 4839.62\n",
      "Epoch 209, loss 4839.5605\n",
      "Epoch 210, loss 4839.497\n",
      "Epoch 211, loss 4839.4375\n",
      "Epoch 212, loss 4839.37\n",
      "Epoch 213, loss 4839.3164\n",
      "Epoch 214, loss 4839.2515\n",
      "Epoch 215, loss 4839.1914\n",
      "Epoch 216, loss 4839.132\n",
      "Epoch 217, loss 4839.0703\n",
      "Epoch 218, loss 4839.008\n",
      "Epoch 219, loss 4838.9434\n",
      "Epoch 220, loss 4838.8843\n",
      "Epoch 221, loss 4838.8276\n",
      "Epoch 222, loss 4838.7686\n",
      "Epoch 223, loss 4838.701\n",
      "Epoch 224, loss 4838.64\n",
      "Epoch 225, loss 4838.5884\n",
      "Epoch 226, loss 4838.5225\n",
      "Epoch 227, loss 4838.466\n",
      "Epoch 228, loss 4838.4043\n",
      "Epoch 229, loss 4838.3384\n",
      "Epoch 230, loss 4838.275\n",
      "Epoch 231, loss 4838.213\n",
      "Epoch 232, loss 4838.1514\n",
      "Epoch 233, loss 4838.0903\n",
      "Epoch 234, loss 4838.0337\n",
      "Epoch 235, loss 4837.975\n",
      "Epoch 236, loss 4837.922\n",
      "Epoch 237, loss 4837.865\n",
      "Epoch 238, loss 4837.7964\n",
      "Epoch 239, loss 4837.7314\n",
      "Epoch 240, loss 4837.6694\n",
      "Epoch 241, loss 4837.613\n",
      "Epoch 242, loss 4837.544\n",
      "Epoch 243, loss 4837.482\n",
      "Epoch 244, loss 4837.4253\n",
      "Epoch 245, loss 4837.3647\n",
      "Epoch 246, loss 4837.3057\n",
      "Epoch 247, loss 4837.242\n",
      "Epoch 248, loss 4837.185\n",
      "Epoch 249, loss 4837.122\n",
      "Epoch 250, loss 4837.0645\n",
      "Epoch 251, loss 4836.999\n",
      "Epoch 252, loss 4836.944\n",
      "Epoch 253, loss 4836.8804\n",
      "Epoch 254, loss 4836.823\n",
      "Epoch 255, loss 4836.7554\n",
      "Epoch 256, loss 4836.695\n",
      "Epoch 257, loss 4836.6313\n",
      "Epoch 258, loss 4836.5693\n",
      "Epoch 259, loss 4836.509\n",
      "Epoch 260, loss 4836.444\n",
      "Epoch 261, loss 4836.3906\n",
      "Epoch 262, loss 4836.324\n",
      "Epoch 263, loss 4836.2656\n",
      "Epoch 264, loss 4836.199\n",
      "Epoch 265, loss 4836.1406\n",
      "Epoch 266, loss 4836.09\n",
      "Epoch 267, loss 4836.0215\n",
      "Epoch 268, loss 4835.957\n",
      "Epoch 269, loss 4835.901\n",
      "Epoch 270, loss 4835.8335\n",
      "Epoch 271, loss 4835.7783\n",
      "Epoch 272, loss 4835.7153\n",
      "Epoch 273, loss 4835.656\n",
      "Epoch 274, loss 4835.5967\n",
      "Epoch 275, loss 4835.5283\n",
      "Epoch 276, loss 4835.4746\n",
      "Epoch 277, loss 4835.415\n",
      "Epoch 278, loss 4835.357\n",
      "Epoch 279, loss 4835.2925\n",
      "Epoch 280, loss 4835.2344\n",
      "Epoch 281, loss 4835.1685\n",
      "Epoch 282, loss 4835.1094\n",
      "Epoch 283, loss 4835.0474\n",
      "Epoch 284, loss 4834.993\n",
      "Epoch 285, loss 4834.93\n",
      "Epoch 286, loss 4834.866\n",
      "Epoch 287, loss 4834.8076\n",
      "Epoch 288, loss 4834.756\n",
      "Epoch 289, loss 4834.688\n",
      "Epoch 290, loss 4834.6396\n",
      "Epoch 291, loss 4834.5703\n",
      "Epoch 292, loss 4834.5137\n",
      "Epoch 293, loss 4834.4556\n",
      "Epoch 294, loss 4834.3955\n",
      "Epoch 295, loss 4834.335\n",
      "Epoch 296, loss 4834.2764\n",
      "Epoch 297, loss 4834.217\n",
      "Epoch 298, loss 4834.1567\n",
      "Epoch 299, loss 4834.092\n",
      "Epoch 300, loss 4834.034\n",
      "Epoch 301, loss 4833.9707\n",
      "Epoch 302, loss 4833.908\n",
      "Epoch 303, loss 4833.853\n",
      "Epoch 304, loss 4833.7866\n",
      "Epoch 305, loss 4833.7305\n",
      "Epoch 306, loss 4833.671\n",
      "Epoch 307, loss 4833.617\n",
      "Epoch 308, loss 4833.5537\n",
      "Epoch 309, loss 4833.492\n",
      "Epoch 310, loss 4833.4307\n",
      "Epoch 311, loss 4833.3735\n",
      "Epoch 312, loss 4833.3164\n",
      "Epoch 313, loss 4833.2466\n",
      "Epoch 314, loss 4833.197\n",
      "Epoch 315, loss 4833.132\n",
      "Epoch 316, loss 4833.0703\n",
      "Epoch 317, loss 4833.0083\n",
      "Epoch 318, loss 4832.951\n",
      "Epoch 319, loss 4832.889\n",
      "Epoch 320, loss 4832.8315\n",
      "Epoch 321, loss 4832.7725\n",
      "Epoch 322, loss 4832.712\n",
      "Epoch 323, loss 4832.653\n",
      "Epoch 324, loss 4832.595\n",
      "Epoch 325, loss 4832.5303\n",
      "Epoch 326, loss 4832.47\n",
      "Epoch 327, loss 4832.41\n",
      "Epoch 328, loss 4832.357\n",
      "Epoch 329, loss 4832.298\n"
     ]
    },
    {
     "name": "stdout",
     "output_type": "stream",
     "text": [
      "Epoch 330, loss 4832.2407\n",
      "Epoch 331, loss 4832.184\n",
      "Epoch 332, loss 4832.1226\n",
      "Epoch 333, loss 4832.058\n",
      "Epoch 334, loss 4831.9995\n",
      "Epoch 335, loss 4831.947\n",
      "Epoch 336, loss 4831.8896\n",
      "Epoch 337, loss 4831.8325\n",
      "Epoch 338, loss 4831.776\n",
      "Epoch 339, loss 4831.7085\n",
      "Epoch 340, loss 4831.655\n",
      "Epoch 341, loss 4831.6025\n",
      "Epoch 342, loss 4831.5415\n",
      "Epoch 343, loss 4831.478\n",
      "Epoch 344, loss 4831.4155\n",
      "Epoch 345, loss 4831.3535\n",
      "Epoch 346, loss 4831.291\n",
      "Epoch 347, loss 4831.2305\n",
      "Epoch 348, loss 4831.177\n",
      "Epoch 349, loss 4831.1187\n",
      "Epoch 350, loss 4831.055\n",
      "Epoch 351, loss 4830.996\n",
      "Epoch 352, loss 4830.939\n",
      "Epoch 353, loss 4830.882\n",
      "Epoch 354, loss 4830.8213\n",
      "Epoch 355, loss 4830.757\n",
      "Epoch 356, loss 4830.7036\n",
      "Epoch 357, loss 4830.642\n",
      "Epoch 358, loss 4830.5874\n",
      "Epoch 359, loss 4830.5234\n",
      "Epoch 360, loss 4830.4683\n",
      "Epoch 361, loss 4830.411\n",
      "Epoch 362, loss 4830.344\n",
      "Epoch 363, loss 4830.284\n",
      "Epoch 364, loss 4830.2354\n",
      "Epoch 365, loss 4830.1797\n",
      "Epoch 366, loss 4830.1187\n",
      "Epoch 367, loss 4830.0586\n",
      "Epoch 368, loss 4830.002\n",
      "Epoch 369, loss 4829.9326\n",
      "Epoch 370, loss 4829.885\n",
      "Epoch 371, loss 4829.8267\n",
      "Epoch 372, loss 4829.7646\n",
      "Epoch 373, loss 4829.6987\n",
      "Epoch 374, loss 4829.6455\n",
      "Epoch 375, loss 4829.5903\n",
      "Epoch 376, loss 4829.529\n",
      "Epoch 377, loss 4829.48\n",
      "Epoch 378, loss 4829.417\n",
      "Epoch 379, loss 4829.361\n",
      "Epoch 380, loss 4829.3057\n",
      "Epoch 381, loss 4829.243\n",
      "Epoch 382, loss 4829.1826\n",
      "Epoch 383, loss 4829.122\n",
      "Epoch 384, loss 4829.065\n",
      "Epoch 385, loss 4829.0005\n",
      "Epoch 386, loss 4828.947\n",
      "Epoch 387, loss 4828.8896\n",
      "Epoch 388, loss 4828.8296\n",
      "Epoch 389, loss 4828.7803\n",
      "Epoch 390, loss 4828.715\n",
      "Epoch 391, loss 4828.6587\n",
      "Epoch 392, loss 4828.596\n",
      "Epoch 393, loss 4828.539\n",
      "Epoch 394, loss 4828.4834\n",
      "Epoch 395, loss 4828.4243\n",
      "Epoch 396, loss 4828.3647\n",
      "Epoch 397, loss 4828.311\n",
      "Epoch 398, loss 4828.2646\n",
      "Epoch 399, loss 4828.196\n",
      "Epoch 400, loss 4828.139\n",
      "Epoch 401, loss 4828.081\n",
      "Epoch 402, loss 4828.0146\n",
      "Epoch 403, loss 4827.955\n",
      "Epoch 404, loss 4827.9043\n",
      "Epoch 405, loss 4827.85\n",
      "Epoch 406, loss 4827.786\n",
      "Epoch 407, loss 4827.7305\n",
      "Epoch 408, loss 4827.676\n",
      "Epoch 409, loss 4827.6167\n",
      "Epoch 410, loss 4827.561\n",
      "Epoch 411, loss 4827.5073\n",
      "Epoch 412, loss 4827.4424\n",
      "Epoch 413, loss 4827.387\n",
      "Epoch 414, loss 4827.323\n",
      "Epoch 415, loss 4827.264\n",
      "Epoch 416, loss 4827.2134\n",
      "Epoch 417, loss 4827.154\n",
      "Epoch 418, loss 4827.0923\n",
      "Epoch 419, loss 4827.032\n",
      "Epoch 420, loss 4826.9756\n",
      "Epoch 421, loss 4826.9233\n",
      "Epoch 422, loss 4826.8633\n",
      "Epoch 423, loss 4826.8154\n",
      "Epoch 424, loss 4826.751\n",
      "Epoch 425, loss 4826.693\n",
      "Epoch 426, loss 4826.6333\n",
      "Epoch 427, loss 4826.5874\n",
      "Epoch 428, loss 4826.521\n",
      "Epoch 429, loss 4826.456\n",
      "Epoch 430, loss 4826.397\n",
      "Epoch 431, loss 4826.3403\n",
      "Epoch 432, loss 4826.2847\n",
      "Epoch 433, loss 4826.2314\n",
      "Epoch 434, loss 4826.173\n",
      "Epoch 435, loss 4826.119\n",
      "Epoch 436, loss 4826.0684\n",
      "Epoch 437, loss 4826.008\n",
      "Epoch 438, loss 4825.956\n",
      "Epoch 439, loss 4825.8945\n",
      "Epoch 440, loss 4825.833\n",
      "Epoch 441, loss 4825.7827\n",
      "Epoch 442, loss 4825.72\n",
      "Epoch 443, loss 4825.6665\n",
      "Epoch 444, loss 4825.6055\n",
      "Epoch 445, loss 4825.547\n",
      "Epoch 446, loss 4825.4883\n",
      "Epoch 447, loss 4825.4287\n",
      "Epoch 448, loss 4825.374\n",
      "Epoch 449, loss 4825.3174\n",
      "Epoch 450, loss 4825.26\n",
      "Epoch 451, loss 4825.206\n",
      "Epoch 452, loss 4825.146\n",
      "Epoch 453, loss 4825.087\n",
      "Epoch 454, loss 4825.0283\n",
      "Epoch 455, loss 4824.973\n",
      "Epoch 456, loss 4824.912\n",
      "Epoch 457, loss 4824.8613\n",
      "Epoch 458, loss 4824.8066\n",
      "Epoch 459, loss 4824.749\n",
      "Epoch 460, loss 4824.6914\n",
      "Epoch 461, loss 4824.6284\n",
      "Epoch 462, loss 4824.572\n",
      "Epoch 463, loss 4824.511\n",
      "Epoch 464, loss 4824.459\n",
      "Epoch 465, loss 4824.4062\n",
      "Epoch 466, loss 4824.348\n",
      "Epoch 467, loss 4824.2964\n",
      "Epoch 468, loss 4824.231\n",
      "Epoch 469, loss 4824.1777\n",
      "Epoch 470, loss 4824.1196\n",
      "Epoch 471, loss 4824.0635\n",
      "Epoch 472, loss 4823.9985\n",
      "Epoch 473, loss 4823.9487\n",
      "Epoch 474, loss 4823.898\n",
      "Epoch 475, loss 4823.844\n",
      "Epoch 476, loss 4823.787\n",
      "Epoch 477, loss 4823.7305\n",
      "Epoch 478, loss 4823.667\n",
      "Epoch 479, loss 4823.6143\n",
      "Epoch 480, loss 4823.5537\n",
      "Epoch 481, loss 4823.5044\n",
      "Epoch 482, loss 4823.4434\n",
      "Epoch 483, loss 4823.3955\n",
      "Epoch 484, loss 4823.3335\n",
      "Epoch 485, loss 4823.287\n",
      "Epoch 486, loss 4823.224\n",
      "Epoch 487, loss 4823.1694\n",
      "Epoch 488, loss 4823.1084\n",
      "Epoch 489, loss 4823.0513\n",
      "Epoch 490, loss 4823.001\n",
      "Epoch 491, loss 4822.94\n",
      "Epoch 492, loss 4822.882\n",
      "Epoch 493, loss 4822.837\n",
      "Epoch 494, loss 4822.7754\n",
      "Epoch 495, loss 4822.7246\n",
      "Epoch 496, loss 4822.6626\n",
      "Epoch 497, loss 4822.6035\n",
      "Epoch 498, loss 4822.5474\n",
      "Epoch 499, loss 4822.4873\n"
     ]
    }
   ],
   "source": [
    "#batch_iter = batch_stream()\n",
    "opt_counter = itertools.count()\n",
    "opt_state = opt_init(weight_base)\n",
    "\n",
    "for epoch in range(num_epochs):\n",
    "    print(f\"Epoch {epoch}, loss\", \n",
    "          loss_data(get_params(opt_state)) \n",
    "    )\n",
    "    #for _ in range(num_batches):\n",
    "        #batch = next(batch_iter)\n",
    "    opt_state = update(next(opt_counter), opt_state, \n",
    "                          # batch\n",
    "                          )\n",
    "        \n"
   ]
  },
  {
   "cell_type": "code",
   "execution_count": 54,
   "id": "605e4d70",
   "metadata": {},
   "outputs": [
    {
     "name": "stdout",
     "output_type": "stream",
     "text": [
      "Epoch 500, loss 4755.4424\n",
      "Epoch 501, loss 4755.387\n",
      "Epoch 502, loss 4755.3296\n",
      "Epoch 503, loss 4755.2793\n",
      "Epoch 504, loss 4755.2354\n",
      "Epoch 505, loss 4755.1865\n",
      "Epoch 506, loss 4755.138\n",
      "Epoch 507, loss 4755.0815\n",
      "Epoch 508, loss 4755.0327\n",
      "Epoch 509, loss 4754.9844\n",
      "Epoch 510, loss 4754.9307\n",
      "Epoch 511, loss 4754.873\n",
      "Epoch 512, loss 4754.826\n",
      "Epoch 513, loss 4754.7773\n",
      "Epoch 514, loss 4754.73\n",
      "Epoch 515, loss 4754.6733\n",
      "Epoch 516, loss 4754.6304\n",
      "Epoch 517, loss 4754.5728\n",
      "Epoch 518, loss 4754.5225\n",
      "Epoch 519, loss 4754.466\n",
      "Epoch 520, loss 4754.4126\n",
      "Epoch 521, loss 4754.3677\n",
      "Epoch 522, loss 4754.319\n",
      "Epoch 523, loss 4754.262\n",
      "Epoch 524, loss 4754.2085\n",
      "Epoch 525, loss 4754.163\n",
      "Epoch 526, loss 4754.109\n",
      "Epoch 527, loss 4754.0605\n",
      "Epoch 528, loss 4754.0073\n",
      "Epoch 529, loss 4753.9614\n",
      "Epoch 530, loss 4753.909\n",
      "Epoch 531, loss 4753.8584\n",
      "Epoch 532, loss 4753.81\n",
      "Epoch 533, loss 4753.753\n",
      "Epoch 534, loss 4753.7075\n",
      "Epoch 535, loss 4753.644\n",
      "Epoch 536, loss 4753.6016\n",
      "Epoch 537, loss 4753.5493\n",
      "Epoch 538, loss 4753.5015\n",
      "Epoch 539, loss 4753.4478\n",
      "Epoch 540, loss 4753.3926\n",
      "Epoch 541, loss 4753.3403\n",
      "Epoch 542, loss 4753.2837\n",
      "Epoch 543, loss 4753.232\n",
      "Epoch 544, loss 4753.189\n",
      "Epoch 545, loss 4753.1357\n",
      "Epoch 546, loss 4753.079\n",
      "Epoch 547, loss 4753.0356\n",
      "Epoch 548, loss 4752.9854\n",
      "Epoch 549, loss 4752.9414\n",
      "Epoch 550, loss 4752.887\n",
      "Epoch 551, loss 4752.8413\n",
      "Epoch 552, loss 4752.784\n",
      "Epoch 553, loss 4752.744\n",
      "Epoch 554, loss 4752.6885\n",
      "Epoch 555, loss 4752.6387\n",
      "Epoch 556, loss 4752.5835\n",
      "Epoch 557, loss 4752.5396\n",
      "Epoch 558, loss 4752.491\n",
      "Epoch 559, loss 4752.4365\n",
      "Epoch 560, loss 4752.3853\n",
      "Epoch 561, loss 4752.3423\n",
      "Epoch 562, loss 4752.2856\n",
      "Epoch 563, loss 4752.2314\n",
      "Epoch 564, loss 4752.1797\n",
      "Epoch 565, loss 4752.1284\n",
      "Epoch 566, loss 4752.0786\n",
      "Epoch 567, loss 4752.034\n",
      "Epoch 568, loss 4751.978\n",
      "Epoch 569, loss 4751.929\n",
      "Epoch 570, loss 4751.8794\n",
      "Epoch 571, loss 4751.837\n",
      "Epoch 572, loss 4751.783\n",
      "Epoch 573, loss 4751.739\n",
      "Epoch 574, loss 4751.6855\n",
      "Epoch 575, loss 4751.632\n",
      "Epoch 576, loss 4751.579\n",
      "Epoch 577, loss 4751.5366\n",
      "Epoch 578, loss 4751.4844\n",
      "Epoch 579, loss 4751.436\n",
      "Epoch 580, loss 4751.3867\n",
      "Epoch 581, loss 4751.332\n",
      "Epoch 582, loss 4751.2876\n",
      "Epoch 583, loss 4751.235\n",
      "Epoch 584, loss 4751.187\n",
      "Epoch 585, loss 4751.133\n",
      "Epoch 586, loss 4751.0776\n",
      "Epoch 587, loss 4751.032\n",
      "Epoch 588, loss 4750.979\n",
      "Epoch 589, loss 4750.9326\n",
      "Epoch 590, loss 4750.8784\n",
      "Epoch 591, loss 4750.8276\n",
      "Epoch 592, loss 4750.7812\n",
      "Epoch 593, loss 4750.729\n",
      "Epoch 594, loss 4750.6777\n",
      "Epoch 595, loss 4750.6343\n",
      "Epoch 596, loss 4750.584\n",
      "Epoch 597, loss 4750.5327\n",
      "Epoch 598, loss 4750.4824\n",
      "Epoch 599, loss 4750.439\n",
      "Epoch 600, loss 4750.3853\n",
      "Epoch 601, loss 4750.3345\n",
      "Epoch 602, loss 4750.2896\n",
      "Epoch 603, loss 4750.2373\n",
      "Epoch 604, loss 4750.19\n",
      "Epoch 605, loss 4750.1416\n",
      "Epoch 606, loss 4750.0923\n",
      "Epoch 607, loss 4750.037\n",
      "Epoch 608, loss 4749.9883\n",
      "Epoch 609, loss 4749.941\n",
      "Epoch 610, loss 4749.8857\n",
      "Epoch 611, loss 4749.8413\n",
      "Epoch 612, loss 4749.798\n",
      "Epoch 613, loss 4749.7427\n",
      "Epoch 614, loss 4749.69\n",
      "Epoch 615, loss 4749.6445\n",
      "Epoch 616, loss 4749.5913\n",
      "Epoch 617, loss 4749.547\n",
      "Epoch 618, loss 4749.4937\n",
      "Epoch 619, loss 4749.4375\n",
      "Epoch 620, loss 4749.3916\n",
      "Epoch 621, loss 4749.343\n",
      "Epoch 622, loss 4749.2935\n",
      "Epoch 623, loss 4749.248\n",
      "Epoch 624, loss 4749.1904\n",
      "Epoch 625, loss 4749.1426\n",
      "Epoch 626, loss 4749.0884\n",
      "Epoch 627, loss 4749.0435\n",
      "Epoch 628, loss 4748.9976\n",
      "Epoch 629, loss 4748.9453\n",
      "Epoch 630, loss 4748.8926\n",
      "Epoch 631, loss 4748.8506\n",
      "Epoch 632, loss 4748.8003\n",
      "Epoch 633, loss 4748.751\n",
      "Epoch 634, loss 4748.703\n",
      "Epoch 635, loss 4748.664\n",
      "Epoch 636, loss 4748.6104\n",
      "Epoch 637, loss 4748.5615\n",
      "Epoch 638, loss 4748.5137\n",
      "Epoch 639, loss 4748.4707\n",
      "Epoch 640, loss 4748.414\n",
      "Epoch 641, loss 4748.3677\n",
      "Epoch 642, loss 4748.327\n",
      "Epoch 643, loss 4748.274\n",
      "Epoch 644, loss 4748.2314\n",
      "Epoch 645, loss 4748.1733\n",
      "Epoch 646, loss 4748.118\n",
      "Epoch 647, loss 4748.076\n",
      "Epoch 648, loss 4748.0234\n",
      "Epoch 649, loss 4747.9707\n",
      "Epoch 650, loss 4747.924\n",
      "Epoch 651, loss 4747.873\n",
      "Epoch 652, loss 4747.8335\n",
      "Epoch 653, loss 4747.7837\n",
      "Epoch 654, loss 4747.7354\n",
      "Epoch 655, loss 4747.684\n",
      "Epoch 656, loss 4747.632\n",
      "Epoch 657, loss 4747.5825\n",
      "Epoch 658, loss 4747.5347\n",
      "Epoch 659, loss 4747.4907\n",
      "Epoch 660, loss 4747.436\n",
      "Epoch 661, loss 4747.383\n",
      "Epoch 662, loss 4747.339\n",
      "Epoch 663, loss 4747.292\n",
      "Epoch 664, loss 4747.243\n",
      "Epoch 665, loss 4747.189\n",
      "Epoch 666, loss 4747.1445\n",
      "Epoch 667, loss 4747.0957\n",
      "Epoch 668, loss 4747.0483\n",
      "Epoch 669, loss 4747.0024\n",
      "Epoch 670, loss 4746.9517\n",
      "Epoch 671, loss 4746.909\n",
      "Epoch 672, loss 4746.8584\n",
      "Epoch 673, loss 4746.8174\n",
      "Epoch 674, loss 4746.7715\n",
      "Epoch 675, loss 4746.719\n",
      "Epoch 676, loss 4746.6724\n",
      "Epoch 677, loss 4746.6265\n",
      "Epoch 678, loss 4746.5737\n",
      "Epoch 679, loss 4746.527\n",
      "Epoch 680, loss 4746.4775\n",
      "Epoch 681, loss 4746.427\n",
      "Epoch 682, loss 4746.3843\n",
      "Epoch 683, loss 4746.33\n",
      "Epoch 684, loss 4746.2773\n",
      "Epoch 685, loss 4746.228\n",
      "Epoch 686, loss 4746.183\n",
      "Epoch 687, loss 4746.1353\n",
      "Epoch 688, loss 4746.0884\n",
      "Epoch 689, loss 4746.035\n",
      "Epoch 690, loss 4745.9883\n",
      "Epoch 691, loss 4745.938\n",
      "Epoch 692, loss 4745.892\n",
      "Epoch 693, loss 4745.8413\n",
      "Epoch 694, loss 4745.788\n",
      "Epoch 695, loss 4745.741\n",
      "Epoch 696, loss 4745.695\n",
      "Epoch 697, loss 4745.6475\n",
      "Epoch 698, loss 4745.603\n",
      "Epoch 699, loss 4745.5464\n",
      "Epoch 700, loss 4745.502\n",
      "Epoch 701, loss 4745.4507\n",
      "Epoch 702, loss 4745.4106\n",
      "Epoch 703, loss 4745.3643\n",
      "Epoch 704, loss 4745.311\n",
      "Epoch 705, loss 4745.268\n",
      "Epoch 706, loss 4745.2266\n",
      "Epoch 707, loss 4745.173\n",
      "Epoch 708, loss 4745.1245\n",
      "Epoch 709, loss 4745.074\n",
      "Epoch 710, loss 4745.0254\n",
      "Epoch 711, loss 4744.9756\n",
      "Epoch 712, loss 4744.9253\n",
      "Epoch 713, loss 4744.8813\n",
      "Epoch 714, loss 4744.8335\n",
      "Epoch 715, loss 4744.7876\n",
      "Epoch 716, loss 4744.739\n",
      "Epoch 717, loss 4744.6953\n",
      "Epoch 718, loss 4744.649\n",
      "Epoch 719, loss 4744.6094\n",
      "Epoch 720, loss 4744.5566\n",
      "Epoch 721, loss 4744.51\n",
      "Epoch 722, loss 4744.462\n",
      "Epoch 723, loss 4744.4126\n",
      "Epoch 724, loss 4744.365\n",
      "Epoch 725, loss 4744.3203\n",
      "Epoch 726, loss 4744.2705\n",
      "Epoch 727, loss 4744.2246\n",
      "Epoch 728, loss 4744.1743\n",
      "Epoch 729, loss 4744.1255\n",
      "Epoch 730, loss 4744.0786\n",
      "Epoch 731, loss 4744.0293\n",
      "Epoch 732, loss 4743.9834\n",
      "Epoch 733, loss 4743.9326\n",
      "Epoch 734, loss 4743.886\n",
      "Epoch 735, loss 4743.8438\n",
      "Epoch 736, loss 4743.7954\n",
      "Epoch 737, loss 4743.7456\n",
      "Epoch 738, loss 4743.6943\n",
      "Epoch 739, loss 4743.6504\n",
      "Epoch 740, loss 4743.603\n",
      "Epoch 741, loss 4743.56\n",
      "Epoch 742, loss 4743.508\n",
      "Epoch 743, loss 4743.46\n",
      "Epoch 744, loss 4743.413\n",
      "Epoch 745, loss 4743.3633\n",
      "Epoch 746, loss 4743.311\n",
      "Epoch 747, loss 4743.2656\n",
      "Epoch 748, loss 4743.2183\n",
      "Epoch 749, loss 4743.1797\n",
      "Epoch 750, loss 4743.1255\n",
      "Epoch 751, loss 4743.082\n",
      "Epoch 752, loss 4743.0356\n",
      "Epoch 753, loss 4742.9897\n",
      "Epoch 754, loss 4742.9414\n",
      "Epoch 755, loss 4742.886\n",
      "Epoch 756, loss 4742.836\n",
      "Epoch 757, loss 4742.7993\n",
      "Epoch 758, loss 4742.7446\n",
      "Epoch 759, loss 4742.6973\n",
      "Epoch 760, loss 4742.6533\n",
      "Epoch 761, loss 4742.607\n",
      "Epoch 762, loss 4742.5625\n",
      "Epoch 763, loss 4742.518\n",
      "Epoch 764, loss 4742.466\n",
      "Epoch 765, loss 4742.418\n",
      "Epoch 766, loss 4742.3765\n",
      "Epoch 767, loss 4742.323\n",
      "Epoch 768, loss 4742.275\n",
      "Epoch 769, loss 4742.231\n",
      "Epoch 770, loss 4742.181\n",
      "Epoch 771, loss 4742.1333\n",
      "Epoch 772, loss 4742.093\n",
      "Epoch 773, loss 4742.045\n",
      "Epoch 774, loss 4741.994\n",
      "Epoch 775, loss 4741.949\n",
      "Epoch 776, loss 4741.909\n",
      "Epoch 777, loss 4741.8584\n",
      "Epoch 778, loss 4741.808\n",
      "Epoch 779, loss 4741.7686\n",
      "Epoch 780, loss 4741.7217\n",
      "Epoch 781, loss 4741.675\n",
      "Epoch 782, loss 4741.6265\n",
      "Epoch 783, loss 4741.582\n",
      "Epoch 784, loss 4741.533\n",
      "Epoch 785, loss 4741.4844\n",
      "Epoch 786, loss 4741.4365\n",
      "Epoch 787, loss 4741.3896\n",
      "Epoch 788, loss 4741.343\n",
      "Epoch 789, loss 4741.3013\n",
      "Epoch 790, loss 4741.252\n",
      "Epoch 791, loss 4741.207\n",
      "Epoch 792, loss 4741.16\n",
      "Epoch 793, loss 4741.1084\n",
      "Epoch 794, loss 4741.059\n",
      "Epoch 795, loss 4741.0137\n",
      "Epoch 796, loss 4740.9663\n",
      "Epoch 797, loss 4740.9204\n",
      "Epoch 798, loss 4740.866\n",
      "Epoch 799, loss 4740.8257\n",
      "Epoch 800, loss 4740.778\n",
      "Epoch 801, loss 4740.73\n",
      "Epoch 802, loss 4740.678\n",
      "Epoch 803, loss 4740.641\n",
      "Epoch 804, loss 4740.5884\n",
      "Epoch 805, loss 4740.5444\n",
      "Epoch 806, loss 4740.4985\n",
      "Epoch 807, loss 4740.454\n",
      "Epoch 808, loss 4740.411\n",
      "Epoch 809, loss 4740.3647\n",
      "Epoch 810, loss 4740.321\n",
      "Epoch 811, loss 4740.2764\n",
      "Epoch 812, loss 4740.233\n",
      "Epoch 813, loss 4740.1836\n",
      "Epoch 814, loss 4740.135\n",
      "Epoch 815, loss 4740.0884\n",
      "Epoch 816, loss 4740.0474\n",
      "Epoch 817, loss 4740.003\n",
      "Epoch 818, loss 4739.9624\n",
      "Epoch 819, loss 4739.913\n",
      "Epoch 820, loss 4739.867\n",
      "Epoch 821, loss 4739.8203\n",
      "Epoch 822, loss 4739.7754\n",
      "Epoch 823, loss 4739.727\n"
     ]
    },
    {
     "name": "stdout",
     "output_type": "stream",
     "text": [
      "Epoch 824, loss 4739.6855\n",
      "Epoch 825, loss 4739.634\n",
      "Epoch 826, loss 4739.5923\n",
      "Epoch 827, loss 4739.548\n",
      "Epoch 828, loss 4739.502\n",
      "Epoch 829, loss 4739.4497\n",
      "Epoch 830, loss 4739.4062\n",
      "Epoch 831, loss 4739.3594\n",
      "Epoch 832, loss 4739.309\n",
      "Epoch 833, loss 4739.2656\n",
      "Epoch 834, loss 4739.217\n",
      "Epoch 835, loss 4739.1724\n",
      "Epoch 836, loss 4739.1245\n",
      "Epoch 837, loss 4739.075\n",
      "Epoch 838, loss 4739.0337\n",
      "Epoch 839, loss 4738.9873\n",
      "Epoch 840, loss 4738.9385\n",
      "Epoch 841, loss 4738.8896\n",
      "Epoch 842, loss 4738.846\n",
      "Epoch 843, loss 4738.8022\n",
      "Epoch 844, loss 4738.7524\n",
      "Epoch 845, loss 4738.7075\n",
      "Epoch 846, loss 4738.6597\n",
      "Epoch 847, loss 4738.6187\n",
      "Epoch 848, loss 4738.567\n",
      "Epoch 849, loss 4738.5215\n",
      "Epoch 850, loss 4738.479\n",
      "Epoch 851, loss 4738.438\n",
      "Epoch 852, loss 4738.3916\n",
      "Epoch 853, loss 4738.347\n",
      "Epoch 854, loss 4738.2983\n",
      "Epoch 855, loss 4738.254\n",
      "Epoch 856, loss 4738.207\n",
      "Epoch 857, loss 4738.1562\n",
      "Epoch 858, loss 4738.1216\n",
      "Epoch 859, loss 4738.0747\n",
      "Epoch 860, loss 4738.0254\n",
      "Epoch 861, loss 4737.985\n",
      "Epoch 862, loss 4737.935\n",
      "Epoch 863, loss 4737.8877\n",
      "Epoch 864, loss 4737.8457\n",
      "Epoch 865, loss 4737.7993\n",
      "Epoch 866, loss 4737.754\n",
      "Epoch 867, loss 4737.7144\n",
      "Epoch 868, loss 4737.6636\n",
      "Epoch 869, loss 4737.614\n",
      "Epoch 870, loss 4737.5684\n",
      "Epoch 871, loss 4737.525\n",
      "Epoch 872, loss 4737.481\n",
      "Epoch 873, loss 4737.434\n",
      "Epoch 874, loss 4737.393\n",
      "Epoch 875, loss 4737.348\n",
      "Epoch 876, loss 4737.293\n",
      "Epoch 877, loss 4737.2544\n",
      "Epoch 878, loss 4737.209\n",
      "Epoch 879, loss 4737.1665\n",
      "Epoch 880, loss 4737.1196\n",
      "Epoch 881, loss 4737.075\n",
      "Epoch 882, loss 4737.0317\n",
      "Epoch 883, loss 4736.9927\n",
      "Epoch 884, loss 4736.9434\n",
      "Epoch 885, loss 4736.904\n",
      "Epoch 886, loss 4736.857\n",
      "Epoch 887, loss 4736.8047\n",
      "Epoch 888, loss 4736.761\n",
      "Epoch 889, loss 4736.7188\n",
      "Epoch 890, loss 4736.669\n",
      "Epoch 891, loss 4736.6206\n",
      "Epoch 892, loss 4736.583\n",
      "Epoch 893, loss 4736.5327\n",
      "Epoch 894, loss 4736.4893\n",
      "Epoch 895, loss 4736.443\n",
      "Epoch 896, loss 4736.404\n",
      "Epoch 897, loss 4736.353\n",
      "Epoch 898, loss 4736.3066\n",
      "Epoch 899, loss 4736.2627\n",
      "Epoch 900, loss 4736.2183\n",
      "Epoch 901, loss 4736.175\n",
      "Epoch 902, loss 4736.1304\n",
      "Epoch 903, loss 4736.086\n",
      "Epoch 904, loss 4736.039\n",
      "Epoch 905, loss 4735.9946\n",
      "Epoch 906, loss 4735.9443\n",
      "Epoch 907, loss 4735.906\n",
      "Epoch 908, loss 4735.853\n",
      "Epoch 909, loss 4735.8105\n",
      "Epoch 910, loss 4735.766\n",
      "Epoch 911, loss 4735.7236\n",
      "Epoch 912, loss 4735.677\n",
      "Epoch 913, loss 4735.633\n",
      "Epoch 914, loss 4735.587\n",
      "Epoch 915, loss 4735.5464\n",
      "Epoch 916, loss 4735.499\n",
      "Epoch 917, loss 4735.4546\n",
      "Epoch 918, loss 4735.409\n",
      "Epoch 919, loss 4735.361\n",
      "Epoch 920, loss 4735.3184\n",
      "Epoch 921, loss 4735.276\n",
      "Epoch 922, loss 4735.235\n",
      "Epoch 923, loss 4735.1904\n",
      "Epoch 924, loss 4735.147\n",
      "Epoch 925, loss 4735.094\n",
      "Epoch 926, loss 4735.058\n",
      "Epoch 927, loss 4735.014\n",
      "Epoch 928, loss 4734.966\n",
      "Epoch 929, loss 4734.923\n",
      "Epoch 930, loss 4734.8755\n",
      "Epoch 931, loss 4734.831\n",
      "Epoch 932, loss 4734.788\n",
      "Epoch 933, loss 4734.7456\n",
      "Epoch 934, loss 4734.702\n",
      "Epoch 935, loss 4734.651\n",
      "Epoch 936, loss 4734.611\n",
      "Epoch 937, loss 4734.5645\n",
      "Epoch 938, loss 4734.5195\n",
      "Epoch 939, loss 4734.4727\n",
      "Epoch 940, loss 4734.433\n",
      "Epoch 941, loss 4734.3857\n",
      "Epoch 942, loss 4734.346\n",
      "Epoch 943, loss 4734.3\n",
      "Epoch 944, loss 4734.2485\n",
      "Epoch 945, loss 4734.212\n",
      "Epoch 946, loss 4734.174\n",
      "Epoch 947, loss 4734.1284\n",
      "Epoch 948, loss 4734.0815\n",
      "Epoch 949, loss 4734.0347\n",
      "Epoch 950, loss 4733.988\n",
      "Epoch 951, loss 4733.95\n",
      "Epoch 952, loss 4733.91\n",
      "Epoch 953, loss 4733.8633\n",
      "Epoch 954, loss 4733.819\n",
      "Epoch 955, loss 4733.775\n",
      "Epoch 956, loss 4733.728\n",
      "Epoch 957, loss 4733.687\n",
      "Epoch 958, loss 4733.644\n",
      "Epoch 959, loss 4733.5967\n",
      "Epoch 960, loss 4733.553\n",
      "Epoch 961, loss 4733.5093\n",
      "Epoch 962, loss 4733.4644\n",
      "Epoch 963, loss 4733.422\n",
      "Epoch 964, loss 4733.3794\n",
      "Epoch 965, loss 4733.3438\n",
      "Epoch 966, loss 4733.291\n",
      "Epoch 967, loss 4733.25\n",
      "Epoch 968, loss 4733.2085\n",
      "Epoch 969, loss 4733.164\n",
      "Epoch 970, loss 4733.116\n",
      "Epoch 971, loss 4733.067\n",
      "Epoch 972, loss 4733.028\n",
      "Epoch 973, loss 4732.9814\n",
      "Epoch 974, loss 4732.9375\n",
      "Epoch 975, loss 4732.891\n",
      "Epoch 976, loss 4732.849\n",
      "Epoch 977, loss 4732.8096\n",
      "Epoch 978, loss 4732.759\n",
      "Epoch 979, loss 4732.7197\n",
      "Epoch 980, loss 4732.675\n",
      "Epoch 981, loss 4732.629\n",
      "Epoch 982, loss 4732.589\n",
      "Epoch 983, loss 4732.547\n",
      "Epoch 984, loss 4732.5\n",
      "Epoch 985, loss 4732.4565\n",
      "Epoch 986, loss 4732.4136\n",
      "Epoch 987, loss 4732.368\n",
      "Epoch 988, loss 4732.327\n",
      "Epoch 989, loss 4732.282\n",
      "Epoch 990, loss 4732.2383\n",
      "Epoch 991, loss 4732.197\n",
      "Epoch 992, loss 4732.155\n",
      "Epoch 993, loss 4732.104\n",
      "Epoch 994, loss 4732.0596\n",
      "Epoch 995, loss 4732.017\n",
      "Epoch 996, loss 4731.984\n",
      "Epoch 997, loss 4731.945\n",
      "Epoch 998, loss 4731.889\n",
      "Epoch 999, loss 4731.8467\n"
     ]
    }
   ],
   "source": [
    "for epoch in range(num_epochs, 2*num_epochs):\n",
    "    print(f\"Epoch {epoch}, loss\", \n",
    "          loss(get_params(opt_state)) \n",
    "    )\n",
    "    #for _ in range(num_batches):\n",
    "        #batch = next(batch_iter)\n",
    "    opt_state = update(next(opt_counter), opt_state, \n",
    "                          # batch\n",
    "                          \n",
    "            "
   ]
  },
  {
   "cell_type": "code",
   "execution_count": 55,
   "id": "93dd2cc3",
   "metadata": {},
   "outputs": [
    {
     "name": "stdout",
     "output_type": "stream",
     "text": [
      "41.6 ms ± 892 µs per loop (mean ± std. dev. of 7 runs, 10 loops each)\n"
     ]
    }
   ],
   "source": [
    "%timeit update(1, opt_state)"
   ]
  },
  {
   "cell_type": "code",
   "execution_count": 39,
   "id": "f6340f89",
   "metadata": {},
   "outputs": [],
   "source": [
    "import matplotlib.pyplot as plt"
   ]
  },
  {
   "cell_type": "code",
   "execution_count": 40,
   "id": "8c006b15",
   "metadata": {},
   "outputs": [
    {
     "data": {
      "text/plain": [
       "[<matplotlib.lines.Line2D at 0x1a98b01c0>]"
      ]
     },
     "execution_count": 40,
     "metadata": {},
     "output_type": "execute_result"
    },
    {
     "data": {
      "image/png": "[encoded data removed]",
      "text/plain": [
       "<Figure size 640x480 with 1 Axes>"
      ]
     },
     "metadata": {},
     "output_type": "display_data"
    }
   ],
   "source": [
    "plt.plot(jnp.einsum(\"i,ijk->jk\", get_params(opt_state), INPUT_GRID)[5, :])\n",
    "plt.plot(INPUT_GRID[0, 5,:])"
   ]
  },
  {
   "cell_type": "code",
   "execution_count": 257,
   "id": "44b034e1",
   "metadata": {},
   "outputs": [
    {
     "data": {
      "text/plain": [
       "array(['photon', '\\\\Sigma', 'g', 'V', 'V3', 'V8', 'V15', 'V24', 'V35',\n",
       "       'T3', 'T8', 'T15', 'T24', 'T35'], dtype='<U6')"
      ]
     },
     "execution_count": 257,
     "metadata": {},
     "output_type": "execute_result"
    }
   ],
   "source": [
    "convolution.FK_FLAVOURS"
   ]
  },
  {
   "cell_type": "code",
   "execution_count": 216,
   "id": "0bea7be6",
   "metadata": {},
   "outputs": [
    {
     "data": {
      "text/plain": [
       "73"
      ]
     },
     "execution_count": 216,
     "metadata": {},
     "output_type": "execute_result"
    }
   ],
   "source": [
    "len(chi2_contribs)"
   ]
  },
  {
   "cell_type": "code",
   "execution_count": 217,
   "id": "33141ca8",
   "metadata": {},
   "outputs": [
    {
     "data": {
      "text/plain": [
       "Array(nan, dtype=float32)"
      ]
     },
     "execution_count": 217,
     "metadata": {},
     "output_type": "execute_result"
    }
   ],
   "source": [
    "loss(get_params(opt_state), chi2_contribs)"
   ]
  },
  {
   "cell_type": "code",
   "execution_count": null,
   "id": "a4e4fca4",
   "metadata": {},
   "outputs": [],
   "source": [
    "loss()"
   ]
  },
  {
   "cell_type": "code",
   "execution_count": 180,
   "id": "d4f244a5",
   "metadata": {},
   "outputs": [],
   "source": [
    "ii = iter(batch_stream())"
   ]
  },
  {
   "cell_type": "code",
   "execution_count": 16,
   "id": "fc58d73a",
   "metadata": {},
   "outputs": [
    {
     "name": "stderr",
     "output_type": "stream",
     "text": [
      "No GPU/TPU found, falling back to CPU. (Set TF_CPP_MIN_LOG_LEVEL=0 and rerun for more info.)\n"
     ]
    },
    {
     "data": {
      "text/plain": [
       "Array(43581.004, dtype=float32)"
      ]
     },
     "execution_count": 16,
     "metadata": {},
     "output_type": "execute_result"
    }
   ],
   "source": [
    "\n",
    "\n",
    "cd = load_commondata(ds.commondata).with_cuts(ds.cuts)\n",
    "\n",
    "central_value = jnp.array(cd.central_values)\n",
    "\n",
    "covmat = covmats.covmat_from_systematics(cd, dataset_input=ds)\n",
    "\n",
    "\n",
    "\n",
    "sqrt_covmat = jnp.array(covmats.sqrt_covmat(covmat))\n",
    "\n",
    "jnp.sum(jla.solve_triangular(sqrt_covmat, central_value, lower=True)**2)\n",
    "\n",
    "\n",
    "\n"
   ]
  },
  {
   "cell_type": "code",
   "execution_count": 191,
   "id": "c624fdb3",
   "metadata": {},
   "outputs": [
    {
     "data": {
      "text/plain": [
       "[<PjitFunction of <function make_chi2.<locals>.chi2 at 0x7fa188021940>>,\n",
       " <PjitFunction of <function make_chi2.<locals>.chi2 at 0x7f9badeea160>>,\n",
       " <PjitFunction of <function make_chi2.<locals>.chi2 at 0x7f9d2d025a60>>,\n",
       " <PjitFunction of <function make_chi2.<locals>.chi2 at 0x7f9e01c2b790>>,\n",
       " <PjitFunction of <function make_chi2.<locals>.chi2 at 0x7f9bade95160>>,\n",
       " <PjitFunction of <function make_chi2.<locals>.chi2 at 0x7f9bade67ca0>>,\n",
       " <PjitFunction of <function make_chi2.<locals>.chi2 at 0x7f9badee85e0>>,\n",
       " <PjitFunction of <function make_chi2.<locals>.chi2 at 0x7f9badef3040>>,\n",
       " <PjitFunction of <function make_chi2.<locals>.chi2 at 0x7f9d23cdb700>>,\n",
       " <PjitFunction of <function make_chi2.<locals>.chi2 at 0x7f9badec5ee0>>]"
      ]
     },
     "execution_count": 191,
     "metadata": {},
     "output_type": "execute_result"
    }
   ],
   "source": [
    "next(ii)"
   ]
  },
  {
   "cell_type": "code",
   "execution_count": 101,
   "id": "b14c1e00",
   "metadata": {},
   "outputs": [],
   "source": [
    "covmats.systematics_matrix_from_commondata??"
   ]
  },
  {
   "cell_type": "code",
   "execution_count": 56,
   "id": "541933bf",
   "metadata": {},
   "outputs": [],
   "source": [
    "a = np.random.rand(len(covmat))"
   ]
  },
  {
   "cell_type": "code",
   "execution_count": 67,
   "id": "66aa9b13",
   "metadata": {},
   "outputs": [],
   "source": [
    "import scipy.linalg as la"
   ]
  },
  {
   "cell_type": "code",
   "execution_count": 68,
   "id": "6b570b71",
   "metadata": {},
   "outputs": [
    {
     "data": {
      "text/plain": [
       "76949.52986563856"
      ]
     },
     "execution_count": 68,
     "metadata": {},
     "output_type": "execute_result"
    }
   ],
   "source": [
    "a@la.inv(covmat)@a"
   ]
  },
  {
   "cell_type": "code",
   "execution_count": 98,
   "id": "303de66c",
   "metadata": {},
   "outputs": [
    {
     "data": {
      "text/plain": [
       "Array(76949.53, dtype=float32)"
      ]
     },
     "execution_count": 98,
     "metadata": {},
     "output_type": "execute_result"
    }
   ],
   "source": [
    "jnp.sum(jla.solve_triangular(sqrt_covmat, a, lower=True)**2)"
   ]
  },
  {
   "cell_type": "code",
   "execution_count": 69,
   "id": "5e30dfa5",
   "metadata": {},
   "outputs": [],
   "source": [
    "from validphys.calcutils import calc_chi2"
   ]
  },
  {
   "cell_type": "code",
   "execution_count": 70,
   "id": "5c53a747",
   "metadata": {},
   "outputs": [
    {
     "data": {
      "text/plain": [
       "76949.52986563857"
      ]
     },
     "execution_count": 70,
     "metadata": {},
     "output_type": "execute_result"
    }
   ],
   "source": [
    "calc_chi2(la.cholesky(covmat, lower=True), a)"
   ]
  },
  {
   "cell_type": "code",
   "execution_count": 74,
   "id": "30bda46c",
   "metadata": {},
   "outputs": [
    {
     "data": {
      "text/plain": [
       "76949.52986563857"
      ]
     },
     "execution_count": 74,
     "metadata": {},
     "output_type": "execute_result"
    }
   ],
   "source": [
    "calc_chi2(covmats.sqrt_covmat(covmat), a)"
   ]
  },
  {
   "cell_type": "code",
   "execution_count": 76,
   "id": "3ac84aa7",
   "metadata": {},
   "outputs": [],
   "source": [
    "sm = covmats.systematics_matrix_from_commondata(cd, ds)"
   ]
  },
  {
   "cell_type": "code",
   "execution_count": 77,
   "id": "c0eb39f5",
   "metadata": {},
   "outputs": [
    {
     "data": {
      "text/plain": [
       "(121, 226)"
      ]
     },
     "execution_count": 77,
     "metadata": {},
     "output_type": "execute_result"
    }
   ],
   "source": [
    "sm.shape"
   ]
  },
  {
   "cell_type": "code",
   "execution_count": 80,
   "id": "22c75508",
   "metadata": {},
   "outputs": [],
   "source": [
    "q,r = la.qr(sm)"
   ]
  },
  {
   "cell_type": "code",
   "execution_count": 81,
   "id": "24d988f7",
   "metadata": {},
   "outputs": [
    {
     "data": {
      "text/plain": [
       "array([[1., 0., 0., ..., 0., 0., 0.],\n",
       "       [0., 1., 0., ..., 0., 0., 0.],\n",
       "       [0., 0., 1., ..., 0., 0., 0.],\n",
       "       ...,\n",
       "       [0., 0., 0., ..., 1., 0., 0.],\n",
       "       [0., 0., 0., ..., 0., 1., 0.],\n",
       "       [0., 0., 0., ..., 0., 0., 1.]])"
      ]
     },
     "execution_count": 81,
     "metadata": {},
     "output_type": "execute_result"
    }
   ],
   "source": [
    "q"
   ]
  },
  {
   "cell_type": "code",
   "execution_count": 86,
   "id": "6b915878",
   "metadata": {},
   "outputs": [
    {
     "ename": "ValueError",
     "evalue": "expected square matrix",
     "output_type": "error",
     "traceback": [
      "\u001b[0;31m---------------------------------------------------------------------------\u001b[0m",
      "\u001b[0;31mValueError\u001b[0m                                Traceback (most recent call last)",
      "Input \u001b[0;32mIn [86]\u001b[0m, in \u001b[0;36m<cell line: 1>\u001b[0;34m()\u001b[0m\n\u001b[0;32m----> 1\u001b[0m \u001b[43mla\u001b[49m\u001b[38;5;241;43m.\u001b[39;49m\u001b[43msolve_triangular\u001b[49m\u001b[43m(\u001b[49m\u001b[43mr\u001b[49m\u001b[43m,\u001b[49m\u001b[43m \u001b[49m\u001b[43ma\u001b[49m\u001b[43m)\u001b[49m\n",
      "File \u001b[0;32m~/anaconda3/envs/nnpdfdev/lib/python3.9/site-packages/scipy/linalg/_basic.py:341\u001b[0m, in \u001b[0;36msolve_triangular\u001b[0;34m(a, b, trans, lower, unit_diagonal, overwrite_b, debug, check_finite)\u001b[0m\n\u001b[1;32m    339\u001b[0m b1 \u001b[38;5;241m=\u001b[39m _asarray_validated(b, check_finite\u001b[38;5;241m=\u001b[39mcheck_finite)\n\u001b[1;32m    340\u001b[0m \u001b[38;5;28;01mif\u001b[39;00m \u001b[38;5;28mlen\u001b[39m(a1\u001b[38;5;241m.\u001b[39mshape) \u001b[38;5;241m!=\u001b[39m \u001b[38;5;241m2\u001b[39m \u001b[38;5;129;01mor\u001b[39;00m a1\u001b[38;5;241m.\u001b[39mshape[\u001b[38;5;241m0\u001b[39m] \u001b[38;5;241m!=\u001b[39m a1\u001b[38;5;241m.\u001b[39mshape[\u001b[38;5;241m1\u001b[39m]:\n\u001b[0;32m--> 341\u001b[0m     \u001b[38;5;28;01mraise\u001b[39;00m \u001b[38;5;167;01mValueError\u001b[39;00m(\u001b[38;5;124m'\u001b[39m\u001b[38;5;124mexpected square matrix\u001b[39m\u001b[38;5;124m'\u001b[39m)\n\u001b[1;32m    342\u001b[0m \u001b[38;5;28;01mif\u001b[39;00m a1\u001b[38;5;241m.\u001b[39mshape[\u001b[38;5;241m0\u001b[39m] \u001b[38;5;241m!=\u001b[39m b1\u001b[38;5;241m.\u001b[39mshape[\u001b[38;5;241m0\u001b[39m]:\n\u001b[1;32m    343\u001b[0m     \u001b[38;5;28;01mraise\u001b[39;00m \u001b[38;5;167;01mValueError\u001b[39;00m(\u001b[38;5;124m'\u001b[39m\u001b[38;5;124mshapes of a \u001b[39m\u001b[38;5;132;01m{}\u001b[39;00m\u001b[38;5;124m and b \u001b[39m\u001b[38;5;132;01m{}\u001b[39;00m\u001b[38;5;124m are incompatible\u001b[39m\u001b[38;5;124m'\u001b[39m\n\u001b[1;32m    344\u001b[0m                      \u001b[38;5;241m.\u001b[39mformat(a1\u001b[38;5;241m.\u001b[39mshape, b1\u001b[38;5;241m.\u001b[39mshape))\n",
      "\u001b[0;31mValueError\u001b[0m: expected square matrix"
     ]
    }
   ],
   "source": [
    "la.solve_triangular(r, a)"
   ]
  },
  {
   "cell_type": "code",
   "execution_count": 88,
   "id": "0e131235",
   "metadata": {},
   "outputs": [],
   "source": [
    "import matplotlib.pyplot as plt"
   ]
  },
  {
   "cell_type": "code",
   "execution_count": 90,
   "id": "397aba2a",
   "metadata": {},
   "outputs": [
    {
     "data": {
      "text/plain": [
       "<matplotlib.image.AxesImage at 0x7f15e24861c0>"
      ]
     },
     "execution_count": 90,
     "metadata": {},
     "output_type": "execute_result"
    },
    {
     "data": {
      "image/png": "[encoded data removed]",
      "text/plain": [
       "<Figure size 537.917x288 with 1 Axes>"
      ]
     },
     "metadata": {
      "needs_background": "light"
     },
     "output_type": "display_data"
    }
   ],
   "source": [
    "plt.matshow(q@r)"
   ]
  },
  {
   "cell_type": "code",
   "execution_count": 66,
   "id": "6438c348",
   "metadata": {},
   "outputs": [],
   "source": [
    "la.cholesky??"
   ]
  },
  {
   "cell_type": "code",
   "execution_count": null,
   "id": "c3483628",
   "metadata": {},
   "outputs": [],
   "source": [
    "from val"
   ]
  },
  {
   "cell_type": "code",
   "execution_count": 48,
   "id": "4badd379",
   "metadata": {},
   "outputs": [
    {
     "data": {
      "text/plain": [
       "array([[ 2.68593312e-04,  1.83984561e-04,  7.67906773e-05, ...,\n",
       "        -7.63211469e-05, -1.05104702e-04, -1.37744623e-04],\n",
       "       [ 1.83984561e-04,  4.04746250e-04,  6.08510678e-05, ...,\n",
       "        -1.27447854e-04, -1.71832192e-04, -2.22663390e-04],\n",
       "       [ 7.67906773e-05,  6.08510678e-05,  1.91100734e-04, ...,\n",
       "         1.14004879e-04,  1.45105124e-04,  1.87405121e-04],\n",
       "       ...,\n",
       "       [-7.63211469e-05, -1.27447854e-04,  1.14004879e-04, ...,\n",
       "         2.33261176e-03,  1.15595913e-03,  1.43098653e-03],\n",
       "       [-1.05104702e-04, -1.71832192e-04,  1.45105124e-04, ...,\n",
       "         1.15595913e-03,  4.07094629e-03,  1.80012082e-03],\n",
       "       [-1.37744623e-04, -2.22663390e-04,  1.87405121e-04, ...,\n",
       "         1.43098653e-03,  1.80012082e-03,  6.43026459e-03]])"
      ]
     },
     "execution_count": 48,
     "metadata": {},
     "output_type": "execute_result"
    }
   ],
   "source": [
    "covmat"
   ]
  },
  {
   "cell_type": "code",
   "execution_count": 42,
   "id": "d57cfdbe",
   "metadata": {},
   "outputs": [],
   "source": [
    "covmat_from_systematics??"
   ]
  },
  {
   "cell_type": "code",
   "execution_count": 23,
   "id": "bc07ef47",
   "metadata": {},
   "outputs": [
    {
     "data": {
      "text/plain": [
       "entry\n",
       "46     0.9734\n",
       "47     0.9821\n",
       "59     0.9716\n",
       "60     0.9817\n",
       "61     0.9942\n",
       "        ...  \n",
       "256    0.6717\n",
       "257    0.7194\n",
       "258    0.6959\n",
       "259    0.7020\n",
       "260    0.7724\n",
       "Name: data, Length: 121, dtype: float64"
      ]
     },
     "execution_count": 23,
     "metadata": {},
     "output_type": "execute_result"
    }
   ],
   "source": [
    "cd.central_values"
   ]
  },
  {
   "cell_type": "code",
   "execution_count": 302,
   "id": "db5c2e17",
   "metadata": {},
   "outputs": [],
   "source": []
  },
  {
   "cell_type": "code",
   "execution_count": 303,
   "id": "f853ceee",
   "metadata": {},
   "outputs": [],
   "source": []
  },
  {
   "cell_type": "code",
   "execution_count": 304,
   "id": "09c48060",
   "metadata": {},
   "outputs": [],
   "source": []
  },
  {
   "cell_type": "code",
   "execution_count": 305,
   "id": "168f82d3",
   "metadata": {},
   "outputs": [
    {
     "name": "stdout",
     "output_type": "stream",
     "text": [
      "LHAPDF 6.4.0 loading /home/zah/anaconda3/envs/nnpdfdev/share/LHAPDF/NNPDF40_nlo_as_01180/NNPDF40_nlo_as_01180_0000.dat\n",
      "NNPDF40_nlo_as_01180 PDF set, member #0, version 1\n"
     ]
    }
   ],
   "source": []
  },
  {
   "cell_type": "code",
   "execution_count": 317,
   "id": "f21429e1",
   "metadata": {},
   "outputs": [],
   "source": []
  },
  {
   "cell_type": "code",
   "execution_count": 318,
   "id": "a09f447b",
   "metadata": {},
   "outputs": [
    {
     "data": {
      "text/plain": [
       "(14, 50)"
      ]
     },
     "execution_count": 318,
     "metadata": {},
     "output_type": "execute_result"
    }
   ],
   "source": [
    "pdf_base.shape"
   ]
  },
  {
   "cell_type": "code",
   "execution_count": 319,
   "id": "d7a5990e",
   "metadata": {},
   "outputs": [
    {
     "data": {
      "text/plain": [
       "(14, 50)"
      ]
     },
     "execution_count": 319,
     "metadata": {},
     "output_type": "execute_result"
    }
   ],
   "source": [
    "vals.shape"
   ]
  },
  {
   "cell_type": "code",
   "execution_count": 320,
   "id": "385b5f73",
   "metadata": {},
   "outputs": [
    {
     "data": {
      "text/plain": [
       "Array(5888.8696, dtype=float32)"
      ]
     },
     "execution_count": 320,
     "metadata": {},
     "output_type": "execute_result"
    }
   ],
   "source": [
    "loss(vals, chi2_contribs)"
   ]
  },
  {
   "cell_type": "code",
   "execution_count": 157,
   "id": "407c0fcb",
   "metadata": {},
   "outputs": [],
   "source": [
    "def loss(nn):\n",
    "    return nn - vals"
   ]
  },
  {
   "cell_type": "code",
   "execution_count": 158,
   "id": "1ccf7c0b",
   "metadata": {},
   "outputs": [
    {
     "data": {
      "text/plain": [
       "(1, 14, 50)"
      ]
     },
     "execution_count": 158,
     "metadata": {},
     "output_type": "execute_result"
    }
   ],
   "source": [
    "vals.shape"
   ]
  },
  {
   "cell_type": "code",
   "execution_count": 159,
   "id": "0d74baf5",
   "metadata": {},
   "outputs": [],
   "source": [
    "tb = load_fktable(ds.fkspecs[0])"
   ]
  },
  {
   "cell_type": "code",
   "execution_count": 160,
   "id": "a3fe4f45",
   "metadata": {},
   "outputs": [
    {
     "data": {
      "text/plain": [
       "array([ 1,  1,  1,  2,  1,  3,  1,  4,  1,  5,  1,  6,  1,  9,  1, 10,  1,\n",
       "       11,  2,  2,  2,  3,  2,  4,  2,  5,  2,  6,  2,  9,  2, 10,  2, 11,\n",
       "        3,  3,  3,  4,  3,  5,  3,  6,  3,  9,  3, 10,  3, 11,  4,  4,  4,\n",
       "        5,  4,  6,  4,  9,  4, 10,  4, 11,  5,  5,  5,  6,  5,  9,  5, 10,\n",
       "        5, 11,  6,  6,  6,  9,  6, 10,  6, 11,  9,  9,  9, 10,  9, 11, 10,\n",
       "       10, 10, 11, 11, 11])"
      ]
     },
     "execution_count": 160,
     "metadata": {},
     "output_type": "execute_result"
    }
   ],
   "source": [
    "tb.luminosity_mapping"
   ]
  },
  {
   "cell_type": "code",
   "execution_count": 162,
   "id": "30c24796",
   "metadata": {},
   "outputs": [
    {
     "data": {
      "text/plain": [
       "(17, 45, 50, 50)"
      ]
     },
     "execution_count": 162,
     "metadata": {},
     "output_type": "execute_result"
    }
   ],
   "source": [
    "tb.get_np_fktable().shape"
   ]
  },
  {
   "cell_type": "code",
   "execution_count": 163,
   "id": "1c12bf6a",
   "metadata": {},
   "outputs": [],
   "source": [
    "from jax.example_libraries import stax"
   ]
  },
  {
   "cell_type": "code",
   "execution_count": 183,
   "id": "311895c2",
   "metadata": {},
   "outputs": [],
   "source": [
    "init, predict = stax.serial(stax.Dense((2)), stax.Dense((3)))"
   ]
  },
  {
   "cell_type": "code",
   "execution_count": 184,
   "id": "a7823c40",
   "metadata": {},
   "outputs": [],
   "source": [
    "from jax import random"
   ]
  },
  {
   "cell_type": "code",
   "execution_count": 185,
   "id": "fe78b55b",
   "metadata": {},
   "outputs": [],
   "source": [
    "rng = random.PRNGKey(3)"
   ]
  },
  {
   "cell_type": "code",
   "execution_count": 188,
   "id": "5278bec2",
   "metadata": {
    "scrolled": true
   },
   "outputs": [
    {
     "data": {
      "text/plain": [
       "((3,),\n",
       " [(Array([[-0.99891424,  0.79900575]], dtype=float32),\n",
       "   Array([0.01032689, 0.01061993], dtype=float32)),\n",
       "  (Array([[-0.97583795, -0.5411103 , -0.47663605],\n",
       "          [-1.1263915 , -0.7123102 , -1.2609658 ]], dtype=float32),\n",
       "   Array([-0.0023886 , -0.00962158,  0.01378133], dtype=float32))])"
      ]
     },
     "execution_count": 188,
     "metadata": {},
     "output_type": "execute_result"
    }
   ],
   "source": [
    "init(rng, (1,))"
   ]
  },
  {
   "cell_type": "code",
   "execution_count": 189,
   "id": "c0cb607c",
   "metadata": {},
   "outputs": [],
   "source": [
    "import numpy as np"
   ]
  },
  {
   "cell_type": "code",
   "execution_count": 192,
   "id": "60c12863",
   "metadata": {},
   "outputs": [],
   "source": [
    "initial = np.random.rand(50)"
   ]
  },
  {
   "cell_type": "code",
   "execution_count": 193,
   "id": "9ab99b82",
   "metadata": {},
   "outputs": [],
   "source": [
    "import matplotlib.pyplot as plt"
   ]
  },
  {
   "cell_type": "code",
   "execution_count": 194,
   "id": "e9e337a4",
   "metadata": {},
   "outputs": [
    {
     "data": {
      "text/plain": [
       "[<matplotlib.lines.Line2D at 0x7f178fad7640>]"
      ]
     },
     "execution_count": 194,
     "metadata": {},
     "output_type": "execute_result"
    },
    {
     "data": {
      "image/png": "[encoded data removed]",
      "text/plain": [
       "<Figure size 432x288 with 1 Axes>"
      ]
     },
     "metadata": {
      "needs_background": "light"
     },
     "output_type": "display_data"
    }
   ],
   "source": [
    "plt.plot(initial)"
   ]
  },
  {
   "cell_type": "code",
   "execution_count": 197,
   "id": "22fb5d91",
   "metadata": {},
   "outputs": [
    {
     "data": {
      "text/plain": [
       "[<matplotlib.lines.Line2D at 0x7f178f96f0a0>]"
      ]
     },
     "execution_count": 197,
     "metadata": {},
     "output_type": "execute_result"
    },
    {
     "data": {
      "image/png": "[encoded data removed]",
      "text/plain": [
       "<Figure size 432x288 with 1 Axes>"
      ]
     },
     "metadata": {
      "needs_background": "light"
     },
     "output_type": "display_data"
    }
   ],
   "source": [
    "plt.plot(np.convolve(initial, [0.2, 0.6, 0.2]))"
   ]
  },
  {
   "cell_type": "code",
   "execution_count": 370,
   "id": "103aef54",
   "metadata": {},
   "outputs": [],
   "source": [
    "from jax.example_libraries import stax"
   ]
  },
  {
   "cell_type": "code",
   "execution_count": 373,
   "id": "ad45df73",
   "metadata": {},
   "outputs": [
    {
     "data": {
      "text/plain": [
       "(14, 50)"
      ]
     },
     "execution_count": 373,
     "metadata": {},
     "output_type": "execute_result"
    }
   ],
   "source": [
    "pdf_base.shape"
   ]
  },
  {
   "cell_type": "code",
   "execution_count": 379,
   "id": "91a7e316",
   "metadata": {},
   "outputs": [],
   "source": [
    "init, apply = stax.Conv(1, (1,10))"
   ]
  },
  {
   "cell_type": "code",
   "execution_count": 380,
   "id": "d1a84359",
   "metadata": {},
   "outputs": [],
   "source": [
    "stax.Conv??"
   ]
  },
  {
   "cell_type": "code",
   "execution_count": 382,
   "id": "cfe128e7",
   "metadata": {},
   "outputs": [],
   "source": [
    "init??"
   ]
  },
  {
   "cell_type": "code",
   "execution_count": 384,
   "id": "f851a889",
   "metadata": {},
   "outputs": [
    {
     "ename": "IndexError",
     "evalue": "tuple index out of range",
     "output_type": "error",
     "traceback": [
      "\u001b[0;31m---------------------------------------------------------------------------\u001b[0m",
      "\u001b[0;31mIndexError\u001b[0m                                Traceback (most recent call last)",
      "Input \u001b[0;32mIn [384]\u001b[0m, in \u001b[0;36m<cell line: 1>\u001b[0;34m()\u001b[0m\n\u001b[0;32m----> 1\u001b[0m \u001b[43minit\u001b[49m\u001b[43m(\u001b[49m\u001b[43mrng\u001b[49m\u001b[43m,\u001b[49m\u001b[43m \u001b[49m\u001b[43m(\u001b[49m\u001b[38;5;241;43m14\u001b[39;49m\u001b[43m,\u001b[49m\u001b[38;5;241;43m50\u001b[39;49m\u001b[43m,\u001b[49m\u001b[38;5;241;43m1\u001b[39;49m\u001b[43m)\u001b[49m\u001b[43m)\u001b[49m\n",
      "File \u001b[0;32m~/anaconda3/envs/nnpdfdev/lib/python3.9/site-packages/jax/example_libraries/stax.py:75\u001b[0m, in \u001b[0;36mGeneralConv.<locals>.init_fun\u001b[0;34m(rng, input_shape)\u001b[0m\n\u001b[1;32m     73\u001b[0m \u001b[38;5;28;01mdef\u001b[39;00m \u001b[38;5;21minit_fun\u001b[39m(rng, input_shape):\n\u001b[1;32m     74\u001b[0m   filter_shape_iter \u001b[38;5;241m=\u001b[39m \u001b[38;5;28miter\u001b[39m(filter_shape)\n\u001b[0;32m---> 75\u001b[0m   kernel_shape \u001b[38;5;241m=\u001b[39m [out_chan \u001b[38;5;28;01mif\u001b[39;00m c \u001b[38;5;241m==\u001b[39m \u001b[38;5;124m'\u001b[39m\u001b[38;5;124mO\u001b[39m\u001b[38;5;124m'\u001b[39m \u001b[38;5;28;01melse\u001b[39;00m\n\u001b[1;32m     76\u001b[0m                   input_shape[lhs_spec\u001b[38;5;241m.\u001b[39mindex(\u001b[38;5;124m'\u001b[39m\u001b[38;5;124mC\u001b[39m\u001b[38;5;124m'\u001b[39m)] \u001b[38;5;28;01mif\u001b[39;00m c \u001b[38;5;241m==\u001b[39m \u001b[38;5;124m'\u001b[39m\u001b[38;5;124mI\u001b[39m\u001b[38;5;124m'\u001b[39m \u001b[38;5;28;01melse\u001b[39;00m\n\u001b[1;32m     77\u001b[0m                   \u001b[38;5;28mnext\u001b[39m(filter_shape_iter) \u001b[38;5;28;01mfor\u001b[39;00m c \u001b[38;5;129;01min\u001b[39;00m rhs_spec]\n\u001b[1;32m     78\u001b[0m   output_shape \u001b[38;5;241m=\u001b[39m lax\u001b[38;5;241m.\u001b[39mconv_general_shape_tuple(\n\u001b[1;32m     79\u001b[0m       input_shape, kernel_shape, strides, padding, dimension_numbers)\n\u001b[1;32m     80\u001b[0m   bias_shape \u001b[38;5;241m=\u001b[39m [out_chan \u001b[38;5;28;01mif\u001b[39;00m c \u001b[38;5;241m==\u001b[39m \u001b[38;5;124m'\u001b[39m\u001b[38;5;124mC\u001b[39m\u001b[38;5;124m'\u001b[39m \u001b[38;5;28;01melse\u001b[39;00m \u001b[38;5;241m1\u001b[39m \u001b[38;5;28;01mfor\u001b[39;00m c \u001b[38;5;129;01min\u001b[39;00m out_spec]\n",
      "File \u001b[0;32m~/anaconda3/envs/nnpdfdev/lib/python3.9/site-packages/jax/example_libraries/stax.py:76\u001b[0m, in \u001b[0;36m<listcomp>\u001b[0;34m(.0)\u001b[0m\n\u001b[1;32m     73\u001b[0m \u001b[38;5;28;01mdef\u001b[39;00m \u001b[38;5;21minit_fun\u001b[39m(rng, input_shape):\n\u001b[1;32m     74\u001b[0m   filter_shape_iter \u001b[38;5;241m=\u001b[39m \u001b[38;5;28miter\u001b[39m(filter_shape)\n\u001b[1;32m     75\u001b[0m   kernel_shape \u001b[38;5;241m=\u001b[39m [out_chan \u001b[38;5;28;01mif\u001b[39;00m c \u001b[38;5;241m==\u001b[39m \u001b[38;5;124m'\u001b[39m\u001b[38;5;124mO\u001b[39m\u001b[38;5;124m'\u001b[39m \u001b[38;5;28;01melse\u001b[39;00m\n\u001b[0;32m---> 76\u001b[0m                   \u001b[43minput_shape\u001b[49m\u001b[43m[\u001b[49m\u001b[43mlhs_spec\u001b[49m\u001b[38;5;241;43m.\u001b[39;49m\u001b[43mindex\u001b[49m\u001b[43m(\u001b[49m\u001b[38;5;124;43m'\u001b[39;49m\u001b[38;5;124;43mC\u001b[39;49m\u001b[38;5;124;43m'\u001b[39;49m\u001b[43m)\u001b[49m\u001b[43m]\u001b[49m \u001b[38;5;28;01mif\u001b[39;00m c \u001b[38;5;241m==\u001b[39m \u001b[38;5;124m'\u001b[39m\u001b[38;5;124mI\u001b[39m\u001b[38;5;124m'\u001b[39m \u001b[38;5;28;01melse\u001b[39;00m\n\u001b[1;32m     77\u001b[0m                   \u001b[38;5;28mnext\u001b[39m(filter_shape_iter) \u001b[38;5;28;01mfor\u001b[39;00m c \u001b[38;5;129;01min\u001b[39;00m rhs_spec]\n\u001b[1;32m     78\u001b[0m   output_shape \u001b[38;5;241m=\u001b[39m lax\u001b[38;5;241m.\u001b[39mconv_general_shape_tuple(\n\u001b[1;32m     79\u001b[0m       input_shape, kernel_shape, strides, padding, dimension_numbers)\n\u001b[1;32m     80\u001b[0m   bias_shape \u001b[38;5;241m=\u001b[39m [out_chan \u001b[38;5;28;01mif\u001b[39;00m c \u001b[38;5;241m==\u001b[39m \u001b[38;5;124m'\u001b[39m\u001b[38;5;124mC\u001b[39m\u001b[38;5;124m'\u001b[39m \u001b[38;5;28;01melse\u001b[39;00m \u001b[38;5;241m1\u001b[39m \u001b[38;5;28;01mfor\u001b[39;00m c \u001b[38;5;129;01min\u001b[39;00m out_spec]\n",
      "\u001b[0;31mIndexError\u001b[0m: tuple index out of range"
     ]
    }
   ],
   "source": [
    "init(rng, (14,50,1))"
   ]
  },
  {
   "cell_type": "code",
   "execution_count": 385,
   "id": "5b9a004d",
   "metadata": {},
   "outputs": [
    {
     "name": "stdout",
     "output_type": "stream",
     "text": [
      "> \u001b[0;32m/home/zah/anaconda3/envs/nnpdfdev/lib/python3.9/site-packages/jax/example_libraries/stax.py\u001b[0m(76)\u001b[0;36m<listcomp>\u001b[0;34m()\u001b[0m\n",
      "\u001b[0;32m     74 \u001b[0;31m    \u001b[0mfilter_shape_iter\u001b[0m \u001b[0;34m=\u001b[0m \u001b[0miter\u001b[0m\u001b[0;34m(\u001b[0m\u001b[0mfilter_shape\u001b[0m\u001b[0;34m)\u001b[0m\u001b[0;34m\u001b[0m\u001b[0;34m\u001b[0m\u001b[0m\n",
      "\u001b[0m\u001b[0;32m     75 \u001b[0;31m    kernel_shape = [out_chan if c == 'O' else\n",
      "\u001b[0m\u001b[0;32m---> 76 \u001b[0;31m                    \u001b[0minput_shape\u001b[0m\u001b[0;34m[\u001b[0m\u001b[0mlhs_spec\u001b[0m\u001b[0;34m.\u001b[0m\u001b[0mindex\u001b[0m\u001b[0;34m(\u001b[0m\u001b[0;34m'C'\u001b[0m\u001b[0;34m)\u001b[0m\u001b[0;34m]\u001b[0m \u001b[0;32mif\u001b[0m \u001b[0mc\u001b[0m \u001b[0;34m==\u001b[0m \u001b[0;34m'I'\u001b[0m \u001b[0;32melse\u001b[0m\u001b[0;34m\u001b[0m\u001b[0;34m\u001b[0m\u001b[0m\n",
      "\u001b[0m\u001b[0;32m     77 \u001b[0;31m                    next(filter_shape_iter) for c in rhs_spec]\n",
      "\u001b[0m\u001b[0;32m     78 \u001b[0;31m    output_shape = lax.conv_general_shape_tuple(\n",
      "\u001b[0m\n",
      "ipdb> lhs_spec\n",
      "'NHWC'\n",
      "ipdb> q\n"
     ]
    }
   ],
   "source": [
    "%debug"
   ]
  },
  {
   "cell_type": "code",
   "execution_count": 393,
   "id": "4d5cd6e8",
   "metadata": {},
   "outputs": [],
   "source": [
    "@jax.jit\n",
    "def f(obj):\n",
    "    return obj[\"inte\"]"
   ]
  },
  {
   "cell_type": "code",
   "execution_count": 394,
   "id": "e10be83f",
   "metadata": {},
   "outputs": [],
   "source": [
    "class X:\n",
    "    inte = 1"
   ]
  },
  {
   "cell_type": "code",
   "execution_count": 395,
   "id": "c6420ee2",
   "metadata": {},
   "outputs": [
    {
     "data": {
      "text/plain": [
       "Array(1, dtype=int32, weak_type=True)"
      ]
     },
     "execution_count": 395,
     "metadata": {},
     "output_type": "execute_result"
    }
   ],
   "source": [
    "f({\"inte\":1})"
   ]
  },
  {
   "cell_type": "code",
   "execution_count": null,
   "id": "e441a56c",
   "metadata": {},
   "outputs": [],
   "source": []
  }
 ],
 "metadata": {
  "kernelspec": {
   "display_name": "Python 3 (ipykernel)",
   "language": "python",
   "name": "python3"
  },
  "language_info": {
   "codemirror_mode": {
    "name": "ipython",
    "version": 3
   },
   "file_extension": ".py",
   "mimetype": "text/x-python",
   "name": "python",
   "nbconvert_exporter": "python",
   "pygments_lexer": "ipython3",
   "version": "3.9.2"
  }
 },
 "nbformat": 4,
 "nbformat_minor": 5
}
