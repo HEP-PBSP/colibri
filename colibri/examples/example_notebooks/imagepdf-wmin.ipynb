{
 "cells": [
  {
   "cell_type": "code",
   "execution_count": null,
   "id": "9b50108f",
   "metadata": {},
   "outputs": [],
   "source": []
  },
  {
   "cell_type": "code",
   "execution_count": 3,
   "id": "ea5ea34e",
   "metadata": {},
   "outputs": [
    {
     "name": "stderr",
     "output_type": "stream",
     "text": [
      "/Users/manuelmorales/miniconda3/envs/simunet-dev/lib/python3.9/site-packages/scipy/__init__.py:146: UserWarning: A NumPy version >=1.16.5 and <1.23.0 is required for this version of SciPy (detected version 1.23.3\n",
      "  warnings.warn(f\"A NumPy version >={np_minversion} and <{np_maxversion}\"\n"
     ]
    }
   ],
   "source": [
    "import itertools\n",
    "\n",
    "\n",
    "import numpy as np\n",
    "\n",
    "#import jax.numpy as jnp\n",
    "#import jax\n",
    "\n",
    "#from jax.example_libraries import optimizers\n",
    "\n",
    "from validphys.api import API\n",
    "from validphys.fkparser import load_fktable\n",
    "from validphys.commondataparser import load_commondata"
   ]
  },
  {
   "cell_type": "code",
   "execution_count": 6,
   "id": "71bc24c1",
   "metadata": {},
   "outputs": [],
   "source": [
    "inp = {\n",
    "    \"fit\": \"NNPDF40_nnlo_as_01180_1000\",\n",
    "    \"dataset_inputs\": {\"from_\": \"fit\"},\n",
    "    \"use_cuts\": \"internal\",\n",
    "    \"theoryid\": 200\n",
    "}"
   ]
  },
  {
   "cell_type": "code",
   "execution_count": 9,
   "id": "a8fdfcde",
   "metadata": {},
   "outputs": [
    {
     "data": {
      "text/plain": [
       "['_UserList__cast',\n",
       " '__abstractmethods__',\n",
       " '__add__',\n",
       " '__class__',\n",
       " '__class_getitem__',\n",
       " '__contains__',\n",
       " '__copy__',\n",
       " '__delattr__',\n",
       " '__delitem__',\n",
       " '__dict__',\n",
       " '__dir__',\n",
       " '__doc__',\n",
       " '__eq__',\n",
       " '__format__',\n",
       " '__ge__',\n",
       " '__getattribute__',\n",
       " '__getitem__',\n",
       " '__gt__',\n",
       " '__hash__',\n",
       " '__iadd__',\n",
       " '__imul__',\n",
       " '__init__',\n",
       " '__init_subclass__',\n",
       " '__iter__',\n",
       " '__le__',\n",
       " '__len__',\n",
       " '__lt__',\n",
       " '__module__',\n",
       " '__mul__',\n",
       " '__ne__',\n",
       " '__new__',\n",
       " '__radd__',\n",
       " '__reduce__',\n",
       " '__reduce_ex__',\n",
       " '__repr__',\n",
       " '__reversed__',\n",
       " '__rmul__',\n",
       " '__setattr__',\n",
       " '__setitem__',\n",
       " '__sizeof__',\n",
       " '__slots__',\n",
       " '__str__',\n",
       " '__subclasshook__',\n",
       " '__weakref__',\n",
       " '_abc_impl',\n",
       " 'append',\n",
       " 'argnames',\n",
       " 'as_markdown',\n",
       " 'as_namespace',\n",
       " 'clear',\n",
       " 'comp_tuple',\n",
       " 'copy',\n",
       " 'count',\n",
       " 'data',\n",
       " 'datasets',\n",
       " 'dsinputs',\n",
       " 'extend',\n",
       " 'fixed_observables',\n",
       " 'foinputs',\n",
       " 'index',\n",
       " 'insert',\n",
       " 'iterfixed',\n",
       " 'load',\n",
       " 'name',\n",
       " 'nsitem',\n",
       " 'nskey',\n",
       " 'pop',\n",
       " 'remove',\n",
       " 'reverse',\n",
       " 'sort',\n",
       " 'thspec',\n",
       " 'to_unweighted']"
      ]
     },
     "execution_count": 9,
     "metadata": {},
     "output_type": "execute_result"
    }
   ],
   "source": [
    "dir(data)"
   ]
  },
  {
   "cell_type": "code",
   "execution_count": 7,
   "id": "279b08df",
   "metadata": {},
   "outputs": [
    {
     "name": "stdout",
     "output_type": "stream",
     "text": [
      "Excluding DYE886R_dw_ite\n",
      "Excluding DYE886R_dw_ite\n",
      "Excluding DYE886P\n",
      "Excluding DYE605_dw_ite\n",
      "Excluding DYE906R_dw_ite\n",
      "Excluding DYE906R_dw_ite\n",
      "Excluding DYE906R_dw_ite\n",
      "Excluding DYE906R_dw_ite\n",
      "Excluding DYE906R_dw_ite\n",
      "Excluding DYE906R_dw_ite\n",
      "Excluding DYE906R_dw_ite\n",
      "Excluding DYE906R_dw_ite\n",
      "Excluding DYE906R_dw_ite\n",
      "Excluding DYE906R_dw_ite\n",
      "Excluding DYE906R_dw_ite\n",
      "Excluding DYE906R_dw_ite\n",
      "Excluding DYE906R_dw_ite\n",
      "Excluding DYE906R_dw_ite\n",
      "Excluding DYE906R_dw_ite\n",
      "Excluding DYE906R_dw_ite\n",
      "Excluding DYE906R_dw_ite\n",
      "Excluding DYE906R_dw_ite\n",
      "Excluding DYE906R_dw_ite\n",
      "Excluding DYE906R_dw_ite\n",
      "Excluding CDFZRAP_NEW\n",
      "Excluding D0ZRAP_40\n",
      "Excluding D0ZRAP_40\n",
      "Excluding D0WMASY\n",
      "Excluding D0WMASY\n",
      "Excluding ATLASWZRAP36PB\n",
      "Excluding ATLASZHIGHMASS49FB\n",
      "Excluding ATLASLOMASSDY11EXT\n",
      "Excluding ATLASWZRAP11CC\n",
      "Excluding ATLAS_WZ_TOT_13TEV\n",
      "Excluding ATLAS_WP_JET_8TEV_PT\n",
      "Excluding ATLAS_WM_JET_8TEV_PT\n",
      "Excluding ATLASZPT8TEVMDIST\n",
      "Excluding ATLASZPT8TEVYDIST\n",
      "Excluding ATLASTTBARTOT7TEV\n",
      "Excluding ATLASTTBARTOT8TEV\n",
      "Excluding ATLAS_TTBARTOT_13TEV_FULLLUMI\n",
      "Excluding ATLAS_TTB_DIFF_8TEV_LJ_TRAPNORM\n",
      "Excluding ATLAS_TTB_DIFF_8TEV_LJ_TRAPNORM\n",
      "Excluding ATLAS_TTB_DIFF_8TEV_LJ_TTRAPNORM\n",
      "Excluding ATLAS_TTB_DIFF_8TEV_LJ_TTRAPNORM\n",
      "Excluding ATLAS_TOPDIFF_DILEPT_8TEV_TTRAPNORM\n",
      "Excluding ATLAS_TOPDIFF_DILEPT_8TEV_TTRAPNORM\n",
      "Excluding ATLAS_1JET_8TEV_R06_DEC\n",
      "Excluding ATLASPHT15_SF\n",
      "Excluding ATLAS_SINGLETOP_TCH_R_7TEV\n",
      "Excluding ATLAS_SINGLETOP_TCH_R_7TEV\n",
      "Excluding ATLAS_SINGLETOP_TCH_R_13TEV\n",
      "Excluding ATLAS_SINGLETOP_TCH_R_13TEV\n",
      "Excluding ATLAS_SINGLETOP_TCH_DIFF_7TEV_T_RAP_NORM\n",
      "Excluding ATLAS_SINGLETOP_TCH_DIFF_7TEV_T_RAP_NORM\n",
      "Excluding ATLAS_SINGLETOP_TCH_DIFF_7TEV_TBAR_RAP_NORM\n",
      "Excluding ATLAS_SINGLETOP_TCH_DIFF_7TEV_TBAR_RAP_NORM\n",
      "Excluding ATLAS_SINGLETOP_TCH_DIFF_8TEV_T_RAP_NORM\n",
      "Excluding ATLAS_SINGLETOP_TCH_DIFF_8TEV_T_RAP_NORM\n",
      "Excluding ATLAS_SINGLETOP_TCH_DIFF_8TEV_TBAR_RAP_NORM\n",
      "Excluding ATLAS_SINGLETOP_TCH_DIFF_8TEV_TBAR_RAP_NORM\n",
      "Excluding CMSWEASY840PB\n",
      "Excluding CMSWEASY840PB\n",
      "Excluding CMSWMASY47FB\n",
      "Excluding CMSWMASY47FB\n",
      "Excluding CMSWMU8TEV\n",
      "Excluding CMSZDIFF12\n",
      "Excluding CMS_1JET_8TEV\n",
      "Excluding CMSTTBARTOT7TEV\n",
      "Excluding CMSTTBARTOT8TEV\n",
      "Excluding CMSTTBARTOT13TEV\n",
      "Excluding CMSTOPDIFF8TEVTTRAPNORM\n",
      "Excluding CMSTOPDIFF8TEVTTRAPNORM\n",
      "Excluding CMSTTBARTOT5TEV\n"
     ]
    },
    {
     "ename": "KeyboardInterrupt",
     "evalue": "",
     "output_type": "error",
     "traceback": [
      "\u001b[0;31m---------------------------------------------------------------------------\u001b[0m",
      "\u001b[0;31mKeyboardInterrupt\u001b[0m                         Traceback (most recent call last)",
      "Cell \u001b[0;32mIn [7], line 7\u001b[0m\n\u001b[1;32m      5\u001b[0m \u001b[38;5;28;01mfor\u001b[39;00m ds \u001b[38;5;129;01min\u001b[39;00m data\u001b[38;5;241m.\u001b[39mdatasets:\n\u001b[1;32m      6\u001b[0m     \u001b[38;5;28;01mfor\u001b[39;00m fk \u001b[38;5;129;01min\u001b[39;00m ds\u001b[38;5;241m.\u001b[39mfkspecs:\n\u001b[0;32m----> 7\u001b[0m         xgrid \u001b[38;5;241m=\u001b[39m \u001b[43mload_fktable\u001b[49m\u001b[43m(\u001b[49m\u001b[43mfk\u001b[49m\u001b[43m)\u001b[49m\u001b[38;5;241m.\u001b[39mxgrid\n\u001b[1;32m      9\u001b[0m         \u001b[38;5;28;01mif\u001b[39;00m xgrid\u001b[38;5;241m.\u001b[39mshape \u001b[38;5;241m!=\u001b[39m (\u001b[38;5;241m50\u001b[39m,):\n\u001b[1;32m     10\u001b[0m             \u001b[38;5;28mprint\u001b[39m(\u001b[38;5;124m\"\u001b[39m\u001b[38;5;124mExcluding\u001b[39m\u001b[38;5;124m\"\u001b[39m, ds)\n",
      "File \u001b[0;32m~/simunetgit/SIMUnet/validphys2/src/validphys/fkparser.py:57\u001b[0m, in \u001b[0;36mload_fktable\u001b[0;34m(spec)\u001b[0m\n\u001b[1;32m     54\u001b[0m \u001b[38;5;124;03m\"\"\"Load the data corresponding to a FKSpec object. The cfactors\u001b[39;00m\n\u001b[1;32m     55\u001b[0m \u001b[38;5;124;03mwill be applied to the grid.\"\"\"\u001b[39;00m\n\u001b[1;32m     56\u001b[0m \u001b[38;5;28;01mwith\u001b[39;00m open_fkpath(spec\u001b[38;5;241m.\u001b[39mfkpath) \u001b[38;5;28;01mas\u001b[39;00m handle:\n\u001b[0;32m---> 57\u001b[0m     tabledata \u001b[38;5;241m=\u001b[39m \u001b[43mparse_fktable\u001b[49m\u001b[43m(\u001b[49m\u001b[43mhandle\u001b[49m\u001b[43m)\u001b[49m\n\u001b[1;32m     58\u001b[0m \u001b[38;5;28;01mif\u001b[39;00m \u001b[38;5;129;01mnot\u001b[39;00m spec\u001b[38;5;241m.\u001b[39mcfactors:\n\u001b[1;32m     59\u001b[0m     \u001b[38;5;28;01mreturn\u001b[39;00m tabledata\n",
      "File \u001b[0;32m~/simunetgit/SIMUnet/validphys2/src/validphys/fkparser.py:308\u001b[0m, in \u001b[0;36mparse_fktable\u001b[0;34m(f)\u001b[0m\n\u001b[1;32m    306\u001b[0m _check_required_sections(res, lineno)\n\u001b[1;32m    307\u001b[0m Q0 \u001b[38;5;241m=\u001b[39m res[\u001b[38;5;124m'\u001b[39m\u001b[38;5;124mTheoryInfo\u001b[39m\u001b[38;5;124m'\u001b[39m][\u001b[38;5;124m'\u001b[39m\u001b[38;5;124mQ0\u001b[39m\u001b[38;5;124m'\u001b[39m]\n\u001b[0;32m--> 308\u001b[0m sigma \u001b[38;5;241m=\u001b[39m \u001b[43m_build_sigma\u001b[49m\u001b[43m(\u001b[49m\u001b[43mf\u001b[49m\u001b[43m,\u001b[49m\u001b[43m \u001b[49m\u001b[43mres\u001b[49m\u001b[43m)\u001b[49m\n\u001b[1;32m    309\u001b[0m hadronic \u001b[38;5;241m=\u001b[39m res[\u001b[38;5;124m'\u001b[39m\u001b[38;5;124mGridInfo\u001b[39m\u001b[38;5;124m'\u001b[39m]\u001b[38;5;241m.\u001b[39mhadronic\n\u001b[1;32m    310\u001b[0m ndata \u001b[38;5;241m=\u001b[39m res[\u001b[38;5;124m'\u001b[39m\u001b[38;5;124mGridInfo\u001b[39m\u001b[38;5;124m'\u001b[39m]\u001b[38;5;241m.\u001b[39mndata\n",
      "File \u001b[0;32m~/simunetgit/SIMUnet/validphys2/src/validphys/fkparser.py:219\u001b[0m, in \u001b[0;36m_build_sigma\u001b[0;34m(f, res)\u001b[0m\n\u001b[1;32m    216\u001b[0m gi \u001b[38;5;241m=\u001b[39m res[\u001b[38;5;124m\"\u001b[39m\u001b[38;5;124mGridInfo\u001b[39m\u001b[38;5;124m\"\u001b[39m]\n\u001b[1;32m    217\u001b[0m fm \u001b[38;5;241m=\u001b[39m res[\u001b[38;5;124m\"\u001b[39m\u001b[38;5;124mFlavourMap\u001b[39m\u001b[38;5;124m\"\u001b[39m]\n\u001b[1;32m    218\u001b[0m table \u001b[38;5;241m=\u001b[39m (\n\u001b[0;32m--> 219\u001b[0m     \u001b[43m_parse_hadronic_fast_kernel\u001b[49m\u001b[43m(\u001b[49m\u001b[43mf\u001b[49m\u001b[43m)\u001b[49m \u001b[38;5;28;01mif\u001b[39;00m gi\u001b[38;5;241m.\u001b[39mhadronic \u001b[38;5;28;01melse\u001b[39;00m _parse_dis_fast_kernel(f)\n\u001b[1;32m    220\u001b[0m )\n\u001b[1;32m    221\u001b[0m \u001b[38;5;66;03m# Filter out empty flavour indices\u001b[39;00m\n\u001b[1;32m    222\u001b[0m table \u001b[38;5;241m=\u001b[39m table\u001b[38;5;241m.\u001b[39mloc[:, fm\u001b[38;5;241m.\u001b[39mravel()]\n",
      "File \u001b[0;32m~/simunetgit/SIMUnet/validphys2/src/validphys/fkparser.py:175\u001b[0m, in \u001b[0;36m_parse_hadronic_fast_kernel\u001b[0;34m(f)\u001b[0m\n\u001b[1;32m    170\u001b[0m \u001b[38;5;124;03m\"\"\"Parse the FastKernel secrion of an hadronic FKTable into a DataFrame.\u001b[39;00m\n\u001b[1;32m    171\u001b[0m \u001b[38;5;124;03m``f`` should be a stream containing only the section\"\"\"\u001b[39;00m\n\u001b[1;32m    172\u001b[0m \u001b[38;5;66;03m# Note that we need the slower whitespace here because it turns out\u001b[39;00m\n\u001b[1;32m    173\u001b[0m \u001b[38;5;66;03m# that there are fktables where space and tab are used as separators\u001b[39;00m\n\u001b[1;32m    174\u001b[0m \u001b[38;5;66;03m# within the same table.\u001b[39;00m\n\u001b[0;32m--> 175\u001b[0m df \u001b[38;5;241m=\u001b[39m \u001b[43mpd\u001b[49m\u001b[38;5;241;43m.\u001b[39;49m\u001b[43mread_csv\u001b[49m\u001b[43m(\u001b[49m\u001b[43mf\u001b[49m\u001b[43m,\u001b[49m\u001b[43m \u001b[49m\u001b[43msep\u001b[49m\u001b[38;5;241;43m=\u001b[39;49m\u001b[38;5;124;43mr\u001b[39;49m\u001b[38;5;124;43m'\u001b[39;49m\u001b[38;5;124;43m\\\u001b[39;49m\u001b[38;5;124;43ms+\u001b[39;49m\u001b[38;5;124;43m'\u001b[39;49m\u001b[43m,\u001b[49m\u001b[43m \u001b[49m\u001b[43mheader\u001b[49m\u001b[38;5;241;43m=\u001b[39;49m\u001b[38;5;28;43;01mNone\u001b[39;49;00m\u001b[43m,\u001b[49m\u001b[43m \u001b[49m\u001b[43mindex_col\u001b[49m\u001b[38;5;241;43m=\u001b[39;49m\u001b[43m(\u001b[49m\u001b[38;5;241;43m0\u001b[39;49m\u001b[43m,\u001b[49m\u001b[38;5;241;43m1\u001b[39;49m\u001b[43m,\u001b[49m\u001b[38;5;241;43m2\u001b[39;49m\u001b[43m)\u001b[49m\u001b[43m)\u001b[49m\n\u001b[1;32m    176\u001b[0m df\u001b[38;5;241m.\u001b[39mcolumns \u001b[38;5;241m=\u001b[39m \u001b[38;5;28mlist\u001b[39m(\u001b[38;5;28mrange\u001b[39m(\u001b[38;5;241m14\u001b[39m\u001b[38;5;241m*\u001b[39m\u001b[38;5;241m14\u001b[39m))\n\u001b[1;32m    177\u001b[0m df\u001b[38;5;241m.\u001b[39mindex\u001b[38;5;241m.\u001b[39mnames \u001b[38;5;241m=\u001b[39m [\u001b[38;5;124m'\u001b[39m\u001b[38;5;124mdata\u001b[39m\u001b[38;5;124m'\u001b[39m, \u001b[38;5;124m'\u001b[39m\u001b[38;5;124mx1\u001b[39m\u001b[38;5;124m'\u001b[39m, \u001b[38;5;124m'\u001b[39m\u001b[38;5;124mx2\u001b[39m\u001b[38;5;124m'\u001b[39m]\n",
      "File \u001b[0;32m~/miniconda3/envs/simunet-dev/lib/python3.9/site-packages/pandas/util/_decorators.py:311\u001b[0m, in \u001b[0;36mdeprecate_nonkeyword_arguments.<locals>.decorate.<locals>.wrapper\u001b[0;34m(*args, **kwargs)\u001b[0m\n\u001b[1;32m    305\u001b[0m \u001b[38;5;28;01mif\u001b[39;00m \u001b[38;5;28mlen\u001b[39m(args) \u001b[38;5;241m>\u001b[39m num_allow_args:\n\u001b[1;32m    306\u001b[0m     warnings\u001b[38;5;241m.\u001b[39mwarn(\n\u001b[1;32m    307\u001b[0m         msg\u001b[38;5;241m.\u001b[39mformat(arguments\u001b[38;5;241m=\u001b[39marguments),\n\u001b[1;32m    308\u001b[0m         \u001b[38;5;167;01mFutureWarning\u001b[39;00m,\n\u001b[1;32m    309\u001b[0m         stacklevel\u001b[38;5;241m=\u001b[39mstacklevel,\n\u001b[1;32m    310\u001b[0m     )\n\u001b[0;32m--> 311\u001b[0m \u001b[38;5;28;01mreturn\u001b[39;00m \u001b[43mfunc\u001b[49m\u001b[43m(\u001b[49m\u001b[38;5;241;43m*\u001b[39;49m\u001b[43margs\u001b[49m\u001b[43m,\u001b[49m\u001b[43m \u001b[49m\u001b[38;5;241;43m*\u001b[39;49m\u001b[38;5;241;43m*\u001b[39;49m\u001b[43mkwargs\u001b[49m\u001b[43m)\u001b[49m\n",
      "File \u001b[0;32m~/miniconda3/envs/simunet-dev/lib/python3.9/site-packages/pandas/io/parsers/readers.py:678\u001b[0m, in \u001b[0;36mread_csv\u001b[0;34m(filepath_or_buffer, sep, delimiter, header, names, index_col, usecols, squeeze, prefix, mangle_dupe_cols, dtype, engine, converters, true_values, false_values, skipinitialspace, skiprows, skipfooter, nrows, na_values, keep_default_na, na_filter, verbose, skip_blank_lines, parse_dates, infer_datetime_format, keep_date_col, date_parser, dayfirst, cache_dates, iterator, chunksize, compression, thousands, decimal, lineterminator, quotechar, quoting, doublequote, escapechar, comment, encoding, encoding_errors, dialect, error_bad_lines, warn_bad_lines, on_bad_lines, delim_whitespace, low_memory, memory_map, float_precision, storage_options)\u001b[0m\n\u001b[1;32m    663\u001b[0m kwds_defaults \u001b[38;5;241m=\u001b[39m _refine_defaults_read(\n\u001b[1;32m    664\u001b[0m     dialect,\n\u001b[1;32m    665\u001b[0m     delimiter,\n\u001b[0;32m   (...)\u001b[0m\n\u001b[1;32m    674\u001b[0m     defaults\u001b[38;5;241m=\u001b[39m{\u001b[38;5;124m\"\u001b[39m\u001b[38;5;124mdelimiter\u001b[39m\u001b[38;5;124m\"\u001b[39m: \u001b[38;5;124m\"\u001b[39m\u001b[38;5;124m,\u001b[39m\u001b[38;5;124m\"\u001b[39m},\n\u001b[1;32m    675\u001b[0m )\n\u001b[1;32m    676\u001b[0m kwds\u001b[38;5;241m.\u001b[39mupdate(kwds_defaults)\n\u001b[0;32m--> 678\u001b[0m \u001b[38;5;28;01mreturn\u001b[39;00m \u001b[43m_read\u001b[49m\u001b[43m(\u001b[49m\u001b[43mfilepath_or_buffer\u001b[49m\u001b[43m,\u001b[49m\u001b[43m \u001b[49m\u001b[43mkwds\u001b[49m\u001b[43m)\u001b[49m\n",
      "File \u001b[0;32m~/miniconda3/envs/simunet-dev/lib/python3.9/site-packages/pandas/io/parsers/readers.py:581\u001b[0m, in \u001b[0;36m_read\u001b[0;34m(filepath_or_buffer, kwds)\u001b[0m\n\u001b[1;32m    578\u001b[0m     \u001b[38;5;28;01mreturn\u001b[39;00m parser\n\u001b[1;32m    580\u001b[0m \u001b[38;5;28;01mwith\u001b[39;00m parser:\n\u001b[0;32m--> 581\u001b[0m     \u001b[38;5;28;01mreturn\u001b[39;00m \u001b[43mparser\u001b[49m\u001b[38;5;241;43m.\u001b[39;49m\u001b[43mread\u001b[49m\u001b[43m(\u001b[49m\u001b[43mnrows\u001b[49m\u001b[43m)\u001b[49m\n",
      "File \u001b[0;32m~/miniconda3/envs/simunet-dev/lib/python3.9/site-packages/pandas/io/parsers/readers.py:1268\u001b[0m, in \u001b[0;36mTextFileReader.read\u001b[0;34m(self, nrows)\u001b[0m\n\u001b[1;32m   1265\u001b[0m     \u001b[38;5;28;01melse\u001b[39;00m:\n\u001b[1;32m   1266\u001b[0m         new_rows \u001b[38;5;241m=\u001b[39m \u001b[38;5;28mlen\u001b[39m(index)\n\u001b[0;32m-> 1268\u001b[0m     df \u001b[38;5;241m=\u001b[39m \u001b[43mDataFrame\u001b[49m\u001b[43m(\u001b[49m\u001b[43mcol_dict\u001b[49m\u001b[43m,\u001b[49m\u001b[43m \u001b[49m\u001b[43mcolumns\u001b[49m\u001b[38;5;241;43m=\u001b[39;49m\u001b[43mcolumns\u001b[49m\u001b[43m,\u001b[49m\u001b[43m \u001b[49m\u001b[43mindex\u001b[49m\u001b[38;5;241;43m=\u001b[39;49m\u001b[43mindex\u001b[49m\u001b[43m)\u001b[49m\n\u001b[1;32m   1270\u001b[0m     \u001b[38;5;28mself\u001b[39m\u001b[38;5;241m.\u001b[39m_currow \u001b[38;5;241m+\u001b[39m\u001b[38;5;241m=\u001b[39m new_rows\n\u001b[1;32m   1272\u001b[0m \u001b[38;5;28;01mif\u001b[39;00m \u001b[38;5;28mself\u001b[39m\u001b[38;5;241m.\u001b[39msqueeze \u001b[38;5;129;01mand\u001b[39;00m \u001b[38;5;28mlen\u001b[39m(df\u001b[38;5;241m.\u001b[39mcolumns) \u001b[38;5;241m==\u001b[39m \u001b[38;5;241m1\u001b[39m:\n",
      "File \u001b[0;32m~/miniconda3/envs/simunet-dev/lib/python3.9/site-packages/pandas/core/frame.py:636\u001b[0m, in \u001b[0;36mDataFrame.__init__\u001b[0;34m(self, data, index, columns, dtype, copy)\u001b[0m\n\u001b[1;32m    630\u001b[0m     mgr \u001b[38;5;241m=\u001b[39m \u001b[38;5;28mself\u001b[39m\u001b[38;5;241m.\u001b[39m_init_mgr(\n\u001b[1;32m    631\u001b[0m         data, axes\u001b[38;5;241m=\u001b[39m{\u001b[38;5;124m\"\u001b[39m\u001b[38;5;124mindex\u001b[39m\u001b[38;5;124m\"\u001b[39m: index, \u001b[38;5;124m\"\u001b[39m\u001b[38;5;124mcolumns\u001b[39m\u001b[38;5;124m\"\u001b[39m: columns}, dtype\u001b[38;5;241m=\u001b[39mdtype, copy\u001b[38;5;241m=\u001b[39mcopy\n\u001b[1;32m    632\u001b[0m     )\n\u001b[1;32m    634\u001b[0m \u001b[38;5;28;01melif\u001b[39;00m \u001b[38;5;28misinstance\u001b[39m(data, \u001b[38;5;28mdict\u001b[39m):\n\u001b[1;32m    635\u001b[0m     \u001b[38;5;66;03m# GH#38939 de facto copy defaults to False only in non-dict cases\u001b[39;00m\n\u001b[0;32m--> 636\u001b[0m     mgr \u001b[38;5;241m=\u001b[39m \u001b[43mdict_to_mgr\u001b[49m\u001b[43m(\u001b[49m\u001b[43mdata\u001b[49m\u001b[43m,\u001b[49m\u001b[43m \u001b[49m\u001b[43mindex\u001b[49m\u001b[43m,\u001b[49m\u001b[43m \u001b[49m\u001b[43mcolumns\u001b[49m\u001b[43m,\u001b[49m\u001b[43m \u001b[49m\u001b[43mdtype\u001b[49m\u001b[38;5;241;43m=\u001b[39;49m\u001b[43mdtype\u001b[49m\u001b[43m,\u001b[49m\u001b[43m \u001b[49m\u001b[43mcopy\u001b[49m\u001b[38;5;241;43m=\u001b[39;49m\u001b[43mcopy\u001b[49m\u001b[43m,\u001b[49m\u001b[43m \u001b[49m\u001b[43mtyp\u001b[49m\u001b[38;5;241;43m=\u001b[39;49m\u001b[43mmanager\u001b[49m\u001b[43m)\u001b[49m\n\u001b[1;32m    637\u001b[0m \u001b[38;5;28;01melif\u001b[39;00m \u001b[38;5;28misinstance\u001b[39m(data, ma\u001b[38;5;241m.\u001b[39mMaskedArray):\n\u001b[1;32m    638\u001b[0m     \u001b[38;5;28;01mimport\u001b[39;00m \u001b[38;5;21;01mnumpy\u001b[39;00m\u001b[38;5;21;01m.\u001b[39;00m\u001b[38;5;21;01mma\u001b[39;00m\u001b[38;5;21;01m.\u001b[39;00m\u001b[38;5;21;01mmrecords\u001b[39;00m \u001b[38;5;28;01mas\u001b[39;00m \u001b[38;5;21;01mmrecords\u001b[39;00m\n",
      "File \u001b[0;32m~/miniconda3/envs/simunet-dev/lib/python3.9/site-packages/pandas/core/internals/construction.py:502\u001b[0m, in \u001b[0;36mdict_to_mgr\u001b[0;34m(data, index, columns, dtype, typ, copy)\u001b[0m\n\u001b[1;32m    494\u001b[0m     arrays \u001b[38;5;241m=\u001b[39m [\n\u001b[1;32m    495\u001b[0m         x\n\u001b[1;32m    496\u001b[0m         \u001b[38;5;28;01mif\u001b[39;00m \u001b[38;5;129;01mnot\u001b[39;00m \u001b[38;5;28mhasattr\u001b[39m(x, \u001b[38;5;124m\"\u001b[39m\u001b[38;5;124mdtype\u001b[39m\u001b[38;5;124m\"\u001b[39m) \u001b[38;5;129;01mor\u001b[39;00m \u001b[38;5;129;01mnot\u001b[39;00m \u001b[38;5;28misinstance\u001b[39m(x\u001b[38;5;241m.\u001b[39mdtype, ExtensionDtype)\n\u001b[1;32m    497\u001b[0m         \u001b[38;5;28;01melse\u001b[39;00m x\u001b[38;5;241m.\u001b[39mcopy()\n\u001b[1;32m    498\u001b[0m         \u001b[38;5;28;01mfor\u001b[39;00m x \u001b[38;5;129;01min\u001b[39;00m arrays\n\u001b[1;32m    499\u001b[0m     ]\n\u001b[1;32m    500\u001b[0m     \u001b[38;5;66;03m# TODO: can we get rid of the dt64tz special case above?\u001b[39;00m\n\u001b[0;32m--> 502\u001b[0m \u001b[38;5;28;01mreturn\u001b[39;00m \u001b[43marrays_to_mgr\u001b[49m\u001b[43m(\u001b[49m\u001b[43marrays\u001b[49m\u001b[43m,\u001b[49m\u001b[43m \u001b[49m\u001b[43mcolumns\u001b[49m\u001b[43m,\u001b[49m\u001b[43m \u001b[49m\u001b[43mindex\u001b[49m\u001b[43m,\u001b[49m\u001b[43m \u001b[49m\u001b[43mdtype\u001b[49m\u001b[38;5;241;43m=\u001b[39;49m\u001b[43mdtype\u001b[49m\u001b[43m,\u001b[49m\u001b[43m \u001b[49m\u001b[43mtyp\u001b[49m\u001b[38;5;241;43m=\u001b[39;49m\u001b[43mtyp\u001b[49m\u001b[43m,\u001b[49m\u001b[43m \u001b[49m\u001b[43mconsolidate\u001b[49m\u001b[38;5;241;43m=\u001b[39;49m\u001b[43mcopy\u001b[49m\u001b[43m)\u001b[49m\n",
      "File \u001b[0;32m~/miniconda3/envs/simunet-dev/lib/python3.9/site-packages/pandas/core/internals/construction.py:156\u001b[0m, in \u001b[0;36marrays_to_mgr\u001b[0;34m(arrays, columns, index, dtype, verify_integrity, typ, consolidate)\u001b[0m\n\u001b[1;32m    153\u001b[0m axes \u001b[38;5;241m=\u001b[39m [columns, index]\n\u001b[1;32m    155\u001b[0m \u001b[38;5;28;01mif\u001b[39;00m typ \u001b[38;5;241m==\u001b[39m \u001b[38;5;124m\"\u001b[39m\u001b[38;5;124mblock\u001b[39m\u001b[38;5;124m\"\u001b[39m:\n\u001b[0;32m--> 156\u001b[0m     \u001b[38;5;28;01mreturn\u001b[39;00m \u001b[43mcreate_block_manager_from_column_arrays\u001b[49m\u001b[43m(\u001b[49m\n\u001b[1;32m    157\u001b[0m \u001b[43m        \u001b[49m\u001b[43marrays\u001b[49m\u001b[43m,\u001b[49m\u001b[43m \u001b[49m\u001b[43maxes\u001b[49m\u001b[43m,\u001b[49m\u001b[43m \u001b[49m\u001b[43mconsolidate\u001b[49m\u001b[38;5;241;43m=\u001b[39;49m\u001b[43mconsolidate\u001b[49m\n\u001b[1;32m    158\u001b[0m \u001b[43m    \u001b[49m\u001b[43m)\u001b[49m\n\u001b[1;32m    159\u001b[0m \u001b[38;5;28;01melif\u001b[39;00m typ \u001b[38;5;241m==\u001b[39m \u001b[38;5;124m\"\u001b[39m\u001b[38;5;124marray\u001b[39m\u001b[38;5;124m\"\u001b[39m:\n\u001b[1;32m    160\u001b[0m     \u001b[38;5;28;01mreturn\u001b[39;00m ArrayManager(arrays, [index, columns])\n",
      "File \u001b[0;32m~/miniconda3/envs/simunet-dev/lib/python3.9/site-packages/pandas/core/internals/managers.py:1973\u001b[0m, in \u001b[0;36mcreate_block_manager_from_column_arrays\u001b[0;34m(arrays, axes, consolidate)\u001b[0m\n\u001b[1;32m   1971\u001b[0m     \u001b[38;5;28;01mraise\u001b[39;00m construction_error(\u001b[38;5;28mlen\u001b[39m(arrays), arrays[\u001b[38;5;241m0\u001b[39m]\u001b[38;5;241m.\u001b[39mshape, axes, e)\n\u001b[1;32m   1972\u001b[0m \u001b[38;5;28;01mif\u001b[39;00m consolidate:\n\u001b[0;32m-> 1973\u001b[0m     \u001b[43mmgr\u001b[49m\u001b[38;5;241;43m.\u001b[39;49m\u001b[43m_consolidate_inplace\u001b[49m\u001b[43m(\u001b[49m\u001b[43m)\u001b[49m\n\u001b[1;32m   1974\u001b[0m \u001b[38;5;28;01mreturn\u001b[39;00m mgr\n",
      "File \u001b[0;32m~/miniconda3/envs/simunet-dev/lib/python3.9/site-packages/pandas/core/internals/managers.py:1699\u001b[0m, in \u001b[0;36mBlockManager._consolidate_inplace\u001b[0;34m(self)\u001b[0m\n\u001b[1;32m   1693\u001b[0m \u001b[38;5;28;01mdef\u001b[39;00m \u001b[38;5;21m_consolidate_inplace\u001b[39m(\u001b[38;5;28mself\u001b[39m) \u001b[38;5;241m-\u001b[39m\u001b[38;5;241m>\u001b[39m \u001b[38;5;28;01mNone\u001b[39;00m:\n\u001b[1;32m   1694\u001b[0m     \u001b[38;5;66;03m# In general, _consolidate_inplace should only be called via\u001b[39;00m\n\u001b[1;32m   1695\u001b[0m     \u001b[38;5;66;03m#  DataFrame._consolidate_inplace, otherwise we will fail to invalidate\u001b[39;00m\n\u001b[1;32m   1696\u001b[0m     \u001b[38;5;66;03m#  the DataFrame's _item_cache. The exception is for newly-created\u001b[39;00m\n\u001b[1;32m   1697\u001b[0m     \u001b[38;5;66;03m#  BlockManager objects not yet attached to a DataFrame.\u001b[39;00m\n\u001b[1;32m   1698\u001b[0m     \u001b[38;5;28;01mif\u001b[39;00m \u001b[38;5;129;01mnot\u001b[39;00m \u001b[38;5;28mself\u001b[39m\u001b[38;5;241m.\u001b[39mis_consolidated():\n\u001b[0;32m-> 1699\u001b[0m         \u001b[38;5;28mself\u001b[39m\u001b[38;5;241m.\u001b[39mblocks \u001b[38;5;241m=\u001b[39m \u001b[38;5;28mtuple\u001b[39m(\u001b[43m_consolidate\u001b[49m\u001b[43m(\u001b[49m\u001b[38;5;28;43mself\u001b[39;49m\u001b[38;5;241;43m.\u001b[39;49m\u001b[43mblocks\u001b[49m\u001b[43m)\u001b[49m)\n\u001b[1;32m   1700\u001b[0m         \u001b[38;5;28mself\u001b[39m\u001b[38;5;241m.\u001b[39m_is_consolidated \u001b[38;5;241m=\u001b[39m \u001b[38;5;28;01mTrue\u001b[39;00m\n\u001b[1;32m   1701\u001b[0m         \u001b[38;5;28mself\u001b[39m\u001b[38;5;241m.\u001b[39m_known_consolidated \u001b[38;5;241m=\u001b[39m \u001b[38;5;28;01mTrue\u001b[39;00m\n",
      "File \u001b[0;32m~/miniconda3/envs/simunet-dev/lib/python3.9/site-packages/pandas/core/internals/managers.py:2098\u001b[0m, in \u001b[0;36m_consolidate\u001b[0;34m(blocks)\u001b[0m\n\u001b[1;32m   2096\u001b[0m new_blocks: \u001b[38;5;28mlist\u001b[39m[Block] \u001b[38;5;241m=\u001b[39m []\n\u001b[1;32m   2097\u001b[0m \u001b[38;5;28;01mfor\u001b[39;00m (_can_consolidate, dtype), group_blocks \u001b[38;5;129;01min\u001b[39;00m grouper:\n\u001b[0;32m-> 2098\u001b[0m     merged_blocks \u001b[38;5;241m=\u001b[39m \u001b[43m_merge_blocks\u001b[49m\u001b[43m(\u001b[49m\n\u001b[1;32m   2099\u001b[0m \u001b[43m        \u001b[49m\u001b[38;5;28;43mlist\u001b[39;49m\u001b[43m(\u001b[49m\u001b[43mgroup_blocks\u001b[49m\u001b[43m)\u001b[49m\u001b[43m,\u001b[49m\u001b[43m \u001b[49m\u001b[43mdtype\u001b[49m\u001b[38;5;241;43m=\u001b[39;49m\u001b[43mdtype\u001b[49m\u001b[43m,\u001b[49m\u001b[43m \u001b[49m\u001b[43mcan_consolidate\u001b[49m\u001b[38;5;241;43m=\u001b[39;49m\u001b[43m_can_consolidate\u001b[49m\n\u001b[1;32m   2100\u001b[0m \u001b[43m    \u001b[49m\u001b[43m)\u001b[49m\n\u001b[1;32m   2101\u001b[0m     new_blocks \u001b[38;5;241m=\u001b[39m extend_blocks(merged_blocks, new_blocks)\n\u001b[1;32m   2102\u001b[0m \u001b[38;5;28;01mreturn\u001b[39;00m new_blocks\n",
      "File \u001b[0;32m~/miniconda3/envs/simunet-dev/lib/python3.9/site-packages/pandas/core/internals/managers.py:2125\u001b[0m, in \u001b[0;36m_merge_blocks\u001b[0;34m(blocks, dtype, can_consolidate)\u001b[0m\n\u001b[1;32m   2118\u001b[0m new_values: ArrayLike\n\u001b[1;32m   2120\u001b[0m \u001b[38;5;28;01mif\u001b[39;00m \u001b[38;5;28misinstance\u001b[39m(blocks[\u001b[38;5;241m0\u001b[39m]\u001b[38;5;241m.\u001b[39mdtype, np\u001b[38;5;241m.\u001b[39mdtype):\n\u001b[1;32m   2121\u001b[0m     \u001b[38;5;66;03m# error: List comprehension has incompatible type List[Union[ndarray,\u001b[39;00m\n\u001b[1;32m   2122\u001b[0m     \u001b[38;5;66;03m# ExtensionArray]]; expected List[Union[complex, generic,\u001b[39;00m\n\u001b[1;32m   2123\u001b[0m     \u001b[38;5;66;03m# Sequence[Union[int, float, complex, str, bytes, generic]],\u001b[39;00m\n\u001b[1;32m   2124\u001b[0m     \u001b[38;5;66;03m# Sequence[Sequence[Any]], SupportsArray]]\u001b[39;00m\n\u001b[0;32m-> 2125\u001b[0m     new_values \u001b[38;5;241m=\u001b[39m \u001b[43mnp\u001b[49m\u001b[38;5;241;43m.\u001b[39;49m\u001b[43mvstack\u001b[49m\u001b[43m(\u001b[49m\u001b[43m[\u001b[49m\u001b[43mb\u001b[49m\u001b[38;5;241;43m.\u001b[39;49m\u001b[43mvalues\u001b[49m\u001b[43m \u001b[49m\u001b[38;5;28;43;01mfor\u001b[39;49;00m\u001b[43m \u001b[49m\u001b[43mb\u001b[49m\u001b[43m \u001b[49m\u001b[38;5;129;43;01min\u001b[39;49;00m\u001b[43m \u001b[49m\u001b[43mblocks\u001b[49m\u001b[43m]\u001b[49m\u001b[43m)\u001b[49m  \u001b[38;5;66;03m# type: ignore[misc]\u001b[39;00m\n\u001b[1;32m   2126\u001b[0m \u001b[38;5;28;01melse\u001b[39;00m:\n\u001b[1;32m   2127\u001b[0m     bvals \u001b[38;5;241m=\u001b[39m [blk\u001b[38;5;241m.\u001b[39mvalues \u001b[38;5;28;01mfor\u001b[39;00m blk \u001b[38;5;129;01min\u001b[39;00m blocks]\n",
      "File \u001b[0;32m<__array_function__ internals>:180\u001b[0m, in \u001b[0;36mvstack\u001b[0;34m(*args, **kwargs)\u001b[0m\n",
      "File \u001b[0;32m~/miniconda3/envs/simunet-dev/lib/python3.9/site-packages/numpy/core/shape_base.py:282\u001b[0m, in \u001b[0;36mvstack\u001b[0;34m(tup)\u001b[0m\n\u001b[1;32m    280\u001b[0m \u001b[38;5;28;01mif\u001b[39;00m \u001b[38;5;129;01mnot\u001b[39;00m \u001b[38;5;28misinstance\u001b[39m(arrs, \u001b[38;5;28mlist\u001b[39m):\n\u001b[1;32m    281\u001b[0m     arrs \u001b[38;5;241m=\u001b[39m [arrs]\n\u001b[0;32m--> 282\u001b[0m \u001b[38;5;28;01mreturn\u001b[39;00m \u001b[43m_nx\u001b[49m\u001b[38;5;241;43m.\u001b[39;49m\u001b[43mconcatenate\u001b[49m\u001b[43m(\u001b[49m\u001b[43marrs\u001b[49m\u001b[43m,\u001b[49m\u001b[43m \u001b[49m\u001b[38;5;241;43m0\u001b[39;49m\u001b[43m)\u001b[49m\n",
      "File \u001b[0;32m<__array_function__ internals>:180\u001b[0m, in \u001b[0;36mconcatenate\u001b[0;34m(*args, **kwargs)\u001b[0m\n",
      "\u001b[0;31mKeyboardInterrupt\u001b[0m: "
     ]
    }
   ],
   "source": [
    "xx = []\n",
    "\n",
    "excluded = set()\n",
    "\n",
    "for ds in data.datasets:\n",
    "    for fk in ds.fkspecs:\n",
    "        xgrid = load_fktable(fk).xgrid\n",
    "        \n",
    "        if xgrid.shape != (50,):\n",
    "            print(\"Excluding\", ds)\n",
    "            excluded.add(ds)\n",
    "            continue\n",
    "        else:\n",
    "            xx.append(xgrid)"
   ]
  },
  {
   "cell_type": "code",
   "execution_count": 5,
   "id": "7dcb7372",
   "metadata": {},
   "outputs": [],
   "source": [
    "arr = np.array(xx)"
   ]
  },
  {
   "cell_type": "code",
   "execution_count": 6,
   "id": "083f7f24",
   "metadata": {},
   "outputs": [
    {
     "data": {
      "text/plain": [
       "1.3322676295501878e-15"
      ]
     },
     "execution_count": 6,
     "metadata": {},
     "output_type": "execute_result"
    }
   ],
   "source": [
    "arr.std(axis=0).max()"
   ]
  },
  {
   "cell_type": "code",
   "execution_count": 7,
   "id": "0f37117d",
   "metadata": {},
   "outputs": [],
   "source": [
    "datasets = [ds for ds in data.datasets if ds not in excluded]"
   ]
  },
  {
   "cell_type": "code",
   "execution_count": 8,
   "id": "14e638aa",
   "metadata": {},
   "outputs": [],
   "source": [
    "fk = load_fktable(datasets[-1].fkspecs[-1])"
   ]
  },
  {
   "cell_type": "code",
   "execution_count": 9,
   "id": "210f0c33",
   "metadata": {
    "scrolled": true
   },
   "outputs": [
    {
     "data": {
      "text/plain": [
       "array([ 1,  1,  1,  2,  1,  3,  1,  4,  1,  5,  1,  6,  1,  9,  1, 10,  1,\n",
       "       11,  2,  2,  2,  3,  2,  4,  2,  5,  2,  6,  2,  9,  2, 10,  2, 11,\n",
       "        3,  3,  3,  4,  3,  5,  3,  6,  3,  9,  3, 10,  3, 11,  4,  4,  4,\n",
       "        5,  4,  6,  4,  9,  4, 10,  4, 11,  5,  5,  5,  6,  5,  9,  5, 10,\n",
       "        5, 11,  6,  6,  6,  9,  6, 10,  6, 11,  9,  9,  9, 10,  9, 11, 10,\n",
       "       10, 10, 11, 11, 11])"
      ]
     },
     "execution_count": 9,
     "metadata": {},
     "output_type": "execute_result"
    }
   ],
   "source": [
    "fk.luminosity_mapping"
   ]
  },
  {
   "cell_type": "code",
   "execution_count": 10,
   "id": "014e3421",
   "metadata": {},
   "outputs": [
    {
     "data": {
      "text/html": [
       "<div>\n",
       "<style scoped>\n",
       "    .dataframe tbody tr th:only-of-type {\n",
       "        vertical-align: middle;\n",
       "    }\n",
       "\n",
       "    .dataframe tbody tr th {\n",
       "        vertical-align: top;\n",
       "    }\n",
       "\n",
       "    .dataframe thead th {\n",
       "        text-align: right;\n",
       "    }\n",
       "</style>\n",
       "<table border=\"1\" class=\"dataframe\">\n",
       "  <thead>\n",
       "    <tr style=\"text-align: right;\">\n",
       "      <th></th>\n",
       "      <th></th>\n",
       "      <th></th>\n",
       "      <th>15</th>\n",
       "      <th>16</th>\n",
       "      <th>17</th>\n",
       "      <th>18</th>\n",
       "      <th>19</th>\n",
       "      <th>20</th>\n",
       "      <th>23</th>\n",
       "      <th>24</th>\n",
       "      <th>25</th>\n",
       "      <th>30</th>\n",
       "      <th>...</th>\n",
       "      <th>90</th>\n",
       "      <th>93</th>\n",
       "      <th>94</th>\n",
       "      <th>95</th>\n",
       "      <th>135</th>\n",
       "      <th>136</th>\n",
       "      <th>137</th>\n",
       "      <th>150</th>\n",
       "      <th>151</th>\n",
       "      <th>165</th>\n",
       "    </tr>\n",
       "    <tr>\n",
       "      <th>data</th>\n",
       "      <th>x1</th>\n",
       "      <th>x2</th>\n",
       "      <th></th>\n",
       "      <th></th>\n",
       "      <th></th>\n",
       "      <th></th>\n",
       "      <th></th>\n",
       "      <th></th>\n",
       "      <th></th>\n",
       "      <th></th>\n",
       "      <th></th>\n",
       "      <th></th>\n",
       "      <th></th>\n",
       "      <th></th>\n",
       "      <th></th>\n",
       "      <th></th>\n",
       "      <th></th>\n",
       "      <th></th>\n",
       "      <th></th>\n",
       "      <th></th>\n",
       "      <th></th>\n",
       "      <th></th>\n",
       "      <th></th>\n",
       "    </tr>\n",
       "  </thead>\n",
       "  <tbody>\n",
       "    <tr>\n",
       "      <th rowspan=\"5\" valign=\"top\">0</th>\n",
       "      <th rowspan=\"5\" valign=\"top\">0</th>\n",
       "      <th>0</th>\n",
       "      <td>0.000000</td>\n",
       "      <td>0.000000</td>\n",
       "      <td>0.000000</td>\n",
       "      <td>0.000000</td>\n",
       "      <td>0.000000</td>\n",
       "      <td>0.000000</td>\n",
       "      <td>0.000000</td>\n",
       "      <td>0.000000</td>\n",
       "      <td>0.000000</td>\n",
       "      <td>0.000000</td>\n",
       "      <td>...</td>\n",
       "      <td>0.000000</td>\n",
       "      <td>0.000000</td>\n",
       "      <td>0.000000</td>\n",
       "      <td>0.000000</td>\n",
       "      <td>0.000000</td>\n",
       "      <td>0.000000</td>\n",
       "      <td>0.000000</td>\n",
       "      <td>0.000000</td>\n",
       "      <td>0.000000</td>\n",
       "      <td>0.000000</td>\n",
       "    </tr>\n",
       "    <tr>\n",
       "      <th>1</th>\n",
       "      <td>0.000000</td>\n",
       "      <td>0.000000</td>\n",
       "      <td>0.000000</td>\n",
       "      <td>0.000000</td>\n",
       "      <td>0.000000</td>\n",
       "      <td>0.000000</td>\n",
       "      <td>0.000000</td>\n",
       "      <td>0.000000</td>\n",
       "      <td>0.000000</td>\n",
       "      <td>0.000000</td>\n",
       "      <td>...</td>\n",
       "      <td>0.000000</td>\n",
       "      <td>0.000000</td>\n",
       "      <td>0.000000</td>\n",
       "      <td>0.000000</td>\n",
       "      <td>0.000000</td>\n",
       "      <td>0.000000</td>\n",
       "      <td>0.000000</td>\n",
       "      <td>0.000000</td>\n",
       "      <td>0.000000</td>\n",
       "      <td>0.000000</td>\n",
       "    </tr>\n",
       "    <tr>\n",
       "      <th>2</th>\n",
       "      <td>0.000000</td>\n",
       "      <td>0.000000</td>\n",
       "      <td>0.000000</td>\n",
       "      <td>0.000000</td>\n",
       "      <td>0.000000</td>\n",
       "      <td>0.000000</td>\n",
       "      <td>0.000000</td>\n",
       "      <td>0.000000</td>\n",
       "      <td>0.000000</td>\n",
       "      <td>0.000000</td>\n",
       "      <td>...</td>\n",
       "      <td>0.000000</td>\n",
       "      <td>0.000000</td>\n",
       "      <td>0.000000</td>\n",
       "      <td>0.000000</td>\n",
       "      <td>0.000000</td>\n",
       "      <td>0.000000</td>\n",
       "      <td>0.000000</td>\n",
       "      <td>0.000000</td>\n",
       "      <td>0.000000</td>\n",
       "      <td>0.000000</td>\n",
       "    </tr>\n",
       "    <tr>\n",
       "      <th>3</th>\n",
       "      <td>0.000000</td>\n",
       "      <td>0.000000</td>\n",
       "      <td>0.000000</td>\n",
       "      <td>0.000000</td>\n",
       "      <td>0.000000</td>\n",
       "      <td>0.000000</td>\n",
       "      <td>0.000000</td>\n",
       "      <td>0.000000</td>\n",
       "      <td>0.000000</td>\n",
       "      <td>0.000000</td>\n",
       "      <td>...</td>\n",
       "      <td>0.000000</td>\n",
       "      <td>0.000000</td>\n",
       "      <td>0.000000</td>\n",
       "      <td>0.000000</td>\n",
       "      <td>0.000000</td>\n",
       "      <td>0.000000</td>\n",
       "      <td>0.000000</td>\n",
       "      <td>0.000000</td>\n",
       "      <td>0.000000</td>\n",
       "      <td>0.000000</td>\n",
       "    </tr>\n",
       "    <tr>\n",
       "      <th>4</th>\n",
       "      <td>0.000000</td>\n",
       "      <td>0.000000</td>\n",
       "      <td>0.000000</td>\n",
       "      <td>0.000000</td>\n",
       "      <td>0.000000</td>\n",
       "      <td>0.000000</td>\n",
       "      <td>0.000000</td>\n",
       "      <td>0.000000</td>\n",
       "      <td>0.000000</td>\n",
       "      <td>0.000000</td>\n",
       "      <td>...</td>\n",
       "      <td>0.000000</td>\n",
       "      <td>0.000000</td>\n",
       "      <td>0.000000</td>\n",
       "      <td>0.000000</td>\n",
       "      <td>0.000000</td>\n",
       "      <td>0.000000</td>\n",
       "      <td>0.000000</td>\n",
       "      <td>0.000000</td>\n",
       "      <td>0.000000</td>\n",
       "      <td>0.000000</td>\n",
       "    </tr>\n",
       "    <tr>\n",
       "      <th>...</th>\n",
       "      <th>...</th>\n",
       "      <th>...</th>\n",
       "      <td>...</td>\n",
       "      <td>...</td>\n",
       "      <td>...</td>\n",
       "      <td>...</td>\n",
       "      <td>...</td>\n",
       "      <td>...</td>\n",
       "      <td>...</td>\n",
       "      <td>...</td>\n",
       "      <td>...</td>\n",
       "      <td>...</td>\n",
       "      <td>...</td>\n",
       "      <td>...</td>\n",
       "      <td>...</td>\n",
       "      <td>...</td>\n",
       "      <td>...</td>\n",
       "      <td>...</td>\n",
       "      <td>...</td>\n",
       "      <td>...</td>\n",
       "      <td>...</td>\n",
       "      <td>...</td>\n",
       "      <td>...</td>\n",
       "    </tr>\n",
       "    <tr>\n",
       "      <th rowspan=\"5\" valign=\"top\">16</th>\n",
       "      <th rowspan=\"5\" valign=\"top\">49</th>\n",
       "      <th>45</th>\n",
       "      <td>0.000000</td>\n",
       "      <td>-541.888596</td>\n",
       "      <td>-0.028974</td>\n",
       "      <td>0.023911</td>\n",
       "      <td>0.007970</td>\n",
       "      <td>-0.007970</td>\n",
       "      <td>-0.976658</td>\n",
       "      <td>-0.325553</td>\n",
       "      <td>0.325553</td>\n",
       "      <td>0.000000</td>\n",
       "      <td>...</td>\n",
       "      <td>0.000000</td>\n",
       "      <td>0.002600</td>\n",
       "      <td>0.000867</td>\n",
       "      <td>0.001783</td>\n",
       "      <td>0.000000</td>\n",
       "      <td>-0.001434</td>\n",
       "      <td>-0.000717</td>\n",
       "      <td>0.000000</td>\n",
       "      <td>-0.000239</td>\n",
       "      <td>0.000000</td>\n",
       "    </tr>\n",
       "    <tr>\n",
       "      <th>46</th>\n",
       "      <td>0.000000</td>\n",
       "      <td>-552.215759</td>\n",
       "      <td>-0.021690</td>\n",
       "      <td>0.022467</td>\n",
       "      <td>0.007489</td>\n",
       "      <td>-0.007489</td>\n",
       "      <td>-0.860740</td>\n",
       "      <td>-0.286913</td>\n",
       "      <td>0.286913</td>\n",
       "      <td>0.000000</td>\n",
       "      <td>...</td>\n",
       "      <td>0.000000</td>\n",
       "      <td>0.002238</td>\n",
       "      <td>0.000746</td>\n",
       "      <td>0.001412</td>\n",
       "      <td>0.000000</td>\n",
       "      <td>-0.000961</td>\n",
       "      <td>-0.000480</td>\n",
       "      <td>0.000000</td>\n",
       "      <td>-0.000160</td>\n",
       "      <td>0.000000</td>\n",
       "    </tr>\n",
       "    <tr>\n",
       "      <th>47</th>\n",
       "      <td>0.000000</td>\n",
       "      <td>-423.142340</td>\n",
       "      <td>-0.025087</td>\n",
       "      <td>0.018254</td>\n",
       "      <td>0.006085</td>\n",
       "      <td>-0.006085</td>\n",
       "      <td>-0.609224</td>\n",
       "      <td>-0.203075</td>\n",
       "      <td>0.203075</td>\n",
       "      <td>0.000000</td>\n",
       "      <td>...</td>\n",
       "      <td>0.000000</td>\n",
       "      <td>0.001579</td>\n",
       "      <td>0.000526</td>\n",
       "      <td>0.000975</td>\n",
       "      <td>0.000000</td>\n",
       "      <td>-0.000627</td>\n",
       "      <td>-0.000314</td>\n",
       "      <td>0.000000</td>\n",
       "      <td>-0.000105</td>\n",
       "      <td>0.000000</td>\n",
       "    </tr>\n",
       "    <tr>\n",
       "      <th>48</th>\n",
       "      <td>0.000000</td>\n",
       "      <td>-614.227990</td>\n",
       "      <td>-0.020103</td>\n",
       "      <td>0.046881</td>\n",
       "      <td>0.015627</td>\n",
       "      <td>-0.015627</td>\n",
       "      <td>-0.790201</td>\n",
       "      <td>-0.263400</td>\n",
       "      <td>0.263400</td>\n",
       "      <td>0.000000</td>\n",
       "      <td>...</td>\n",
       "      <td>0.000000</td>\n",
       "      <td>0.001964</td>\n",
       "      <td>0.000655</td>\n",
       "      <td>0.001108</td>\n",
       "      <td>0.000000</td>\n",
       "      <td>-0.000586</td>\n",
       "      <td>-0.000293</td>\n",
       "      <td>0.000000</td>\n",
       "      <td>-0.000098</td>\n",
       "      <td>0.000000</td>\n",
       "    </tr>\n",
       "    <tr>\n",
       "      <th>49</th>\n",
       "      <td>-103.501968</td>\n",
       "      <td>-234.562136</td>\n",
       "      <td>-0.230873</td>\n",
       "      <td>-7.321969</td>\n",
       "      <td>-2.440656</td>\n",
       "      <td>2.440656</td>\n",
       "      <td>17.863439</td>\n",
       "      <td>5.954480</td>\n",
       "      <td>-5.954480</td>\n",
       "      <td>-39.255373</td>\n",
       "      <td>...</td>\n",
       "      <td>0.004185</td>\n",
       "      <td>-0.000016</td>\n",
       "      <td>-0.000005</td>\n",
       "      <td>0.000003</td>\n",
       "      <td>-0.022246</td>\n",
       "      <td>-0.000490</td>\n",
       "      <td>-0.000245</td>\n",
       "      <td>-0.007252</td>\n",
       "      <td>-0.000082</td>\n",
       "      <td>-0.003789</td>\n",
       "    </tr>\n",
       "  </tbody>\n",
       "</table>\n",
       "<p>42500 rows × 45 columns</p>\n",
       "</div>"
      ],
      "text/plain": [
       "                   15          16        17        18        19        20   \\\n",
       "data x1 x2                                                                   \n",
       "0    0  0     0.000000    0.000000  0.000000  0.000000  0.000000  0.000000   \n",
       "        1     0.000000    0.000000  0.000000  0.000000  0.000000  0.000000   \n",
       "        2     0.000000    0.000000  0.000000  0.000000  0.000000  0.000000   \n",
       "        3     0.000000    0.000000  0.000000  0.000000  0.000000  0.000000   \n",
       "        4     0.000000    0.000000  0.000000  0.000000  0.000000  0.000000   \n",
       "...                ...         ...       ...       ...       ...       ...   \n",
       "16   49 45    0.000000 -541.888596 -0.028974  0.023911  0.007970 -0.007970   \n",
       "        46    0.000000 -552.215759 -0.021690  0.022467  0.007489 -0.007489   \n",
       "        47    0.000000 -423.142340 -0.025087  0.018254  0.006085 -0.006085   \n",
       "        48    0.000000 -614.227990 -0.020103  0.046881  0.015627 -0.015627   \n",
       "        49 -103.501968 -234.562136 -0.230873 -7.321969 -2.440656  2.440656   \n",
       "\n",
       "                  23        24        25         30   ...       90        93   \\\n",
       "data x1 x2                                            ...                       \n",
       "0    0  0    0.000000  0.000000  0.000000   0.000000  ...  0.000000  0.000000   \n",
       "        1    0.000000  0.000000  0.000000   0.000000  ...  0.000000  0.000000   \n",
       "        2    0.000000  0.000000  0.000000   0.000000  ...  0.000000  0.000000   \n",
       "        3    0.000000  0.000000  0.000000   0.000000  ...  0.000000  0.000000   \n",
       "        4    0.000000  0.000000  0.000000   0.000000  ...  0.000000  0.000000   \n",
       "...               ...       ...       ...        ...  ...       ...       ...   \n",
       "16   49 45  -0.976658 -0.325553  0.325553   0.000000  ...  0.000000  0.002600   \n",
       "        46  -0.860740 -0.286913  0.286913   0.000000  ...  0.000000  0.002238   \n",
       "        47  -0.609224 -0.203075  0.203075   0.000000  ...  0.000000  0.001579   \n",
       "        48  -0.790201 -0.263400  0.263400   0.000000  ...  0.000000  0.001964   \n",
       "        49  17.863439  5.954480 -5.954480 -39.255373  ...  0.004185 -0.000016   \n",
       "\n",
       "                 94        95        135       136       137       150  \\\n",
       "data x1 x2                                                               \n",
       "0    0  0   0.000000  0.000000  0.000000  0.000000  0.000000  0.000000   \n",
       "        1   0.000000  0.000000  0.000000  0.000000  0.000000  0.000000   \n",
       "        2   0.000000  0.000000  0.000000  0.000000  0.000000  0.000000   \n",
       "        3   0.000000  0.000000  0.000000  0.000000  0.000000  0.000000   \n",
       "        4   0.000000  0.000000  0.000000  0.000000  0.000000  0.000000   \n",
       "...              ...       ...       ...       ...       ...       ...   \n",
       "16   49 45  0.000867  0.001783  0.000000 -0.001434 -0.000717  0.000000   \n",
       "        46  0.000746  0.001412  0.000000 -0.000961 -0.000480  0.000000   \n",
       "        47  0.000526  0.000975  0.000000 -0.000627 -0.000314  0.000000   \n",
       "        48  0.000655  0.001108  0.000000 -0.000586 -0.000293  0.000000   \n",
       "        49 -0.000005  0.000003 -0.022246 -0.000490 -0.000245 -0.007252   \n",
       "\n",
       "                 151       165  \n",
       "data x1 x2                      \n",
       "0    0  0   0.000000  0.000000  \n",
       "        1   0.000000  0.000000  \n",
       "        2   0.000000  0.000000  \n",
       "        3   0.000000  0.000000  \n",
       "        4   0.000000  0.000000  \n",
       "...              ...       ...  \n",
       "16   49 45 -0.000239  0.000000  \n",
       "        46 -0.000160  0.000000  \n",
       "        47 -0.000105  0.000000  \n",
       "        48 -0.000098  0.000000  \n",
       "        49 -0.000082 -0.003789  \n",
       "\n",
       "[42500 rows x 45 columns]"
      ]
     },
     "execution_count": 10,
     "metadata": {},
     "output_type": "execute_result"
    }
   ],
   "source": [
    "fk.sigma"
   ]
  },
  {
   "cell_type": "code",
   "execution_count": 11,
   "id": "279959a4",
   "metadata": {},
   "outputs": [
    {
     "data": {
      "text/plain": [
       "(17, 45, 50, 50)"
      ]
     },
     "execution_count": 11,
     "metadata": {},
     "output_type": "execute_result"
    }
   ],
   "source": [
    "fk.get_np_fktable().shape"
   ]
  },
  {
   "cell_type": "code",
   "execution_count": 12,
   "id": "11501ca4",
   "metadata": {},
   "outputs": [],
   "source": [
    "ds = datasets[0]"
   ]
  },
  {
   "cell_type": "code",
   "execution_count": 13,
   "id": "4662e973",
   "metadata": {},
   "outputs": [],
   "source": [
    "from validphys import convolution\n",
    "from validphys import covmats\n",
    "\n",
    "import jax.scipy.linalg as jla\n"
   ]
  },
  {
   "cell_type": "code",
   "execution_count": 14,
   "id": "199a0c99",
   "metadata": {},
   "outputs": [],
   "source": [
    "# TODO: Is this needed?\n",
    "OP = {k: jax.jit(v) for k,v in convolution.OP.items()}"
   ]
  },
  {
   "cell_type": "code",
   "execution_count": 15,
   "id": "71fa8b05",
   "metadata": {},
   "outputs": [
    {
     "name": "stderr",
     "output_type": "stream",
     "text": [
      "No GPU/TPU found, falling back to CPU. (Set TF_CPP_MIN_LOG_LEVEL=0 and rerun for more info.)\n"
     ]
    }
   ],
   "source": [
    "rng = jax.random.PRNGKey(0xDEADBEEF)"
   ]
  },
  {
   "cell_type": "code",
   "execution_count": 16,
   "id": "685f9a88",
   "metadata": {},
   "outputs": [
    {
     "name": "stdout",
     "output_type": "stream",
     "text": [
      "LHAPDF 6.4.0 loading all 101 PDFs in set NNPDF40_nlo_as_01180\n",
      "NNPDF40_nlo_as_01180, version 1; 101 PDF members\n"
     ]
    }
   ],
   "source": [
    "#pdf_base = jax.random.normal(rng, shape=(14,50))\n",
    "\n",
    "from validphys.pdfbases import evolution\n",
    "from validphys.core import PDFSETS\n",
    "pdf = PDFSETS.NNPDF40_nlo_as_01180\n",
    "INPUT_GRID = evolution.grid_values(pdf, convolution.FK_FLAVOURS, xx[0], [1.65]).squeeze(-1)\n",
    "weight_base_num = jax.random.normal(rng, shape=(INPUT_GRID.shape[0],))\n",
    "weight_base = weight_base_num/jnp.sum(weight_base_num)"
   ]
  },
  {
   "cell_type": "code",
   "execution_count": 17,
   "id": "eff3c317",
   "metadata": {},
   "outputs": [],
   "source": [
    "def make_dis_prediction(fk):\n",
    "    indices = fk.luminosity_mapping\n",
    "    fk_arr = jnp.array(fk.get_np_fktable())\n",
    "    @jax.jit\n",
    "    def dis_prediction(pdf):\n",
    "        return jnp.einsum(\"ijk, jk ->i\", fk_arr, pdf[indices, :])\n",
    "    return dis_prediction\n",
    "    \n",
    "    \n",
    "def make_had_prediction(fk):\n",
    "    indices = fk.luminosity_mapping\n",
    "    first_indices = indices[0::2]\n",
    "    second_indices = indices[1::2]\n",
    "    fk_arr = jnp.array(fk.get_np_fktable())\n",
    "    @jax.jit\n",
    "    def had_prediction(pdf):\n",
    "        return jnp.einsum(\"ijkl,jk,jl->i\", fk_arr, pdf[first_indices,:], pdf[second_indices,:])\n",
    "    return had_prediction\n",
    "\n",
    "\n",
    "def make_pred(ds):\n",
    "    \n",
    "    pred_funcs = []\n",
    "    \n",
    "    for fkspec in ds.fkspecs:\n",
    "        fk = load_fktable(fkspec).with_cuts(ds.cuts)\n",
    "        if fk.hadronic:\n",
    "            pred = make_had_prediction(fk)\n",
    "        else:\n",
    "            pred = make_dis_prediction(fk)\n",
    "        pred_funcs.append(pred)\n",
    "    @jax.jit\n",
    "    def prediction(pdf):\n",
    "        return OP[ds.op](*[f(pdf) for f in pred_funcs])\n",
    "    \n",
    "    return prediction\n",
    "            \n",
    "    "
   ]
  },
  {
   "cell_type": "code",
   "execution_count": 18,
   "id": "675e4fa1",
   "metadata": {},
   "outputs": [],
   "source": [
    "def make_chi2(ds):\n",
    "    cd = load_commondata(ds.commondata).with_cuts(ds.cuts)\n",
    "\n",
    "    central_value = jnp.array(cd.central_values)\n",
    "\n",
    "    covmat = covmats.covmat_from_systematics(cd, dataset_input=ds)\n",
    "\n",
    "\n",
    "\n",
    "    sqrt_covmat = jnp.array(covmats.sqrt_covmat(covmat))\n",
    "\n",
    "    \n",
    "    \n",
    "    pred = make_pred(ds)\n",
    "    \n",
    "    \n",
    "    @jax.jit\n",
    "    def chi2(pdf):\n",
    "        \n",
    "        diff = pred(pdf) - central_value\n",
    "        chi2_vec = jla.solve_triangular(sqrt_covmat, diff, lower=True)\n",
    "        return jnp.sum(chi2_vec**2)\n",
    "    \n",
    "    return chi2"
   ]
  },
  {
   "cell_type": "code",
   "execution_count": 19,
   "id": "797e7e7c",
   "metadata": {},
   "outputs": [],
   "source": [
    "chi2_contribs = [make_chi2(ds) for ds in datasets]\n",
    "    \n",
    "    \n",
    "    "
   ]
  },
  {
   "cell_type": "code",
   "execution_count": 20,
   "id": "fb6a198f",
   "metadata": {},
   "outputs": [],
   "source": [
    "#TODO: make this work compiled??\n",
    "def loss_batch(pdf, contribs):\n",
    "    return sum([cont(pdf) for cont in contribs])"
   ]
  },
  {
   "cell_type": "code",
   "execution_count": null,
   "id": "d353f8f1",
   "metadata": {},
   "outputs": [],
   "source": []
  },
  {
   "cell_type": "code",
   "execution_count": 21,
   "id": "97030a37",
   "metadata": {},
   "outputs": [],
   "source": [
    "@jax.jit\n",
    "def loss(weights):\n",
    "    pdf = jnp.einsum(\"i,ijk\", weights, INPUT_GRID)\n",
    "    return sum([cont(pdf) for cont in chi2_contribs])\n",
    "    "
   ]
  },
  {
   "cell_type": "code",
   "execution_count": 22,
   "id": "80205628",
   "metadata": {},
   "outputs": [
    {
     "data": {
      "text/plain": [
       "Array(5888.8696, dtype=float32)"
      ]
     },
     "execution_count": 22,
     "metadata": {},
     "output_type": "execute_result"
    }
   ],
   "source": [
    "loss(jnp.eye(1, 101)[0,:])"
   ]
  },
  {
   "cell_type": "code",
   "execution_count": 23,
   "id": "dee90b54",
   "metadata": {},
   "outputs": [
    {
     "data": {
      "text/plain": [
       "Array(5774.73, dtype=float32)"
      ]
     },
     "execution_count": 23,
     "metadata": {},
     "output_type": "execute_result"
    }
   ],
   "source": [
    "loss(weight_base)"
   ]
  },
  {
   "cell_type": "code",
   "execution_count": 26,
   "id": "cab9259a",
   "metadata": {},
   "outputs": [],
   "source": [
    "grad = jax.grad(loss)(weight_base);"
   ]
  },
  {
   "cell_type": "code",
   "execution_count": 67,
   "id": "055973b2",
   "metadata": {},
   "outputs": [],
   "source": [
    "import random"
   ]
  },
  {
   "cell_type": "code",
   "execution_count": 34,
   "id": "0e459637",
   "metadata": {},
   "outputs": [],
   "source": [
    "#batch_size = len(datasets)\n",
    "\n",
    "momentum_mass = 0.9\n",
    "\n",
    "step_size = 1e-8\n",
    "\n",
    "num_epochs = 500\n",
    "\n",
    "#num_complete_batches, leftover = divmod(len(chi2_contribs), batch_size)\n",
    "#num_batches = num_complete_batches + bool(leftover)\n",
    "\n",
    "opt_init, opt_update, get_params = optimizers.momentum(step_size, mass=momentum_mass)\n",
    "\n",
    "\n"
   ]
  },
  {
   "cell_type": "code",
   "execution_count": 35,
   "id": "d6a0350a",
   "metadata": {},
   "outputs": [],
   "source": [
    "#def batch_stream():\n",
    "#    state = random.Random(0)\n",
    "#    while True:\n",
    "#        permutation = state.sample(chi2_contribs, len(chi2_contribs))\n",
    "#        for i in range(num_batches):\n",
    "#            yield permutation[i*batch_size: (i+1)*batch_size]"
   ]
  },
  {
   "cell_type": "code",
   "execution_count": 36,
   "id": "7cd7e6cd",
   "metadata": {},
   "outputs": [],
   "source": [
    "@jax.jit\n",
    "def update(i, opt_state, \n",
    "          # batch\n",
    "          ):\n",
    "    params = get_params(opt_state)\n",
    "    return opt_update(i, jax.grad(loss)(params, \n",
    "                      #                  batch\n",
    "                                       ), \n",
    "                      opt_state)"
   ]
  },
  {
   "cell_type": "code",
   "execution_count": 37,
   "id": "3a412c01",
   "metadata": {},
   "outputs": [
    {
     "name": "stdout",
     "output_type": "stream",
     "text": [
      "Epoch 0, loss 5774.73\n",
      "Epoch 1, loss 5637.1465\n",
      "Epoch 2, loss 5773.9424\n",
      "Epoch 3, loss 5697.7686\n",
      "Epoch 4, loss 5652.025\n",
      "Epoch 5, loss 5745.862\n",
      "Epoch 6, loss 5649.256\n",
      "Epoch 7, loss 5671.158\n",
      "Epoch 8, loss 5706.11\n",
      "Epoch 9, loss 5631.47\n",
      "Epoch 10, loss 5676.631\n",
      "Epoch 11, loss 5669.4014\n",
      "Epoch 12, loss 5628.8423\n",
      "Epoch 13, loss 5671.537\n",
      "Epoch 14, loss 5642.8706\n",
      "Epoch 15, loss 5631.9043\n",
      "Epoch 16, loss 5658.566\n",
      "Epoch 17, loss 5626.365\n",
      "Epoch 18, loss 5634.9004\n",
      "Epoch 19, loss 5642.7627\n",
      "Epoch 20, loss 5618.9263\n",
      "Epoch 21, loss 5633.581\n",
      "Epoch 22, loss 5628.4556\n",
      "Epoch 23, loss 5616.1196\n",
      "Epoch 24, loss 5628.6978\n",
      "Epoch 25, loss 5617.691\n",
      "Epoch 26, loss 5614.73\n",
      "Epoch 27, loss 5621.524\n",
      "Epoch 28, loss 5610.3267\n",
      "Epoch 29, loss 5612.9355\n",
      "Epoch 30, loss 5613.7695\n",
      "Epoch 31, loss 5605.675\n",
      "Epoch 32, loss 5609.766\n",
      "Epoch 33, loss 5606.675\n",
      "Epoch 34, loss 5602.3833\n",
      "Epoch 35, loss 5605.432\n",
      "Epoch 36, loss 5600.802\n",
      "Epoch 37, loss 5599.4365\n",
      "Epoch 38, loss 5600.482\n",
      "Epoch 39, loss 5596.0586\n",
      "Epoch 40, loss 5596.2734\n",
      "Epoch 41, loss 5595.4233\n",
      "Epoch 42, loss 5592.1416\n",
      "Epoch 43, loss 5592.662\n",
      "Epoch 44, loss 5590.658\n",
      "Epoch 45, loss 5588.6133\n",
      "Epoch 46, loss 5588.703\n",
      "Epoch 47, loss 5586.312\n",
      "Epoch 48, loss 5585.178\n",
      "Epoch 49, loss 5584.582\n",
      "Epoch 50, loss 5582.3423\n",
      "Epoch 51, loss 5581.646\n",
      "Epoch 52, loss 5580.4634\n",
      "Epoch 53, loss 5578.636\n",
      "Epoch 54, loss 5577.99\n",
      "Epoch 55, loss 5576.477\n",
      "Epoch 56, loss 5575.057\n",
      "Epoch 57, loss 5574.2305\n",
      "Epoch 58, loss 5572.6343\n",
      "Epoch 59, loss 5571.494\n",
      "Epoch 60, loss 5570.4507\n",
      "Epoch 61, loss 5568.9224\n",
      "Epoch 62, loss 5567.906\n",
      "Epoch 63, loss 5566.6875\n",
      "Epoch 64, loss 5565.3057\n",
      "Epoch 65, loss 5564.2915\n",
      "Epoch 66, loss 5562.975\n",
      "Epoch 67, loss 5561.735\n",
      "Epoch 68, loss 5560.6616\n",
      "Epoch 69, loss 5559.333\n",
      "Epoch 70, loss 5558.1807\n",
      "Epoch 71, loss 5557.0317\n",
      "Epoch 72, loss 5555.7456\n",
      "Epoch 73, loss 5554.6177\n",
      "Epoch 74, loss 5553.4185\n",
      "Epoch 75, loss 5552.186\n",
      "Epoch 76, loss 5551.0723\n",
      "Epoch 77, loss 5549.8477\n",
      "Epoch 78, loss 5548.652\n",
      "Epoch 79, loss 5547.511\n",
      "Epoch 80, loss 5546.3022\n",
      "Epoch 81, loss 5545.146\n",
      "Epoch 82, loss 5543.985\n",
      "Epoch 83, loss 5542.792\n",
      "Epoch 84, loss 5541.6416\n",
      "Epoch 85, loss 5540.4653\n",
      "Epoch 86, loss 5539.296\n",
      "Epoch 87, loss 5538.1543\n",
      "Epoch 88, loss 5536.9785\n",
      "Epoch 89, loss 5535.8164\n",
      "Epoch 90, loss 5534.67\n",
      "Epoch 91, loss 5533.5034\n",
      "Epoch 92, loss 5532.3613\n",
      "Epoch 93, loss 5531.214\n",
      "Epoch 94, loss 5530.054\n",
      "Epoch 95, loss 5528.916\n",
      "Epoch 96, loss 5527.7715\n",
      "Epoch 97, loss 5526.6245\n",
      "Epoch 98, loss 5525.4863\n",
      "Epoch 99, loss 5524.3506\n",
      "Epoch 100, loss 5523.208\n",
      "Epoch 101, loss 5522.083\n",
      "Epoch 102, loss 5520.939\n",
      "Epoch 103, loss 5519.811\n",
      "Epoch 104, loss 5518.6763\n",
      "Epoch 105, loss 5517.553\n",
      "Epoch 106, loss 5516.4253\n",
      "Epoch 107, loss 5515.2993\n",
      "Epoch 108, loss 5514.181\n",
      "Epoch 109, loss 5513.066\n",
      "Epoch 110, loss 5511.9443\n",
      "Epoch 111, loss 5510.827\n",
      "Epoch 112, loss 5509.714\n",
      "Epoch 113, loss 5508.597\n",
      "Epoch 114, loss 5507.481\n",
      "Epoch 115, loss 5506.3643\n",
      "Epoch 116, loss 5505.2617\n",
      "Epoch 117, loss 5504.158\n",
      "Epoch 118, loss 5503.0513\n",
      "Epoch 119, loss 5501.949\n",
      "Epoch 120, loss 5500.8433\n",
      "Epoch 121, loss 5499.7466\n",
      "Epoch 122, loss 5498.6504\n",
      "Epoch 123, loss 5497.5547\n",
      "Epoch 124, loss 5496.465\n",
      "Epoch 125, loss 5495.367\n",
      "Epoch 126, loss 5494.2764\n",
      "Epoch 127, loss 5493.184\n",
      "Epoch 128, loss 5492.1055\n",
      "Epoch 129, loss 5491.017\n",
      "Epoch 130, loss 5489.933\n",
      "Epoch 131, loss 5488.8516\n",
      "Epoch 132, loss 5487.77\n",
      "Epoch 133, loss 5486.6963\n",
      "Epoch 134, loss 5485.612\n",
      "Epoch 135, loss 5484.5376\n",
      "Epoch 136, loss 5483.467\n",
      "Epoch 137, loss 5482.397\n",
      "Epoch 138, loss 5481.324\n",
      "Epoch 139, loss 5480.2593\n",
      "Epoch 140, loss 5479.192\n",
      "Epoch 141, loss 5478.13\n",
      "Epoch 142, loss 5477.061\n",
      "Epoch 143, loss 5476.008\n",
      "Epoch 144, loss 5474.9453\n",
      "Epoch 145, loss 5473.8877\n",
      "Epoch 146, loss 5472.8364\n",
      "Epoch 147, loss 5471.779\n",
      "Epoch 148, loss 5470.727\n",
      "Epoch 149, loss 5469.673\n",
      "Epoch 150, loss 5468.622\n",
      "Epoch 151, loss 5467.5693\n",
      "Epoch 152, loss 5466.532\n",
      "Epoch 153, loss 5465.484\n",
      "Epoch 154, loss 5464.4395\n",
      "Epoch 155, loss 5463.398\n",
      "Epoch 156, loss 5462.3677\n",
      "Epoch 157, loss 5461.3296\n",
      "Epoch 158, loss 5460.2905\n",
      "Epoch 159, loss 5459.253\n",
      "Epoch 160, loss 5458.2256\n",
      "Epoch 161, loss 5457.185\n",
      "Epoch 162, loss 5456.1504\n",
      "Epoch 163, loss 5455.128\n",
      "Epoch 164, loss 5454.1094\n",
      "Epoch 165, loss 5453.088\n",
      "Epoch 166, loss 5452.063\n",
      "Epoch 167, loss 5451.037\n",
      "Epoch 168, loss 5450.0283\n",
      "Epoch 169, loss 5449.0024\n",
      "Epoch 170, loss 5447.9917\n",
      "Epoch 171, loss 5446.9736\n",
      "Epoch 172, loss 5445.9614\n",
      "Epoch 173, loss 5444.952\n",
      "Epoch 174, loss 5443.937\n",
      "Epoch 175, loss 5442.9336\n",
      "Epoch 176, loss 5441.927\n",
      "Epoch 177, loss 5440.92\n",
      "Epoch 178, loss 5439.919\n",
      "Epoch 179, loss 5438.9155\n",
      "Epoch 180, loss 5437.9165\n",
      "Epoch 181, loss 5436.922\n",
      "Epoch 182, loss 5435.922\n",
      "Epoch 183, loss 5434.928\n",
      "Epoch 184, loss 5433.9346\n",
      "Epoch 185, loss 5432.933\n",
      "Epoch 186, loss 5431.9453\n",
      "Epoch 187, loss 5430.9536\n",
      "Epoch 188, loss 5429.969\n",
      "Epoch 189, loss 5428.9863\n",
      "Epoch 190, loss 5428.0054\n",
      "Epoch 191, loss 5427.0244\n",
      "Epoch 192, loss 5426.047\n",
      "Epoch 193, loss 5425.061\n",
      "Epoch 194, loss 5424.0884\n",
      "Epoch 195, loss 5423.111\n",
      "Epoch 196, loss 5422.134\n",
      "Epoch 197, loss 5421.166\n",
      "Epoch 198, loss 5420.189\n",
      "Epoch 199, loss 5419.218\n",
      "Epoch 200, loss 5418.246\n",
      "Epoch 201, loss 5417.2803\n",
      "Epoch 202, loss 5416.315\n",
      "Epoch 203, loss 5415.3604\n",
      "Epoch 204, loss 5414.395\n",
      "Epoch 205, loss 5413.4346\n",
      "Epoch 206, loss 5412.476\n",
      "Epoch 207, loss 5411.521\n",
      "Epoch 208, loss 5410.568\n",
      "Epoch 209, loss 5409.613\n",
      "Epoch 210, loss 5408.6567\n",
      "Epoch 211, loss 5407.7065\n",
      "Epoch 212, loss 5406.7544\n",
      "Epoch 213, loss 5405.807\n",
      "Epoch 214, loss 5404.8604\n",
      "Epoch 215, loss 5403.921\n",
      "Epoch 216, loss 5402.968\n",
      "Epoch 217, loss 5402.024\n",
      "Epoch 218, loss 5401.088\n",
      "Epoch 219, loss 5400.149\n",
      "Epoch 220, loss 5399.214\n",
      "Epoch 221, loss 5398.2754\n",
      "Epoch 222, loss 5397.3394\n",
      "Epoch 223, loss 5396.405\n",
      "Epoch 224, loss 5395.468\n",
      "Epoch 225, loss 5394.543\n",
      "Epoch 226, loss 5393.614\n",
      "Epoch 227, loss 5392.685\n",
      "Epoch 228, loss 5391.758\n",
      "Epoch 229, loss 5390.831\n",
      "Epoch 230, loss 5389.9067\n",
      "Epoch 231, loss 5388.996\n",
      "Epoch 232, loss 5388.0703\n",
      "Epoch 233, loss 5387.153\n",
      "Epoch 234, loss 5386.231\n",
      "Epoch 235, loss 5385.314\n",
      "Epoch 236, loss 5384.399\n",
      "Epoch 237, loss 5383.4893\n",
      "Epoch 238, loss 5382.5786\n",
      "Epoch 239, loss 5381.6724\n",
      "Epoch 240, loss 5380.7646\n",
      "Epoch 241, loss 5379.864\n",
      "Epoch 242, loss 5378.9478\n",
      "Epoch 243, loss 5378.0474\n",
      "Epoch 244, loss 5377.1436\n",
      "Epoch 245, loss 5376.2407\n",
      "Epoch 246, loss 5375.3477\n",
      "Epoch 247, loss 5374.449\n",
      "Epoch 248, loss 5373.548\n",
      "Epoch 249, loss 5372.65\n",
      "Epoch 250, loss 5371.766\n",
      "Epoch 251, loss 5370.8687\n",
      "Epoch 252, loss 5369.9756\n",
      "Epoch 253, loss 5369.0884\n",
      "Epoch 254, loss 5368.2017\n",
      "Epoch 255, loss 5367.312\n",
      "Epoch 256, loss 5366.4277\n",
      "Epoch 257, loss 5365.5435\n",
      "Epoch 258, loss 5364.6626\n",
      "Epoch 259, loss 5363.781\n",
      "Epoch 260, loss 5362.8994\n",
      "Epoch 261, loss 5362.025\n",
      "Epoch 262, loss 5361.1436\n",
      "Epoch 263, loss 5360.265\n",
      "Epoch 264, loss 5359.3945\n",
      "Epoch 265, loss 5358.5254\n",
      "Epoch 266, loss 5357.6514\n",
      "Epoch 267, loss 5356.782\n",
      "Epoch 268, loss 5355.911\n",
      "Epoch 269, loss 5355.0386\n",
      "Epoch 270, loss 5354.176\n",
      "Epoch 271, loss 5353.312\n",
      "Epoch 272, loss 5352.4507\n",
      "Epoch 273, loss 5351.5864\n",
      "Epoch 274, loss 5350.7275\n",
      "Epoch 275, loss 5349.8687\n",
      "Epoch 276, loss 5349.013\n",
      "Epoch 277, loss 5348.1543\n",
      "Epoch 278, loss 5347.308\n",
      "Epoch 279, loss 5346.4463\n",
      "Epoch 280, loss 5345.6\n",
      "Epoch 281, loss 5344.741\n",
      "Epoch 282, loss 5343.8975\n",
      "Epoch 283, loss 5343.0405\n",
      "Epoch 284, loss 5342.196\n",
      "Epoch 285, loss 5341.356\n",
      "Epoch 286, loss 5340.508\n",
      "Epoch 287, loss 5339.6616\n",
      "Epoch 288, loss 5338.8247\n",
      "Epoch 289, loss 5337.987\n",
      "Epoch 290, loss 5337.1523\n",
      "Epoch 291, loss 5336.311\n",
      "Epoch 292, loss 5335.473\n",
      "Epoch 293, loss 5334.639\n",
      "Epoch 294, loss 5333.8027\n",
      "Epoch 295, loss 5332.968\n",
      "Epoch 296, loss 5332.1387\n",
      "Epoch 297, loss 5331.315\n",
      "Epoch 298, loss 5330.4854\n",
      "Epoch 299, loss 5329.66\n",
      "Epoch 300, loss 5328.8354\n",
      "Epoch 301, loss 5328.012\n",
      "Epoch 302, loss 5327.1914\n",
      "Epoch 303, loss 5326.367\n",
      "Epoch 304, loss 5325.541\n",
      "Epoch 305, loss 5324.7227\n",
      "Epoch 306, loss 5323.905\n",
      "Epoch 307, loss 5323.0864\n",
      "Epoch 308, loss 5322.276\n",
      "Epoch 309, loss 5321.4585\n",
      "Epoch 310, loss 5320.6465\n",
      "Epoch 311, loss 5319.831\n",
      "Epoch 312, loss 5319.0303\n",
      "Epoch 313, loss 5318.2163\n",
      "Epoch 314, loss 5317.407\n",
      "Epoch 315, loss 5316.599\n",
      "Epoch 316, loss 5315.7954\n",
      "Epoch 317, loss 5314.9937\n",
      "Epoch 318, loss 5314.189\n",
      "Epoch 319, loss 5313.39\n",
      "Epoch 320, loss 5312.591\n",
      "Epoch 321, loss 5311.7964\n",
      "Epoch 322, loss 5310.9995\n",
      "Epoch 323, loss 5310.1987\n",
      "Epoch 324, loss 5309.3994\n",
      "Epoch 325, loss 5308.6064\n",
      "Epoch 326, loss 5307.819\n",
      "Epoch 327, loss 5307.03\n",
      "Epoch 328, loss 5306.241\n"
     ]
    },
    {
     "name": "stdout",
     "output_type": "stream",
     "text": [
      "Epoch 329, loss 5305.4478\n",
      "Epoch 330, loss 5304.669\n",
      "Epoch 331, loss 5303.8813\n",
      "Epoch 332, loss 5303.095\n",
      "Epoch 333, loss 5302.3057\n",
      "Epoch 334, loss 5301.528\n",
      "Epoch 335, loss 5300.754\n",
      "Epoch 336, loss 5299.9634\n",
      "Epoch 337, loss 5299.183\n",
      "Epoch 338, loss 5298.4106\n",
      "Epoch 339, loss 5297.6357\n",
      "Epoch 340, loss 5296.859\n",
      "Epoch 341, loss 5296.085\n",
      "Epoch 342, loss 5295.316\n",
      "Epoch 343, loss 5294.542\n",
      "Epoch 344, loss 5293.77\n",
      "Epoch 345, loss 5293.001\n",
      "Epoch 346, loss 5292.231\n",
      "Epoch 347, loss 5291.4634\n",
      "Epoch 348, loss 5290.705\n",
      "Epoch 349, loss 5289.939\n",
      "Epoch 350, loss 5289.1797\n",
      "Epoch 351, loss 5288.4062\n",
      "Epoch 352, loss 5287.6514\n",
      "Epoch 353, loss 5286.8867\n",
      "Epoch 354, loss 5286.1357\n",
      "Epoch 355, loss 5285.375\n",
      "Epoch 356, loss 5284.62\n",
      "Epoch 357, loss 5283.8647\n",
      "Epoch 358, loss 5283.1167\n",
      "Epoch 359, loss 5282.366\n",
      "Epoch 360, loss 5281.608\n",
      "Epoch 361, loss 5280.8647\n",
      "Epoch 362, loss 5280.1187\n",
      "Epoch 363, loss 5279.373\n",
      "Epoch 364, loss 5278.625\n",
      "Epoch 365, loss 5277.8774\n",
      "Epoch 366, loss 5277.134\n",
      "Epoch 367, loss 5276.393\n",
      "Epoch 368, loss 5275.6475\n",
      "Epoch 369, loss 5274.9097\n",
      "Epoch 370, loss 5274.1685\n",
      "Epoch 371, loss 5273.4326\n",
      "Epoch 372, loss 5272.6963\n",
      "Epoch 373, loss 5271.9575\n",
      "Epoch 374, loss 5271.226\n",
      "Epoch 375, loss 5270.4966\n",
      "Epoch 376, loss 5269.7544\n",
      "Epoch 377, loss 5269.0293\n",
      "Epoch 378, loss 5268.3013\n",
      "Epoch 379, loss 5267.5728\n",
      "Epoch 380, loss 5266.8433\n",
      "Epoch 381, loss 5266.115\n",
      "Epoch 382, loss 5265.3955\n",
      "Epoch 383, loss 5264.672\n",
      "Epoch 384, loss 5263.949\n",
      "Epoch 385, loss 5263.222\n",
      "Epoch 386, loss 5262.5044\n",
      "Epoch 387, loss 5261.7856\n",
      "Epoch 388, loss 5261.0664\n",
      "Epoch 389, loss 5260.3506\n",
      "Epoch 390, loss 5259.6357\n",
      "Epoch 391, loss 5258.922\n",
      "Epoch 392, loss 5258.204\n",
      "Epoch 393, loss 5257.494\n",
      "Epoch 394, loss 5256.7847\n",
      "Epoch 395, loss 5256.073\n",
      "Epoch 396, loss 5255.3677\n",
      "Epoch 397, loss 5254.658\n",
      "Epoch 398, loss 5253.947\n",
      "Epoch 399, loss 5253.246\n",
      "Epoch 400, loss 5252.535\n",
      "Epoch 401, loss 5251.831\n",
      "Epoch 402, loss 5251.128\n",
      "Epoch 403, loss 5250.427\n",
      "Epoch 404, loss 5249.7256\n",
      "Epoch 405, loss 5249.0254\n",
      "Epoch 406, loss 5248.329\n",
      "Epoch 407, loss 5247.632\n",
      "Epoch 408, loss 5246.935\n",
      "Epoch 409, loss 5246.241\n",
      "Epoch 410, loss 5245.5483\n",
      "Epoch 411, loss 5244.857\n",
      "Epoch 412, loss 5244.1636\n",
      "Epoch 413, loss 5243.481\n",
      "Epoch 414, loss 5242.7876\n",
      "Epoch 415, loss 5242.099\n",
      "Epoch 416, loss 5241.412\n",
      "Epoch 417, loss 5240.722\n",
      "Epoch 418, loss 5240.0327\n",
      "Epoch 419, loss 5239.3525\n",
      "Epoch 420, loss 5238.6694\n",
      "Epoch 421, loss 5237.9863\n",
      "Epoch 422, loss 5237.306\n",
      "Epoch 423, loss 5236.625\n",
      "Epoch 424, loss 5235.95\n",
      "Epoch 425, loss 5235.274\n",
      "Epoch 426, loss 5234.5884\n",
      "Epoch 427, loss 5233.9224\n",
      "Epoch 428, loss 5233.245\n",
      "Epoch 429, loss 5232.5728\n",
      "Epoch 430, loss 5231.9023\n",
      "Epoch 431, loss 5231.2266\n",
      "Epoch 432, loss 5230.5605\n",
      "Epoch 433, loss 5229.889\n",
      "Epoch 434, loss 5229.2197\n",
      "Epoch 435, loss 5228.551\n",
      "Epoch 436, loss 5227.886\n",
      "Epoch 437, loss 5227.221\n",
      "Epoch 438, loss 5226.558\n",
      "Epoch 439, loss 5225.9\n",
      "Epoch 440, loss 5225.2363\n",
      "Epoch 441, loss 5224.5703\n",
      "Epoch 442, loss 5223.911\n",
      "Epoch 443, loss 5223.255\n",
      "Epoch 444, loss 5222.5933\n",
      "Epoch 445, loss 5221.9434\n",
      "Epoch 446, loss 5221.283\n",
      "Epoch 447, loss 5220.624\n",
      "Epoch 448, loss 5219.971\n",
      "Epoch 449, loss 5219.313\n",
      "Epoch 450, loss 5218.672\n",
      "Epoch 451, loss 5218.0176\n",
      "Epoch 452, loss 5217.371\n",
      "Epoch 453, loss 5216.7227\n",
      "Epoch 454, loss 5216.0786\n",
      "Epoch 455, loss 5215.4297\n",
      "Epoch 456, loss 5214.785\n",
      "Epoch 457, loss 5214.1387\n",
      "Epoch 458, loss 5213.4966\n",
      "Epoch 459, loss 5212.849\n",
      "Epoch 460, loss 5212.2124\n",
      "Epoch 461, loss 5211.573\n",
      "Epoch 462, loss 5210.9336\n",
      "Epoch 463, loss 5210.2974\n",
      "Epoch 464, loss 5209.655\n",
      "Epoch 465, loss 5209.0176\n",
      "Epoch 466, loss 5208.3813\n",
      "Epoch 467, loss 5207.7495\n",
      "Epoch 468, loss 5207.116\n",
      "Epoch 469, loss 5206.4844\n",
      "Epoch 470, loss 5205.842\n",
      "Epoch 471, loss 5205.2188\n",
      "Epoch 472, loss 5204.584\n",
      "Epoch 473, loss 5203.958\n",
      "Epoch 474, loss 5203.3257\n",
      "Epoch 475, loss 5202.701\n",
      "Epoch 476, loss 5202.079\n",
      "Epoch 477, loss 5201.459\n",
      "Epoch 478, loss 5200.8315\n",
      "Epoch 479, loss 5200.209\n",
      "Epoch 480, loss 5199.5923\n",
      "Epoch 481, loss 5198.9707\n",
      "Epoch 482, loss 5198.3447\n",
      "Epoch 483, loss 5197.7295\n",
      "Epoch 484, loss 5197.113\n",
      "Epoch 485, loss 5196.495\n",
      "Epoch 486, loss 5195.877\n",
      "Epoch 487, loss 5195.268\n",
      "Epoch 488, loss 5194.653\n",
      "Epoch 489, loss 5194.037\n",
      "Epoch 490, loss 5193.427\n",
      "Epoch 491, loss 5192.812\n",
      "Epoch 492, loss 5192.2065\n",
      "Epoch 493, loss 5191.5967\n",
      "Epoch 494, loss 5190.9873\n",
      "Epoch 495, loss 5190.3804\n",
      "Epoch 496, loss 5189.7754\n",
      "Epoch 497, loss 5189.164\n",
      "Epoch 498, loss 5188.5625\n",
      "Epoch 499, loss 5187.9604\n"
     ]
    }
   ],
   "source": [
    "#batch_iter = batch_stream()\n",
    "opt_counter = itertools.count()\n",
    "opt_state = opt_init(weight_base)\n",
    "\n",
    "for epoch in range(num_epochs):\n",
    "    print(f\"Epoch {epoch}, loss\", \n",
    "          loss(get_params(opt_state)) \n",
    "    )\n",
    "    #for _ in range(num_batches):\n",
    "        #batch = next(batch_iter)\n",
    "    opt_state = update(next(opt_counter), opt_state, \n",
    "                          # batch\n",
    "                          )\n",
    "        \n"
   ]
  },
  {
   "cell_type": "code",
   "execution_count": 38,
   "id": "605e4d70",
   "metadata": {},
   "outputs": [
    {
     "name": "stdout",
     "output_type": "stream",
     "text": [
      "Epoch 500, loss 5187.3584\n",
      "Epoch 501, loss 5186.757\n",
      "Epoch 502, loss 5186.153\n",
      "Epoch 503, loss 5185.5596\n",
      "Epoch 504, loss 5184.955\n",
      "Epoch 505, loss 5184.36\n",
      "Epoch 506, loss 5183.7617\n",
      "Epoch 507, loss 5183.1646\n",
      "Epoch 508, loss 5182.57\n",
      "Epoch 509, loss 5181.9766\n",
      "Epoch 510, loss 5181.382\n",
      "Epoch 511, loss 5180.7856\n",
      "Epoch 512, loss 5180.195\n",
      "Epoch 513, loss 5179.611\n",
      "Epoch 514, loss 5179.0166\n",
      "Epoch 515, loss 5178.4287\n",
      "Epoch 516, loss 5177.839\n",
      "Epoch 517, loss 5177.261\n",
      "Epoch 518, loss 5176.6733\n",
      "Epoch 519, loss 5176.085\n",
      "Epoch 520, loss 5175.4985\n",
      "Epoch 521, loss 5174.921\n",
      "Epoch 522, loss 5174.3374\n",
      "Epoch 523, loss 5173.7515\n",
      "Epoch 524, loss 5173.1733\n",
      "Epoch 525, loss 5172.595\n",
      "Epoch 526, loss 5172.0166\n",
      "Epoch 527, loss 5171.4336\n",
      "Epoch 528, loss 5170.862\n",
      "Epoch 529, loss 5170.2876\n",
      "Epoch 530, loss 5169.706\n",
      "Epoch 531, loss 5169.1323\n",
      "Epoch 532, loss 5168.563\n",
      "Epoch 533, loss 5167.9883\n",
      "Epoch 534, loss 5167.417\n",
      "Epoch 535, loss 5166.846\n",
      "Epoch 536, loss 5166.2754\n",
      "Epoch 537, loss 5165.706\n",
      "Epoch 538, loss 5165.1377\n",
      "Epoch 539, loss 5164.572\n",
      "Epoch 540, loss 5164.004\n",
      "Epoch 541, loss 5163.439\n",
      "Epoch 542, loss 5162.8774\n",
      "Epoch 543, loss 5162.312\n",
      "Epoch 544, loss 5161.752\n",
      "Epoch 545, loss 5161.1914\n",
      "Epoch 546, loss 5160.624\n",
      "Epoch 547, loss 5160.0693\n",
      "Epoch 548, loss 5159.512\n",
      "Epoch 549, loss 5158.943\n",
      "Epoch 550, loss 5158.392\n",
      "Epoch 551, loss 5157.8335\n",
      "Epoch 552, loss 5157.2764\n",
      "Epoch 553, loss 5156.723\n",
      "Epoch 554, loss 5156.168\n",
      "Epoch 555, loss 5155.6147\n",
      "Epoch 556, loss 5155.0586\n",
      "Epoch 557, loss 5154.51\n",
      "Epoch 558, loss 5153.9575\n",
      "Epoch 559, loss 5153.412\n",
      "Epoch 560, loss 5152.858\n",
      "Epoch 561, loss 5152.31\n",
      "Epoch 562, loss 5151.766\n",
      "Epoch 563, loss 5151.215\n",
      "Epoch 564, loss 5150.6704\n",
      "Epoch 565, loss 5150.127\n",
      "Epoch 566, loss 5149.586\n",
      "Epoch 567, loss 5149.043\n",
      "Epoch 568, loss 5148.4995\n",
      "Epoch 569, loss 5147.957\n",
      "Epoch 570, loss 5147.4185\n",
      "Epoch 571, loss 5146.8784\n",
      "Epoch 572, loss 5146.342\n",
      "Epoch 573, loss 5145.8003\n",
      "Epoch 574, loss 5145.261\n",
      "Epoch 575, loss 5144.7275\n",
      "Epoch 576, loss 5144.193\n",
      "Epoch 577, loss 5143.6523\n",
      "Epoch 578, loss 5143.1274\n",
      "Epoch 579, loss 5142.5903\n",
      "Epoch 580, loss 5142.066\n",
      "Epoch 581, loss 5141.5293\n",
      "Epoch 582, loss 5141.002\n",
      "Epoch 583, loss 5140.4707\n",
      "Epoch 584, loss 5139.939\n",
      "Epoch 585, loss 5139.41\n",
      "Epoch 586, loss 5138.8853\n",
      "Epoch 587, loss 5138.351\n",
      "Epoch 588, loss 5137.825\n",
      "Epoch 589, loss 5137.305\n",
      "Epoch 590, loss 5136.7783\n",
      "Epoch 591, loss 5136.263\n",
      "Epoch 592, loss 5135.737\n",
      "Epoch 593, loss 5135.2104\n",
      "Epoch 594, loss 5134.6924\n",
      "Epoch 595, loss 5134.1763\n",
      "Epoch 596, loss 5133.6523\n",
      "Epoch 597, loss 5133.137\n",
      "Epoch 598, loss 5132.6187\n",
      "Epoch 599, loss 5132.096\n",
      "Epoch 600, loss 5131.5835\n",
      "Epoch 601, loss 5131.07\n",
      "Epoch 602, loss 5130.551\n",
      "Epoch 603, loss 5130.0386\n",
      "Epoch 604, loss 5129.5244\n",
      "Epoch 605, loss 5129.0137\n",
      "Epoch 606, loss 5128.502\n",
      "Epoch 607, loss 5127.997\n",
      "Epoch 608, loss 5127.4893\n",
      "Epoch 609, loss 5126.979\n",
      "Epoch 610, loss 5126.4697\n",
      "Epoch 611, loss 5125.9585\n",
      "Epoch 612, loss 5125.453\n",
      "Epoch 613, loss 5124.9478\n",
      "Epoch 614, loss 5124.441\n",
      "Epoch 615, loss 5123.941\n",
      "Epoch 616, loss 5123.438\n",
      "Epoch 617, loss 5122.9307\n",
      "Epoch 618, loss 5122.428\n",
      "Epoch 619, loss 5121.9277\n",
      "Epoch 620, loss 5121.4272\n",
      "Epoch 621, loss 5120.9316\n",
      "Epoch 622, loss 5120.4287\n",
      "Epoch 623, loss 5119.932\n",
      "Epoch 624, loss 5119.4375\n",
      "Epoch 625, loss 5118.9365\n",
      "Epoch 626, loss 5118.4453\n",
      "Epoch 627, loss 5117.9414\n",
      "Epoch 628, loss 5117.4487\n",
      "Epoch 629, loss 5116.956\n",
      "Epoch 630, loss 5116.4595\n",
      "Epoch 631, loss 5115.9688\n",
      "Epoch 632, loss 5115.48\n",
      "Epoch 633, loss 5114.9873\n",
      "Epoch 634, loss 5114.496\n",
      "Epoch 635, loss 5114.0093\n",
      "Epoch 636, loss 5113.526\n",
      "Epoch 637, loss 5113.033\n",
      "Epoch 638, loss 5112.5483\n",
      "Epoch 639, loss 5112.0605\n",
      "Epoch 640, loss 5111.5728\n",
      "Epoch 641, loss 5111.093\n",
      "Epoch 642, loss 5110.609\n",
      "Epoch 643, loss 5110.1235\n",
      "Epoch 644, loss 5109.6406\n",
      "Epoch 645, loss 5109.157\n",
      "Epoch 646, loss 5108.673\n",
      "Epoch 647, loss 5108.199\n",
      "Epoch 648, loss 5107.7173\n",
      "Epoch 649, loss 5107.2397\n",
      "Epoch 650, loss 5106.7666\n",
      "Epoch 651, loss 5106.2866\n",
      "Epoch 652, loss 5105.8184\n",
      "Epoch 653, loss 5105.3384\n",
      "Epoch 654, loss 5104.86\n",
      "Epoch 655, loss 5104.3867\n",
      "Epoch 656, loss 5103.9087\n",
      "Epoch 657, loss 5103.4375\n",
      "Epoch 658, loss 5102.9653\n",
      "Epoch 659, loss 5102.499\n",
      "Epoch 660, loss 5102.023\n",
      "Epoch 661, loss 5101.557\n",
      "Epoch 662, loss 5101.081\n",
      "Epoch 663, loss 5100.6143\n",
      "Epoch 664, loss 5100.1465\n",
      "Epoch 665, loss 5099.6787\n",
      "Epoch 666, loss 5099.2075\n",
      "Epoch 667, loss 5098.7456\n",
      "Epoch 668, loss 5098.2754\n",
      "Epoch 669, loss 5097.8135\n",
      "Epoch 670, loss 5097.356\n",
      "Epoch 671, loss 5096.891\n",
      "Epoch 672, loss 5096.424\n",
      "Epoch 673, loss 5095.968\n",
      "Epoch 674, loss 5095.5044\n",
      "Epoch 675, loss 5095.052\n",
      "Epoch 676, loss 5094.588\n",
      "Epoch 677, loss 5094.1274\n",
      "Epoch 678, loss 5093.673\n",
      "Epoch 679, loss 5093.213\n",
      "Epoch 680, loss 5092.7544\n",
      "Epoch 681, loss 5092.299\n",
      "Epoch 682, loss 5091.8433\n",
      "Epoch 683, loss 5091.3916\n",
      "Epoch 684, loss 5090.941\n",
      "Epoch 685, loss 5090.486\n",
      "Epoch 686, loss 5090.035\n",
      "Epoch 687, loss 5089.5776\n",
      "Epoch 688, loss 5089.1274\n",
      "Epoch 689, loss 5088.677\n",
      "Epoch 690, loss 5088.2275\n",
      "Epoch 691, loss 5087.777\n",
      "Epoch 692, loss 5087.3306\n",
      "Epoch 693, loss 5086.884\n",
      "Epoch 694, loss 5086.438\n",
      "Epoch 695, loss 5085.9854\n",
      "Epoch 696, loss 5085.549\n",
      "Epoch 697, loss 5085.1035\n",
      "Epoch 698, loss 5084.6616\n",
      "Epoch 699, loss 5084.2134\n",
      "Epoch 700, loss 5083.7734\n",
      "Epoch 701, loss 5083.323\n",
      "Epoch 702, loss 5082.8857\n",
      "Epoch 703, loss 5082.442\n",
      "Epoch 704, loss 5082.012\n",
      "Epoch 705, loss 5081.564\n",
      "Epoch 706, loss 5081.127\n",
      "Epoch 707, loss 5080.6895\n",
      "Epoch 708, loss 5080.252\n",
      "Epoch 709, loss 5079.8193\n",
      "Epoch 710, loss 5079.3774\n",
      "Epoch 711, loss 5078.941\n",
      "Epoch 712, loss 5078.507\n",
      "Epoch 713, loss 5078.0767\n",
      "Epoch 714, loss 5077.6445\n",
      "Epoch 715, loss 5077.208\n",
      "Epoch 716, loss 5076.776\n",
      "Epoch 717, loss 5076.339\n",
      "Epoch 718, loss 5075.909\n",
      "Epoch 719, loss 5075.483\n",
      "Epoch 720, loss 5075.0596\n",
      "Epoch 721, loss 5074.6284\n",
      "Epoch 722, loss 5074.1987\n",
      "Epoch 723, loss 5073.773\n",
      "Epoch 724, loss 5073.339\n",
      "Epoch 725, loss 5072.914\n",
      "Epoch 726, loss 5072.49\n",
      "Epoch 727, loss 5072.0645\n",
      "Epoch 728, loss 5071.637\n",
      "Epoch 729, loss 5071.215\n",
      "Epoch 730, loss 5070.794\n",
      "Epoch 731, loss 5070.363\n",
      "Epoch 732, loss 5069.9424\n",
      "Epoch 733, loss 5069.526\n",
      "Epoch 734, loss 5069.109\n",
      "Epoch 735, loss 5068.6846\n",
      "Epoch 736, loss 5068.2637\n",
      "Epoch 737, loss 5067.84\n",
      "Epoch 738, loss 5067.4233\n",
      "Epoch 739, loss 5067.0146\n",
      "Epoch 740, loss 5066.594\n",
      "Epoch 741, loss 5066.1797\n",
      "Epoch 742, loss 5065.76\n",
      "Epoch 743, loss 5065.3486\n",
      "Epoch 744, loss 5064.938\n",
      "Epoch 745, loss 5064.524\n",
      "Epoch 746, loss 5064.1055\n",
      "Epoch 747, loss 5063.694\n",
      "Epoch 748, loss 5063.2837\n",
      "Epoch 749, loss 5062.8706\n",
      "Epoch 750, loss 5062.463\n",
      "Epoch 751, loss 5062.0493\n",
      "Epoch 752, loss 5061.6426\n",
      "Epoch 753, loss 5061.2334\n",
      "Epoch 754, loss 5060.827\n",
      "Epoch 755, loss 5060.415\n",
      "Epoch 756, loss 5060.012\n",
      "Epoch 757, loss 5059.606\n",
      "Epoch 758, loss 5059.201\n",
      "Epoch 759, loss 5058.795\n",
      "Epoch 760, loss 5058.3916\n",
      "Epoch 761, loss 5057.9883\n",
      "Epoch 762, loss 5057.582\n",
      "Epoch 763, loss 5057.1807\n",
      "Epoch 764, loss 5056.781\n",
      "Epoch 765, loss 5056.3784\n",
      "Epoch 766, loss 5055.9795\n",
      "Epoch 767, loss 5055.573\n",
      "Epoch 768, loss 5055.1772\n",
      "Epoch 769, loss 5054.7817\n",
      "Epoch 770, loss 5054.3853\n",
      "Epoch 771, loss 5053.987\n",
      "Epoch 772, loss 5053.594\n",
      "Epoch 773, loss 5053.199\n",
      "Epoch 774, loss 5052.8003\n",
      "Epoch 775, loss 5052.4097\n",
      "Epoch 776, loss 5052.01\n",
      "Epoch 777, loss 5051.618\n",
      "Epoch 778, loss 5051.214\n",
      "Epoch 779, loss 5050.8228\n",
      "Epoch 780, loss 5050.4272\n",
      "Epoch 781, loss 5050.0425\n",
      "Epoch 782, loss 5049.652\n",
      "Epoch 783, loss 5049.2593\n",
      "Epoch 784, loss 5048.862\n",
      "Epoch 785, loss 5048.4785\n",
      "Epoch 786, loss 5048.0903\n",
      "Epoch 787, loss 5047.697\n",
      "Epoch 788, loss 5047.306\n",
      "Epoch 789, loss 5046.9214\n",
      "Epoch 790, loss 5046.54\n",
      "Epoch 791, loss 5046.15\n",
      "Epoch 792, loss 5045.7637\n",
      "Epoch 793, loss 5045.385\n",
      "Epoch 794, loss 5044.997\n",
      "Epoch 795, loss 5044.615\n",
      "Epoch 796, loss 5044.228\n",
      "Epoch 797, loss 5043.8467\n",
      "Epoch 798, loss 5043.467\n",
      "Epoch 799, loss 5043.082\n",
      "Epoch 800, loss 5042.7026\n",
      "Epoch 801, loss 5042.32\n",
      "Epoch 802, loss 5041.9473\n",
      "Epoch 803, loss 5041.562\n",
      "Epoch 804, loss 5041.187\n",
      "Epoch 805, loss 5040.8047\n",
      "Epoch 806, loss 5040.4297\n",
      "Epoch 807, loss 5040.0537\n",
      "Epoch 808, loss 5039.6753\n",
      "Epoch 809, loss 5039.306\n",
      "Epoch 810, loss 5038.921\n",
      "Epoch 811, loss 5038.5527\n",
      "Epoch 812, loss 5038.1772\n",
      "Epoch 813, loss 5037.8066\n",
      "Epoch 814, loss 5037.433\n",
      "Epoch 815, loss 5037.0596\n",
      "Epoch 816, loss 5036.6846\n",
      "Epoch 817, loss 5036.3105\n",
      "Epoch 818, loss 5035.9453\n",
      "Epoch 819, loss 5035.572\n",
      "Epoch 820, loss 5035.2056\n",
      "Epoch 821, loss 5034.8423\n",
      "Epoch 822, loss 5034.4756\n",
      "Epoch 823, loss 5034.1084\n"
     ]
    },
    {
     "name": "stdout",
     "output_type": "stream",
     "text": [
      "Epoch 824, loss 5033.738\n",
      "Epoch 825, loss 5033.3706\n",
      "Epoch 826, loss 5033.0054\n",
      "Epoch 827, loss 5032.64\n",
      "Epoch 828, loss 5032.2715\n",
      "Epoch 829, loss 5031.9077\n",
      "Epoch 830, loss 5031.543\n",
      "Epoch 831, loss 5031.181\n",
      "Epoch 832, loss 5030.821\n",
      "Epoch 833, loss 5030.4536\n",
      "Epoch 834, loss 5030.0967\n",
      "Epoch 835, loss 5029.738\n",
      "Epoch 836, loss 5029.3745\n",
      "Epoch 837, loss 5029.0176\n",
      "Epoch 838, loss 5028.656\n",
      "Epoch 839, loss 5028.297\n",
      "Epoch 840, loss 5027.936\n",
      "Epoch 841, loss 5027.578\n",
      "Epoch 842, loss 5027.2188\n",
      "Epoch 843, loss 5026.867\n",
      "Epoch 844, loss 5026.5083\n",
      "Epoch 845, loss 5026.1543\n",
      "Epoch 846, loss 5025.795\n",
      "Epoch 847, loss 5025.4395\n",
      "Epoch 848, loss 5025.081\n",
      "Epoch 849, loss 5024.734\n",
      "Epoch 850, loss 5024.3823\n",
      "Epoch 851, loss 5024.024\n",
      "Epoch 852, loss 5023.6753\n",
      "Epoch 853, loss 5023.321\n",
      "Epoch 854, loss 5022.9697\n",
      "Epoch 855, loss 5022.62\n",
      "Epoch 856, loss 5022.2676\n",
      "Epoch 857, loss 5021.9136\n",
      "Epoch 858, loss 5021.5684\n",
      "Epoch 859, loss 5021.219\n",
      "Epoch 860, loss 5020.874\n",
      "Epoch 861, loss 5020.524\n",
      "Epoch 862, loss 5020.1763\n",
      "Epoch 863, loss 5019.835\n",
      "Epoch 864, loss 5019.4873\n",
      "Epoch 865, loss 5019.1377\n",
      "Epoch 866, loss 5018.795\n",
      "Epoch 867, loss 5018.449\n",
      "Epoch 868, loss 5018.108\n",
      "Epoch 869, loss 5017.765\n",
      "Epoch 870, loss 5017.4243\n",
      "Epoch 871, loss 5017.0796\n",
      "Epoch 872, loss 5016.7383\n",
      "Epoch 873, loss 5016.3916\n",
      "Epoch 874, loss 5016.052\n",
      "Epoch 875, loss 5015.706\n",
      "Epoch 876, loss 5015.3726\n",
      "Epoch 877, loss 5015.0312\n",
      "Epoch 878, loss 5014.693\n",
      "Epoch 879, loss 5014.351\n",
      "Epoch 880, loss 5014.013\n",
      "Epoch 881, loss 5013.682\n",
      "Epoch 882, loss 5013.3384\n",
      "Epoch 883, loss 5013.0054\n",
      "Epoch 884, loss 5012.6694\n",
      "Epoch 885, loss 5012.3345\n",
      "Epoch 886, loss 5011.9937\n",
      "Epoch 887, loss 5011.6636\n",
      "Epoch 888, loss 5011.3267\n",
      "Epoch 889, loss 5010.991\n",
      "Epoch 890, loss 5010.6587\n",
      "Epoch 891, loss 5010.329\n",
      "Epoch 892, loss 5010.002\n",
      "Epoch 893, loss 5009.6685\n",
      "Epoch 894, loss 5009.3345\n",
      "Epoch 895, loss 5009.008\n",
      "Epoch 896, loss 5008.6772\n",
      "Epoch 897, loss 5008.3496\n",
      "Epoch 898, loss 5008.0127\n",
      "Epoch 899, loss 5007.6875\n",
      "Epoch 900, loss 5007.363\n",
      "Epoch 901, loss 5007.031\n",
      "Epoch 902, loss 5006.7046\n",
      "Epoch 903, loss 5006.377\n",
      "Epoch 904, loss 5006.052\n",
      "Epoch 905, loss 5005.7275\n",
      "Epoch 906, loss 5005.401\n",
      "Epoch 907, loss 5005.085\n",
      "Epoch 908, loss 5004.751\n",
      "Epoch 909, loss 5004.425\n",
      "Epoch 910, loss 5004.1113\n",
      "Epoch 911, loss 5003.784\n",
      "Epoch 912, loss 5003.465\n",
      "Epoch 913, loss 5003.1406\n",
      "Epoch 914, loss 5002.82\n",
      "Epoch 915, loss 5002.501\n",
      "Epoch 916, loss 5002.1807\n",
      "Epoch 917, loss 5001.8584\n",
      "Epoch 918, loss 5001.539\n",
      "Epoch 919, loss 5001.2173\n",
      "Epoch 920, loss 5000.903\n",
      "Epoch 921, loss 5000.578\n",
      "Epoch 922, loss 5000.262\n",
      "Epoch 923, loss 4999.9473\n",
      "Epoch 924, loss 4999.631\n",
      "Epoch 925, loss 4999.313\n",
      "Epoch 926, loss 4998.9956\n",
      "Epoch 927, loss 4998.683\n",
      "Epoch 928, loss 4998.367\n",
      "Epoch 929, loss 4998.053\n",
      "Epoch 930, loss 4997.742\n",
      "Epoch 931, loss 4997.428\n",
      "Epoch 932, loss 4997.115\n",
      "Epoch 933, loss 4996.7974\n",
      "Epoch 934, loss 4996.487\n",
      "Epoch 935, loss 4996.174\n",
      "Epoch 936, loss 4995.869\n",
      "Epoch 937, loss 4995.557\n",
      "Epoch 938, loss 4995.248\n",
      "Epoch 939, loss 4994.9326\n",
      "Epoch 940, loss 4994.62\n",
      "Epoch 941, loss 4994.314\n",
      "Epoch 942, loss 4994.004\n",
      "Epoch 943, loss 4993.6978\n",
      "Epoch 944, loss 4993.3906\n",
      "Epoch 945, loss 4993.0864\n",
      "Epoch 946, loss 4992.7754\n",
      "Epoch 947, loss 4992.4707\n",
      "Epoch 948, loss 4992.1626\n",
      "Epoch 949, loss 4991.859\n",
      "Epoch 950, loss 4991.555\n",
      "Epoch 951, loss 4991.252\n",
      "Epoch 952, loss 4990.9473\n",
      "Epoch 953, loss 4990.643\n",
      "Epoch 954, loss 4990.345\n",
      "Epoch 955, loss 4990.037\n",
      "Epoch 956, loss 4989.734\n",
      "Epoch 957, loss 4989.4336\n",
      "Epoch 958, loss 4989.133\n",
      "Epoch 959, loss 4988.8345\n",
      "Epoch 960, loss 4988.531\n",
      "Epoch 961, loss 4988.2275\n",
      "Epoch 962, loss 4987.937\n",
      "Epoch 963, loss 4987.638\n",
      "Epoch 964, loss 4987.339\n",
      "Epoch 965, loss 4987.039\n",
      "Epoch 966, loss 4986.7393\n",
      "Epoch 967, loss 4986.437\n",
      "Epoch 968, loss 4986.1426\n",
      "Epoch 969, loss 4985.8467\n",
      "Epoch 970, loss 4985.5503\n",
      "Epoch 971, loss 4985.26\n",
      "Epoch 972, loss 4984.9614\n",
      "Epoch 973, loss 4984.663\n",
      "Epoch 974, loss 4984.371\n",
      "Epoch 975, loss 4984.075\n",
      "Epoch 976, loss 4983.782\n",
      "Epoch 977, loss 4983.4893\n",
      "Epoch 978, loss 4983.197\n",
      "Epoch 979, loss 4982.902\n",
      "Epoch 980, loss 4982.609\n",
      "Epoch 981, loss 4982.3203\n",
      "Epoch 982, loss 4982.0312\n",
      "Epoch 983, loss 4981.7427\n",
      "Epoch 984, loss 4981.449\n",
      "Epoch 985, loss 4981.158\n",
      "Epoch 986, loss 4980.868\n",
      "Epoch 987, loss 4980.578\n",
      "Epoch 988, loss 4980.294\n",
      "Epoch 989, loss 4980.0034\n",
      "Epoch 990, loss 4979.7173\n",
      "Epoch 991, loss 4979.4253\n",
      "Epoch 992, loss 4979.14\n",
      "Epoch 993, loss 4978.852\n",
      "Epoch 994, loss 4978.5703\n",
      "Epoch 995, loss 4978.285\n",
      "Epoch 996, loss 4977.9956\n",
      "Epoch 997, loss 4977.714\n",
      "Epoch 998, loss 4977.4287\n",
      "Epoch 999, loss 4977.1465\n"
     ]
    }
   ],
   "source": [
    "for epoch in range(num_epochs, 2*num_epochs):\n",
    "    print(f\"Epoch {epoch}, loss\", \n",
    "          loss(get_params(opt_state)) \n",
    "    )\n",
    "    #for _ in range(num_batches):\n",
    "        #batch = next(batch_iter)\n",
    "    opt_state = update(next(opt_counter), opt_state, \n",
    "                          # batch\n",
    "                          )\n",
    "        "
   ]
  },
  {
   "cell_type": "code",
   "execution_count": 59,
   "id": "93dd2cc3",
   "metadata": {},
   "outputs": [
    {
     "name": "stdout",
     "output_type": "stream",
     "text": [
      "52.2 ms ± 903 µs per loop (mean ± std. dev. of 7 runs, 10 loops each)\n"
     ]
    }
   ],
   "source": [
    "%timeit update(1, opt_state)"
   ]
  },
  {
   "cell_type": "code",
   "execution_count": 40,
   "id": "f6340f89",
   "metadata": {},
   "outputs": [],
   "source": [
    "import matplotlib.pyplot as plt"
   ]
  },
  {
   "cell_type": "code",
   "execution_count": 47,
   "id": "8c006b15",
   "metadata": {},
   "outputs": [
    {
     "data": {
      "text/plain": [
       "[<matplotlib.lines.Line2D at 0x7fb61ab47130>]"
      ]
     },
     "execution_count": 47,
     "metadata": {},
     "output_type": "execute_result"
    },
    {
     "data": {
      "image/png": "[encoded data removed]",
      "text/plain": [
       "<Figure size 432x288 with 1 Axes>"
      ]
     },
     "metadata": {
      "needs_background": "light"
     },
     "output_type": "display_data"
    }
   ],
   "source": [
    "plt.plot(jnp.einsum(\"i,ijk->jk\", get_params(opt_state), INPUT_GRID)[5, :])\n",
    "plt.plot(INPUT_GRID[0, 5,:])"
   ]
  },
  {
   "cell_type": "code",
   "execution_count": 257,
   "id": "44b034e1",
   "metadata": {},
   "outputs": [
    {
     "data": {
      "text/plain": [
       "array(['photon', '\\\\Sigma', 'g', 'V', 'V3', 'V8', 'V15', 'V24', 'V35',\n",
       "       'T3', 'T8', 'T15', 'T24', 'T35'], dtype='<U6')"
      ]
     },
     "execution_count": 257,
     "metadata": {},
     "output_type": "execute_result"
    }
   ],
   "source": [
    "convolution.FK_FLAVOURS"
   ]
  },
  {
   "cell_type": "code",
   "execution_count": 216,
   "id": "0bea7be6",
   "metadata": {},
   "outputs": [
    {
     "data": {
      "text/plain": [
       "73"
      ]
     },
     "execution_count": 216,
     "metadata": {},
     "output_type": "execute_result"
    }
   ],
   "source": [
    "len(chi2_contribs)"
   ]
  },
  {
   "cell_type": "code",
   "execution_count": 217,
   "id": "33141ca8",
   "metadata": {},
   "outputs": [
    {
     "data": {
      "text/plain": [
       "Array(nan, dtype=float32)"
      ]
     },
     "execution_count": 217,
     "metadata": {},
     "output_type": "execute_result"
    }
   ],
   "source": [
    "loss(get_params(opt_state), chi2_contribs)"
   ]
  },
  {
   "cell_type": "code",
   "execution_count": null,
   "id": "a4e4fca4",
   "metadata": {},
   "outputs": [],
   "source": [
    "loss()"
   ]
  },
  {
   "cell_type": "code",
   "execution_count": 180,
   "id": "d4f244a5",
   "metadata": {},
   "outputs": [],
   "source": [
    "ii = iter(batch_stream())"
   ]
  },
  {
   "cell_type": "code",
   "execution_count": 16,
   "id": "fc58d73a",
   "metadata": {},
   "outputs": [
    {
     "name": "stderr",
     "output_type": "stream",
     "text": [
      "No GPU/TPU found, falling back to CPU. (Set TF_CPP_MIN_LOG_LEVEL=0 and rerun for more info.)\n"
     ]
    },
    {
     "data": {
      "text/plain": [
       "Array(43581.004, dtype=float32)"
      ]
     },
     "execution_count": 16,
     "metadata": {},
     "output_type": "execute_result"
    }
   ],
   "source": [
    "\n",
    "\n",
    "cd = load_commondata(ds.commondata).with_cuts(ds.cuts)\n",
    "\n",
    "central_value = jnp.array(cd.central_values)\n",
    "\n",
    "covmat = covmats.covmat_from_systematics(cd, dataset_input=ds)\n",
    "\n",
    "\n",
    "\n",
    "sqrt_covmat = jnp.array(covmats.sqrt_covmat(covmat))\n",
    "\n",
    "jnp.sum(jla.solve_triangular(sqrt_covmat, central_value, lower=True)**2)\n",
    "\n",
    "\n",
    "\n"
   ]
  },
  {
   "cell_type": "code",
   "execution_count": 191,
   "id": "c624fdb3",
   "metadata": {},
   "outputs": [
    {
     "data": {
      "text/plain": [
       "[<PjitFunction of <function make_chi2.<locals>.chi2 at 0x7fa188021940>>,\n",
       " <PjitFunction of <function make_chi2.<locals>.chi2 at 0x7f9badeea160>>,\n",
       " <PjitFunction of <function make_chi2.<locals>.chi2 at 0x7f9d2d025a60>>,\n",
       " <PjitFunction of <function make_chi2.<locals>.chi2 at 0x7f9e01c2b790>>,\n",
       " <PjitFunction of <function make_chi2.<locals>.chi2 at 0x7f9bade95160>>,\n",
       " <PjitFunction of <function make_chi2.<locals>.chi2 at 0x7f9bade67ca0>>,\n",
       " <PjitFunction of <function make_chi2.<locals>.chi2 at 0x7f9badee85e0>>,\n",
       " <PjitFunction of <function make_chi2.<locals>.chi2 at 0x7f9badef3040>>,\n",
       " <PjitFunction of <function make_chi2.<locals>.chi2 at 0x7f9d23cdb700>>,\n",
       " <PjitFunction of <function make_chi2.<locals>.chi2 at 0x7f9badec5ee0>>]"
      ]
     },
     "execution_count": 191,
     "metadata": {},
     "output_type": "execute_result"
    }
   ],
   "source": [
    "next(ii)"
   ]
  },
  {
   "cell_type": "code",
   "execution_count": 101,
   "id": "b14c1e00",
   "metadata": {},
   "outputs": [],
   "source": [
    "covmats.systematics_matrix_from_commondata??"
   ]
  },
  {
   "cell_type": "code",
   "execution_count": 56,
   "id": "541933bf",
   "metadata": {},
   "outputs": [],
   "source": [
    "a = np.random.rand(len(covmat))"
   ]
  },
  {
   "cell_type": "code",
   "execution_count": 67,
   "id": "66aa9b13",
   "metadata": {},
   "outputs": [],
   "source": [
    "import scipy.linalg as la"
   ]
  },
  {
   "cell_type": "code",
   "execution_count": 68,
   "id": "6b570b71",
   "metadata": {},
   "outputs": [
    {
     "data": {
      "text/plain": [
       "76949.52986563856"
      ]
     },
     "execution_count": 68,
     "metadata": {},
     "output_type": "execute_result"
    }
   ],
   "source": [
    "a@la.inv(covmat)@a"
   ]
  },
  {
   "cell_type": "code",
   "execution_count": 98,
   "id": "303de66c",
   "metadata": {},
   "outputs": [
    {
     "data": {
      "text/plain": [
       "Array(76949.53, dtype=float32)"
      ]
     },
     "execution_count": 98,
     "metadata": {},
     "output_type": "execute_result"
    }
   ],
   "source": [
    "jnp.sum(jla.solve_triangular(sqrt_covmat, a, lower=True)**2)"
   ]
  },
  {
   "cell_type": "code",
   "execution_count": 69,
   "id": "5e30dfa5",
   "metadata": {},
   "outputs": [],
   "source": [
    "from validphys.calcutils import calc_chi2"
   ]
  },
  {
   "cell_type": "code",
   "execution_count": 70,
   "id": "5c53a747",
   "metadata": {},
   "outputs": [
    {
     "data": {
      "text/plain": [
       "76949.52986563857"
      ]
     },
     "execution_count": 70,
     "metadata": {},
     "output_type": "execute_result"
    }
   ],
   "source": [
    "calc_chi2(la.cholesky(covmat, lower=True), a)"
   ]
  },
  {
   "cell_type": "code",
   "execution_count": 74,
   "id": "30bda46c",
   "metadata": {},
   "outputs": [
    {
     "data": {
      "text/plain": [
       "76949.52986563857"
      ]
     },
     "execution_count": 74,
     "metadata": {},
     "output_type": "execute_result"
    }
   ],
   "source": [
    "calc_chi2(covmats.sqrt_covmat(covmat), a)"
   ]
  },
  {
   "cell_type": "code",
   "execution_count": 76,
   "id": "3ac84aa7",
   "metadata": {},
   "outputs": [],
   "source": [
    "sm = covmats.systematics_matrix_from_commondata(cd, ds)"
   ]
  },
  {
   "cell_type": "code",
   "execution_count": 77,
   "id": "c0eb39f5",
   "metadata": {},
   "outputs": [
    {
     "data": {
      "text/plain": [
       "(121, 226)"
      ]
     },
     "execution_count": 77,
     "metadata": {},
     "output_type": "execute_result"
    }
   ],
   "source": [
    "sm.shape"
   ]
  },
  {
   "cell_type": "code",
   "execution_count": 80,
   "id": "22c75508",
   "metadata": {},
   "outputs": [],
   "source": [
    "q,r = la.qr(sm)"
   ]
  },
  {
   "cell_type": "code",
   "execution_count": 81,
   "id": "24d988f7",
   "metadata": {},
   "outputs": [
    {
     "data": {
      "text/plain": [
       "array([[1., 0., 0., ..., 0., 0., 0.],\n",
       "       [0., 1., 0., ..., 0., 0., 0.],\n",
       "       [0., 0., 1., ..., 0., 0., 0.],\n",
       "       ...,\n",
       "       [0., 0., 0., ..., 1., 0., 0.],\n",
       "       [0., 0., 0., ..., 0., 1., 0.],\n",
       "       [0., 0., 0., ..., 0., 0., 1.]])"
      ]
     },
     "execution_count": 81,
     "metadata": {},
     "output_type": "execute_result"
    }
   ],
   "source": [
    "q"
   ]
  },
  {
   "cell_type": "code",
   "execution_count": 86,
   "id": "6b915878",
   "metadata": {},
   "outputs": [
    {
     "ename": "ValueError",
     "evalue": "expected square matrix",
     "output_type": "error",
     "traceback": [
      "\u001b[0;31m---------------------------------------------------------------------------\u001b[0m",
      "\u001b[0;31mValueError\u001b[0m                                Traceback (most recent call last)",
      "Input \u001b[0;32mIn [86]\u001b[0m, in \u001b[0;36m<cell line: 1>\u001b[0;34m()\u001b[0m\n\u001b[0;32m----> 1\u001b[0m \u001b[43mla\u001b[49m\u001b[38;5;241;43m.\u001b[39;49m\u001b[43msolve_triangular\u001b[49m\u001b[43m(\u001b[49m\u001b[43mr\u001b[49m\u001b[43m,\u001b[49m\u001b[43m \u001b[49m\u001b[43ma\u001b[49m\u001b[43m)\u001b[49m\n",
      "File \u001b[0;32m~/anaconda3/envs/nnpdfdev/lib/python3.9/site-packages/scipy/linalg/_basic.py:341\u001b[0m, in \u001b[0;36msolve_triangular\u001b[0;34m(a, b, trans, lower, unit_diagonal, overwrite_b, debug, check_finite)\u001b[0m\n\u001b[1;32m    339\u001b[0m b1 \u001b[38;5;241m=\u001b[39m _asarray_validated(b, check_finite\u001b[38;5;241m=\u001b[39mcheck_finite)\n\u001b[1;32m    340\u001b[0m \u001b[38;5;28;01mif\u001b[39;00m \u001b[38;5;28mlen\u001b[39m(a1\u001b[38;5;241m.\u001b[39mshape) \u001b[38;5;241m!=\u001b[39m \u001b[38;5;241m2\u001b[39m \u001b[38;5;129;01mor\u001b[39;00m a1\u001b[38;5;241m.\u001b[39mshape[\u001b[38;5;241m0\u001b[39m] \u001b[38;5;241m!=\u001b[39m a1\u001b[38;5;241m.\u001b[39mshape[\u001b[38;5;241m1\u001b[39m]:\n\u001b[0;32m--> 341\u001b[0m     \u001b[38;5;28;01mraise\u001b[39;00m \u001b[38;5;167;01mValueError\u001b[39;00m(\u001b[38;5;124m'\u001b[39m\u001b[38;5;124mexpected square matrix\u001b[39m\u001b[38;5;124m'\u001b[39m)\n\u001b[1;32m    342\u001b[0m \u001b[38;5;28;01mif\u001b[39;00m a1\u001b[38;5;241m.\u001b[39mshape[\u001b[38;5;241m0\u001b[39m] \u001b[38;5;241m!=\u001b[39m b1\u001b[38;5;241m.\u001b[39mshape[\u001b[38;5;241m0\u001b[39m]:\n\u001b[1;32m    343\u001b[0m     \u001b[38;5;28;01mraise\u001b[39;00m \u001b[38;5;167;01mValueError\u001b[39;00m(\u001b[38;5;124m'\u001b[39m\u001b[38;5;124mshapes of a \u001b[39m\u001b[38;5;132;01m{}\u001b[39;00m\u001b[38;5;124m and b \u001b[39m\u001b[38;5;132;01m{}\u001b[39;00m\u001b[38;5;124m are incompatible\u001b[39m\u001b[38;5;124m'\u001b[39m\n\u001b[1;32m    344\u001b[0m                      \u001b[38;5;241m.\u001b[39mformat(a1\u001b[38;5;241m.\u001b[39mshape, b1\u001b[38;5;241m.\u001b[39mshape))\n",
      "\u001b[0;31mValueError\u001b[0m: expected square matrix"
     ]
    }
   ],
   "source": [
    "la.solve_triangular(r, a)"
   ]
  },
  {
   "cell_type": "code",
   "execution_count": 88,
   "id": "0e131235",
   "metadata": {},
   "outputs": [],
   "source": [
    "import matplotlib.pyplot as plt"
   ]
  },
  {
   "cell_type": "code",
   "execution_count": 90,
   "id": "397aba2a",
   "metadata": {},
   "outputs": [
    {
     "data": {
      "text/plain": [
       "<matplotlib.image.AxesImage at 0x7f15e24861c0>"
      ]
     },
     "execution_count": 90,
     "metadata": {},
     "output_type": "execute_result"
    },
    {
     "data": {
      "image/png": "[encoded data removed]",
      "text/plain": [
       "<Figure size 537.917x288 with 1 Axes>"
      ]
     },
     "metadata": {
      "needs_background": "light"
     },
     "output_type": "display_data"
    }
   ],
   "source": [
    "plt.matshow(q@r)"
   ]
  },
  {
   "cell_type": "code",
   "execution_count": 66,
   "id": "6438c348",
   "metadata": {},
   "outputs": [],
   "source": [
    "la.cholesky??"
   ]
  },
  {
   "cell_type": "code",
   "execution_count": null,
   "id": "c3483628",
   "metadata": {},
   "outputs": [],
   "source": [
    "from val"
   ]
  },
  {
   "cell_type": "code",
   "execution_count": 48,
   "id": "4badd379",
   "metadata": {},
   "outputs": [
    {
     "data": {
      "text/plain": [
       "array([[ 2.68593312e-04,  1.83984561e-04,  7.67906773e-05, ...,\n",
       "        -7.63211469e-05, -1.05104702e-04, -1.37744623e-04],\n",
       "       [ 1.83984561e-04,  4.04746250e-04,  6.08510678e-05, ...,\n",
       "        -1.27447854e-04, -1.71832192e-04, -2.22663390e-04],\n",
       "       [ 7.67906773e-05,  6.08510678e-05,  1.91100734e-04, ...,\n",
       "         1.14004879e-04,  1.45105124e-04,  1.87405121e-04],\n",
       "       ...,\n",
       "       [-7.63211469e-05, -1.27447854e-04,  1.14004879e-04, ...,\n",
       "         2.33261176e-03,  1.15595913e-03,  1.43098653e-03],\n",
       "       [-1.05104702e-04, -1.71832192e-04,  1.45105124e-04, ...,\n",
       "         1.15595913e-03,  4.07094629e-03,  1.80012082e-03],\n",
       "       [-1.37744623e-04, -2.22663390e-04,  1.87405121e-04, ...,\n",
       "         1.43098653e-03,  1.80012082e-03,  6.43026459e-03]])"
      ]
     },
     "execution_count": 48,
     "metadata": {},
     "output_type": "execute_result"
    }
   ],
   "source": [
    "covmat"
   ]
  },
  {
   "cell_type": "code",
   "execution_count": 42,
   "id": "d57cfdbe",
   "metadata": {},
   "outputs": [],
   "source": [
    "covmat_from_systematics??"
   ]
  },
  {
   "cell_type": "code",
   "execution_count": 23,
   "id": "bc07ef47",
   "metadata": {},
   "outputs": [
    {
     "data": {
      "text/plain": [
       "entry\n",
       "46     0.9734\n",
       "47     0.9821\n",
       "59     0.9716\n",
       "60     0.9817\n",
       "61     0.9942\n",
       "        ...  \n",
       "256    0.6717\n",
       "257    0.7194\n",
       "258    0.6959\n",
       "259    0.7020\n",
       "260    0.7724\n",
       "Name: data, Length: 121, dtype: float64"
      ]
     },
     "execution_count": 23,
     "metadata": {},
     "output_type": "execute_result"
    }
   ],
   "source": [
    "cd.central_values"
   ]
  },
  {
   "cell_type": "code",
   "execution_count": 302,
   "id": "db5c2e17",
   "metadata": {},
   "outputs": [],
   "source": []
  },
  {
   "cell_type": "code",
   "execution_count": 303,
   "id": "f853ceee",
   "metadata": {},
   "outputs": [],
   "source": []
  },
  {
   "cell_type": "code",
   "execution_count": 304,
   "id": "09c48060",
   "metadata": {},
   "outputs": [],
   "source": []
  },
  {
   "cell_type": "code",
   "execution_count": 305,
   "id": "168f82d3",
   "metadata": {},
   "outputs": [
    {
     "name": "stdout",
     "output_type": "stream",
     "text": [
      "LHAPDF 6.4.0 loading /home/zah/anaconda3/envs/nnpdfdev/share/LHAPDF/NNPDF40_nlo_as_01180/NNPDF40_nlo_as_01180_0000.dat\n",
      "NNPDF40_nlo_as_01180 PDF set, member #0, version 1\n"
     ]
    }
   ],
   "source": []
  },
  {
   "cell_type": "code",
   "execution_count": 317,
   "id": "f21429e1",
   "metadata": {},
   "outputs": [],
   "source": []
  },
  {
   "cell_type": "code",
   "execution_count": 318,
   "id": "a09f447b",
   "metadata": {},
   "outputs": [
    {
     "data": {
      "text/plain": [
       "(14, 50)"
      ]
     },
     "execution_count": 318,
     "metadata": {},
     "output_type": "execute_result"
    }
   ],
   "source": [
    "pdf_base.shape"
   ]
  },
  {
   "cell_type": "code",
   "execution_count": 319,
   "id": "d7a5990e",
   "metadata": {},
   "outputs": [
    {
     "data": {
      "text/plain": [
       "(14, 50)"
      ]
     },
     "execution_count": 319,
     "metadata": {},
     "output_type": "execute_result"
    }
   ],
   "source": [
    "vals.shape"
   ]
  },
  {
   "cell_type": "code",
   "execution_count": 320,
   "id": "385b5f73",
   "metadata": {},
   "outputs": [
    {
     "data": {
      "text/plain": [
       "Array(5888.8696, dtype=float32)"
      ]
     },
     "execution_count": 320,
     "metadata": {},
     "output_type": "execute_result"
    }
   ],
   "source": [
    "loss(vals, chi2_contribs)"
   ]
  },
  {
   "cell_type": "code",
   "execution_count": 157,
   "id": "407c0fcb",
   "metadata": {},
   "outputs": [],
   "source": [
    "def loss(nn):\n",
    "    return nn - vals"
   ]
  },
  {
   "cell_type": "code",
   "execution_count": 158,
   "id": "1ccf7c0b",
   "metadata": {},
   "outputs": [
    {
     "data": {
      "text/plain": [
       "(1, 14, 50)"
      ]
     },
     "execution_count": 158,
     "metadata": {},
     "output_type": "execute_result"
    }
   ],
   "source": [
    "vals.shape"
   ]
  },
  {
   "cell_type": "code",
   "execution_count": 159,
   "id": "0d74baf5",
   "metadata": {},
   "outputs": [],
   "source": [
    "tb = load_fktable(ds.fkspecs[0])"
   ]
  },
  {
   "cell_type": "code",
   "execution_count": 160,
   "id": "a3fe4f45",
   "metadata": {},
   "outputs": [
    {
     "data": {
      "text/plain": [
       "array([ 1,  1,  1,  2,  1,  3,  1,  4,  1,  5,  1,  6,  1,  9,  1, 10,  1,\n",
       "       11,  2,  2,  2,  3,  2,  4,  2,  5,  2,  6,  2,  9,  2, 10,  2, 11,\n",
       "        3,  3,  3,  4,  3,  5,  3,  6,  3,  9,  3, 10,  3, 11,  4,  4,  4,\n",
       "        5,  4,  6,  4,  9,  4, 10,  4, 11,  5,  5,  5,  6,  5,  9,  5, 10,\n",
       "        5, 11,  6,  6,  6,  9,  6, 10,  6, 11,  9,  9,  9, 10,  9, 11, 10,\n",
       "       10, 10, 11, 11, 11])"
      ]
     },
     "execution_count": 160,
     "metadata": {},
     "output_type": "execute_result"
    }
   ],
   "source": [
    "tb.luminosity_mapping"
   ]
  },
  {
   "cell_type": "code",
   "execution_count": 162,
   "id": "30c24796",
   "metadata": {},
   "outputs": [
    {
     "data": {
      "text/plain": [
       "(17, 45, 50, 50)"
      ]
     },
     "execution_count": 162,
     "metadata": {},
     "output_type": "execute_result"
    }
   ],
   "source": [
    "tb.get_np_fktable().shape"
   ]
  },
  {
   "cell_type": "code",
   "execution_count": 163,
   "id": "1c12bf6a",
   "metadata": {},
   "outputs": [],
   "source": [
    "from jax.example_libraries import stax"
   ]
  },
  {
   "cell_type": "code",
   "execution_count": 183,
   "id": "311895c2",
   "metadata": {},
   "outputs": [],
   "source": [
    "init, predict = stax.serial(stax.Dense((2)), stax.Dense((3)))"
   ]
  },
  {
   "cell_type": "code",
   "execution_count": 184,
   "id": "a7823c40",
   "metadata": {},
   "outputs": [],
   "source": [
    "from jax import random"
   ]
  },
  {
   "cell_type": "code",
   "execution_count": 185,
   "id": "fe78b55b",
   "metadata": {},
   "outputs": [],
   "source": [
    "rng = random.PRNGKey(3)"
   ]
  },
  {
   "cell_type": "code",
   "execution_count": 188,
   "id": "5278bec2",
   "metadata": {
    "scrolled": true
   },
   "outputs": [
    {
     "data": {
      "text/plain": [
       "((3,),\n",
       " [(Array([[-0.99891424,  0.79900575]], dtype=float32),\n",
       "   Array([0.01032689, 0.01061993], dtype=float32)),\n",
       "  (Array([[-0.97583795, -0.5411103 , -0.47663605],\n",
       "          [-1.1263915 , -0.7123102 , -1.2609658 ]], dtype=float32),\n",
       "   Array([-0.0023886 , -0.00962158,  0.01378133], dtype=float32))])"
      ]
     },
     "execution_count": 188,
     "metadata": {},
     "output_type": "execute_result"
    }
   ],
   "source": [
    "init(rng, (1,))"
   ]
  },
  {
   "cell_type": "code",
   "execution_count": 189,
   "id": "c0cb607c",
   "metadata": {},
   "outputs": [],
   "source": [
    "import numpy as np"
   ]
  },
  {
   "cell_type": "code",
   "execution_count": 192,
   "id": "60c12863",
   "metadata": {},
   "outputs": [],
   "source": [
    "initial = np.random.rand(50)"
   ]
  },
  {
   "cell_type": "code",
   "execution_count": 193,
   "id": "9ab99b82",
   "metadata": {},
   "outputs": [],
   "source": [
    "import matplotlib.pyplot as plt"
   ]
  },
  {
   "cell_type": "code",
   "execution_count": 194,
   "id": "e9e337a4",
   "metadata": {},
   "outputs": [
    {
     "data": {
      "text/plain": [
       "[<matplotlib.lines.Line2D at 0x7f178fad7640>]"
      ]
     },
     "execution_count": 194,
     "metadata": {},
     "output_type": "execute_result"
    },
    {
     "data": {
      "image/png": "[encoded data removed]",
      "text/plain": [
       "<Figure size 432x288 with 1 Axes>"
      ]
     },
     "metadata": {
      "needs_background": "light"
     },
     "output_type": "display_data"
    }
   ],
   "source": [
    "plt.plot(initial)"
   ]
  },
  {
   "cell_type": "code",
   "execution_count": 197,
   "id": "22fb5d91",
   "metadata": {},
   "outputs": [
    {
     "data": {
      "text/plain": [
       "[<matplotlib.lines.Line2D at 0x7f178f96f0a0>]"
      ]
     },
     "execution_count": 197,
     "metadata": {},
     "output_type": "execute_result"
    },
    {
     "data": {
      "image/png": "[encoded data removed]",
      "text/plain": [
       "<Figure size 432x288 with 1 Axes>"
      ]
     },
     "metadata": {
      "needs_background": "light"
     },
     "output_type": "display_data"
    }
   ],
   "source": [
    "plt.plot(np.convolve(initial, [0.2, 0.6, 0.2]))"
   ]
  },
  {
   "cell_type": "code",
   "execution_count": 370,
   "id": "103aef54",
   "metadata": {},
   "outputs": [],
   "source": [
    "from jax.example_libraries import stax"
   ]
  },
  {
   "cell_type": "code",
   "execution_count": 373,
   "id": "ad45df73",
   "metadata": {},
   "outputs": [
    {
     "data": {
      "text/plain": [
       "(14, 50)"
      ]
     },
     "execution_count": 373,
     "metadata": {},
     "output_type": "execute_result"
    }
   ],
   "source": [
    "pdf_base.shape"
   ]
  },
  {
   "cell_type": "code",
   "execution_count": 379,
   "id": "91a7e316",
   "metadata": {},
   "outputs": [],
   "source": [
    "init, apply = stax.Conv(1, (1,10))"
   ]
  },
  {
   "cell_type": "code",
   "execution_count": 380,
   "id": "d1a84359",
   "metadata": {},
   "outputs": [],
   "source": [
    "stax.Conv??"
   ]
  },
  {
   "cell_type": "code",
   "execution_count": 382,
   "id": "cfe128e7",
   "metadata": {},
   "outputs": [],
   "source": [
    "init??"
   ]
  },
  {
   "cell_type": "code",
   "execution_count": 384,
   "id": "f851a889",
   "metadata": {},
   "outputs": [
    {
     "ename": "IndexError",
     "evalue": "tuple index out of range",
     "output_type": "error",
     "traceback": [
      "\u001b[0;31m---------------------------------------------------------------------------\u001b[0m",
      "\u001b[0;31mIndexError\u001b[0m                                Traceback (most recent call last)",
      "Input \u001b[0;32mIn [384]\u001b[0m, in \u001b[0;36m<cell line: 1>\u001b[0;34m()\u001b[0m\n\u001b[0;32m----> 1\u001b[0m \u001b[43minit\u001b[49m\u001b[43m(\u001b[49m\u001b[43mrng\u001b[49m\u001b[43m,\u001b[49m\u001b[43m \u001b[49m\u001b[43m(\u001b[49m\u001b[38;5;241;43m14\u001b[39;49m\u001b[43m,\u001b[49m\u001b[38;5;241;43m50\u001b[39;49m\u001b[43m,\u001b[49m\u001b[38;5;241;43m1\u001b[39;49m\u001b[43m)\u001b[49m\u001b[43m)\u001b[49m\n",
      "File \u001b[0;32m~/anaconda3/envs/nnpdfdev/lib/python3.9/site-packages/jax/example_libraries/stax.py:75\u001b[0m, in \u001b[0;36mGeneralConv.<locals>.init_fun\u001b[0;34m(rng, input_shape)\u001b[0m\n\u001b[1;32m     73\u001b[0m \u001b[38;5;28;01mdef\u001b[39;00m \u001b[38;5;21minit_fun\u001b[39m(rng, input_shape):\n\u001b[1;32m     74\u001b[0m   filter_shape_iter \u001b[38;5;241m=\u001b[39m \u001b[38;5;28miter\u001b[39m(filter_shape)\n\u001b[0;32m---> 75\u001b[0m   kernel_shape \u001b[38;5;241m=\u001b[39m [out_chan \u001b[38;5;28;01mif\u001b[39;00m c \u001b[38;5;241m==\u001b[39m \u001b[38;5;124m'\u001b[39m\u001b[38;5;124mO\u001b[39m\u001b[38;5;124m'\u001b[39m \u001b[38;5;28;01melse\u001b[39;00m\n\u001b[1;32m     76\u001b[0m                   input_shape[lhs_spec\u001b[38;5;241m.\u001b[39mindex(\u001b[38;5;124m'\u001b[39m\u001b[38;5;124mC\u001b[39m\u001b[38;5;124m'\u001b[39m)] \u001b[38;5;28;01mif\u001b[39;00m c \u001b[38;5;241m==\u001b[39m \u001b[38;5;124m'\u001b[39m\u001b[38;5;124mI\u001b[39m\u001b[38;5;124m'\u001b[39m \u001b[38;5;28;01melse\u001b[39;00m\n\u001b[1;32m     77\u001b[0m                   \u001b[38;5;28mnext\u001b[39m(filter_shape_iter) \u001b[38;5;28;01mfor\u001b[39;00m c \u001b[38;5;129;01min\u001b[39;00m rhs_spec]\n\u001b[1;32m     78\u001b[0m   output_shape \u001b[38;5;241m=\u001b[39m lax\u001b[38;5;241m.\u001b[39mconv_general_shape_tuple(\n\u001b[1;32m     79\u001b[0m       input_shape, kernel_shape, strides, padding, dimension_numbers)\n\u001b[1;32m     80\u001b[0m   bias_shape \u001b[38;5;241m=\u001b[39m [out_chan \u001b[38;5;28;01mif\u001b[39;00m c \u001b[38;5;241m==\u001b[39m \u001b[38;5;124m'\u001b[39m\u001b[38;5;124mC\u001b[39m\u001b[38;5;124m'\u001b[39m \u001b[38;5;28;01melse\u001b[39;00m \u001b[38;5;241m1\u001b[39m \u001b[38;5;28;01mfor\u001b[39;00m c \u001b[38;5;129;01min\u001b[39;00m out_spec]\n",
      "File \u001b[0;32m~/anaconda3/envs/nnpdfdev/lib/python3.9/site-packages/jax/example_libraries/stax.py:76\u001b[0m, in \u001b[0;36m<listcomp>\u001b[0;34m(.0)\u001b[0m\n\u001b[1;32m     73\u001b[0m \u001b[38;5;28;01mdef\u001b[39;00m \u001b[38;5;21minit_fun\u001b[39m(rng, input_shape):\n\u001b[1;32m     74\u001b[0m   filter_shape_iter \u001b[38;5;241m=\u001b[39m \u001b[38;5;28miter\u001b[39m(filter_shape)\n\u001b[1;32m     75\u001b[0m   kernel_shape \u001b[38;5;241m=\u001b[39m [out_chan \u001b[38;5;28;01mif\u001b[39;00m c \u001b[38;5;241m==\u001b[39m \u001b[38;5;124m'\u001b[39m\u001b[38;5;124mO\u001b[39m\u001b[38;5;124m'\u001b[39m \u001b[38;5;28;01melse\u001b[39;00m\n\u001b[0;32m---> 76\u001b[0m                   \u001b[43minput_shape\u001b[49m\u001b[43m[\u001b[49m\u001b[43mlhs_spec\u001b[49m\u001b[38;5;241;43m.\u001b[39;49m\u001b[43mindex\u001b[49m\u001b[43m(\u001b[49m\u001b[38;5;124;43m'\u001b[39;49m\u001b[38;5;124;43mC\u001b[39;49m\u001b[38;5;124;43m'\u001b[39;49m\u001b[43m)\u001b[49m\u001b[43m]\u001b[49m \u001b[38;5;28;01mif\u001b[39;00m c \u001b[38;5;241m==\u001b[39m \u001b[38;5;124m'\u001b[39m\u001b[38;5;124mI\u001b[39m\u001b[38;5;124m'\u001b[39m \u001b[38;5;28;01melse\u001b[39;00m\n\u001b[1;32m     77\u001b[0m                   \u001b[38;5;28mnext\u001b[39m(filter_shape_iter) \u001b[38;5;28;01mfor\u001b[39;00m c \u001b[38;5;129;01min\u001b[39;00m rhs_spec]\n\u001b[1;32m     78\u001b[0m   output_shape \u001b[38;5;241m=\u001b[39m lax\u001b[38;5;241m.\u001b[39mconv_general_shape_tuple(\n\u001b[1;32m     79\u001b[0m       input_shape, kernel_shape, strides, padding, dimension_numbers)\n\u001b[1;32m     80\u001b[0m   bias_shape \u001b[38;5;241m=\u001b[39m [out_chan \u001b[38;5;28;01mif\u001b[39;00m c \u001b[38;5;241m==\u001b[39m \u001b[38;5;124m'\u001b[39m\u001b[38;5;124mC\u001b[39m\u001b[38;5;124m'\u001b[39m \u001b[38;5;28;01melse\u001b[39;00m \u001b[38;5;241m1\u001b[39m \u001b[38;5;28;01mfor\u001b[39;00m c \u001b[38;5;129;01min\u001b[39;00m out_spec]\n",
      "\u001b[0;31mIndexError\u001b[0m: tuple index out of range"
     ]
    }
   ],
   "source": [
    "init(rng, (14,50,1))"
   ]
  },
  {
   "cell_type": "code",
   "execution_count": 385,
   "id": "5b9a004d",
   "metadata": {},
   "outputs": [
    {
     "name": "stdout",
     "output_type": "stream",
     "text": [
      "> \u001b[0;32m/home/zah/anaconda3/envs/nnpdfdev/lib/python3.9/site-packages/jax/example_libraries/stax.py\u001b[0m(76)\u001b[0;36m<listcomp>\u001b[0;34m()\u001b[0m\n",
      "\u001b[0;32m     74 \u001b[0;31m    \u001b[0mfilter_shape_iter\u001b[0m \u001b[0;34m=\u001b[0m \u001b[0miter\u001b[0m\u001b[0;34m(\u001b[0m\u001b[0mfilter_shape\u001b[0m\u001b[0;34m)\u001b[0m\u001b[0;34m\u001b[0m\u001b[0;34m\u001b[0m\u001b[0m\n",
      "\u001b[0m\u001b[0;32m     75 \u001b[0;31m    kernel_shape = [out_chan if c == 'O' else\n",
      "\u001b[0m\u001b[0;32m---> 76 \u001b[0;31m                    \u001b[0minput_shape\u001b[0m\u001b[0;34m[\u001b[0m\u001b[0mlhs_spec\u001b[0m\u001b[0;34m.\u001b[0m\u001b[0mindex\u001b[0m\u001b[0;34m(\u001b[0m\u001b[0;34m'C'\u001b[0m\u001b[0;34m)\u001b[0m\u001b[0;34m]\u001b[0m \u001b[0;32mif\u001b[0m \u001b[0mc\u001b[0m \u001b[0;34m==\u001b[0m \u001b[0;34m'I'\u001b[0m \u001b[0;32melse\u001b[0m\u001b[0;34m\u001b[0m\u001b[0;34m\u001b[0m\u001b[0m\n",
      "\u001b[0m\u001b[0;32m     77 \u001b[0;31m                    next(filter_shape_iter) for c in rhs_spec]\n",
      "\u001b[0m\u001b[0;32m     78 \u001b[0;31m    output_shape = lax.conv_general_shape_tuple(\n",
      "\u001b[0m\n",
      "ipdb> lhs_spec\n",
      "'NHWC'\n",
      "ipdb> q\n"
     ]
    }
   ],
   "source": [
    "%debug"
   ]
  },
  {
   "cell_type": "code",
   "execution_count": 393,
   "id": "4d5cd6e8",
   "metadata": {},
   "outputs": [],
   "source": [
    "@jax.jit\n",
    "def f(obj):\n",
    "    return obj[\"inte\"]"
   ]
  },
  {
   "cell_type": "code",
   "execution_count": 394,
   "id": "e10be83f",
   "metadata": {},
   "outputs": [],
   "source": [
    "class X:\n",
    "    inte = 1"
   ]
  },
  {
   "cell_type": "code",
   "execution_count": 395,
   "id": "c6420ee2",
   "metadata": {},
   "outputs": [
    {
     "data": {
      "text/plain": [
       "Array(1, dtype=int32, weak_type=True)"
      ]
     },
     "execution_count": 395,
     "metadata": {},
     "output_type": "execute_result"
    }
   ],
   "source": [
    "f({\"inte\":1})"
   ]
  },
  {
   "cell_type": "code",
   "execution_count": null,
   "id": "e441a56c",
   "metadata": {},
   "outputs": [],
   "source": []
  }
 ],
 "metadata": {
  "kernelspec": {
   "display_name": "Python 3 (ipykernel)",
   "language": "python",
   "name": "python3"
  },
  "language_info": {
   "codemirror_mode": {
    "name": "ipython",
    "version": 3
   },
   "file_extension": ".py",
   "mimetype": "text/x-python",
   "name": "python",
   "nbconvert_exporter": "python",
   "pygments_lexer": "ipython3",
   "version": "3.9.13"
  }
 },
 "nbformat": 4,
 "nbformat_minor": 5
}
