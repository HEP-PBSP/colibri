{
 "cells": [
  {
   "cell_type": "code",
   "execution_count": 1,
   "metadata": {},
   "outputs": [],
   "source": [
    "import jax\n",
    "import jax.numpy as jnp\n",
    "\n",
    "from validphys import convolution\n",
    "\n",
    "from super_net.constants import XGRID\n",
    "\n",
    "import time"
   ]
  },
  {
   "cell_type": "code",
   "execution_count": 2,
   "metadata": {},
   "outputs": [],
   "source": [
    "inp = {\n",
    "    \"xgrids\": {\n",
    "        \"photon\": [],\n",
    "        \"\\Sigma\": [0.01, 0.02, 0.1, 0.2],\n",
    "        \"g\": [0.01, 0.02, 0.1, 0.2],\n",
    "        \"V\": [0.01, 0.02, 0.1, 0.2],\n",
    "        \"V3\": [],\n",
    "        \"V8\": [],\n",
    "        \"V15\": [],\n",
    "        \"V24\": [],\n",
    "        \"V35\": [],\n",
    "        \"T3\": [],\n",
    "        \"T8\": [],\n",
    "        \"T15\": [],\n",
    "        \"T24\": [],\n",
    "        \"T35\": [],\n",
    "    },\n",
    "}"
   ]
  },
  {
   "cell_type": "code",
   "execution_count": 3,
   "metadata": {},
   "outputs": [],
   "source": [
    "from validphys.convolution import FK_FLAVOURS\n",
    "\n",
    "flavour_mapping = [1, 2, 3]\n",
    "\n",
    "FLAVOURS_ID_MAPPINGS = {\n",
    "    0: \"photon\",\n",
    "    1: \"\\Sigma\",\n",
    "    2: \"g\",\n",
    "    3: \"V\",\n",
    "    4: \"V3\",\n",
    "    5: \"V8\",\n",
    "    6: \"V15\",\n",
    "    7: \"V24\",\n",
    "    8: \"V35\",\n",
    "    9: \"T3\",\n",
    "    10: \"T8\",\n",
    "    11: \"T15\",\n",
    "    12: \"T24\",\n",
    "    13: \"T35\",\n",
    "}\n",
    "FLAVOUR_TO_ID_MAPPING = {val: key for (key, val) in FLAVOURS_ID_MAPPINGS.items()}\n",
    "\n",
    "\n",
    "reduced_xgrids = {FLAVOUR_TO_ID_MAPPING[flav]: val for (flav, val) in inp[\"xgrids\"].items()}\n",
    "\n",
    "parameters = [\n",
    "    f\"{FK_FLAVOURS[i]}({j})\" for i in flavour_mapping for j in reduced_xgrids[i]\n",
    "]"
   ]
  },
  {
   "cell_type": "code",
   "execution_count": 4,
   "metadata": {},
   "outputs": [],
   "source": [
    "def produce_length_reduced_xgrids(xgrids):\n",
    "    \"\"\"The reduced x-grids used in the fit, organised by flavour.\"\"\"\n",
    "    lengths = [len(val) for (_, val) in xgrids.items()]\n",
    "    # Remove all zero-length lists\n",
    "    lengths = list(filter((0).__ne__, lengths))\n",
    "    if not all(x == lengths[0] for x in lengths):\n",
    "        raise ValueError(\n",
    "            \"Cannot currently support reduced x-grids of different lengths.\"\n",
    "        )\n",
    "    return lengths[0]\n",
    "\n",
    "length_reduced_xgrids = produce_length_reduced_xgrids(inp[\"xgrids\"])"
   ]
  },
  {
   "cell_type": "code",
   "execution_count": 34,
   "metadata": {},
   "outputs": [],
   "source": [
    "def build_xgrid(reduced_xgrids, flavour_mapping):\n",
    "    out = []\n",
    "    for fl in flavour_mapping:\n",
    "        out.append(jnp.array(reduced_xgrids[fl]))\n",
    "    return jnp.array(out)\n",
    "\n",
    "fit_xgrid = build_xgrid(reduced_xgrids, flavour_mapping)"
   ]
  },
  {
   "cell_type": "code",
   "execution_count": 47,
   "metadata": {},
   "outputs": [],
   "source": [
    "@jax.jit\n",
    "def interpolate_1D(y):\n",
    "    return jnp.interp(jnp.array(XGRID), jnp.array(reduced_xgrids[1]), y)\n",
    "\n",
    "\n",
    "@jax.jit\n",
    "def interpolate_2D(y):\n",
    "    out = []\n",
    "    for i, xgrid in enumerate(fit_xgrid):\n",
    "        out.append(jnp.interp(jnp.array(XGRID), xgrid, y[i, :]))\n",
    "    return jnp.array(out)\n",
    "\n",
    "\n",
    "@jax.jit\n",
    "def interpolate_grid_2D(stacked_pdf_grid):\n",
    "    reshaped_stacked_pdf_grid = stacked_pdf_grid.reshape(\n",
    "        (\n",
    "            len(flavour_mapping),\n",
    "            length_reduced_xgrids,\n",
    "        ),\n",
    "    )\n",
    "\n",
    "    # generate an empty matrix of shape (valipdhys.convolution.NFK, len(super_net.constants.XGRID),)\n",
    "    input_grid = jnp.zeros(\n",
    "        (\n",
    "            convolution.NFK,\n",
    "            len(XGRID),\n",
    "        )\n",
    "    )\n",
    "\n",
    "    input_grid = input_grid.at[flavour_mapping, :].set(\n",
    "        interpolate_2D(reshaped_stacked_pdf_grid)\n",
    "    )\n",
    "\n",
    "    return input_grid\n",
    "\n",
    "\n",
    "@jax.jit\n",
    "def interpolate_grid(stacked_pdf_grid):\n",
    "    reshaped_stacked_pdf_grid = stacked_pdf_grid.reshape(\n",
    "        (\n",
    "            len(flavour_mapping),\n",
    "            length_reduced_xgrids,\n",
    "        ),\n",
    "    )\n",
    "\n",
    "    # generate an empty matrix of shape (valipdhys.convolution.NFK, len(super_net.constants.XGRID),)\n",
    "    input_grid = jnp.zeros(\n",
    "        (\n",
    "            convolution.NFK,\n",
    "            len(XGRID),\n",
    "        )\n",
    "    )\n",
    "\n",
    "    input_grid = input_grid.at[flavour_mapping, :].set(\n",
    "        jnp.apply_along_axis(interpolate_1D, axis=-1, arr=reshaped_stacked_pdf_grid)\n",
    "    )\n",
    "\n",
    "    return input_grid\n",
    "\n",
    "\n",
    "@jax.jit\n",
    "def interpolate_grid_vec(stacked_pdf_grid):\n",
    "    reshaped_stacked_pdf_grid = stacked_pdf_grid.reshape(\n",
    "        (\n",
    "            stacked_pdf_grid.shape[0],\n",
    "            len(flavour_mapping),\n",
    "            length_reduced_xgrids,\n",
    "        ),\n",
    "    )\n",
    "\n",
    "    # generate an empty matrix of shape (:, valipdhys.convolution.NFK, len(super_net.constants.XGRID),)\n",
    "    input_grid = jnp.zeros(\n",
    "        (\n",
    "            stacked_pdf_grid.shape[0],\n",
    "            convolution.NFK,\n",
    "            len(XGRID),\n",
    "        )\n",
    "    )\n",
    "\n",
    "    input_grid = input_grid.at[:, flavour_mapping, :].set(\n",
    "        jnp.apply_along_axis(interpolate_1D, axis=-1, arr=reshaped_stacked_pdf_grid)\n",
    "    )\n",
    "\n",
    "    return input_grid\n",
    "\n",
    "\n",
    "def interpolate_grid_nojit(stacked_pdf_grid):\n",
    "    reshaped_stacked_pdf_grid = stacked_pdf_grid.reshape(\n",
    "        (\n",
    "            len(flavour_mapping),\n",
    "            length_reduced_xgrids,\n",
    "        ),\n",
    "    )\n",
    "\n",
    "    # generate an empty matrix of shape (valipdhys.convolution.NFK, len(super_net.constants.XGRID),)\n",
    "    input_grid = jnp.zeros(\n",
    "        (\n",
    "            convolution.NFK,\n",
    "            len(XGRID),\n",
    "        )\n",
    "    )\n",
    "\n",
    "    input_grid = input_grid.at[flavour_mapping, :].set(\n",
    "        jnp.apply_along_axis(interpolate_1D, axis=-1, arr=reshaped_stacked_pdf_grid)\n",
    "    )\n",
    "\n",
    "    return input_grid\n",
    "\n",
    "\n",
    "def interp_func_OLD(stacked_pdf_grid):\n",
    "    # reshape stacked_pdf_grid to (len(REDUCED_XGRID), len(flavour_mapping))\n",
    "    reshaped_stacked_pdf_grid = stacked_pdf_grid.reshape(\n",
    "        (length_reduced_xgrids, len(flavour_mapping)), order=\"F\"\n",
    "    )\n",
    "\n",
    "    # generate an empty matrix of shape (len(super_net.constants.XGRID),valipdhys.convolution.NFK)\n",
    "    input_grid = jnp.zeros((len(XGRID), convolution.NFK))\n",
    "\n",
    "    # interpolate columns of reshaped_stacked_pdf_grid\n",
    "    for i, fl in enumerate(flavour_mapping):\n",
    "        input_grid = input_grid.at[:, fl].set(\n",
    "            jnp.interp(\n",
    "                jnp.array(XGRID),\n",
    "                jnp.array(reduced_xgrids[fl]),\n",
    "                reshaped_stacked_pdf_grid[:, i],\n",
    "            )\n",
    "        )\n",
    "\n",
    "    return input_grid.T"
   ]
  },
  {
   "cell_type": "code",
   "execution_count": 48,
   "metadata": {},
   "outputs": [],
   "source": [
    "grids = jax.random.uniform(jax.random.PRNGKey(758493), shape=(10000, 12))"
   ]
  },
  {
   "cell_type": "markdown",
   "metadata": {},
   "source": [
    "# Test speed of different interpolation functions"
   ]
  },
  {
   "cell_type": "markdown",
   "metadata": {},
   "source": [
    "## Just a loop doing nothing"
   ]
  },
  {
   "cell_type": "code",
   "execution_count": 49,
   "metadata": {},
   "outputs": [
    {
     "name": "stdout",
     "output_type": "stream",
     "text": [
      "Time for evalutation: 0.03430986404418945\n"
     ]
    }
   ],
   "source": [
    "t0 = time.time()\n",
    "for grid in grids:\n",
    "    pass\n",
    "\n",
    "t1 = time.time()\n",
    "\n",
    "total = t1 - t0\n",
    "\n",
    "print(\"Time for evalutation:\", total)"
   ]
  },
  {
   "cell_type": "markdown",
   "metadata": {},
   "source": [
    "## The new interpolation function 2D"
   ]
  },
  {
   "cell_type": "code",
   "execution_count": 51,
   "metadata": {},
   "outputs": [
    {
     "name": "stdout",
     "output_type": "stream",
     "text": [
      "Time for evalutation: 0.07196879386901855\n"
     ]
    }
   ],
   "source": [
    "test0 = []\n",
    "t0 = time.time()\n",
    "for grid in grids:\n",
    "    test0.append(interpolate_grid_2D(grid))\n",
    "\n",
    "t1 = time.time()\n",
    "\n",
    "total = t1 - t0\n",
    "\n",
    "print(\"Time for evalutation:\", total)"
   ]
  },
  {
   "cell_type": "markdown",
   "metadata": {},
   "source": [
    "## New interpolation 1D"
   ]
  },
  {
   "cell_type": "code",
   "execution_count": 53,
   "metadata": {},
   "outputs": [
    {
     "name": "stdout",
     "output_type": "stream",
     "text": [
      "Time for evalutation: 0.07355594635009766\n"
     ]
    }
   ],
   "source": [
    "test1 = []\n",
    "t0 = time.time()\n",
    "for grid in grids:\n",
    "    test1.append(interpolate_grid(grid))\n",
    "\n",
    "t1 = time.time()\n",
    "\n",
    "total = t1 - t0\n",
    "\n",
    "print(\"Time for evalutation:\", total)"
   ]
  },
  {
   "cell_type": "markdown",
   "metadata": {},
   "source": [
    "## New interpolation function without JIT compilation"
   ]
  },
  {
   "cell_type": "code",
   "execution_count": 11,
   "metadata": {},
   "outputs": [
    {
     "name": "stdout",
     "output_type": "stream",
     "text": [
      "Time for evalutation: 9.366427898406982\n"
     ]
    }
   ],
   "source": [
    "test2 = []\n",
    "t0 = time.time()\n",
    "for grid in grids:\n",
    "    test2.append(interpolate_grid_nojit(grid))\n",
    "\n",
    "t1 = time.time()\n",
    "\n",
    "total = t1 - t0\n",
    "\n",
    "print(\"Time for evalutation:\", total)"
   ]
  },
  {
   "cell_type": "markdown",
   "metadata": {},
   "source": [
    "## The old implementation of the interpolation function"
   ]
  },
  {
   "cell_type": "code",
   "execution_count": 12,
   "metadata": {},
   "outputs": [
    {
     "name": "stdout",
     "output_type": "stream",
     "text": [
      "Time for evalutation: 29.778298139572144\n"
     ]
    }
   ],
   "source": [
    "test3 = []\n",
    "t0 = time.time()\n",
    "for grid in grids:\n",
    "    test3.append(interp_func_OLD(grid))\n",
    "\n",
    "t1 = time.time()\n",
    "\n",
    "total = t1 - t0\n",
    "\n",
    "print(\"Time for evalutation:\", total)"
   ]
  },
  {
   "cell_type": "markdown",
   "metadata": {},
   "source": [
    "## The new vectorised function, no for loop"
   ]
  },
  {
   "cell_type": "code",
   "execution_count": 14,
   "metadata": {},
   "outputs": [
    {
     "name": "stdout",
     "output_type": "stream",
     "text": [
      "Time for evalutation: 0.007842063903808594\n"
     ]
    }
   ],
   "source": [
    "t0 = time.time()\n",
    "\n",
    "test4 = interpolate_grid_vec(grids)\n",
    "\n",
    "t1 = time.time()\n",
    "\n",
    "total = t1 - t0\n",
    "\n",
    "print(\"Time for evalutation:\", total)"
   ]
  },
  {
   "cell_type": "markdown",
   "metadata": {},
   "source": [
    "### Check that results are all the same"
   ]
  },
  {
   "cell_type": "code",
   "execution_count": 54,
   "metadata": {},
   "outputs": [
    {
     "data": {
      "text/plain": [
       "Array(True, dtype=bool)"
      ]
     },
     "execution_count": 54,
     "metadata": {},
     "output_type": "execute_result"
    }
   ],
   "source": [
    "jnp.all((jnp.array(test1) - jnp.array(test0)) == 0)"
   ]
  },
  {
   "cell_type": "code",
   "execution_count": 18,
   "metadata": {},
   "outputs": [
    {
     "data": {
      "text/plain": [
       "Array(True, dtype=bool)"
      ]
     },
     "execution_count": 18,
     "metadata": {},
     "output_type": "execute_result"
    }
   ],
   "source": [
    "jnp.all((jnp.array(test1) - jnp.array(test2)) == 0)"
   ]
  },
  {
   "cell_type": "code",
   "execution_count": 19,
   "metadata": {},
   "outputs": [
    {
     "data": {
      "text/plain": [
       "Array(True, dtype=bool)"
      ]
     },
     "execution_count": 19,
     "metadata": {},
     "output_type": "execute_result"
    }
   ],
   "source": [
    "jnp.all((jnp.array(test1) - jnp.array(test3)) == 0)"
   ]
  },
  {
   "cell_type": "code",
   "execution_count": 20,
   "metadata": {},
   "outputs": [
    {
     "data": {
      "text/plain": [
       "Array(True, dtype=bool)"
      ]
     },
     "execution_count": 20,
     "metadata": {},
     "output_type": "execute_result"
    }
   ],
   "source": [
    "jnp.all((jnp.array(test1) - test4) == 0)"
   ]
  },
  {
   "cell_type": "code",
   "execution_count": null,
   "metadata": {},
   "outputs": [],
   "source": []
  }
 ],
 "metadata": {
  "kernelspec": {
   "display_name": "super_net",
   "language": "python",
   "name": "python3"
  },
  "language_info": {
   "codemirror_mode": {
    "name": "ipython",
    "version": 3
   },
   "file_extension": ".py",
   "mimetype": "text/x-python",
   "name": "python",
   "nbconvert_exporter": "python",
   "pygments_lexer": "ipython3",
   "version": "3.10.13"
  }
 },
 "nbformat": 4,
 "nbformat_minor": 2
}
