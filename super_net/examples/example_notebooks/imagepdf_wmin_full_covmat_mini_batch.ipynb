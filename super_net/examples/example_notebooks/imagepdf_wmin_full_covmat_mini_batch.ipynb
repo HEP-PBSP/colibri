{
 "cells": [
  {
   "cell_type": "markdown",
   "id": "df4094c2",
   "metadata": {},
   "source": [
    "# ImagePDF - wmin (Full Covmat + Mini Batch Training)"
   ]
  },
  {
   "cell_type": "code",
   "execution_count": 1,
   "id": "ea5ea34e",
   "metadata": {},
   "outputs": [],
   "source": [
    "import itertools\n",
    "\n",
    "import numpy as np\n",
    "import numpy.random as npr\n",
    "\n",
    "import jax.numpy as jnp\n",
    "import jax\n",
    "\n",
    "from jax.example_libraries import optimizers\n",
    "\n",
    "from validphys.api import API\n",
    "from validphys.fkparser import load_fktable\n",
    "from validphys.commondataparser import load_commondata\n",
    "\n",
    "from reportengine import collect\n",
    "\n",
    "\n",
    "import pandas as pd\n",
    "from validphys.core import DataGroupSpec\n",
    "\n",
    "from validphys.pdfbases import evolution\n",
    "from validphys import convolution\n",
    "from validphys import covmats\n",
    "from validphys.loader import Loader\n",
    "\n",
    "import jax.scipy.linalg as jla\n",
    "\n"
   ]
  },
  {
   "cell_type": "code",
   "execution_count": 2,
   "id": "71bc24c1",
   "metadata": {},
   "outputs": [],
   "source": [
    "inp = {\n",
    "    \"fit\": \"210713-n3fit-001\",\n",
    "    \"dataset_inputs\": {\"from_\": \"fit\"},\n",
    "    \"use_cuts\": \"internal\",\n",
    "    \"theoryid\": 400\n",
    "}"
   ]
  },
  {
   "cell_type": "code",
   "execution_count": 3,
   "id": "565a0087",
   "metadata": {},
   "outputs": [],
   "source": [
    "data = API.data(**inp)"
   ]
  },
  {
   "cell_type": "code",
   "execution_count": 4,
   "id": "279b08df",
   "metadata": {},
   "outputs": [
    {
     "name": "stdout",
     "output_type": "stream",
     "text": [
      "Excluding ATLAS_1JET_8TEV_R06_DEC\n",
      "Excluding ATLAS_2JET_7TEV_R06\n",
      "Excluding CMS_2JET_7TEV\n",
      "Excluding CMS_1JET_8TEV\n"
     ]
    }
   ],
   "source": [
    "# store grids with shape (50,) only\n",
    "xx = []\n",
    "\n",
    "excluded = set()\n",
    "included = set()\n",
    "\n",
    "for ds in data.datasets:\n",
    "\n",
    "    for fk in ds.fkspecs:\n",
    "\n",
    "        xgrid = load_fktable(fk).xgrid\n",
    "        \n",
    "        if xgrid.shape != (50,):\n",
    "            print(\"Excluding\", ds)\n",
    "            excluded.add(ds)\n",
    "            continue\n",
    "        else:\n",
    "            xx.append(xgrid)\n",
    "            included.add(ds)\n",
    "included = list(included)"
   ]
  },
  {
   "cell_type": "code",
   "execution_count": 5,
   "id": "405dc3c2",
   "metadata": {
    "scrolled": false
   },
   "outputs": [],
   "source": [
    "from jax.tree_util import register_pytree_node_class\n",
    "\n",
    "# Idea: register class as pytree so that data_stream batches can be passed\n",
    "# to jax.jit compiled functions\n",
    "# note that the arguments of the constructor of DataGroupSpec are also classes\n",
    "# these should therefore be registered as pytree classes as well\n",
    "# this is not trivial to achieve\n",
    "\n",
    "\n",
    "@register_pytree_node_class\n",
    "class FilteredDataGroupSpec(DataGroupSpec):\n",
    "    \"\"\"\n",
    "    \"\"\"\n",
    "\n",
    "\n",
    "    def tree_flatten(self):\n",
    "        \"\"\"\n",
    "        \"\"\"\n",
    "        children = (self.name , self.datasets, self.dsinputs ) #(self.name,jaxify_datasets(self.datasets), jaxify_datasets(self.dsinputs)) \n",
    "        aux_data = None\n",
    "        return (children, aux_data)\n",
    "    \n",
    "    @classmethod\n",
    "    def tree_unflatten(cls, aux_data, children):\n",
    "        \"\"\" \n",
    "        \"\"\"\n",
    "        return cls(*children)\n",
    "    \n",
    "    def data_stream(self, size=1,seed = 0):\n",
    "        \"\"\"yield a DataGroupSpec that contains 1 or more DataSetSpecs\n",
    "\n",
    "        Parameters\n",
    "        ----------\n",
    "        size : int, default value is 1\n",
    "            number of datasets to include in batch\n",
    "        \n",
    "        seed : int, default value is 0\n",
    "            seed used to set RandomState. Useful for reproducibility.\n",
    "        \n",
    "        Yields\n",
    "        ------\n",
    "        DataGroupSpec\n",
    "        \"\"\"\n",
    "        \n",
    "        # this is no longer needed\n",
    "#         rng = npr.RandomState(seed)\n",
    "\n",
    "        while True:\n",
    "\n",
    "            # index of datasets, generate unique random integers\n",
    "            seq = np.arange(0, len(self.datasets)-1)\n",
    "            \n",
    "            # random shuffle should probably take a seed for reproducibility\n",
    "            np.random.shuffle(seq)\n",
    "            ds_idx = seq[:size]\n",
    "#             ds_idx = rng.randint(low=0,high = len(self.datasets)-1,size = size)\n",
    "            \n",
    "            ds_specs = np.array(self.datasets)[ds_idx]\n",
    "\n",
    "            filt_data_batch = FilteredDataGroupSpec(name = \"data_batch\", datasets = tuple(ds_specs), dsinputs = ds_specs)\n",
    "\n",
    "            yield filt_data_batch\n",
    "\n",
    "\n",
    "        \n",
    "        \n",
    "filtered_data = FilteredDataGroupSpec(name = \"data\", datasets = tuple(included), dsinputs = included)\n",
    "\n",
    "flat, tree = filtered_data.tree_flatten()\n",
    "unflattened = filtered_data.tree_unflatten(tree, flat)"
   ]
  },
  {
   "cell_type": "code",
   "execution_count": 7,
   "id": "18bab19a",
   "metadata": {},
   "outputs": [
    {
     "data": {
      "text/plain": [
       "FilteredDataGroupSpec(name='data_batch', datasets=())"
      ]
     },
     "execution_count": 7,
     "metadata": {},
     "output_type": "execute_result"
    }
   ],
   "source": [
    "# batches iterator can be called like this\n",
    "batches = filtered_data.data_stream(size=0)\n",
    "\n",
    "data_batches = next(batches)\n",
    "data_batches"
   ]
  },
  {
   "cell_type": "code",
   "execution_count": 8,
   "id": "7dcb7372",
   "metadata": {},
   "outputs": [
    {
     "data": {
      "text/plain": [
       "1.3322676295501878e-15"
      ]
     },
     "execution_count": 8,
     "metadata": {},
     "output_type": "execute_result"
    }
   ],
   "source": [
    "# test the all the x grids are the same\n",
    "arr = np.array(xx)\n",
    "arr.std(axis=0).max()"
   ]
  },
  {
   "cell_type": "code",
   "execution_count": 9,
   "id": "199a0c99",
   "metadata": {},
   "outputs": [],
   "source": [
    "# TODO: Is this needed? -> probably no need to jit compile\n",
    "# jit: just-in-time (JIT) compilation decorator\n",
    "# compile functions\n",
    "OP = {key: jax.jit(val) for key,val in convolution.OP.items()}"
   ]
  },
  {
   "cell_type": "code",
   "execution_count": 10,
   "id": "71fa8b05",
   "metadata": {},
   "outputs": [],
   "source": [
    "rng = jax.random.PRNGKey(0xDEADBEEF)"
   ]
  },
  {
   "cell_type": "code",
   "execution_count": 11,
   "id": "685f9a88",
   "metadata": {},
   "outputs": [
    {
     "name": "stdout",
     "output_type": "stream",
     "text": [
      "LHAPDF 6.4.0 loading all 101 PDFs in set 210713-n3fit-001\n",
      "210713-n3fit-001, version 1; 101 PDF members\n"
     ]
    }
   ],
   "source": [
    "l = Loader()\n",
    "pdf = l.check_pdf(\"210713-n3fit-001\")\n",
    "\n",
    "# shape (101, 14, 50)\n",
    "# LinearBasis Class - > implements basis transformation from flavour to any?\n",
    "# grid_values: Evaluate ``x*f(x)`` on a grid of points in flavour, x and Q.\n",
    "\n",
    "INPUT_GRID = evolution.grid_values(pdf, convolution.FK_FLAVOURS, xx[0], [1.65]).squeeze(-1)\n",
    "\n",
    "# initial weights for weight minimization\n",
    "weight_base_num = jax.random.normal(rng, shape=(INPUT_GRID.shape[0],))\n",
    "weight_base = weight_base_num/jnp.sum(weight_base_num)"
   ]
  },
  {
   "cell_type": "markdown",
   "id": "af2bce0f",
   "metadata": {},
   "source": [
    "## Prediction Functions"
   ]
  },
  {
   "cell_type": "code",
   "execution_count": 12,
   "id": "eff3c317",
   "metadata": {},
   "outputs": [],
   "source": [
    "def make_dis_prediction(fk):\n",
    "    \"\"\"\n",
    "    TODO\n",
    "    \n",
    "    Parameters\n",
    "    ----------\n",
    "    fk : \n",
    "    \n",
    "    Returns\n",
    "    -------\n",
    "    \n",
    "    \n",
    "    \"\"\"\n",
    "    indices = fk.luminosity_mapping\n",
    "    fk_arr = jnp.array(fk.get_np_fktable())\n",
    "    \n",
    "    @jax.jit\n",
    "    def dis_prediction(pdf):\n",
    "        \"\"\"\n",
    "        Compute theory prediction as\n",
    "        \n",
    "        T_i = FK_{i,a,x} f_{a,x}\n",
    "        \n",
    "        summing over repeated indices\n",
    "        \n",
    "        Parameters\n",
    "        ----------\n",
    "        pdf : \n",
    "        \n",
    "        \"\"\"\n",
    "        return jnp.einsum(\"ijk, jk ->i\", fk_arr, pdf[indices, :])\n",
    "    return dis_prediction\n",
    "    \n",
    "    \n",
    "def make_had_prediction(fk):\n",
    "    indices = fk.luminosity_mapping\n",
    "    first_indices = indices[0::2]\n",
    "    second_indices = indices[1::2]\n",
    "    fk_arr = jnp.array(fk.get_np_fktable())\n",
    "    @jax.jit\n",
    "    def had_prediction(pdf):\n",
    "        return jnp.einsum(\"ijkl,jk,jl->i\", fk_arr, pdf[first_indices,:], pdf[second_indices,:])\n",
    "    return had_prediction\n",
    "\n",
    "\n",
    "def make_pred_dataset(dataset):\n",
    "    \"\"\"\n",
    "    \"\"\"\n",
    "    \n",
    "    pred_funcs = []\n",
    "    \n",
    "    # why does each dataset have several fkspecs?\n",
    "    # e.g. compound has two fkspec?\n",
    "    \n",
    "    for fkspec in dataset.fkspecs:\n",
    "        fk = load_fktable(fkspec).with_cuts(dataset.cuts)\n",
    "        if fk.hadronic:\n",
    "            pred = make_had_prediction(fk)\n",
    "        else:\n",
    "            pred = make_dis_prediction(fk)\n",
    "        pred_funcs.append(pred)\n",
    "    @jax.jit\n",
    "    def prediction(pdf):\n",
    "        return OP[dataset.op](*[f(pdf) for f in pred_funcs])\n",
    "    \n",
    "    return prediction\n",
    "\n",
    "\n",
    "def make_pred_data(data):\n",
    "    \"\"\"same as make_pred_datasets but for DataGroupSpec\n",
    "    \n",
    "    Parameters\n",
    "    ----------\n",
    "    data : DataGroupSpec\n",
    "    \n",
    "    Returns\n",
    "    -------\n",
    "    jnp.array\n",
    "    \n",
    "    \"\"\"\n",
    "    \n",
    "    predictions = []\n",
    "    for ds in data.datasets:\n",
    "        predictions.append(make_pred_dataset(ds))\n",
    "        \n",
    "    @jax.jit\n",
    "    def eval_preds(pdf):\n",
    "        return jnp.array(list(itertools.chain(*[f(pdf) for f in predictions])))\n",
    "\n",
    "    return eval_preds"
   ]
  },
  {
   "cell_type": "code",
   "execution_count": 13,
   "id": "76341d23",
   "metadata": {
    "scrolled": true
   },
   "outputs": [],
   "source": [
    "m_p_d = make_pred_data(filtered_data)"
   ]
  },
  {
   "cell_type": "markdown",
   "id": "e437023a",
   "metadata": {},
   "source": [
    "## Loss functions"
   ]
  },
  {
   "cell_type": "code",
   "execution_count": 210,
   "id": "675e4fa1",
   "metadata": {},
   "outputs": [],
   "source": [
    "def make_chi2(ds):\n",
    "    \"\"\"\n",
    "    \n",
    "    \"\"\"\n",
    "    cd = load_commondata(ds.commondata).with_cuts(ds.cuts)\n",
    "\n",
    "    central_value = jnp.array(cd.central_values)\n",
    "\n",
    "    covmat = covmats.covmat_from_systematics(cd, dataset_input=ds)\n",
    "\n",
    "    sqrt_covmat = jnp.array(covmats.sqrt_covmat(covmat))\n",
    "\n",
    "    pred = make_pred(ds)\n",
    "    \n",
    "    @jax.jit\n",
    "    def chi2(pdf):\n",
    "        diff = pred(pdf) - central_value\n",
    "        # solve_triangular: solve the equation a x = b for x, assuming a is a triangular matrix.\n",
    "        chi2_vec = jla.solve_triangular(sqrt_covmat, diff, lower=True)\n",
    "        return jnp.sum(chi2_vec**2)\n",
    "    \n",
    "    return chi2\n",
    "\n",
    "\n",
    "def make_chi2_data(data):\n",
    "    \"\"\"\n",
    "    \n",
    "    Parameters\n",
    "    ----------\n",
    "    data : DataGroupSpec\n",
    "    \n",
    "    \"\"\"\n",
    "\n",
    "    cd_list = data.load_commondata_instance()\n",
    "\n",
    "    central_values = [cd.central_values for cd in cd_list]\n",
    "    \n",
    "    central_values = jnp.array(pd.concat(central_values, axis=0))\n",
    "\n",
    "    covmat = covmats.dataset_inputs_covmat_from_systematics(cd_list, data_input=data.dsinputs)\n",
    "    \n",
    "    sqrt_covmat = jnp.array(covmats.sqrt_covmat(covmat))\n",
    "    \n",
    "    pred = make_pred_data(data) \n",
    "    \n",
    "    @jax.jit\n",
    "    def chi2(pdf):\n",
    "        diff = pred(pdf) - central_values\n",
    "        # solve_triangular: solve the equation a x = b for x, assuming a is a triangular matrix.\n",
    "        chi2_vec = jla.solve_triangular(sqrt_covmat, diff, lower=True)\n",
    "        return jnp.sum(chi2_vec**2)\n",
    "    \n",
    "    return chi2\n",
    "\n",
    "import time\n",
    "\n",
    "def make_chi2_data_batch(data_batch):\n",
    "    \"\"\"\n",
    "    \n",
    "    Parameters\n",
    "    ----------\n",
    "    data : DataGroupSpec\n",
    "    \n",
    "    \"\"\"\n",
    "    t0=time.time()\n",
    "    cd_list = data_batch.load_commondata_instance()\n",
    "\n",
    "    central_values = [cd.central_values for cd in cd_list]\n",
    "\n",
    "    central_values = jnp.array(pd.concat(central_values, axis=0))\n",
    "\n",
    "    covmat = covmats.dataset_inputs_covmat_from_systematics(cd_list, data_input=data_batch.dsinputs)\n",
    "\n",
    "    sqrt_covmat = jnp.array(covmats.sqrt_covmat(covmat))\n",
    "\n",
    "    pred = make_pred_data(data_batch) \n",
    "    t1 = time.time()\n",
    "    print(f\"Time spent on Validphys stuff = {t1-t0}\")\n",
    "\n",
    "    @jax.jit\n",
    "    def chi2(pdf):\n",
    "        diff = pred(pdf) - central_values\n",
    "        # solve_triangular: solve the equation a x = b for x, assuming a is a triangular matrix.\n",
    "        chi2_vec = jla.solve_triangular(sqrt_covmat, diff, lower=True)\n",
    "        return jnp.sum(chi2_vec**2)\n",
    "    \n",
    "    return chi2\n",
    "\n",
    "def make_chi2_data_mini_batch(data):\n",
    "    \"\"\"\n",
    "    \n",
    "    \"\"\"\n",
    "    cd_list = data.load_commondata_instance()\n",
    "\n",
    "    central_values = [cd.central_values for cd in cd_list]\n",
    "    \n",
    "    central_values = jnp.array(pd.concat(central_values, axis=0))\n",
    "\n",
    "    covmat = covmats.dataset_inputs_covmat_from_systematics(cd_list, data_input=data.dsinputs)\n",
    "    \n",
    "    sqrt_covmat = jnp.array(covmats.sqrt_covmat(covmat))\n",
    "    \n",
    "    pred = make_pred_data(data) \n",
    "    \n",
    "    @jax.jit\n",
    "    def chi2(pdf,batch_idx):\n",
    "        \"\"\"\n",
    "        TODO\n",
    "        \"\"\"\n",
    "        diff = pred(pdf)[batch_idx] - central_values[batch_idx]\n",
    "\n",
    "        # solve_triangular: solve the equation a x = b for x, assuming a is a triangular matrix.\n",
    "        chi2_vec = jla.solve_triangular(sqrt_covmat[batch_idx][:,batch_idx], diff, lower=True)\n",
    "        return jnp.sum(chi2_vec**2)\n",
    "    \n",
    "    return chi2\n",
    "\n",
    "\n",
    "# chi2_contribs_data = make_chi2_data(filtered_data)\n",
    "# chi2_contribs_data_mini_batch = make_chi2_data_mini_batch(filtered_data)\n",
    "\n",
    "# @jax.jit\n",
    "# def loss_data(weights,data_batch):\n",
    "#     pdf = jnp.einsum(\"i,ijk\", weights, INPUT_GRID)\n",
    "#     return make_chi2_data(data_batch)(pdf) #chi2_contribs_data(pdf)\n",
    "\n"
   ]
  },
  {
   "cell_type": "code",
   "execution_count": 15,
   "id": "5bf55df9",
   "metadata": {},
   "outputs": [
    {
     "data": {
      "text/plain": [
       "<CompiledFunction of <function make_chi2_data_batch.<locals>.chi2 at 0x18999f4c0>>"
      ]
     },
     "execution_count": 15,
     "metadata": {},
     "output_type": "execute_result"
    }
   ],
   "source": [
    "batches = filtered_data.data_stream(size = 1)\n",
    "make_chi2_data_batch(next(batches))"
   ]
  },
  {
   "cell_type": "code",
   "execution_count": 21,
   "id": "d32e8433",
   "metadata": {},
   "outputs": [],
   "source": [
    "data_batch = filtered_data.data_stream(size = 1)\n",
    "\n",
    "t = [next(data_batch) for i in range(2)]"
   ]
  },
  {
   "cell_type": "code",
   "execution_count": 71,
   "id": "599547ee",
   "metadata": {},
   "outputs": [
    {
     "name": "stdout",
     "output_type": "stream",
     "text": [
      "time needed for 300 chi2 batches = 290.5631957054138sec\n"
     ]
    }
   ],
   "source": [
    "import time\n",
    "epochs = 300\n",
    "\n",
    "batches = filtered_data.data_stream(size = 4)\n",
    "t0 = time.time()\n",
    "\n",
    "chi2_batches = []\n",
    "data_batches = []\n",
    "for i in range(epochs):\n",
    "    \n",
    "    data_batch = next(batches)\n",
    "\n",
    "    data_batches.append(data_batch)\n",
    "    chi2_batches.append(make_chi2_data_batch(data_batch))\n",
    "    \n",
    "\n",
    "t1 = time.time()\n",
    "print(f\"time needed for {epochs} chi2 batches = {t1-t0}sec\")"
   ]
  },
  {
   "cell_type": "code",
   "execution_count": 82,
   "id": "70e13ef8",
   "metadata": {},
   "outputs": [],
   "source": [
    "# loss and update functions for data batches\n",
    "# general idea: the architecture should be such that arrays only are passed to jax compiled functions\n",
    "# in order to do so, we probably need to wrap the loss batch into a function\n",
    "\n",
    "\n",
    "# @jax.jit\n",
    "# def loss_batch(weights, chi2_batch):\n",
    "#     pdf = jnp.einsum(\"i,ijk\", weights, INPUT_GRID)\n",
    "#     return chi2_batch(pdf)# sum([chi2_batch(pdf) for chi2_batch in chi2_batches])\n",
    "\n",
    "# @jax.jit\n",
    "# def update_batch(step,opt_state,chi2_batch):\n",
    "#     params  = get_params(opt_state)\n",
    "#     return opt_update(step, jax.grad(loss_data)(params,chi2_batch),opt_state)\n",
    "\n",
    "from functools import partial\n",
    "# @jax.jit\n",
    "@partial(jax.jit, static_argnums=1)\n",
    "def loss_batch(weights, batch_index):\n",
    "    pdf = jnp.einsum(\"i,ijk\", weights, INPUT_GRID)\n",
    "    return chi2_batches[batch_index](pdf)# sum([chi2_batch(pdf) for chi2_batch in chi2_batches])\n",
    "\n",
    "# @jax.jit\n",
    "@partial(jax.jit, static_argnums=2)\n",
    "def update_batch(step,opt_state,batch_index):\n",
    "    params  = get_params(opt_state)\n",
    "    return opt_update(step, jax.grad(loss_batch)(params,batch_index),opt_state)\n"
   ]
  },
  {
   "cell_type": "code",
   "execution_count": 229,
   "id": "f0f3f6b3",
   "metadata": {},
   "outputs": [],
   "source": [
    "\n",
    "def loss_batch(weights,data_batch):\n",
    "    pdf = jnp.einsum(\"i,ijk\", weights, INPUT_GRID)\n",
    "    @jax.jit\n",
    "    def wrap_loss_batch(pdf):\n",
    "        return make_chi2_data_batch(data_batch)(pdf)\n",
    "    \n",
    "    return wrap_loss_batch(pdf)\n",
    "\n",
    "\n",
    "def update_batch(weights,step,opt_state,data_batch):\n",
    "    pdf = jnp.einsum(\"i,ijk\", weights, INPUT_GRID)\n",
    "    @jax.jit\n",
    "    def wrap_update_batch(pdf):\n",
    "        params  = get_params(opt_state)\n",
    "        return opt_update(step, jax.grad(loss_batch)(params,data_batch) ,opt_state)\n",
    "    \n",
    "    return wrap_update_batch(pdf)\n"
   ]
  },
  {
   "cell_type": "code",
   "execution_count": 230,
   "id": "c643504b",
   "metadata": {},
   "outputs": [],
   "source": [
    "momentum_mass = 0.9\n",
    "\n",
    "step_size = 1e-8\n",
    "\n",
    "num_epochs = 50\n",
    "\n",
    "opt_init, opt_update, get_params = optimizers.momentum(step_size, mass = momentum_mass)"
   ]
  },
  {
   "cell_type": "code",
   "execution_count": 231,
   "id": "b8fcb5e9",
   "metadata": {},
   "outputs": [],
   "source": [
    "batches = filtered_data.data_stream(size = 2)"
   ]
  },
  {
   "cell_type": "code",
   "execution_count": 232,
   "id": "5b46a2d1",
   "metadata": {
    "scrolled": true
   },
   "outputs": [
    {
     "name": "stdout",
     "output_type": "stream",
     "text": [
      "Time spent on Validphys stuff = 0.09984683990478516\n",
      "Epoch 0, loss 0.751,            datasets = ['HERACOMBNCEM', 'ATLASZHIGHMASS49FB', 'CDFZRAP_NEW', 'ATLAS_SINGLETOP_TCH_R_7TEV'], ndata = 21\n",
      "Time spent on Validphys stuff = 0.08798480033874512\n",
      "Time spent per loop = 1.3390147686004639\n",
      "Time spent on Validphys stuff = 0.2013261318206787\n",
      "Epoch 1, loss 0.636,            datasets = ['HERACOMBNCEP575', 'ATLASWZRAP11CF', 'ATLASZPT8TEVMDIST', 'CMSTTBARTOT13TEV'], ndata = 52\n",
      "Time spent on Validphys stuff = 0.17455220222473145\n",
      "Time spent per loop = 1.1907069683074951\n",
      "Time spent on Validphys stuff = 0.04670000076293945\n",
      "Epoch 2, loss 0.621,            datasets = ['LHCBZ940PB', 'ATLAS_SINGLETOP_TCH_DIFF_7TEV_T_RAP_NORM', 'CMS_SINGLETOP_TCH_R_13TEV', 'CMS_TTB_DIFF_13TEV_2016_2L_TRAP'], ndata = 13\n",
      "Time spent on Validphys stuff = 0.04668116569519043\n",
      "Time spent per loop = 0.708698034286499\n",
      "Time spent on Validphys stuff = 1.213818073272705\n",
      "Epoch 3, loss 1.358,            datasets = ['CMS_TTB_DIFF_13TEV_2016_2L_TRAP', 'SLACD_dw_ite', 'LHCB_Z_13TEV_DIELECTRON', 'ATLAS_TTB_DIFF_8TEV_LJ_TTRAPNORM'], ndata = 386\n",
      "Time spent on Validphys stuff = 1.2788150310516357\n",
      "Time spent per loop = 5.4525980949401855\n",
      "Time spent on Validphys stuff = 0.33573484420776367\n",
      "Epoch 4, loss 0.891,            datasets = ['HERACOMB_SIGMARED_B', 'SLACP_dwsh', 'CMSDY2D11', 'DYE886R_dw_ite'], ndata = 49\n",
      "Time spent on Validphys stuff = 0.31627583503723145\n",
      "Time spent per loop = 2.1466009616851807\n",
      "Time spent on Validphys stuff = 1.5776021480560303\n",
      "Epoch 5, loss 1.306,            datasets = ['LHCBWZMU7TEV', 'DYE906R_dw_ite', 'D0ZRAP_40', 'HERACOMBNCEP575'], ndata = 437\n",
      "Time spent on Validphys stuff = 1.4798016548156738\n",
      "Time spent per loop = 6.733450889587402\n",
      "Time spent on Validphys stuff = 0.6664776802062988\n",
      "Epoch 6, loss 1.557,            datasets = ['DYE886R_dw_ite', 'ATLASZHIGHMASS49FB', 'LHCB_Z_13TEV_DIELECTRON', 'ATLAS_WM_JET_8TEV_PT'], ndata = 128\n",
      "Time spent on Validphys stuff = 0.5788893699645996\n",
      "Time spent per loop = 4.356319904327393\n",
      "Time spent on Validphys stuff = 1.4673597812652588\n",
      "Epoch 7, loss 1.305,            datasets = ['ATLASWZRAP11CC', 'CDFZRAP_NEW', 'CMS_TTB_DIFF_13TEV_2016_LJ_TRAP', 'CMS_SINGLETOP_TCH_TOT_7TEV'], ndata = 383\n",
      "Time spent on Validphys stuff = 1.463977336883545\n",
      "Time spent per loop = 8.835397243499756\n",
      "Time spent on Validphys stuff = 0.42084789276123047\n",
      "Epoch 8, loss 1.019,            datasets = ['HERACOMBNCEP820', 'CHORUSNBPb_dw_ite', 'CMS_TTB_DIFF_13TEV_2016_2L_TRAP', 'ATLAS_WZ_TOT_13TEV'], ndata = 34\n",
      "Time spent on Validphys stuff = 0.4138600826263428\n",
      "Time spent per loop = 1.4741289615631104\n",
      "Time spent on Validphys stuff = 0.30863118171691895\n",
      "Epoch 9, loss 0.903,            datasets = ['CDFZRAP_NEW', 'ATLASWZRAP11CF', 'CMS_TTBAR_2D_DIFF_MTT_TRAP_NORM', 'CMSTTBARTOT13TEV'], ndata = 51\n",
      "Time spent on Validphys stuff = 0.3135039806365967\n",
      "Time spent per loop = 2.1106808185577393\n",
      "Time spent on Validphys stuff = 0.11749601364135742\n",
      "Epoch 10, loss 1.279,            datasets = ['LHCB_Z_13TEV_DIMUON', 'ATLAS_WZ_TOT_13TEV', 'ATLASWZRAP11CF', 'CDFZRAP_NEW'], ndata = 43\n",
      "Time spent on Validphys stuff = 0.11807107925415039\n",
      "Time spent per loop = 0.6741840839385986\n",
      "Time spent on Validphys stuff = 0.05606818199157715\n",
      "Epoch 11, loss 0.618,            datasets = ['CMSWMASY47FB', 'ATLAS_TOPDIFF_DILEPT_8TEV_TTRAPNORM', 'CMSDY2D11', 'CMS_SINGLETOP_TCH_R_13TEV'], ndata = 29\n",
      "Time spent on Validphys stuff = 0.05805182456970215\n",
      "Time spent per loop = 1.200186014175415\n",
      "Time spent on Validphys stuff = 0.18775701522827148\n",
      "Epoch 12, loss 1.089,            datasets = ['LHCB_Z_13TEV_DIMUON', 'CMS_TTBAR_2D_DIFF_MTT_TRAP_NORM', 'CMS_TTB_DIFF_13TEV_2016_2L_TRAP', 'D0WMASY'], ndata = 54\n",
      "Time spent on Validphys stuff = 0.19181299209594727\n",
      "Time spent per loop = 1.5116870403289795\n",
      "Time spent on Validphys stuff = 0.18442630767822266\n",
      "Epoch 13, loss 1.887,            datasets = ['DYE886P', 'ATLAS_SINGLETOP_TCH_DIFF_7TEV_TBAR_RAP_NORM', 'ATLASDY2D8TEV', 'CMS_SINGLETOP_TCH_R_8TEV'], ndata = 40\n",
      "Time spent on Validphys stuff = 0.1979992389678955\n",
      "Time spent per loop = 1.012671947479248\n",
      "Time spent on Validphys stuff = 0.09342384338378906\n",
      "Epoch 14, loss 1.272,            datasets = ['HERACOMBCCEM', 'CHORUSNUPb_dw_ite', 'CMS_TTBAR_2D_DIFF_MTT_TRAP_NORM', 'HERACOMB_SIGMARED_B'], ndata = 26\n",
      "Time spent on Validphys stuff = 0.09282302856445312\n",
      "Time spent per loop = 1.1117730140686035\n",
      "Time spent on Validphys stuff = 2.7147140502929688\n",
      "Epoch 15, loss 0.995,            datasets = ['ATLAS_SINGLETOP_TCH_R_7TEV', 'D0ZRAP_40', 'CMS_TTB_DIFF_13TEV_2016_2L_TRAP', 'NMCPD_dw_ite'], ndata = 420\n",
      "Time spent on Validphys stuff = 2.6984682083129883\n",
      "Time spent per loop = 9.02834701538086\n",
      "Time spent on Validphys stuff = 0.48363494873046875\n",
      "Epoch 16, loss 1.394,            datasets = ['HERACOMBNCEP920', 'CMS_SINGLETOP_TCH_R_8TEV', 'LHCB_Z_13TEV_DIMUON', 'ATLASPHT15_SF'], ndata = 85\n",
      "Time spent on Validphys stuff = 0.4553070068359375\n",
      "Time spent per loop = 2.4965100288391113\n",
      "Time spent on Validphys stuff = 0.16662192344665527\n",
      "Epoch 17, loss 1.252,            datasets = ['HERACOMBNCEP460', 'CMS_TTBAR_2D_DIFF_MTT_TRAP_NORM', 'DYE886R_dw_ite', 'CHORUSNUPb_dw_ite'], ndata = 59\n",
      "Time spent on Validphys stuff = 0.16777896881103516\n",
      "Time spent per loop = 1.2027738094329834\n",
      "Time spent on Validphys stuff = 0.12579894065856934\n",
      "Epoch 18, loss 1.068,            datasets = ['ATLAS_SINGLETOP_TCH_R_7TEV', 'CMSWMASY47FB', 'HERACOMBNCEP575', 'CMSTTBARTOT13TEV'], ndata = 39\n",
      "Time spent on Validphys stuff = 0.1645488739013672\n",
      "Time spent per loop = 1.488835096359253\n",
      "Time spent on Validphys stuff = 0.08408880233764648\n",
      "Epoch 19, loss 1.544,            datasets = ['CHORUSNBPb_dw_ite', 'CMS_TTB_DIFF_13TEV_2016_LJ_TRAP', 'NTVNBDMNFe_dw_ite', 'CMS_SINGLETOP_TCH_TOT_7TEV'], ndata = 19\n",
      "Time spent on Validphys stuff = 0.08357119560241699\n",
      "Time spent per loop = 1.06231689453125\n",
      "Time spent on Validphys stuff = 0.09662294387817383\n",
      "Epoch 20, loss 1.206,            datasets = ['DYE886P', 'ATLAS_TTB_DIFF_8TEV_LJ_TRAPNORM', 'ATLAS_WP_JET_8TEV_PT', 'CMS_TTB_DIFF_13TEV_2016_2L_TRAP'], ndata = 31\n",
      "Time spent on Validphys stuff = 0.10081100463867188\n",
      "Time spent per loop = 1.1938579082489014\n",
      "Time spent on Validphys stuff = 0.0977180004119873\n",
      "Epoch 21, loss 1.208,            datasets = ['ATLASWZRAP36PB', 'HERACOMBNCEP820', 'ATLAS_DY_2D_8TEV_LOWMASS', 'HERACOMBNCEP575'], ndata = 29\n",
      "Time spent on Validphys stuff = 0.09546089172363281\n",
      "Time spent per loop = 1.1760060787200928\n",
      "Time spent on Validphys stuff = 0.04767179489135742\n",
      "Epoch 22, loss 0.631,            datasets = ['CMSTOPDIFF8TEVTTRAPNORM', 'ATLASTTBARTOT7TEV', 'CMSDY2D11', 'ATLAS_TTBARTOT_13TEV_FULLLUMI'], ndata = 13\n",
      "Time spent on Validphys stuff = 0.04593205451965332\n",
      "Time spent per loop = 0.7215840816497803\n",
      "Time spent on Validphys stuff = 0.039147138595581055\n",
      "Epoch 23, loss 1.381,            datasets = ['CMSWMASY47FB', 'ATLAS_SINGLETOP_TCH_R_13TEV', 'ATLASWZRAP36PB', 'HERACOMBNCEP575'], ndata = 10\n",
      "Time spent on Validphys stuff = 0.0420987606048584\n",
      "Time spent per loop = 0.6150619983673096\n",
      "Time spent on Validphys stuff = 0.23374128341674805\n",
      "Epoch 24, loss 1.222,            datasets = ['CMS_TTB_DIFF_13TEV_2016_LJ_TRAP', 'CHORUSNUPb_dw_ite', 'HERACOMBNCEP575', 'CMSTTBARTOT13TEV'], ndata = 63\n",
      "Time spent on Validphys stuff = 0.19268083572387695\n",
      "Time spent per loop = 2.1524789333343506\n",
      "Time spent on Validphys stuff = 0.07676887512207031\n",
      "Epoch 25, loss 0.748,            datasets = ['CMSDY2D11', 'CDFZRAP_NEW', 'HERACOMB_SIGMARED_C', 'ATLASWZRAP11CF'], ndata = 19\n",
      "Time spent on Validphys stuff = 0.07255887985229492\n",
      "Time spent per loop = 1.0010721683502197\n",
      "Time spent on Validphys stuff = 0.7612571716308594\n",
      "Epoch 26, loss 1.339,            datasets = ['CMSTOPDIFF8TEVTTRAPNORM', 'ATLASWZRAP36PB', 'LHCBZ940PB', 'HERACOMBCCEP'], ndata = 344\n",
      "Time spent on Validphys stuff = 0.7738251686096191\n",
      "Time spent per loop = 3.41312575340271\n",
      "Time spent on Validphys stuff = 1.3021249771118164\n",
      "Epoch 27, loss 1.206,            datasets = ['LHCBWZMU8TEV', 'ATLASDY2D8TEV', 'NMCPD_dw_ite', 'CHORUSNUPb_dw_ite'], ndata = 581\n",
      "Time spent on Validphys stuff = 1.3753890991210938\n",
      "Time spent per loop = 5.27584171295166\n",
      "Time spent on Validphys stuff = 0.7767210006713867\n",
      "Epoch 28, loss 1.346,            datasets = ['ATLASPHT15_SF', 'NMCPD_dw_ite', 'NMC', 'SLACD_dw_ite'], ndata = 342\n"
     ]
    },
    {
     "name": "stdout",
     "output_type": "stream",
     "text": [
      "Time spent on Validphys stuff = 0.7808589935302734\n",
      "Time spent per loop = 3.523620128631592\n",
      "Time spent on Validphys stuff = 0.1802229881286621\n",
      "Epoch 29, loss 2.004,            datasets = ['ATLASTTBARTOT8TEV', 'ATLASWZRAP11CC', 'CMSTOPDIFF8TEVTTRAPNORM', 'CMS_TTBAR_2D_DIFF_MTT_TRAP_NORM'], ndata = 38\n",
      "Time spent on Validphys stuff = 0.17391204833984375\n",
      "Time spent per loop = 1.248509168624878\n",
      "Time spent on Validphys stuff = 0.12681198120117188\n",
      "Epoch 30, loss 1.440,            datasets = ['CMSTOPDIFF8TEVTTRAPNORM', 'HERACOMBNCEP920', 'CMSTTBARTOT13TEV', 'ATLASWZRAP11CC'], ndata = 43\n",
      "Time spent on Validphys stuff = 0.12425494194030762\n",
      "Time spent per loop = 1.0687651634216309\n",
      "Time spent on Validphys stuff = 0.04917407035827637\n",
      "Epoch 31, loss 0.725,            datasets = ['CMS_SINGLETOP_TCH_TOT_7TEV', 'LHCB_Z_13TEV_DIELECTRON', 'CMSTOPDIFF8TEVTTRAPNORM', 'CMSWMASY47FB'], ndata = 12\n",
      "Time spent on Validphys stuff = 0.048011064529418945\n",
      "Time spent per loop = 0.7290349006652832\n",
      "Time spent on Validphys stuff = 0.5318698883056641\n",
      "Epoch 32, loss 1.094,            datasets = ['DYE886P', 'D0WMASY', 'CMS_TTB_DIFF_13TEV_2016_LJ_TRAP', 'ATLASWZRAP11CF'], ndata = 205\n",
      "Time spent on Validphys stuff = 0.5358309745788574\n",
      "Time spent per loop = 2.334446907043457\n",
      "Time spent on Validphys stuff = 0.24725890159606934\n",
      "Epoch 33, loss 0.982,            datasets = ['CMSTTBARTOT5TEV', 'HERACOMBNCEP920', 'CMS_SINGLETOP_TCH_TOT_7TEV', 'DYE605_dw_ite'], ndata = 76\n",
      "Time spent on Validphys stuff = 0.24674177169799805\n",
      "Time spent per loop = 1.090165138244629\n",
      "Time spent on Validphys stuff = 0.8420040607452393\n",
      "Epoch 34, loss 0.423,            datasets = ['LHCB_Z_13TEV_DIMUON', 'ATLASWZRAP11CF', 'DYE605_dw_ite', 'LHCB_Z_13TEV_DIELECTRON'], ndata = 88\n",
      "Time spent on Validphys stuff = 0.7599689960479736\n",
      "Time spent per loop = 5.197938919067383\n",
      "Time spent on Validphys stuff = 0.12825703620910645\n",
      "Epoch 35, loss 1.953,            datasets = ['ATLAS_TTBARTOT_13TEV_FULLLUMI', 'SLACP_dwsh', 'DYE605_dw_ite', 'HERACOMBNCEP575'], ndata = 35\n",
      "Time spent on Validphys stuff = 0.12687897682189941\n",
      "Time spent per loop = 1.0735406875610352\n",
      "Time spent on Validphys stuff = 0.09420895576477051\n",
      "Epoch 36, loss 1.227,            datasets = ['CMSWEASY840PB', 'ATLAS_TOPDIFF_DILEPT_8TEV_TTRAPNORM', 'CHORUSNUPb_dw_ite', 'LHCBWZMU8TEV'], ndata = 20\n",
      "Time spent on Validphys stuff = 0.08729696273803711\n",
      "Time spent per loop = 1.2349581718444824\n",
      "Time spent on Validphys stuff = 2.696892023086548\n",
      "Epoch 37, loss 1.003,            datasets = ['SLACP_dwsh', 'D0WMASY', 'CMSTTBARTOT8TEV', 'ATLAS_TTBARTOT_13TEV_FULLLUMI'], ndata = 431\n",
      "Time spent on Validphys stuff = 2.731276035308838\n",
      "Time spent per loop = 8.775497198104858\n",
      "Time spent on Validphys stuff = 0.25177597999572754\n",
      "Epoch 38, loss 0.371,            datasets = ['SLACD_dw_ite', 'LHCB_Z_13TEV_DIMUON', 'ATLASWZRAP11CC', 'CMSWEASY840PB'], ndata = 40\n",
      "Time spent on Validphys stuff = 0.24624013900756836\n",
      "Time spent per loop = 1.0803520679473877\n",
      "Time spent on Validphys stuff = 0.8994269371032715\n",
      "Epoch 39, loss 1.298,            datasets = ['HERACOMBCCEP', 'LHCB_Z_13TEV_DIMUON', 'CMSTTBARTOT13TEV', 'HERACOMBNCEM'], ndata = 122\n",
      "Time spent on Validphys stuff = 0.8578407764434814\n",
      "Time spent per loop = 5.303771257400513\n",
      "Time spent on Validphys stuff = 0.043977975845336914\n",
      "Epoch 40, loss 1.634,            datasets = ['CDFZRAP_NEW', 'LHCBWZMU8TEV', 'CMS_SINGLETOP_TCH_R_13TEV', 'ATLAS_TTB_DIFF_8TEV_LJ_TRAPNORM'], ndata = 6\n",
      "Time spent on Validphys stuff = 0.046350955963134766\n",
      "Time spent per loop = 0.6000182628631592\n",
      "Time spent on Validphys stuff = 0.5492899417877197\n",
      "Epoch 41, loss 0.720,            datasets = ['NMC', 'HERACOMBNCEP575', 'ATLAS_TOPDIFF_DILEPT_8TEV_TTRAPNORM', 'SLACP_dwsh'], ndata = 64\n",
      "Time spent on Validphys stuff = 0.551673173904419\n",
      "Time spent per loop = 2.369680881500244\n",
      "Time spent on Validphys stuff = 0.5349569320678711\n",
      "Epoch 42, loss 1.326,            datasets = ['ATLAS_TTB_DIFF_8TEV_LJ_TTRAPNORM', 'NMCPD_dw_ite', 'CMSWMU8TEV', 'CMS_TTBAR_2D_DIFF_MTT_TRAP_NORM'], ndata = 76\n",
      "Time spent on Validphys stuff = 0.5373330116271973\n",
      "Time spent per loop = 5.246385097503662\n",
      "Time spent on Validphys stuff = 1.4737029075622559\n",
      "Epoch 43, loss 0.828,            datasets = ['ATLAS_TTB_DIFF_8TEV_LJ_TTRAPNORM', 'CMSTOPDIFF8TEVTTRAPNORM', 'HERACOMBCCEM', 'LHCBZ940PB'], ndata = 453\n",
      "Time spent on Validphys stuff = 1.4511239528656006\n",
      "Time spent per loop = 5.244323015213013\n",
      "Time spent on Validphys stuff = 1.3222110271453857\n",
      "Epoch 44, loss 1.472,            datasets = ['LHCBZEE2FB_40', 'NTVNBDMNFe_dw_ite', 'CMSWMU8TEV', 'DYE605_dw_ite'], ndata = 423\n",
      "Time spent on Validphys stuff = 1.3015837669372559\n",
      "Time spent per loop = 6.105550050735474\n",
      "Time spent on Validphys stuff = 0.6543087959289551\n",
      "Epoch 45, loss 0.922,            datasets = ['NTVNUDMNFe_dw_ite', 'HERACOMBNCEP820', 'ATLASTTBARTOT8TEV', 'ATLASLOMASSDY11EXT'], ndata = 255\n",
      "Time spent on Validphys stuff = 0.6531660556793213\n",
      "Time spent per loop = 2.6396820545196533\n",
      "Time spent on Validphys stuff = 0.20279407501220703\n",
      "Epoch 46, loss 2.504,            datasets = ['NMC', 'HERACOMBNCEP460', 'ATLASTTBARTOT8TEV', 'HERACOMB_SIGMARED_C'], ndata = 41\n",
      "Time spent on Validphys stuff = 0.20079278945922852\n",
      "Time spent per loop = 1.0468831062316895\n",
      "Time spent on Validphys stuff = 0.2756319046020508\n",
      "Epoch 47, loss 1.725,            datasets = ['CMS_TTBAR_2D_DIFF_MTT_TRAP_NORM', 'HERACOMBNCEP920', 'ATLASZPT8TEVYDIST', 'LHCBWZMU7TEV'], ndata = 76\n",
      "Time spent on Validphys stuff = 0.27742910385131836\n",
      "Time spent per loop = 1.114732027053833\n",
      "Time spent on Validphys stuff = 0.2886807918548584\n",
      "Epoch 48, loss 1.356,            datasets = ['CMSTOPDIFF8TEVTTRAPNORM', 'CDFZRAP_NEW', 'ATLASZHIGHMASS49FB', 'CMSWMASY47FB'], ndata = 73\n",
      "Time spent on Validphys stuff = 0.2924180030822754\n",
      "Time spent per loop = 1.2557520866394043\n",
      "Time spent on Validphys stuff = 0.16161680221557617\n",
      "Epoch 49, loss 2.206,            datasets = ['HERACOMBCCEM', 'ATLASZPT8TEVYDIST', 'ATLAS_TTBARTOT_13TEV_FULLLUMI', 'CMS_SINGLETOP_TCH_R_8TEV'], ndata = 47\n",
      "Time spent on Validphys stuff = 0.14664506912231445\n",
      "Time spent per loop = 1.6997740268707275\n"
     ]
    }
   ],
   "source": [
    "opt_counter = itertools.count()\n",
    "opt_state = opt_init(weight_base)\n",
    "\n",
    "\n",
    "loss = []\n",
    "for i in range(num_epochs):\n",
    "    t0 = time.time()\n",
    "    data_batch = next(batches)\n",
    "    cd_list = data_batch.load_commondata_instance()\n",
    "    ndata = sum([cd.ndata for cd in cd_list])\n",
    "      \n",
    "    weights = get_params(opt_state)\n",
    "    pdf = jnp.einsum(\"i,ijk\", weights, INPUT_GRID)\n",
    "\n",
    "    lss = loss_batch(get_params(opt_state), data_batch) / ndata\n",
    "    loss.append(lss)\n",
    "    print(f\"Epoch {i}, loss {lss:.3f},\\\n",
    "            datasets = {[ds.name for ds in data_batches[i].datasets]}, ndata = {ndata}\")\n",
    "    \n",
    "    opt_state = update_batch(weights,next(opt_counter), opt_state, data_batch)\n",
    "    t1 = time.time()\n",
    "    print(f\"Time spent per loop = {t1-t0}\")"
   ]
  },
  {
   "cell_type": "code",
   "execution_count": 224,
   "id": "a70eb9a4",
   "metadata": {},
   "outputs": [
    {
     "data": {
      "text/plain": [
       "<matplotlib.legend.Legend at 0x19bbf1820>"
      ]
     },
     "execution_count": 224,
     "metadata": {},
     "output_type": "execute_result"
    },
    {
     "data": {
      "image/png": "[encoded data removed]",
      "text/plain": [
       "<Figure size 640x480 with 1 Axes>"
      ]
     },
     "metadata": {},
     "output_type": "display_data"
    }
   ],
   "source": [
    "import matplotlib.pyplot as plt\n",
    "import pandas as pd\n",
    "\n",
    "\n",
    "loss = np.array(loss)\n",
    "df = pd.DataFrame({\"loss\":loss})\n",
    "\n",
    "fig, ax = plt.subplots()\n",
    "\n",
    "ax.plot(loss, label = \"loss\")\n",
    "wind_size = 10\n",
    "ax.plot(df.rolling(wind_size).mean().to_numpy(), label = f\"loss, rolling average, window = {wind_size}\")\n",
    "ax.set_xlabel(\"Epochs\")\n",
    "ax.set_ylabel(\"Loss / ndata\")\n",
    "ax.legend()"
   ]
  },
  {
   "cell_type": "markdown",
   "id": "f1e39028",
   "metadata": {},
   "source": [
    "## mini batch gradient descendt"
   ]
  },
  {
   "cell_type": "code",
   "execution_count": 16,
   "id": "b300bc1a",
   "metadata": {},
   "outputs": [],
   "source": [
    "# loss_data should take array of chi2 functions each of which is for a\n",
    "# different data batch\n",
    "\n",
    "# @jax.jit\n",
    "def loss_data(weights,data_batch):\n",
    "    pdf = jnp.einsum(\"i,ijk\", weights, INPUT_GRID)\n",
    "    return make_chi2_data(data_batch)(pdf) #chi2_contribs_data(pdf)"
   ]
  },
  {
   "cell_type": "markdown",
   "id": "21df3ffc",
   "metadata": {},
   "source": [
    "### Train model using jax optimizers example library"
   ]
  },
  {
   "cell_type": "code",
   "execution_count": 48,
   "id": "0d60ca00",
   "metadata": {},
   "outputs": [],
   "source": [
    "momentum_mass = 0.9\n",
    "\n",
    "step_size = 1e-8\n",
    "\n",
    "num_epochs = 150\n",
    "\n",
    "opt_init, opt_update, get_params = optimizers.momentum(step_size, mass = momentum_mass)\n",
    "# opt_init, opt_update, get_params = optimizers.adagrad(step_size, momentum = momentum_mass)"
   ]
  },
  {
   "cell_type": "code",
   "execution_count": 49,
   "id": "03c528ea",
   "metadata": {},
   "outputs": [],
   "source": [
    "# @jax.jit\n",
    "def update(step,opt_state,data_batch):\n",
    "    params  = get_params(opt_state)\n",
    "    return opt_update(step, jax.grad(loss_data)(params,data_batch),opt_state)"
   ]
  },
  {
   "cell_type": "code",
   "execution_count": 50,
   "id": "8139bd54",
   "metadata": {
    "collapsed": true
   },
   "outputs": [
    {
     "name": "stdout",
     "output_type": "stream",
     "text": [
      "Epoch 0, loss 1.193,       datasets = ['ATLASZHIGHMASS49FB', 'HERACOMBNCEP460', 'ATLASWZRAP11CF', 'ATLAS_TTB_DIFF_8TEV_LJ_TRAPNORM', 'HERACOMB_SIGMARED_B', 'LHCBZ940PB'], ndata = 263\n",
      "Epoch 1, loss 1.321,       datasets = ['HERACOMBNCEP460', 'ATLASWZRAP11CC', 'HERACOMBNCEP920', 'ATLAS_SINGLETOP_TCH_DIFF_8TEV_T_RAP_NORM', 'LHCBZ940PB', 'CMSZDIFF12'], ndata = 667\n",
      "Epoch 2, loss 1.288,       datasets = ['BCDMSP_dwsh', 'ATLASZPT8TEVMDIST', 'CDFZRAP_NEW', 'ATLAS_DY_2D_8TEV_LOWMASS', 'SLACP_dwsh', 'ATLAS_TTBARTOT_13TEV_FULLLUMI'], ndata = 499\n",
      "Epoch 3, loss 1.429,       datasets = ['CMS_TTBAR_2D_DIFF_MTT_TRAP_NORM', 'D0ZRAP_40', 'CDFZRAP_NEW', 'LHCBWZMU7TEV', 'ATLASZHIGHMASS49FB', 'ATLAS_SINGLETOP_TCH_R_13TEV'], ndata = 106\n",
      "Epoch 4, loss 1.123,       datasets = ['HERACOMBCCEM', 'NTVNBDMNFe_dw_ite', 'ATLAS_SINGLETOP_TCH_R_7TEV', 'CMS_TTBAR_2D_DIFF_MTT_TRAP_NORM', 'HERACOMB_SIGMARED_B', 'HERACOMBNCEP820'], ndata = 191\n",
      "Epoch 5, loss 1.098,       datasets = ['ATLASPHT15_SF', 'HERACOMB_SIGMARED_B', 'LHCBWZMU8TEV', 'SLACD_dw_ite', 'ATLAS_WP_JET_8TEV_PT', 'HERACOMBNCEP820'], ndata = 228\n",
      "Epoch 6, loss 0.958,       datasets = ['D0ZRAP_40', 'ATLASZPT8TEVMDIST', 'HERACOMBNCEP575', 'CHORUSNUPb_dw_ite', 'CMSTTBARTOT5TEV', 'BCDMSD_dw_ite'], ndata = 991\n",
      "Epoch 7, loss 1.150,       datasets = ['CHORUSNUPb_dw_ite', 'CMSTTBARTOT5TEV', 'LHCB_Z_13TEV_DIELECTRON', 'DYE886P', 'CMSDY2D11', 'CMSWEASY840PB'], ndata = 642\n",
      "Epoch 8, loss 1.514,       datasets = ['CMS_SINGLETOP_TCH_TOT_7TEV', 'ATLASZHIGHMASS49FB', 'HERACOMBNCEM', 'ATLASWZRAP11CF', 'CMSTTBARTOT7TEV', 'HERACOMB_SIGMARED_C'], ndata = 218\n",
      "Epoch 9, loss 0.993,       datasets = ['CHORUSNBPb_dw_ite', 'LHCBWZMU7TEV', 'CMSWEASY840PB', 'ATLASDY2D8TEV', 'HERACOMBNCEP460', 'NTVNBDMNFe_dw_ite'], ndata = 745\n",
      "Epoch 10, loss 1.179,       datasets = ['BCDMSP_dwsh', 'CMSTOPDIFF8TEVTTRAPNORM', 'ATLAS_SINGLETOP_TCH_DIFF_7TEV_T_RAP_NORM', 'CHORUSNUPb_dw_ite', 'HERACOMBNCEP460', 'ATLAS_DY_2D_8TEV_LOWMASS'], ndata = 1025\n",
      "Epoch 11, loss 1.552,       datasets = ['CMSTTBARTOT8TEV', 'HERACOMB_SIGMARED_C', 'DYE906R_dw_ite', 'HERACOMB_SIGMARED_B', 'ATLAS_TTB_DIFF_8TEV_LJ_TTRAPNORM', 'SLACD_dw_ite'], ndata = 108\n",
      "Epoch 12, loss 1.266,       datasets = ['D0ZRAP_40', 'HERACOMBCCEP', 'ATLAS_TTBARTOT_13TEV_FULLLUMI', 'CMSTOPDIFF8TEVTTRAPNORM', 'HERACOMBNCEM', 'HERACOMBNCEP820'], ndata = 306\n",
      "Epoch 13, loss 0.870,       datasets = ['DYE906R_dw_ite', 'NTVNBDMNFe_dw_ite', 'ATLASZHIGHMASS49FB', 'NMCPD_dw_ite', 'CMSWMASY47FB', 'ATLASPHT15_SF'], ndata = 233\n",
      "Epoch 14, loss 0.880,       datasets = ['D0ZRAP_40', 'ATLASWZRAP11CF', 'SLACD_dw_ite', 'LHCBZEE2FB_40', 'ATLASPHT15_SF', 'NMCPD_dw_ite'], ndata = 268\n",
      "Epoch 15, loss 1.216,       datasets = ['NTVNBDMNFe_dw_ite', 'DYE906R_dw_ite', 'BCDMSD_dw_ite', 'ATLASZPT8TEVMDIST', 'CMSTTBARTOT7TEV', 'NMC'], ndata = 540\n",
      "Epoch 16, loss 0.978,       datasets = ['BCDMSD_dw_ite', 'D0ZRAP_40', 'ATLASWZRAP36PB', 'CMSTTBARTOT5TEV', 'CMS_TTB_DIFF_13TEV_2016_2L_TRAP', 'ATLAS_WZ_TOT_13TEV'], ndata = 320\n",
      "Epoch 17, loss 1.424,       datasets = ['DYE906R_dw_ite', 'LHCBZEE2FB_40', 'D0WMASY', 'CMS_TTBAR_2D_DIFF_MTT_TRAP_NORM', 'ATLAS_SINGLETOP_TCH_DIFF_8TEV_TBAR_RAP_NORM', 'ATLAS_SINGLETOP_TCH_R_13TEV'], ndata = 51\n",
      "Epoch 18, loss 1.051,       datasets = ['ATLAS_DY_2D_8TEV_LOWMASS', 'ATLAS_SINGLETOP_TCH_DIFF_8TEV_T_RAP_NORM', 'ATLAS_SINGLETOP_TCH_R_7TEV', 'DYE886R_dw_ite', 'ATLASZPT8TEVYDIST', 'CMS_SINGLETOP_TCH_R_13TEV'], ndata = 128\n",
      "Epoch 19, loss 0.977,       datasets = ['CMSDY2D11', 'BCDMSD_dw_ite', 'CMS_TTBAR_2D_DIFF_MTT_TRAP_NORM', 'NTVNUDMNFe_dw_ite', 'ATLAS_TOPDIFF_DILEPT_8TEV_TTRAPNORM', 'CHORUSNBPb_dw_ite'], ndata = 832\n",
      "Epoch 20, loss 1.013,       datasets = ['ATLAS_TOPDIFF_DILEPT_8TEV_TTRAPNORM', 'HERACOMBCCEM', 'HERACOMBNCEP575', 'CMSTOPDIFF8TEVTTRAPNORM', 'ATLAS_SINGLETOP_TCH_DIFF_7TEV_T_RAP_NORM', 'CMSWMASY47FB'], ndata = 323\n",
      "Epoch 21, loss 0.979,       datasets = ['DYE886R_dw_ite', 'BCDMSD_dw_ite', 'CMS_TTB_DIFF_13TEV_2016_2L_TRAP', 'LHCB_Z_13TEV_DIELECTRON', 'HERACOMBNCEP820', 'HERACOMBNCEP575'], ndata = 612\n",
      "Epoch 22, loss 1.897,       datasets = ['ATLASLOMASSDY11EXT', 'CMSWMU8TEV', 'ATLAS_SINGLETOP_TCH_DIFF_7TEV_T_RAP_NORM', 'ATLASWZRAP11CC', 'ATLAS_WM_JET_8TEV_PT', 'D0WMASY'], ndata = 101\n",
      "Epoch 23, loss 1.324,       datasets = ['HERACOMBNCEP820', 'CMS_SINGLETOP_TCH_R_13TEV', 'HERACOMBCCEP', 'DYE886P', 'CMSDY2D11', 'CMSWEASY840PB'], ndata = 320\n",
      "Epoch 24, loss 0.973,       datasets = ['CMS_SINGLETOP_TCH_R_8TEV', 'D0WMASY', 'HERACOMBNCEP575', 'CMSTTBARTOT5TEV', 'ATLASLOMASSDY11EXT', 'SLACP_dwsh'], ndata = 304\n",
      "Epoch 25, loss 3.975,       datasets = ['D0WMASY', 'CMSTTBARTOT5TEV', 'CMS_TTBAR_2D_DIFF_MTT_TRAP_NORM', 'ATLASTTBARTOT7TEV', 'ATLAS_DY_2D_8TEV_LOWMASS', 'CMSTOPDIFF8TEVTTRAPNORM'], ndata = 95\n",
      "Epoch 26, loss 1.224,       datasets = ['CMSWMASY47FB', 'ATLASZPT8TEVYDIST', 'ATLAS_WZ_TOT_13TEV', 'LHCBWZMU7TEV', 'NMC', 'CHORUSNUPb_dw_ite'], ndata = 711\n",
      "Epoch 27, loss 1.344,       datasets = ['CMSWMU8TEV', 'HERACOMB_SIGMARED_C', 'CMSDY2D11', 'HERACOMBNCEP820', 'HERACOMBCCEP', 'SLACP_dwsh'], ndata = 311\n",
      "Epoch 28, loss 1.375,       datasets = ['SLACP_dwsh', 'ATLAS_WZ_TOT_13TEV', 'HERACOMB_SIGMARED_C', 'CMSTTBARTOT5TEV', 'ATLASDY2D8TEV', 'ATLAS_SINGLETOP_TCH_DIFF_8TEV_T_RAP_NORM'], ndata = 125\n",
      "Epoch 29, loss 1.885,       datasets = ['ATLAS_WZ_TOT_13TEV', 'CMSWEASY840PB', 'ATLAS_TOPDIFF_DILEPT_8TEV_TTRAPNORM', 'CMS_SINGLETOP_TCH_TOT_7TEV', 'ATLAS_TTB_DIFF_8TEV_LJ_TTRAPNORM', 'ATLASLOMASSDY11EXT'], ndata = 29\n",
      "Epoch 30, loss 1.494,       datasets = ['ATLAS_SINGLETOP_TCH_DIFF_8TEV_T_RAP_NORM', 'ATLAS_TTB_DIFF_8TEV_LJ_TRAPNORM', 'DYE886P', 'CMSDY2D11', 'HERACOMBNCEP920', 'ATLASZHIGHMASS49FB'], ndata = 588\n",
      "Epoch 31, loss 1.232,       datasets = ['CMSZDIFF12', 'LHCBWZMU7TEV', 'CHORUSNBPb_dw_ite', 'HERACOMBCCEM', 'SLACD_dw_ite', 'LHCBWZMU8TEV'], ndata = 579\n",
      "Epoch 32, loss 1.482,       datasets = ['HERACOMBCCEP', 'HERACOMBNCEM', 'CMS_TTB_DIFF_13TEV_2016_2L_TRAP', 'D0WMASY', 'ATLAS_TTBARTOT_13TEV_FULLLUMI', 'BCDMSP_dwsh'], ndata = 551\n",
      "Epoch 33, loss 1.662,       datasets = ['ATLASZHIGHMASS49FB', 'D0WMASY', 'CMSDY2D11', 'LHCBWZMU8TEV', 'NTVNUDMNFe_dw_ite', 'ATLAS_TTB_DIFF_8TEV_LJ_TTRAPNORM'], ndata = 197\n",
      "Epoch 34, loss 1.433,       datasets = ['LHCBWZMU8TEV', 'CMSTTBARTOT13TEV', 'NMCPD_dw_ite', 'HERACOMBNCEP820', 'HERACOMBNCEM', 'NMC'], ndata = 585\n",
      "Epoch 35, loss 1.210,       datasets = ['ATLASWZRAP36PB', 'ATLASZHIGHMASS49FB', 'ATLASZPT8TEVMDIST', 'ATLAS_TTB_DIFF_8TEV_LJ_TRAPNORM', 'CMS_SINGLETOP_TCH_R_8TEV', 'HERACOMB_SIGMARED_B'], ndata = 110\n",
      "Epoch 36, loss 0.902,       datasets = ['NTVNBDMNFe_dw_ite', 'CMS_TTBAR_2D_DIFF_MTT_TRAP_NORM', 'ATLAS_SINGLETOP_TCH_R_13TEV', 'DYE605_dw_ite', 'SLACP_dwsh', 'HERACOMBNCEP460'], ndata = 375\n",
      "Epoch 37, loss 1.327,       datasets = ['ATLAS_TTB_DIFF_8TEV_LJ_TRAPNORM', 'HERACOMBNCEM', 'ATLASDY2D8TEV', 'CMS_TTB_DIFF_13TEV_2016_2L_TRAP', 'ATLAS_WP_JET_8TEV_PT', 'CMSTTBARTOT5TEV'], ndata = 237\n",
      "Epoch 38, loss 1.048,       datasets = ['LHCB_Z_13TEV_DIELECTRON', 'ATLASWZRAP11CF', 'HERACOMBNCEP575', 'BCDMSP_dwsh', 'CHORUSNBPb_dw_ite', 'CMS_SINGLETOP_TCH_R_8TEV'], ndata = 1034\n",
      "Epoch 39, loss 1.452,       datasets = ['CMS_TTB_DIFF_13TEV_2016_2L_TRAP', 'CMSTTBARTOT8TEV', 'HERACOMB_SIGMARED_C', 'LHCBZEE2FB_40', 'DYE886R_dw_ite', 'LHCB_Z_13TEV_DIELECTRON'], ndata = 95\n",
      "Epoch 40, loss 0.983,       datasets = ['CMSWMU8TEV', 'CHORUSNBPb_dw_ite', 'NTVNUDMNFe_dw_ite', 'ATLASZPT8TEVYDIST', 'HERACOMBNCEP460', 'DYE886P'], ndata = 818\n",
      "Epoch 41, loss 0.984,       datasets = ['LHCB_Z_13TEV_DIMUON', 'ATLAS_TTBARTOT_13TEV_FULLLUMI', 'CMSTOPDIFF8TEVTTRAPNORM', 'LHCB_Z_13TEV_DIELECTRON', 'DYE886P', 'CHORUSNBPb_dw_ite'], ndata = 546\n",
      "Epoch 42, loss 1.557,       datasets = ['ATLAS_SINGLETOP_TCH_DIFF_7TEV_T_RAP_NORM', 'ATLASWZRAP11CC', 'HERACOMBNCEP820', 'HERACOMBNCEM', 'NMC', 'ATLASTTBARTOT7TEV'], ndata = 483\n",
      "Epoch 43, loss 1.856,       datasets = ['ATLAS_DY_2D_8TEV_LOWMASS', 'ATLAS_SINGLETOP_TCH_R_7TEV', 'ATLASDY2D8TEV', 'LHCB_Z_13TEV_DIMUON', 'DYE906R_dw_ite', 'CHORUSNBPb_dw_ite'], ndata = 547\n",
      "Epoch 44, loss 0.823,       datasets = ['D0WMASY', 'CMS_SINGLETOP_TCH_R_13TEV', 'D0ZRAP_40', 'NTVNUDMNFe_dw_ite', 'SLACP_dwsh', 'ATLASTTBARTOT8TEV'], ndata = 111\n",
      "Epoch 45, loss 1.059,       datasets = ['SLACP_dwsh', 'CDFZRAP_NEW', 'ATLAS_WP_JET_8TEV_PT', 'ATLASDY2D8TEV', 'HERACOMBNCEP575', 'HERACOMB_SIGMARED_C'], ndata = 415\n"
     ]
    },
    {
     "name": "stdout",
     "output_type": "stream",
     "text": [
      "Epoch 46, loss 1.251,       datasets = ['DYE886P', 'HERACOMBNCEP575', 'HERACOMBNCEP920', 'CMSWEASY840PB', 'ATLAS_SINGLETOP_TCH_R_13TEV', 'CDFZRAP_NEW'], ndata = 760\n",
      "Epoch 47, loss 1.053,       datasets = ['CMS_SINGLETOP_TCH_R_13TEV', 'HERACOMBCCEP', 'ATLASZHIGHMASS49FB', 'HERACOMB_SIGMARED_C', 'CHORUSNBPb_dw_ite', 'CMSTTBARTOT7TEV'], ndata = 499\n",
      "Epoch 48, loss 1.241,       datasets = ['CMSDY2D11', 'ATLAS_WZ_TOT_13TEV', 'HERACOMBNCEP820', 'DYE605_dw_ite', 'CMSTTBARTOT5TEV', 'CMSTTBARTOT7TEV'], ndata = 270\n",
      "Epoch 49, loss 1.409,       datasets = ['DYE906R_dw_ite', 'ATLASPHT15_SF', 'LHCBZEE2FB_40', 'ATLASWZRAP36PB', 'BCDMSP_dwsh', 'BCDMSD_dw_ite'], ndata = 687\n",
      "Epoch 50, loss 1.281,       datasets = ['CMS_TTB_DIFF_13TEV_2016_2L_TRAP', 'ATLASPHT15_SF', 'NMCPD_dw_ite', 'CMS_SINGLETOP_TCH_R_8TEV', 'HERACOMBNCEP920', 'ATLASZPT8TEVYDIST'], ndata = 610\n",
      "Epoch 51, loss 1.795,       datasets = ['CMSTTBARTOT7TEV', 'D0WMASY', 'HERACOMB_SIGMARED_C', 'ATLAS_WP_JET_8TEV_PT', 'CMS_TTBAR_2D_DIFF_MTT_TRAP_NORM', 'CMSTTBARTOT8TEV'], ndata = 78\n",
      "Epoch 52, loss 1.825,       datasets = ['LHCBZEE2FB_40', 'NMC', 'ATLAS_SINGLETOP_TCH_R_7TEV', 'ATLASZPT8TEVMDIST', 'ATLASLOMASSDY11EXT', 'LHCB_Z_13TEV_DIELECTRON'], ndata = 287\n",
      "Epoch 53, loss 2.690,       datasets = ['ATLAS_TTB_DIFF_8TEV_LJ_TRAPNORM', 'ATLAS_WP_JET_8TEV_PT', 'BCDMSD_dw_ite', 'ATLAS_DY_2D_8TEV_LOWMASS', 'DYE886R_dw_ite', 'ATLAS_SINGLETOP_TCH_R_7TEV'], ndata = 343\n",
      "Epoch 54, loss 1.067,       datasets = ['HERACOMBNCEP920', 'ATLASZPT8TEVYDIST', 'SLACP_dwsh', 'DYE605_dw_ite', 'ATLAS_SINGLETOP_TCH_R_13TEV', 'CHORUSNUPb_dw_ite'], ndata = 960\n",
      "Epoch 55, loss 1.181,       datasets = ['CDFZRAP_NEW', 'ATLASZHIGHMASS49FB', 'ATLAS_TTB_DIFF_8TEV_LJ_TRAPNORM', 'ATLASPHT15_SF', 'ATLASDY2D8TEV', 'ATLAS_WZ_TOT_13TEV'], ndata = 141\n",
      "Epoch 56, loss 0.997,       datasets = ['BCDMSD_dw_ite', 'ATLAS_SINGLETOP_TCH_DIFF_7TEV_T_RAP_NORM', 'ATLASZHIGHMASS49FB', 'CMSTTBARTOT8TEV', 'ATLASTTBARTOT8TEV', 'ATLAS_SINGLETOP_TCH_DIFF_8TEV_TBAR_RAP_NORM'], ndata = 261\n",
      "Epoch 57, loss 1.051,       datasets = ['ATLAS_TTBARTOT_13TEV_FULLLUMI', 'CHORUSNUPb_dw_ite', 'CMS_SINGLETOP_TCH_TOT_7TEV', 'HERACOMBNCEP575', 'ATLAS_WM_JET_8TEV_PT', 'CMS_TTBAR_2D_DIFF_MTT_TRAP_NORM'], ndata = 702\n",
      "Epoch 58, loss 1.226,       datasets = ['CMS_TTB_DIFF_13TEV_2016_2L_TRAP', 'NTVNUDMNFe_dw_ite', 'CDFZRAP_NEW', 'D0ZRAP_40', 'CMSDY2D11', 'CMSWMU8TEV'], ndata = 237\n",
      "Epoch 59, loss 2.815,       datasets = ['HERACOMBCCEM', 'CMSTTBARTOT13TEV', 'LHCBZEE2FB_40', 'CDFZRAP_NEW', 'CMSWMASY47FB', 'CMSZDIFF12'], ndata = 127\n",
      "Epoch 60, loss 0.989,       datasets = ['D0WMASY', 'CMS_SINGLETOP_TCH_TOT_7TEV', 'CMSWMASY47FB', 'CMS_SINGLETOP_TCH_R_8TEV', 'BCDMSD_dw_ite', 'ATLAS_SINGLETOP_TCH_DIFF_8TEV_TBAR_RAP_NORM'], ndata = 273\n",
      "Epoch 61, loss 1.779,       datasets = ['HERACOMB_SIGMARED_C', 'LHCB_Z_13TEV_DIELECTRON', 'DYE906R_dw_ite', 'HERACOMBNCEP920', 'BCDMSP_dwsh', 'ATLAS_SINGLETOP_TCH_R_7TEV'], ndata = 769\n",
      "Epoch 62, loss 2.538,       datasets = ['LHCB_Z_13TEV_DIMUON', 'ATLAS_SINGLETOP_TCH_DIFF_7TEV_T_RAP_NORM', 'HERACOMB_SIGMARED_C', 'CMSZDIFF12', 'CMSDY2D11', 'ATLASWZRAP11CF'], ndata = 209\n",
      "Epoch 63, loss 1.537,       datasets = ['LHCBZEE2FB_40', 'DYE906R_dw_ite', 'CHORUSNBPb_dw_ite', 'ATLAS_WM_JET_8TEV_PT', 'ATLASWZRAP36PB', 'ATLASWZRAP11CF'], ndata = 499\n",
      "Epoch 64, loss 1.890,       datasets = ['HERACOMBCCEM', 'HERACOMB_SIGMARED_B', 'ATLASDY2D8TEV', 'BCDMSD_dw_ite', 'LHCBWZMU7TEV', 'LHCBZ940PB'], ndata = 402\n",
      "Epoch 65, loss 1.030,       datasets = ['BCDMSD_dw_ite', 'ATLAS_SINGLETOP_TCH_DIFF_8TEV_TBAR_RAP_NORM', 'ATLAS_SINGLETOP_TCH_DIFF_7TEV_T_RAP_NORM', 'HERACOMBNCEP575', 'NTVNBDMNFe_dw_ite', 'CMS_TTB_DIFF_13TEV_2016_2L_TRAP'], ndata = 555\n",
      "Epoch 66, loss 2.806,       datasets = ['CMSTTBARTOT13TEV', 'HERACOMBCCEM', 'ATLAS_SINGLETOP_TCH_R_7TEV', 'ATLAS_TTBARTOT_13TEV_FULLLUMI', 'ATLASTTBARTOT7TEV', 'CMS_TTBAR_2D_DIFF_MTT_TRAP_NORM'], ndata = 61\n",
      "Epoch 67, loss 1.212,       datasets = ['NTVNUDMNFe_dw_ite', 'CMSWEASY840PB', 'HERACOMBCCEP', 'LHCB_Z_13TEV_DIMUON', 'ATLAS_SINGLETOP_TCH_DIFF_7TEV_T_RAP_NORM', 'BCDMSP_dwsh'], ndata = 441\n",
      "Epoch 68, loss 1.245,       datasets = ['ATLAS_TTB_DIFF_8TEV_LJ_TTRAPNORM', 'CMSTOPDIFF8TEVTTRAPNORM', 'CMS_SINGLETOP_TCH_TOT_7TEV', 'SLACD_dw_ite', 'BCDMSP_dwsh', 'ATLAS_TTBARTOT_13TEV_FULLLUMI'], ndata = 382\n",
      "Epoch 69, loss 1.160,       datasets = ['ATLAS_SINGLETOP_TCH_DIFF_8TEV_T_RAP_NORM', 'ATLASWZRAP11CC', 'ATLASTTBARTOT8TEV', 'NMCPD_dw_ite', 'CMS_TTBAR_2D_DIFF_MTT_TRAP_NORM', 'DYE605_dw_ite'], ndata = 271\n",
      "Epoch 70, loss 1.021,       datasets = ['LHCB_Z_13TEV_DIMUON', 'ATLAS_WM_JET_8TEV_PT', 'DYE605_dw_ite', 'HERACOMBCCEP', 'ATLAS_SINGLETOP_TCH_R_13TEV', 'CMS_TTB_DIFF_13TEV_2016_LJ_TRAP'], ndata = 167\n",
      "Epoch 71, loss 1.272,       datasets = ['ATLASWZRAP11CF', 'CMS_SINGLETOP_TCH_R_13TEV', 'BCDMSD_dw_ite', 'HERACOMBNCEP920', 'ATLAS_SINGLETOP_TCH_DIFF_8TEV_TBAR_RAP_NORM', 'ATLASZPT8TEVYDIST'], ndata = 692\n",
      "Epoch 72, loss 1.229,       datasets = ['ATLASDY2D8TEV', 'LHCB_Z_13TEV_DIMUON', 'ATLAS_WP_JET_8TEV_PT', 'D0ZRAP_40', 'LHCBZ940PB', 'CMSWMU8TEV'], ndata = 138\n",
      "Epoch 73, loss 1.045,       datasets = ['ATLAS_SINGLETOP_TCH_R_13TEV', 'BCDMSP_dwsh', 'CHORUSNBPb_dw_ite', 'ATLAS_SINGLETOP_TCH_DIFF_8TEV_TBAR_RAP_NORM', 'ATLASPHT15_SF', 'ATLAS_WZ_TOT_13TEV'], ndata = 809\n",
      "Epoch 74, loss 1.266,       datasets = ['HERACOMBCCEM', 'ATLASZHIGHMASS49FB', 'ATLAS_TTBARTOT_13TEV_FULLLUMI', 'CMS_SINGLETOP_TCH_R_13TEV', 'ATLASLOMASSDY11EXT', 'ATLASTTBARTOT7TEV'], ndata = 56\n",
      "Epoch 75, loss 1.521,       datasets = ['ATLAS_SINGLETOP_TCH_R_13TEV', 'ATLAS_SINGLETOP_TCH_DIFF_8TEV_TBAR_RAP_NORM', 'HERACOMBCCEP', 'ATLASTTBARTOT7TEV', 'NMC', 'ATLASLOMASSDY11EXT'], ndata = 254\n",
      "Epoch 76, loss 1.318,       datasets = ['ATLASTTBARTOT7TEV', 'LHCB_Z_13TEV_DIELECTRON', 'ATLAS_SINGLETOP_TCH_DIFF_8TEV_TBAR_RAP_NORM', 'HERACOMB_SIGMARED_B', 'ATLAS_WP_JET_8TEV_PT', 'CMS_TTBAR_2D_DIFF_MTT_TRAP_NORM'], ndata = 75\n",
      "Epoch 77, loss 1.474,       datasets = ['CMSDY2D11', 'HERACOMBNCEP920', 'ATLAS_TOPDIFF_DILEPT_8TEV_TTRAPNORM', 'HERACOMBCCEM', 'LHCBWZMU8TEV', 'ATLASWZRAP11CC'], ndata = 609\n",
      "Epoch 78, loss 1.579,       datasets = ['HERACOMB_SIGMARED_C', 'CMSTOPDIFF8TEVTTRAPNORM', 'CMS_SINGLETOP_TCH_R_8TEV', 'CMS_TTBAR_2D_DIFF_MTT_TRAP_NORM', 'D0ZRAP_40', 'ATLAS_TTB_DIFF_8TEV_LJ_TTRAPNORM'], ndata = 94\n",
      "Epoch 79, loss 1.652,       datasets = ['CMS_SINGLETOP_TCH_R_13TEV', 'LHCBWZMU8TEV', 'D0WMASY', 'LHCB_Z_13TEV_DIMUON', 'ATLASLOMASSDY11EXT', 'ATLAS_WP_JET_8TEV_PT'], ndata = 77\n",
      "Epoch 80, loss 1.136,       datasets = ['NTVNBDMNFe_dw_ite', 'D0WMASY', 'HERACOMBNCEP820', 'CMSTTBARTOT8TEV', 'ATLAS_SINGLETOP_TCH_R_13TEV', 'ATLAS_TTB_DIFF_8TEV_LJ_TRAPNORM'], ndata = 122\n",
      "Epoch 81, loss 1.343,       datasets = ['ATLAS_TTB_DIFF_8TEV_LJ_TTRAPNORM', 'CMSWMU8TEV', 'ATLASWZRAP36PB', 'HERACOMBCCEP', 'ATLAS_SINGLETOP_TCH_DIFF_8TEV_TBAR_RAP_NORM', 'HERACOMBNCEP820'], ndata = 168\n",
      "Epoch 82, loss 1.359,       datasets = ['HERACOMB_SIGMARED_C', 'SLACD_dw_ite', 'LHCBWZMU7TEV', 'NTVNBDMNFe_dw_ite', 'CMSWEASY840PB', 'D0ZRAP_40'], ndata = 176\n",
      "Epoch 83, loss 1.638,       datasets = ['CMS_SINGLETOP_TCH_R_8TEV', 'CMS_TTBAR_2D_DIFF_MTT_TRAP_NORM', 'ATLAS_TTB_DIFF_8TEV_LJ_TRAPNORM', 'CMSTTBARTOT7TEV', 'ATLAS_SINGLETOP_TCH_DIFF_7TEV_T_RAP_NORM', 'LHCBZEE2FB_40'], ndata = 41\n",
      "Epoch 84, loss 1.458,       datasets = ['NMC', 'HERACOMBNCEP820', 'ATLASPHT15_SF', 'ATLAS_WZ_TOT_13TEV', 'CMSDY2D11', 'CMS_SINGLETOP_TCH_TOT_7TEV'], ndata = 441\n",
      "Epoch 85, loss 1.124,       datasets = ['ATLASTTBARTOT8TEV', 'CMSTTBARTOT13TEV', 'CHORUSNBPb_dw_ite', 'HERACOMBCCEM', 'HERACOMBNCEP920', 'CMS_TTB_DIFF_13TEV_2016_2L_TRAP'], ndata = 847\n",
      "Epoch 86, loss 1.070,       datasets = ['ATLAS_TTB_DIFF_8TEV_LJ_TTRAPNORM', 'DYE906R_dw_ite', 'ATLASLOMASSDY11EXT', 'CHORUSNUPb_dw_ite', 'HERACOMB_SIGMARED_B', 'ATLAS_WM_JET_8TEV_PT'], ndata = 473\n",
      "Epoch 87, loss 1.886,       datasets = ['ATLASTTBARTOT8TEV', 'LHCBWZMU7TEV', 'CMSTTBARTOT5TEV', 'ATLAS_SINGLETOP_TCH_R_7TEV', 'CMS_SINGLETOP_TCH_R_8TEV', 'ATLASWZRAP11CF'], ndata = 48\n",
      "Epoch 88, loss 0.851,       datasets = ['CMSTOPDIFF8TEVTTRAPNORM', 'CHORUSNBPb_dw_ite', 'ATLASDY2D8TEV', 'DYE605_dw_ite', 'LHCBZEE2FB_40', 'LHCB_Z_13TEV_DIMUON'], ndata = 591\n",
      "Epoch 89, loss 1.183,       datasets = ['HERACOMBNCEP575', 'HERACOMBNCEP920', 'HERACOMBCCEM', 'HERACOMB_SIGMARED_B', 'CMSTTBARTOT13TEV', 'CMSZDIFF12'], ndata = 728\n"
     ]
    },
    {
     "name": "stdout",
     "output_type": "stream",
     "text": [
      "Epoch 90, loss 1.167,       datasets = ['DYE886R_dw_ite', 'ATLAS_TTBARTOT_13TEV_FULLLUMI', 'CMSDY2D11', 'BCDMSD_dw_ite', 'ATLAS_DY_2D_8TEV_LOWMASS', 'ATLAS_SINGLETOP_TCH_DIFF_8TEV_T_RAP_NORM'], ndata = 437\n",
      "Epoch 91, loss 0.962,       datasets = ['CMS_SINGLETOP_TCH_TOT_7TEV', 'CMSTTBARTOT5TEV', 'ATLASTTBARTOT8TEV', 'ATLAS_TTBARTOT_13TEV_FULLLUMI', 'CHORUSNUPb_dw_ite', 'ATLASPHT15_SF'], ndata = 473\n",
      "Epoch 92, loss 1.293,       datasets = ['ATLAS_DY_2D_8TEV_LOWMASS', 'ATLAS_SINGLETOP_TCH_R_7TEV', 'ATLASWZRAP36PB', 'CMSTTBARTOT8TEV', 'ATLAS_SINGLETOP_TCH_R_13TEV', 'ATLAS_SINGLETOP_TCH_DIFF_8TEV_TBAR_RAP_NORM'], ndata = 96\n",
      "Epoch 93, loss 1.175,       datasets = ['CMSTOPDIFF8TEVTTRAPNORM', 'ATLASWZRAP11CC', 'BCDMSD_dw_ite', 'DYE906R_dw_ite', 'ATLASZPT8TEVYDIST', 'CDFZRAP_NEW'], ndata = 385\n",
      "Epoch 94, loss 1.262,       datasets = ['SLACD_dw_ite', 'ATLAS_TOPDIFF_DILEPT_8TEV_TTRAPNORM', 'ATLASWZRAP11CF', 'ATLAS_WM_JET_8TEV_PT', 'DYE886P', 'ATLASPHT15_SF'], ndata = 210\n",
      "Epoch 95, loss 1.297,       datasets = ['ATLASPHT15_SF', 'CMS_TTB_DIFF_13TEV_2016_2L_TRAP', 'CMSWEASY840PB', 'ATLAS_SINGLETOP_TCH_R_13TEV', 'ATLAS_WM_JET_8TEV_PT', 'LHCBWZMU7TEV'], ndata = 119\n",
      "Epoch 96, loss 0.796,       datasets = ['CMS_SINGLETOP_TCH_TOT_7TEV', 'CMSTOPDIFF8TEVTTRAPNORM', 'ATLAS_SINGLETOP_TCH_R_7TEV', 'D0ZRAP_40', 'ATLASTTBARTOT7TEV', 'CMS_SINGLETOP_TCH_R_13TEV'], ndata = 41\n",
      "Epoch 97, loss 1.216,       datasets = ['ATLAS_SINGLETOP_TCH_DIFF_8TEV_T_RAP_NORM', 'HERACOMBNCEM', 'NTVNUDMNFe_dw_ite', 'CMSTTBARTOT13TEV', 'ATLAS_SINGLETOP_TCH_R_7TEV', 'ATLASWZRAP11CF'], ndata = 218\n",
      "Epoch 98, loss 1.068,       datasets = ['NTVNUDMNFe_dw_ite', 'HERACOMBNCEP460', 'ATLASPHT15_SF', 'HERACOMB_SIGMARED_C', 'ATLAS_SINGLETOP_TCH_DIFF_8TEV_T_RAP_NORM', 'ATLASTTBARTOT7TEV'], ndata = 337\n",
      "Epoch 99, loss 1.047,       datasets = ['CMSDY2D11', 'ATLASZPT8TEVYDIST', 'HERACOMBNCEP575', 'CMSTTBARTOT7TEV', 'CMSWMASY47FB', 'ATLASPHT15_SF'], ndata = 477\n",
      "Epoch 100, loss 1.011,       datasets = ['CMSTTBARTOT8TEV', 'DYE906R_dw_ite', 'CHORUSNUPb_dw_ite', 'ATLASLOMASSDY11EXT', 'BCDMSD_dw_ite', 'ATLASZHIGHMASS49FB'], ndata = 682\n",
      "Epoch 101, loss 1.578,       datasets = ['LHCBWZMU8TEV', 'HERACOMB_SIGMARED_B', 'DYE886P', 'ATLASWZRAP11CF', 'DYE886R_dw_ite', 'CMSWEASY840PB'], ndata = 186\n",
      "Epoch 102, loss 0.882,       datasets = ['CMS_SINGLETOP_TCH_R_13TEV', 'ATLAS_SINGLETOP_TCH_DIFF_8TEV_TBAR_RAP_NORM', 'ATLASZPT8TEVMDIST', 'HERACOMBNCEP820', 'ATLAS_SINGLETOP_TCH_R_7TEV', 'NTVNBDMNFe_dw_ite'], ndata = 156\n",
      "Epoch 103, loss 0.964,       datasets = ['SLACD_dw_ite', 'CHORUSNBPb_dw_ite', 'BCDMSD_dw_ite', 'DYE906R_dw_ite', 'ATLAS_TTBARTOT_13TEV_FULLLUMI', 'HERACOMBNCEP820'], ndata = 775\n",
      "Epoch 104, loss 1.479,       datasets = ['CMSWMASY47FB', 'BCDMSP_dwsh', 'CMSZDIFF12', 'ATLAS_TTBARTOT_13TEV_FULLLUMI', 'LHCBZ940PB', 'NMC'], ndata = 586\n",
      "Epoch 105, loss 0.824,       datasets = ['ATLASDY2D8TEV', 'DYE605_dw_ite', 'HERACOMBCCEM', 'DYE886R_dw_ite', 'CMSWMU8TEV', 'NTVNBDMNFe_dw_ite'], ndata = 249\n",
      "Epoch 106, loss 1.517,       datasets = ['SLACP_dwsh', 'LHCBWZMU8TEV', 'DYE886P', 'LHCBZEE2FB_40', 'ATLAS_WP_JET_8TEV_PT', 'HERACOMB_SIGMARED_C'], ndata = 221\n",
      "Epoch 107, loss 1.302,       datasets = ['ATLASLOMASSDY11EXT', 'DYE605_dw_ite', 'DYE886P', 'CMSWMASY47FB', 'ATLAS_DY_2D_8TEV_LOWMASS', 'ATLASZPT8TEVMDIST'], ndata = 295\n",
      "Epoch 108, loss 1.256,       datasets = ['ATLAS_TTBARTOT_13TEV_FULLLUMI', 'CMSTOPDIFF8TEVTTRAPNORM', 'ATLAS_DY_2D_8TEV_LOWMASS', 'ATLASTTBARTOT8TEV', 'ATLASZHIGHMASS49FB', 'HERACOMBNCEP460'], ndata = 280\n",
      "Epoch 109, loss 1.087,       datasets = ['ATLASTTBARTOT8TEV', 'ATLAS_WP_JET_8TEV_PT', 'CMS_SINGLETOP_TCH_R_13TEV', 'ATLAS_DY_2D_8TEV_LOWMASS', 'ATLASDY2D8TEV', 'SLACP_dwsh'], ndata = 158\n",
      "Epoch 110, loss 1.462,       datasets = ['ATLASTTBARTOT7TEV', 'ATLAS_WM_JET_8TEV_PT', 'HERACOMBNCEP460', 'DYE886P', 'ATLAS_SINGLETOP_TCH_R_13TEV', 'ATLASWZRAP11CC'], ndata = 356\n",
      "Epoch 111, loss 1.158,       datasets = ['ATLAS_DY_2D_8TEV_LOWMASS', 'CHORUSNBPb_dw_ite', 'LHCB_Z_13TEV_DIMUON', 'ATLASWZRAP36PB', 'HERACOMB_SIGMARED_B', 'HERACOMBCCEM'], ndata = 590\n",
      "Epoch 112, loss 1.078,       datasets = ['ATLAS_SINGLETOP_TCH_DIFF_8TEV_T_RAP_NORM', 'ATLASDY2D8TEV', 'ATLAS_SINGLETOP_TCH_R_7TEV', 'HERACOMBNCEP575', 'DYE886P', 'NTVNBDMNFe_dw_ite'], ndata = 432\n",
      "Epoch 113, loss 0.979,       datasets = ['ATLAS_TOPDIFF_DILEPT_8TEV_TTRAPNORM', 'HERACOMBNCEP575', 'HERACOMBNCEP820', 'ATLAS_TTBARTOT_13TEV_FULLLUMI', 'BCDMSD_dw_ite', 'ATLASZPT8TEVYDIST'], ndata = 625\n",
      "Epoch 114, loss 0.732,       datasets = ['DYE605_dw_ite', 'ATLAS_SINGLETOP_TCH_R_13TEV', 'ATLAS_SINGLETOP_TCH_DIFF_8TEV_TBAR_RAP_NORM', 'CMSTOPDIFF8TEVTTRAPNORM', 'ATLASZHIGHMASS49FB', 'NMCPD_dw_ite'], ndata = 224\n",
      "Epoch 115, loss 1.388,       datasets = ['ATLASWZRAP36PB', 'ATLASWZRAP11CC', 'ATLASZPT8TEVYDIST', 'CMSTTBARTOT5TEV', 'ATLAS_SINGLETOP_TCH_R_7TEV', 'CMS_TTBAR_2D_DIFF_MTT_TRAP_NORM'], ndata = 141\n",
      "Epoch 116, loss 1.087,       datasets = ['CMSDY2D11', 'BCDMSD_dw_ite', 'ATLASTTBARTOT8TEV', 'LHCBZ940PB', 'ATLASWZRAP11CF', 'CMS_SINGLETOP_TCH_TOT_7TEV'], ndata = 384\n",
      "Epoch 117, loss 0.894,       datasets = ['CHORUSNBPb_dw_ite', 'DYE886R_dw_ite', 'ATLASLOMASSDY11EXT', 'ATLAS_SINGLETOP_TCH_DIFF_8TEV_TBAR_RAP_NORM', 'ATLASDY2D8TEV', 'LHCBZEE2FB_40'], ndata = 505\n",
      "Epoch 118, loss 0.880,       datasets = ['ATLAS_SINGLETOP_TCH_R_13TEV', 'SLACP_dwsh', 'CMSTTBARTOT7TEV', 'DYE886R_dw_ite', 'CHORUSNUPb_dw_ite', 'DYE605_dw_ite'], ndata = 551\n",
      "Epoch 119, loss 1.326,       datasets = ['NMC', 'ATLAS_TTBARTOT_13TEV_FULLLUMI', 'ATLAS_TOPDIFF_DILEPT_8TEV_TTRAPNORM', 'CDFZRAP_NEW', 'ATLASZHIGHMASS49FB', 'HERACOMBNCEP460'], ndata = 446\n",
      "Epoch 120, loss 1.685,       datasets = ['CMSTTBARTOT5TEV', 'ATLAS_SINGLETOP_TCH_R_13TEV', 'HERACOMB_SIGMARED_C', 'CMS_SINGLETOP_TCH_TOT_7TEV', 'CMSTOPDIFF8TEVTTRAPNORM', 'HERACOMBCCEP'], ndata = 88\n",
      "Epoch 121, loss 0.859,       datasets = ['CMS_SINGLETOP_TCH_R_13TEV', 'ATLASWZRAP36PB', 'ATLAS_SINGLETOP_TCH_DIFF_7TEV_T_RAP_NORM', 'ATLAS_TTB_DIFF_8TEV_LJ_TRAPNORM', 'NTVNBDMNFe_dw_ite', 'CMS_TTB_DIFF_13TEV_2016_2L_TRAP'], ndata = 85\n",
      "Epoch 122, loss 2.076,       datasets = ['ATLASWZRAP11CC', 'HERACOMB_SIGMARED_C', 'CMS_SINGLETOP_TCH_R_8TEV', 'ATLAS_TTB_DIFF_8TEV_LJ_TTRAPNORM', 'CMSZDIFF12', 'CMSWEASY840PB'], ndata = 127\n",
      "Epoch 123, loss 1.012,       datasets = ['ATLAS_WP_JET_8TEV_PT', 'CHORUSNUPb_dw_ite', 'LHCB_Z_13TEV_DIMUON', 'CMSTTBARTOT13TEV', 'CMSWMU8TEV', 'CDFZRAP_NEW'], ndata = 498\n",
      "Epoch 124, loss 1.342,       datasets = ['BCDMSP_dwsh', 'LHCB_Z_13TEV_DIELECTRON', 'HERACOMBNCEP920', 'CDFZRAP_NEW', 'ATLAS_TOPDIFF_DILEPT_8TEV_TTRAPNORM', 'ATLAS_SINGLETOP_TCH_R_7TEV'], ndata = 758\n",
      "Epoch 125, loss 1.648,       datasets = ['LHCBWZMU8TEV', 'HERACOMBNCEM', 'CMS_SINGLETOP_TCH_R_13TEV', 'LHCBWZMU7TEV', 'HERACOMBCCEP', 'CMS_TTB_DIFF_13TEV_2016_LJ_TRAP'], ndata = 269\n",
      "Epoch 126, loss 1.465,       datasets = ['CMS_TTBAR_2D_DIFF_MTT_TRAP_NORM', 'ATLAS_TOPDIFF_DILEPT_8TEV_TTRAPNORM', 'CMSWMU8TEV', 'ATLASZHIGHMASS49FB', 'HERACOMB_SIGMARED_B', 'ATLAS_SINGLETOP_TCH_DIFF_8TEV_TBAR_RAP_NORM'], ndata = 75\n",
      "Epoch 127, loss 1.165,       datasets = ['LHCBZEE2FB_40', 'BCDMSD_dw_ite', 'CMSTTBARTOT5TEV', 'ATLAS_WM_JET_8TEV_PT', 'LHCBWZMU8TEV', 'D0WMASY'], ndata = 320\n",
      "Epoch 128, loss 1.222,       datasets = ['BCDMSD_dw_ite', 'ATLAS_TOPDIFF_DILEPT_8TEV_TTRAPNORM', 'ATLAS_TTBARTOT_13TEV_FULLLUMI', 'NMC', 'CMSWMU8TEV', 'DYE906R_dw_ite'], ndata = 485\n",
      "Epoch 129, loss 1.649,       datasets = ['ATLASPHT15_SF', 'ATLAS_TTB_DIFF_8TEV_LJ_TRAPNORM', 'ATLASWZRAP11CC', 'CMSTTBARTOT8TEV', 'HERACOMB_SIGMARED_B', 'ATLAS_SINGLETOP_TCH_R_7TEV'], ndata = 131\n",
      "Epoch 130, loss 1.151,       datasets = ['BCDMSD_dw_ite', 'CMS_TTBAR_2D_DIFF_MTT_TRAP_NORM', 'DYE886R_dw_ite', 'ATLASWZRAP11CC', 'CMS_TTB_DIFF_13TEV_2016_2L_TRAP', 'ATLAS_TOPDIFF_DILEPT_8TEV_TTRAPNORM'], ndata = 338\n",
      "Epoch 131, loss 0.968,       datasets = ['ATLAS_SINGLETOP_TCH_R_7TEV', 'ATLASLOMASSDY11EXT', 'HERACOMBNCEP575', 'CMSZDIFF12', 'ATLAS_WP_JET_8TEV_PT', 'ATLASZPT8TEVMDIST'], ndata = 348\n",
      "Epoch 132, loss 1.375,       datasets = ['ATLAS_WZ_TOT_13TEV', 'HERACOMBNCEP820', 'ATLASZHIGHMASS49FB', 'CMSTOPDIFF8TEVTTRAPNORM', 'CMSDY2D11', 'D0WMASY'], ndata = 206\n",
      "Epoch 133, loss 1.095,       datasets = ['ATLAS_TTB_DIFF_8TEV_LJ_TTRAPNORM', 'NMCPD_dw_ite', 'ATLAS_WZ_TOT_13TEV', 'CMSTTBARTOT5TEV', 'ATLAS_TTB_DIFF_8TEV_LJ_TRAPNORM', 'CMSTOPDIFF8TEVTTRAPNORM'], ndata = 142\n"
     ]
    },
    {
     "name": "stdout",
     "output_type": "stream",
     "text": [
      "Epoch 134, loss 1.388,       datasets = ['NTVNBDMNFe_dw_ite', 'DYE886P', 'ATLAS_WZ_TOT_13TEV', 'LHCBWZMU7TEV', 'CMS_TTB_DIFF_13TEV_2016_2L_TRAP', 'DYE906R_dw_ite'], ndata = 174\n",
      "Epoch 135, loss 1.413,       datasets = ['ATLAS_SINGLETOP_TCH_R_13TEV', 'HERACOMBNCEP460', 'CMSWMASY47FB', 'ATLAS_TTB_DIFF_8TEV_LJ_TTRAPNORM', 'ATLAS_SINGLETOP_TCH_R_7TEV', 'ATLAS_DY_2D_8TEV_LOWMASS'], ndata = 281\n",
      "Epoch 136, loss 0.954,       datasets = ['DYE906R_dw_ite', 'BCDMSD_dw_ite', 'NMCPD_dw_ite', 'ATLAS_TTBARTOT_13TEV_FULLLUMI', 'HERACOMBNCEP575', 'CMSTTBARTOT8TEV'], ndata = 631\n",
      "Epoch 137, loss 1.287,       datasets = ['HERACOMBNCEP920', 'HERACOMBCCEM', 'ATLASWZRAP11CF', 'SLACD_dw_ite', 'CMS_TTB_DIFF_13TEV_2016_LJ_TRAP', 'ATLAS_TOPDIFF_DILEPT_8TEV_TTRAPNORM'], ndata = 483\n",
      "Epoch 138, loss 0.903,       datasets = ['CMSTTBARTOT5TEV', 'NTVNBDMNFe_dw_ite', 'SLACD_dw_ite', 'LHCBZEE2FB_40', 'ATLASWZRAP36PB', 'DYE886R_dw_ite'], ndata = 134\n",
      "Epoch 139, loss 1.099,       datasets = ['HERACOMBCCEM', 'CHORUSNUPb_dw_ite', 'HERACOMBNCEP460', 'CDFZRAP_NEW', 'CMSWEASY840PB', 'LHCBZEE2FB_40'], ndata = 718\n",
      "Epoch 140, loss 1.450,       datasets = ['LHCBZ940PB', 'ATLASLOMASSDY11EXT', 'HERACOMBNCEM', 'ATLASZPT8TEVYDIST', 'DYE886P', 'D0ZRAP_40'], ndata = 339\n",
      "Epoch 141, loss 1.528,       datasets = ['CMSWMU8TEV', 'ATLASDY2D8TEV', 'HERACOMB_SIGMARED_C', 'ATLASZPT8TEVYDIST', 'ATLASPHT15_SF', 'CMSWEASY840PB'], ndata = 219\n",
      "Epoch 142, loss 1.043,       datasets = ['CMSTTBARTOT13TEV', 'ATLASWZRAP11CF', 'CMSWEASY840PB', 'NMCPD_dw_ite', 'ATLAS_TTB_DIFF_8TEV_LJ_TTRAPNORM', 'CMS_SINGLETOP_TCH_R_8TEV'], ndata = 153\n",
      "Epoch 143, loss 1.655,       datasets = ['ATLAS_SINGLETOP_TCH_DIFF_8TEV_TBAR_RAP_NORM', 'ATLAS_TTB_DIFF_8TEV_LJ_TRAPNORM', 'ATLAS_SINGLETOP_TCH_R_7TEV', 'ATLAS_WP_JET_8TEV_PT', 'ATLAS_WZ_TOT_13TEV', 'HERACOMB_SIGMARED_C'], ndata = 63\n",
      "Epoch 144, loss 1.087,       datasets = ['ATLAS_WM_JET_8TEV_PT', 'CMSTTBARTOT8TEV', 'NMCPD_dw_ite', 'CMSTOPDIFF8TEVTTRAPNORM', 'D0WMASY', 'LHCBZEE2FB_40'], ndata = 172\n",
      "Epoch 145, loss 1.226,       datasets = ['HERACOMBNCEP460', 'ATLAS_TTBARTOT_13TEV_FULLLUMI', 'NMC', 'ATLAS_SINGLETOP_TCH_R_7TEV', 'BCDMSD_dw_ite', 'CMSDY2D11'], ndata = 768\n",
      "Epoch 146, loss 1.186,       datasets = ['ATLASPHT15_SF', 'ATLASTTBARTOT8TEV', 'ATLAS_TTB_DIFF_8TEV_LJ_TRAPNORM', 'NTVNBDMNFe_dw_ite', 'ATLASLOMASSDY11EXT', 'HERACOMB_SIGMARED_C'], ndata = 138\n",
      "Epoch 147, loss 1.315,       datasets = ['ATLASLOMASSDY11EXT', 'CMSTTBARTOT7TEV', 'CMSTOPDIFF8TEVTTRAPNORM', 'D0WMASY', 'ATLAS_WP_JET_8TEV_PT', 'DYE886R_dw_ite'], ndata = 55\n",
      "Epoch 148, loss 1.133,       datasets = ['ATLAS_TTB_DIFF_8TEV_LJ_TTRAPNORM', 'ATLASPHT15_SF', 'ATLAS_WM_JET_8TEV_PT', 'SLACP_dwsh', 'ATLASDY2D8TEV', 'D0ZRAP_40'], ndata = 181\n",
      "Epoch 149, loss 1.342,       datasets = ['HERACOMBCCEM', 'DYE886R_dw_ite', 'ATLASLOMASSDY11EXT', 'ATLASWZRAP36PB', 'ATLASTTBARTOT8TEV', 'HERACOMBNCEM'], ndata = 253\n"
     ]
    }
   ],
   "source": [
    "opt_counter = itertools.count()\n",
    "opt_state = opt_init(weight_base)\n",
    "loss = []\n",
    "batches = filtered_data.data_stream(size=6)\n",
    "\n",
    "for epoch in range(num_epochs):\n",
    "    # get data batch from generator\n",
    "    data_batch = next(batches)\n",
    "    \n",
    "#     Convert the data batch to a JAX-compatible format\n",
    "#     data_batch = jax.tree_util.tree_map(jax.device_put, data_batch)\n",
    "\n",
    "\n",
    "    cd_list = data_batch.load_commondata_instance()\n",
    "    ndata = sum([cd.ndata for cd in cd_list])\n",
    "\n",
    "    print(f\"Epoch {epoch}, loss {loss_data(get_params(opt_state),data_batch) / ndata :.3f}, \\\n",
    "      datasets = {[ds.name for ds in data_batch.datasets]}, ndata = {ndata}\")\n",
    "    loss.append(loss_data(get_params(opt_state),data_batch) / ndata)\n",
    "    \n",
    "    opt_state = update(next(opt_counter), opt_state, data_batch)"
   ]
  },
  {
   "cell_type": "code",
   "execution_count": 63,
   "id": "06cb39b8",
   "metadata": {},
   "outputs": [
    {
     "data": {
      "text/plain": [
       "<matplotlib.legend.Legend at 0x1db3bc880>"
      ]
     },
     "execution_count": 63,
     "metadata": {},
     "output_type": "execute_result"
    },
    {
     "data": {
      "image/png": "[encoded data removed]",
      "text/plain": [
       "<Figure size 640x480 with 1 Axes>"
      ]
     },
     "metadata": {},
     "output_type": "display_data"
    }
   ],
   "source": [
    "import matplotlib.pyplot as plt\n",
    "import pandas as pd\n",
    "\n",
    "\n",
    "loss = np.array(loss)\n",
    "df = pd.DataFrame({\"loss\":loss})\n",
    "\n",
    "fig, ax = plt.subplots()\n",
    "\n",
    "ax.plot(loss, label = \"loss\")\n",
    "wind_size = 20\n",
    "ax.plot(df.rolling(wind_size).mean().to_numpy(), label = f\"loss, rolling average, window = {wind_size}\")\n",
    "ax.set_xlabel(\"Epochs\")\n",
    "ax.set_ylabel(\"Loss / ndata\")\n",
    "ax.legend()\n"
   ]
  },
  {
   "cell_type": "code",
   "execution_count": 28,
   "id": "91bace62",
   "metadata": {},
   "outputs": [
    {
     "data": {
      "text/plain": [
       "<function jax._src.tree_util.tree_map(f: Callable[..., Any], tree: Any, *rest: Any, is_leaf: Optional[Callable[[Any], bool]] = None) -> Any>"
      ]
     },
     "execution_count": 28,
     "metadata": {},
     "output_type": "execute_result"
    }
   ],
   "source": [
    "jax.tree_util."
   ]
  },
  {
   "cell_type": "markdown",
   "id": "17371eda",
   "metadata": {},
   "source": [
    "# Old"
   ]
  },
  {
   "cell_type": "code",
   "execution_count": 23,
   "id": "ca6500dc",
   "metadata": {},
   "outputs": [],
   "source": [
    "@jax.jit\n",
    "def loss_data_batch(weights,batch_idx):\n",
    "    pdf = jnp.einsum(\"i,ijk\", weights, INPUT_GRID)\n",
    "    return chi2_contribs_data_mini_batch(pdf,batch_idx)"
   ]
  },
  {
   "cell_type": "code",
   "execution_count": 77,
   "id": "dacf2762",
   "metadata": {},
   "outputs": [],
   "source": [
    "def data_stream(size=1):\n",
    "    \"\"\"\n",
    "    Could be a method of the FilteredDataGroupSpec class\n",
    "    \n",
    "    yield a DataGroupSpec that contains 1 or\n",
    "    more DataSetSpecs\n",
    "\n",
    "    Parameters\n",
    "    ----------\n",
    "    size : int, default value is 1\n",
    "        number of datasets to include in batch\n",
    "        \n",
    "    Yields\n",
    "    ------\n",
    "    DataGroupSpec\n",
    "    \n",
    "    \"\"\"\n",
    "    \n",
    "    rng = npr.RandomState(0)\n",
    "    \n",
    "    \n",
    "    while True:\n",
    "        \n",
    "        # index of datasets\n",
    "        ds_idx = rng.randint(low=0,high = len(data.datasets)-1,size = size)\n",
    "        ds_specs = np.array(filtered_data.datasets)[ds_idx]\n",
    "        \n",
    "        filt_data_batch = FilteredDataGroupSpec(name = \"data_batch\", datasets = tuple(ds_specs), dsinputs = ds_specs)\n",
    "        \n",
    "        yield filt_data_batch\n",
    "            \n",
    "batches = data_stream(size=2)"
   ]
  },
  {
   "cell_type": "code",
   "execution_count": 48,
   "id": "60d40f5c",
   "metadata": {},
   "outputs": [
    {
     "data": {
      "text/plain": [
       "array([64, 67])"
      ]
     },
     "execution_count": 48,
     "metadata": {},
     "output_type": "execute_result"
    }
   ],
   "source": [
    "rng.randint(low=0,high=len(data.datasets)-1,size = 2)"
   ]
  },
  {
   "cell_type": "code",
   "execution_count": 24,
   "id": "2b9d4eff",
   "metadata": {},
   "outputs": [
    {
     "name": "stdout",
     "output_type": "stream",
     "text": [
      "[3136 2595 3282 2077  298 1754   47 1416 2809 2236]\n",
      "[ 355  687 2098  894 3955  411 2139 3868 1850  428]\n"
     ]
    }
   ],
   "source": [
    "import numpy as np\n",
    "\n",
    "# is bugged as it does not always yield batches of the same shape\n",
    "\n",
    "def random_subset(Ndat, batch_size):\n",
    "    \"\"\"\n",
    "    Yield a generator for random mini-batches of indices of size `batch_size` from an array of size `Ndat`\n",
    "    \"\"\"\n",
    "    while True:\n",
    "        # generate a random permutation of indices\n",
    "        perm = np.random.permutation(Ndat)\n",
    "        \n",
    "        # create mini-batches of size `batch_size`\n",
    "        for i in range(0, Ndat, batch_size):\n",
    "            yield perm[i:i+batch_size]\n",
    "\n",
    "# Example\n",
    "# set the parameters\n",
    "batch_size = 10\n",
    "\n",
    "# initialize the random mini-batch generator\n",
    "batch_index = random_subset(Ndat, batch_size)\n",
    "\n",
    "# get the first mini-batch\n",
    "mini_batch1 = next(batch_index)\n",
    "print(mini_batch1)\n",
    "\n",
    "# get the second mini-batch\n",
    "mini_batch2 = next(batch_index)\n",
    "print(mini_batch2)"
   ]
  },
  {
   "cell_type": "markdown",
   "id": "3c14fc99",
   "metadata": {},
   "source": [
    "### Train model using jax optimizers example library"
   ]
  },
  {
   "cell_type": "code",
   "execution_count": 26,
   "id": "d4fd7d76",
   "metadata": {},
   "outputs": [],
   "source": [
    "# compute grad on mini batch\n",
    "grad = jax.grad(loss_data_batch)(weight_base,jnp.array([0,1,2,3]))"
   ]
  },
  {
   "cell_type": "code",
   "execution_count": 27,
   "id": "ff0bebaf",
   "metadata": {},
   "outputs": [],
   "source": [
    "momentum_mass = 0.9\n",
    "\n",
    "step_size = 1e-8\n",
    "\n",
    "num_epochs = 500\n",
    "\n",
    "opt_init, opt_update, get_params = optimizers.momentum(step_size, mass = momentum_mass)\n",
    "# opt_init, opt_update, get_params = optimizers.adagrad(step_size, momentum = momentum_mass)"
   ]
  },
  {
   "cell_type": "code",
   "execution_count": 28,
   "id": "e1a6f342",
   "metadata": {},
   "outputs": [],
   "source": [
    "# @jax.jit\n",
    "# def update(step,opt_state,batch_idx):\n",
    "#     params  = get_params(opt_state)\n",
    "#     return opt_update(step, jax.grad(loss_data_batch)(params,batch_idx),opt_state)\n",
    "\n",
    "@jax.jit\n",
    "def update(step,opt_state,batch):\n",
    "    params  = get_params(opt_state)\n",
    "    return opt_update(step, jax.grad(loss_data)(params,batch),opt_state)"
   ]
  },
  {
   "cell_type": "code",
   "execution_count": 29,
   "id": "27d40e73",
   "metadata": {},
   "outputs": [
    {
     "name": "stdout",
     "output_type": "stream",
     "text": [
      "Epoch 0, loss 123.542,           len(batch_idx) = 15\n",
      "Epoch 1, loss 54.436,           len(batch_idx) = 15\n",
      "Epoch 2, loss 61.556,           len(batch_idx) = 15\n",
      "Epoch 3, loss 52.110,           len(batch_idx) = 15\n",
      "Epoch 4, loss 150.720,           len(batch_idx) = 15\n",
      "Epoch 5, loss 98.448,           len(batch_idx) = 15\n",
      "Epoch 6, loss 468.318,           len(batch_idx) = 15\n",
      "Epoch 7, loss 22.799,           len(batch_idx) = 15\n",
      "Epoch 8, loss 114.096,           len(batch_idx) = 15\n",
      "Epoch 9, loss 38.138,           len(batch_idx) = 15\n",
      "Epoch 10, loss 402.146,           len(batch_idx) = 15\n",
      "Epoch 11, loss 44.214,           len(batch_idx) = 15\n",
      "Epoch 12, loss 48.651,           len(batch_idx) = 15\n",
      "Epoch 13, loss 73.297,           len(batch_idx) = 15\n",
      "Epoch 14, loss 174.068,           len(batch_idx) = 15\n",
      "Epoch 15, loss 185.663,           len(batch_idx) = 15\n",
      "Epoch 16, loss 179.258,           len(batch_idx) = 15\n",
      "Epoch 17, loss 494.901,           len(batch_idx) = 15\n",
      "Epoch 18, loss 39.150,           len(batch_idx) = 15\n",
      "Epoch 19, loss 39.354,           len(batch_idx) = 15\n",
      "Epoch 20, loss 708.229,           len(batch_idx) = 15\n",
      "Epoch 21, loss 19.251,           len(batch_idx) = 15\n",
      "Epoch 22, loss 60.857,           len(batch_idx) = 15\n",
      "Epoch 23, loss 34.409,           len(batch_idx) = 15\n",
      "Epoch 24, loss 21.472,           len(batch_idx) = 15\n",
      "Epoch 25, loss 43.192,           len(batch_idx) = 15\n",
      "Epoch 26, loss 71.585,           len(batch_idx) = 15\n",
      "Epoch 27, loss 31.518,           len(batch_idx) = 15\n",
      "Epoch 28, loss 62.045,           len(batch_idx) = 15\n",
      "Epoch 29, loss 44.598,           len(batch_idx) = 15\n",
      "Epoch 30, loss 90.564,           len(batch_idx) = 15\n",
      "Epoch 31, loss 45.936,           len(batch_idx) = 15\n",
      "Epoch 32, loss 38.210,           len(batch_idx) = 15\n",
      "Epoch 33, loss 29.910,           len(batch_idx) = 15\n",
      "Epoch 34, loss 89.760,           len(batch_idx) = 15\n",
      "Epoch 35, loss 75.557,           len(batch_idx) = 15\n",
      "Epoch 36, loss 112.382,           len(batch_idx) = 15\n",
      "Epoch 37, loss 42.371,           len(batch_idx) = 15\n",
      "Epoch 38, loss 32.585,           len(batch_idx) = 15\n",
      "Epoch 39, loss 32.061,           len(batch_idx) = 15\n",
      "Epoch 40, loss 20.776,           len(batch_idx) = 15\n",
      "Epoch 41, loss 40.582,           len(batch_idx) = 15\n",
      "Epoch 42, loss 59.808,           len(batch_idx) = 15\n",
      "Epoch 43, loss 67.772,           len(batch_idx) = 15\n",
      "Epoch 44, loss 84.655,           len(batch_idx) = 15\n",
      "Epoch 45, loss 56.162,           len(batch_idx) = 15\n",
      "Epoch 46, loss 39.523,           len(batch_idx) = 15\n",
      "Epoch 47, loss 52.253,           len(batch_idx) = 15\n",
      "Epoch 48, loss 53.064,           len(batch_idx) = 15\n",
      "Epoch 49, loss 398.170,           len(batch_idx) = 15\n",
      "Epoch 50, loss 172.604,           len(batch_idx) = 15\n",
      "Epoch 51, loss 44.477,           len(batch_idx) = 15\n",
      "Epoch 52, loss 37.176,           len(batch_idx) = 15\n",
      "Epoch 53, loss 31.804,           len(batch_idx) = 15\n",
      "Epoch 54, loss 160.725,           len(batch_idx) = 15\n",
      "Epoch 55, loss 54.915,           len(batch_idx) = 15\n",
      "Epoch 56, loss 213.249,           len(batch_idx) = 15\n",
      "Epoch 57, loss 263.200,           len(batch_idx) = 15\n",
      "Epoch 58, loss 948.747,           len(batch_idx) = 15\n",
      "Epoch 59, loss 52.327,           len(batch_idx) = 15\n",
      "Epoch 60, loss 72.104,           len(batch_idx) = 15\n",
      "Epoch 61, loss 242.263,           len(batch_idx) = 15\n",
      "Epoch 62, loss 2578.920,           len(batch_idx) = 15\n",
      "Epoch 63, loss 729.085,           len(batch_idx) = 15\n",
      "Epoch 64, loss 55.874,           len(batch_idx) = 15\n",
      "Epoch 65, loss 595.931,           len(batch_idx) = 15\n",
      "Epoch 66, loss 589.929,           len(batch_idx) = 15\n",
      "Epoch 67, loss 1691.879,           len(batch_idx) = 15\n",
      "Epoch 68, loss 287.046,           len(batch_idx) = 15\n",
      "Epoch 69, loss 1073.385,           len(batch_idx) = 15\n",
      "Epoch 70, loss 12498.085,           len(batch_idx) = 15\n",
      "Epoch 71, loss 332.384,           len(batch_idx) = 15\n",
      "Epoch 72, loss 2798.352,           len(batch_idx) = 15\n",
      "Epoch 73, loss 8735.688,           len(batch_idx) = 15\n",
      "Epoch 74, loss 7629.547,           len(batch_idx) = 15\n",
      "Epoch 75, loss 62862.922,           len(batch_idx) = 15\n",
      "Epoch 76, loss 2698.365,           len(batch_idx) = 15\n",
      "Epoch 77, loss 3874.803,           len(batch_idx) = 15\n",
      "Epoch 78, loss 26785.721,           len(batch_idx) = 15\n",
      "Epoch 79, loss 246.864,           len(batch_idx) = 15\n",
      "Epoch 80, loss 1469.243,           len(batch_idx) = 15\n",
      "Epoch 81, loss 2115.733,           len(batch_idx) = 15\n",
      "Epoch 82, loss 155349.250,           len(batch_idx) = 15\n",
      "Epoch 83, loss 1174.663,           len(batch_idx) = 15\n",
      "Epoch 84, loss 59021.996,           len(batch_idx) = 15\n",
      "Epoch 85, loss 28788.463,           len(batch_idx) = 15\n",
      "Epoch 86, loss 36450.188,           len(batch_idx) = 15\n",
      "Epoch 87, loss 100181.828,           len(batch_idx) = 15\n",
      "Epoch 88, loss 88582.133,           len(batch_idx) = 15\n",
      "Epoch 89, loss 189566.125,           len(batch_idx) = 15\n",
      "Epoch 90, loss 75968.102,           len(batch_idx) = 15\n",
      "Epoch 91, loss 61984.965,           len(batch_idx) = 15\n",
      "Epoch 92, loss 126894.016,           len(batch_idx) = 15\n",
      "Epoch 93, loss 43265.875,           len(batch_idx) = 15\n",
      "Epoch 94, loss 22529.326,           len(batch_idx) = 15\n",
      "Epoch 95, loss 28977.553,           len(batch_idx) = 15\n",
      "Epoch 96, loss 7537.004,           len(batch_idx) = 15\n",
      "Epoch 97, loss 466.464,           len(batch_idx) = 15\n",
      "Epoch 98, loss 1692.978,           len(batch_idx) = 15\n",
      "Epoch 99, loss 148063.656,           len(batch_idx) = 15\n",
      "Epoch 100, loss 19688.084,           len(batch_idx) = 15\n",
      "Epoch 101, loss 16769.906,           len(batch_idx) = 15\n",
      "Epoch 102, loss 24393.836,           len(batch_idx) = 15\n",
      "Epoch 103, loss 40120.816,           len(batch_idx) = 15\n",
      "Epoch 104, loss 111523.805,           len(batch_idx) = 15\n",
      "Epoch 105, loss 89565.523,           len(batch_idx) = 15\n",
      "Epoch 106, loss 66829.000,           len(batch_idx) = 15\n",
      "Epoch 107, loss 94348.219,           len(batch_idx) = 15\n",
      "Epoch 108, loss 38647.055,           len(batch_idx) = 15\n",
      "Epoch 109, loss 72176.273,           len(batch_idx) = 15\n",
      "Epoch 110, loss 35771.699,           len(batch_idx) = 15\n",
      "Epoch 111, loss 75144.297,           len(batch_idx) = 15\n",
      "Epoch 112, loss 46369.637,           len(batch_idx) = 15\n",
      "Epoch 113, loss 21042.443,           len(batch_idx) = 15\n",
      "Epoch 114, loss 18782.398,           len(batch_idx) = 15\n",
      "Epoch 115, loss 27835.045,           len(batch_idx) = 15\n",
      "Epoch 116, loss 6739.639,           len(batch_idx) = 15\n",
      "Epoch 117, loss 8267.375,           len(batch_idx) = 15\n",
      "Epoch 118, loss 543.140,           len(batch_idx) = 15\n",
      "Epoch 119, loss 31.426,           len(batch_idx) = 15\n",
      "Epoch 120, loss 3296.104,           len(batch_idx) = 15\n",
      "Epoch 121, loss 7782.365,           len(batch_idx) = 15\n",
      "Epoch 122, loss 130506.477,           len(batch_idx) = 15\n",
      "Epoch 123, loss 710.841,           len(batch_idx) = 15\n",
      "Epoch 124, loss 78873.797,           len(batch_idx) = 15\n",
      "Epoch 125, loss 114309.242,           len(batch_idx) = 15\n",
      "Epoch 126, loss 76840.102,           len(batch_idx) = 15\n",
      "Epoch 127, loss 66718.570,           len(batch_idx) = 15\n",
      "Epoch 128, loss 68950.688,           len(batch_idx) = 15\n",
      "Epoch 129, loss 99463.398,           len(batch_idx) = 15\n",
      "Epoch 130, loss 64832.152,           len(batch_idx) = 15\n",
      "Epoch 131, loss 34955.520,           len(batch_idx) = 15\n",
      "Epoch 132, loss 24509.916,           len(batch_idx) = 15\n",
      "Epoch 133, loss 71179.141,           len(batch_idx) = 15\n",
      "Epoch 134, loss 36888.078,           len(batch_idx) = 15\n",
      "Epoch 135, loss 55865.988,           len(batch_idx) = 15\n",
      "Epoch 136, loss 25474.529,           len(batch_idx) = 15\n",
      "Epoch 137, loss 28832.074,           len(batch_idx) = 15\n",
      "Epoch 138, loss 37474.766,           len(batch_idx) = 15\n",
      "Epoch 139, loss 61659.113,           len(batch_idx) = 15\n",
      "Epoch 140, loss 12125.264,           len(batch_idx) = 15\n",
      "Epoch 141, loss 2913.031,           len(batch_idx) = 15\n",
      "Epoch 142, loss 10504.152,           len(batch_idx) = 15\n",
      "Epoch 143, loss 175.372,           len(batch_idx) = 15\n",
      "Epoch 144, loss 2477.259,           len(batch_idx) = 15\n",
      "Epoch 145, loss 23982.447,           len(batch_idx) = 15\n",
      "Epoch 146, loss 5261.521,           len(batch_idx) = 15\n",
      "Epoch 147, loss 57422.652,           len(batch_idx) = 15\n",
      "Epoch 148, loss 17013.387,           len(batch_idx) = 15\n",
      "Epoch 149, loss 10599.179,           len(batch_idx) = 15\n",
      "Epoch 150, loss 1930.458,           len(batch_idx) = 15\n",
      "Epoch 151, loss 272.554,           len(batch_idx) = 15\n",
      "Epoch 152, loss 13180.022,           len(batch_idx) = 15\n"
     ]
    },
    {
     "name": "stdout",
     "output_type": "stream",
     "text": [
      "Epoch 153, loss 7824.375,           len(batch_idx) = 15\n",
      "Epoch 154, loss 5016.576,           len(batch_idx) = 15\n",
      "Epoch 155, loss 3993.147,           len(batch_idx) = 15\n",
      "Epoch 156, loss 8323.969,           len(batch_idx) = 15\n",
      "Epoch 157, loss 4795.538,           len(batch_idx) = 15\n",
      "Epoch 158, loss 5129.077,           len(batch_idx) = 15\n",
      "Epoch 159, loss 6022.242,           len(batch_idx) = 15\n",
      "Epoch 160, loss 8877.090,           len(batch_idx) = 15\n",
      "Epoch 161, loss 854.756,           len(batch_idx) = 15\n",
      "Epoch 162, loss 644.113,           len(batch_idx) = 15\n",
      "Epoch 163, loss 78.751,           len(batch_idx) = 15\n",
      "Epoch 164, loss 1212.436,           len(batch_idx) = 15\n",
      "Epoch 165, loss 191.719,           len(batch_idx) = 15\n",
      "Epoch 166, loss 62.397,           len(batch_idx) = 15\n",
      "Epoch 167, loss 202.855,           len(batch_idx) = 15\n",
      "Epoch 168, loss 798.225,           len(batch_idx) = 15\n",
      "Epoch 169, loss 15111.107,           len(batch_idx) = 15\n",
      "Epoch 170, loss 137.434,           len(batch_idx) = 15\n",
      "Epoch 171, loss 13271.858,           len(batch_idx) = 15\n",
      "Epoch 172, loss 14405.016,           len(batch_idx) = 15\n",
      "Epoch 173, loss 3576.791,           len(batch_idx) = 15\n",
      "Epoch 174, loss 314.178,           len(batch_idx) = 15\n",
      "Epoch 175, loss 191.170,           len(batch_idx) = 15\n",
      "Epoch 176, loss 11476.245,           len(batch_idx) = 15\n",
      "Epoch 177, loss 17.617,           len(batch_idx) = 15\n",
      "Epoch 178, loss 368.147,           len(batch_idx) = 15\n",
      "Epoch 179, loss 12333.516,           len(batch_idx) = 15\n",
      "Epoch 180, loss 1585.193,           len(batch_idx) = 15\n",
      "Epoch 181, loss 1943.197,           len(batch_idx) = 15\n",
      "Epoch 182, loss 423.784,           len(batch_idx) = 15\n",
      "Epoch 183, loss 1032.052,           len(batch_idx) = 15\n",
      "Epoch 184, loss 1369.022,           len(batch_idx) = 15\n",
      "Epoch 185, loss 10278.123,           len(batch_idx) = 15\n",
      "Epoch 186, loss 1456.918,           len(batch_idx) = 15\n",
      "Epoch 187, loss 159202.344,           len(batch_idx) = 15\n",
      "Epoch 188, loss 19146.678,           len(batch_idx) = 15\n",
      "Epoch 189, loss 85862.641,           len(batch_idx) = 15\n",
      "Epoch 190, loss 98372.234,           len(batch_idx) = 15\n",
      "Epoch 191, loss 5749067.000,           len(batch_idx) = 15\n",
      "Epoch 192, loss 3271359.750,           len(batch_idx) = 15\n",
      "Epoch 193, loss 29243382.000,           len(batch_idx) = 15\n",
      "Epoch 194, loss 63688.047,           len(batch_idx) = 15\n",
      "Epoch 195, loss 7000910.000,           len(batch_idx) = 15\n",
      "Epoch 196, loss 639126720.000,           len(batch_idx) = 15\n",
      "Epoch 197, loss 21706712285184.000,           len(batch_idx) = 15\n",
      "Epoch 198, loss 222342018968074861894696960.000,           len(batch_idx) = 15\n",
      "Epoch 199, loss inf,           len(batch_idx) = 15\n",
      "Epoch 200, loss nan,           len(batch_idx) = 15\n",
      "Epoch 201, loss nan,           len(batch_idx) = 15\n",
      "Epoch 202, loss nan,           len(batch_idx) = 15\n",
      "Epoch 203, loss nan,           len(batch_idx) = 15\n",
      "Epoch 204, loss nan,           len(batch_idx) = 15\n",
      "Epoch 205, loss nan,           len(batch_idx) = 15\n",
      "Epoch 206, loss nan,           len(batch_idx) = 15\n",
      "Epoch 207, loss nan,           len(batch_idx) = 15\n",
      "Epoch 208, loss nan,           len(batch_idx) = 15\n",
      "Epoch 209, loss nan,           len(batch_idx) = 15\n",
      "Epoch 210, loss nan,           len(batch_idx) = 15\n",
      "Epoch 211, loss nan,           len(batch_idx) = 15\n",
      "Epoch 212, loss nan,           len(batch_idx) = 15\n",
      "Epoch 213, loss nan,           len(batch_idx) = 15\n",
      "Epoch 214, loss nan,           len(batch_idx) = 15\n",
      "Epoch 215, loss nan,           len(batch_idx) = 15\n",
      "Epoch 216, loss nan,           len(batch_idx) = 15\n",
      "Epoch 217, loss nan,           len(batch_idx) = 15\n",
      "Epoch 218, loss nan,           len(batch_idx) = 15\n",
      "Epoch 219, loss nan,           len(batch_idx) = 15\n",
      "Epoch 220, loss nan,           len(batch_idx) = 15\n",
      "Epoch 221, loss nan,           len(batch_idx) = 15\n",
      "Epoch 222, loss nan,           len(batch_idx) = 15\n",
      "Epoch 223, loss nan,           len(batch_idx) = 15\n",
      "Epoch 224, loss nan,           len(batch_idx) = 15\n",
      "Epoch 225, loss nan,           len(batch_idx) = 15\n",
      "Epoch 226, loss nan,           len(batch_idx) = 15\n",
      "Epoch 227, loss nan,           len(batch_idx) = 15\n",
      "Epoch 228, loss nan,           len(batch_idx) = 15\n",
      "Epoch 229, loss nan,           len(batch_idx) = 15\n",
      "Epoch 230, loss nan,           len(batch_idx) = 15\n",
      "Epoch 231, loss nan,           len(batch_idx) = 15\n",
      "Epoch 232, loss nan,           len(batch_idx) = 15\n",
      "Epoch 233, loss nan,           len(batch_idx) = 15\n",
      "Epoch 234, loss nan,           len(batch_idx) = 15\n",
      "Epoch 235, loss nan,           len(batch_idx) = 15\n",
      "Epoch 236, loss nan,           len(batch_idx) = 15\n",
      "Epoch 237, loss nan,           len(batch_idx) = 15\n",
      "Epoch 238, loss nan,           len(batch_idx) = 15\n",
      "Epoch 239, loss nan,           len(batch_idx) = 15\n",
      "Epoch 240, loss nan,           len(batch_idx) = 15\n",
      "Epoch 241, loss nan,           len(batch_idx) = 15\n",
      "Epoch 242, loss nan,           len(batch_idx) = 15\n",
      "Epoch 243, loss nan,           len(batch_idx) = 15\n",
      "Epoch 244, loss nan,           len(batch_idx) = 15\n",
      "Epoch 245, loss nan,           len(batch_idx) = 15\n",
      "Epoch 246, loss nan,           len(batch_idx) = 15\n",
      "Epoch 247, loss nan,           len(batch_idx) = 15\n",
      "Epoch 248, loss nan,           len(batch_idx) = 15\n",
      "Epoch 249, loss nan,           len(batch_idx) = 15\n",
      "Epoch 250, loss nan,           len(batch_idx) = 15\n",
      "Epoch 251, loss nan,           len(batch_idx) = 15\n",
      "Epoch 252, loss nan,           len(batch_idx) = 15\n",
      "Epoch 253, loss nan,           len(batch_idx) = 15\n",
      "Epoch 254, loss nan,           len(batch_idx) = 15\n",
      "Epoch 255, loss nan,           len(batch_idx) = 15\n",
      "Epoch 256, loss nan,           len(batch_idx) = 15\n",
      "Epoch 257, loss nan,           len(batch_idx) = 15\n",
      "Epoch 258, loss nan,           len(batch_idx) = 15\n",
      "Epoch 259, loss nan,           len(batch_idx) = 15\n",
      "Epoch 260, loss nan,           len(batch_idx) = 15\n",
      "Epoch 261, loss nan,           len(batch_idx) = 15\n",
      "Epoch 262, loss nan,           len(batch_idx) = 15\n",
      "Epoch 263, loss nan,           len(batch_idx) = 15\n",
      "Epoch 264, loss nan,           len(batch_idx) = 15\n",
      "Epoch 265, loss nan,           len(batch_idx) = 15\n",
      "Epoch 266, loss nan,           len(batch_idx) = 15\n",
      "Epoch 267, loss nan,           len(batch_idx) = 15\n",
      "Epoch 268, loss nan,           len(batch_idx) = 15\n",
      "Epoch 269, loss nan,           len(batch_idx) = 15\n",
      "Epoch 270, loss nan,           len(batch_idx) = 15\n",
      "Epoch 271, loss nan,           len(batch_idx) = 15\n",
      "Epoch 272, loss nan,           len(batch_idx) = 15\n",
      "Epoch 273, loss nan,           len(batch_idx) = 15\n",
      "Epoch 274, loss nan,           len(batch_idx) = 6\n",
      "Epoch 275, loss nan,           len(batch_idx) = 15\n",
      "Epoch 276, loss nan,           len(batch_idx) = 15\n",
      "Epoch 277, loss nan,           len(batch_idx) = 15\n",
      "Epoch 278, loss nan,           len(batch_idx) = 15\n",
      "Epoch 279, loss nan,           len(batch_idx) = 15\n",
      "Epoch 280, loss nan,           len(batch_idx) = 15\n",
      "Epoch 281, loss nan,           len(batch_idx) = 15\n",
      "Epoch 282, loss nan,           len(batch_idx) = 15\n",
      "Epoch 283, loss nan,           len(batch_idx) = 15\n",
      "Epoch 284, loss nan,           len(batch_idx) = 15\n",
      "Epoch 285, loss nan,           len(batch_idx) = 15\n",
      "Epoch 286, loss nan,           len(batch_idx) = 15\n",
      "Epoch 287, loss nan,           len(batch_idx) = 15\n",
      "Epoch 288, loss nan,           len(batch_idx) = 15\n",
      "Epoch 289, loss nan,           len(batch_idx) = 15\n",
      "Epoch 290, loss nan,           len(batch_idx) = 15\n",
      "Epoch 291, loss nan,           len(batch_idx) = 15\n",
      "Epoch 292, loss nan,           len(batch_idx) = 15\n",
      "Epoch 293, loss nan,           len(batch_idx) = 15\n",
      "Epoch 294, loss nan,           len(batch_idx) = 15\n",
      "Epoch 295, loss nan,           len(batch_idx) = 15\n",
      "Epoch 296, loss nan,           len(batch_idx) = 15\n",
      "Epoch 297, loss nan,           len(batch_idx) = 15\n",
      "Epoch 298, loss nan,           len(batch_idx) = 15\n",
      "Epoch 299, loss nan,           len(batch_idx) = 15\n",
      "Epoch 300, loss nan,           len(batch_idx) = 15\n",
      "Epoch 301, loss nan,           len(batch_idx) = 15\n",
      "Epoch 302, loss nan,           len(batch_idx) = 15\n",
      "Epoch 303, loss nan,           len(batch_idx) = 15\n",
      "Epoch 304, loss nan,           len(batch_idx) = 15\n",
      "Epoch 305, loss nan,           len(batch_idx) = 15\n",
      "Epoch 306, loss nan,           len(batch_idx) = 15\n",
      "Epoch 307, loss nan,           len(batch_idx) = 15\n",
      "Epoch 308, loss nan,           len(batch_idx) = 15\n",
      "Epoch 309, loss nan,           len(batch_idx) = 15\n"
     ]
    },
    {
     "name": "stdout",
     "output_type": "stream",
     "text": [
      "Epoch 310, loss nan,           len(batch_idx) = 15\n",
      "Epoch 311, loss nan,           len(batch_idx) = 15\n",
      "Epoch 312, loss nan,           len(batch_idx) = 15\n",
      "Epoch 313, loss nan,           len(batch_idx) = 15\n",
      "Epoch 314, loss nan,           len(batch_idx) = 15\n",
      "Epoch 315, loss nan,           len(batch_idx) = 15\n",
      "Epoch 316, loss nan,           len(batch_idx) = 15\n",
      "Epoch 317, loss nan,           len(batch_idx) = 15\n",
      "Epoch 318, loss nan,           len(batch_idx) = 15\n",
      "Epoch 319, loss nan,           len(batch_idx) = 15\n",
      "Epoch 320, loss nan,           len(batch_idx) = 15\n",
      "Epoch 321, loss nan,           len(batch_idx) = 15\n",
      "Epoch 322, loss nan,           len(batch_idx) = 15\n",
      "Epoch 323, loss nan,           len(batch_idx) = 15\n",
      "Epoch 324, loss nan,           len(batch_idx) = 15\n",
      "Epoch 325, loss nan,           len(batch_idx) = 15\n",
      "Epoch 326, loss nan,           len(batch_idx) = 15\n",
      "Epoch 327, loss nan,           len(batch_idx) = 15\n",
      "Epoch 328, loss nan,           len(batch_idx) = 15\n",
      "Epoch 329, loss nan,           len(batch_idx) = 15\n",
      "Epoch 330, loss nan,           len(batch_idx) = 15\n",
      "Epoch 331, loss nan,           len(batch_idx) = 15\n",
      "Epoch 332, loss nan,           len(batch_idx) = 15\n",
      "Epoch 333, loss nan,           len(batch_idx) = 15\n",
      "Epoch 334, loss nan,           len(batch_idx) = 15\n",
      "Epoch 335, loss nan,           len(batch_idx) = 15\n",
      "Epoch 336, loss nan,           len(batch_idx) = 15\n",
      "Epoch 337, loss nan,           len(batch_idx) = 15\n",
      "Epoch 338, loss nan,           len(batch_idx) = 15\n",
      "Epoch 339, loss nan,           len(batch_idx) = 15\n",
      "Epoch 340, loss nan,           len(batch_idx) = 15\n",
      "Epoch 341, loss nan,           len(batch_idx) = 15\n",
      "Epoch 342, loss nan,           len(batch_idx) = 15\n",
      "Epoch 343, loss nan,           len(batch_idx) = 15\n",
      "Epoch 344, loss nan,           len(batch_idx) = 15\n",
      "Epoch 345, loss nan,           len(batch_idx) = 15\n",
      "Epoch 346, loss nan,           len(batch_idx) = 15\n",
      "Epoch 347, loss nan,           len(batch_idx) = 15\n",
      "Epoch 348, loss nan,           len(batch_idx) = 15\n",
      "Epoch 349, loss nan,           len(batch_idx) = 15\n",
      "Epoch 350, loss nan,           len(batch_idx) = 15\n",
      "Epoch 351, loss nan,           len(batch_idx) = 15\n",
      "Epoch 352, loss nan,           len(batch_idx) = 15\n",
      "Epoch 353, loss nan,           len(batch_idx) = 15\n",
      "Epoch 354, loss nan,           len(batch_idx) = 15\n",
      "Epoch 355, loss nan,           len(batch_idx) = 15\n",
      "Epoch 356, loss nan,           len(batch_idx) = 15\n",
      "Epoch 357, loss nan,           len(batch_idx) = 15\n",
      "Epoch 358, loss nan,           len(batch_idx) = 15\n",
      "Epoch 359, loss nan,           len(batch_idx) = 15\n",
      "Epoch 360, loss nan,           len(batch_idx) = 15\n",
      "Epoch 361, loss nan,           len(batch_idx) = 15\n",
      "Epoch 362, loss nan,           len(batch_idx) = 15\n",
      "Epoch 363, loss nan,           len(batch_idx) = 15\n",
      "Epoch 364, loss nan,           len(batch_idx) = 15\n",
      "Epoch 365, loss nan,           len(batch_idx) = 15\n",
      "Epoch 366, loss nan,           len(batch_idx) = 15\n",
      "Epoch 367, loss nan,           len(batch_idx) = 15\n",
      "Epoch 368, loss nan,           len(batch_idx) = 15\n",
      "Epoch 369, loss nan,           len(batch_idx) = 15\n",
      "Epoch 370, loss nan,           len(batch_idx) = 15\n",
      "Epoch 371, loss nan,           len(batch_idx) = 15\n",
      "Epoch 372, loss nan,           len(batch_idx) = 15\n",
      "Epoch 373, loss nan,           len(batch_idx) = 15\n",
      "Epoch 374, loss nan,           len(batch_idx) = 15\n",
      "Epoch 375, loss nan,           len(batch_idx) = 15\n",
      "Epoch 376, loss nan,           len(batch_idx) = 15\n",
      "Epoch 377, loss nan,           len(batch_idx) = 15\n",
      "Epoch 378, loss nan,           len(batch_idx) = 15\n",
      "Epoch 379, loss nan,           len(batch_idx) = 15\n",
      "Epoch 380, loss nan,           len(batch_idx) = 15\n",
      "Epoch 381, loss nan,           len(batch_idx) = 15\n",
      "Epoch 382, loss nan,           len(batch_idx) = 15\n",
      "Epoch 383, loss nan,           len(batch_idx) = 15\n",
      "Epoch 384, loss nan,           len(batch_idx) = 15\n",
      "Epoch 385, loss nan,           len(batch_idx) = 15\n",
      "Epoch 386, loss nan,           len(batch_idx) = 15\n",
      "Epoch 387, loss nan,           len(batch_idx) = 15\n",
      "Epoch 388, loss nan,           len(batch_idx) = 15\n",
      "Epoch 389, loss nan,           len(batch_idx) = 15\n",
      "Epoch 390, loss nan,           len(batch_idx) = 15\n",
      "Epoch 391, loss nan,           len(batch_idx) = 15\n",
      "Epoch 392, loss nan,           len(batch_idx) = 15\n",
      "Epoch 393, loss nan,           len(batch_idx) = 15\n",
      "Epoch 394, loss nan,           len(batch_idx) = 15\n",
      "Epoch 395, loss nan,           len(batch_idx) = 15\n",
      "Epoch 396, loss nan,           len(batch_idx) = 15\n",
      "Epoch 397, loss nan,           len(batch_idx) = 15\n",
      "Epoch 398, loss nan,           len(batch_idx) = 15\n",
      "Epoch 399, loss nan,           len(batch_idx) = 15\n",
      "Epoch 400, loss nan,           len(batch_idx) = 15\n",
      "Epoch 401, loss nan,           len(batch_idx) = 15\n",
      "Epoch 402, loss nan,           len(batch_idx) = 15\n",
      "Epoch 403, loss nan,           len(batch_idx) = 15\n",
      "Epoch 404, loss nan,           len(batch_idx) = 15\n",
      "Epoch 405, loss nan,           len(batch_idx) = 15\n",
      "Epoch 406, loss nan,           len(batch_idx) = 15\n",
      "Epoch 407, loss nan,           len(batch_idx) = 15\n",
      "Epoch 408, loss nan,           len(batch_idx) = 15\n",
      "Epoch 409, loss nan,           len(batch_idx) = 15\n",
      "Epoch 410, loss nan,           len(batch_idx) = 15\n",
      "Epoch 411, loss nan,           len(batch_idx) = 15\n",
      "Epoch 412, loss nan,           len(batch_idx) = 15\n",
      "Epoch 413, loss nan,           len(batch_idx) = 15\n",
      "Epoch 414, loss nan,           len(batch_idx) = 15\n",
      "Epoch 415, loss nan,           len(batch_idx) = 15\n",
      "Epoch 416, loss nan,           len(batch_idx) = 15\n",
      "Epoch 417, loss nan,           len(batch_idx) = 15\n",
      "Epoch 418, loss nan,           len(batch_idx) = 15\n",
      "Epoch 419, loss nan,           len(batch_idx) = 15\n",
      "Epoch 420, loss nan,           len(batch_idx) = 15\n",
      "Epoch 421, loss nan,           len(batch_idx) = 15\n",
      "Epoch 422, loss nan,           len(batch_idx) = 15\n",
      "Epoch 423, loss nan,           len(batch_idx) = 15\n",
      "Epoch 424, loss nan,           len(batch_idx) = 15\n",
      "Epoch 425, loss nan,           len(batch_idx) = 15\n",
      "Epoch 426, loss nan,           len(batch_idx) = 15\n",
      "Epoch 427, loss nan,           len(batch_idx) = 15\n",
      "Epoch 428, loss nan,           len(batch_idx) = 15\n",
      "Epoch 429, loss nan,           len(batch_idx) = 15\n",
      "Epoch 430, loss nan,           len(batch_idx) = 15\n",
      "Epoch 431, loss nan,           len(batch_idx) = 15\n",
      "Epoch 432, loss nan,           len(batch_idx) = 15\n",
      "Epoch 433, loss nan,           len(batch_idx) = 15\n",
      "Epoch 434, loss nan,           len(batch_idx) = 15\n",
      "Epoch 435, loss nan,           len(batch_idx) = 15\n",
      "Epoch 436, loss nan,           len(batch_idx) = 15\n",
      "Epoch 437, loss nan,           len(batch_idx) = 15\n",
      "Epoch 438, loss nan,           len(batch_idx) = 15\n",
      "Epoch 439, loss nan,           len(batch_idx) = 15\n",
      "Epoch 440, loss nan,           len(batch_idx) = 15\n",
      "Epoch 441, loss nan,           len(batch_idx) = 15\n",
      "Epoch 442, loss nan,           len(batch_idx) = 15\n",
      "Epoch 443, loss nan,           len(batch_idx) = 15\n",
      "Epoch 444, loss nan,           len(batch_idx) = 15\n",
      "Epoch 445, loss nan,           len(batch_idx) = 15\n",
      "Epoch 446, loss nan,           len(batch_idx) = 15\n",
      "Epoch 447, loss nan,           len(batch_idx) = 15\n",
      "Epoch 448, loss nan,           len(batch_idx) = 15\n",
      "Epoch 449, loss nan,           len(batch_idx) = 15\n",
      "Epoch 450, loss nan,           len(batch_idx) = 15\n",
      "Epoch 451, loss nan,           len(batch_idx) = 15\n",
      "Epoch 452, loss nan,           len(batch_idx) = 15\n",
      "Epoch 453, loss nan,           len(batch_idx) = 15\n",
      "Epoch 454, loss nan,           len(batch_idx) = 15\n",
      "Epoch 455, loss nan,           len(batch_idx) = 15\n",
      "Epoch 456, loss nan,           len(batch_idx) = 15\n",
      "Epoch 457, loss nan,           len(batch_idx) = 15\n",
      "Epoch 458, loss nan,           len(batch_idx) = 15\n",
      "Epoch 459, loss nan,           len(batch_idx) = 15\n",
      "Epoch 460, loss nan,           len(batch_idx) = 15\n",
      "Epoch 461, loss nan,           len(batch_idx) = 15\n",
      "Epoch 462, loss nan,           len(batch_idx) = 15\n",
      "Epoch 463, loss nan,           len(batch_idx) = 15\n",
      "Epoch 464, loss nan,           len(batch_idx) = 15\n",
      "Epoch 465, loss nan,           len(batch_idx) = 15\n",
      "Epoch 466, loss nan,           len(batch_idx) = 15\n",
      "Epoch 467, loss nan,           len(batch_idx) = 15\n",
      "Epoch 468, loss nan,           len(batch_idx) = 15\n",
      "Epoch 469, loss nan,           len(batch_idx) = 15\n",
      "Epoch 470, loss nan,           len(batch_idx) = 15\n",
      "Epoch 471, loss nan,           len(batch_idx) = 15\n",
      "Epoch 472, loss nan,           len(batch_idx) = 15\n"
     ]
    },
    {
     "name": "stdout",
     "output_type": "stream",
     "text": [
      "Epoch 473, loss nan,           len(batch_idx) = 15\n",
      "Epoch 474, loss nan,           len(batch_idx) = 15\n",
      "Epoch 475, loss nan,           len(batch_idx) = 15\n",
      "Epoch 476, loss nan,           len(batch_idx) = 15\n",
      "Epoch 477, loss nan,           len(batch_idx) = 15\n",
      "Epoch 478, loss nan,           len(batch_idx) = 15\n",
      "Epoch 479, loss nan,           len(batch_idx) = 15\n",
      "Epoch 480, loss nan,           len(batch_idx) = 15\n",
      "Epoch 481, loss nan,           len(batch_idx) = 15\n",
      "Epoch 482, loss nan,           len(batch_idx) = 15\n",
      "Epoch 483, loss nan,           len(batch_idx) = 15\n",
      "Epoch 484, loss nan,           len(batch_idx) = 15\n",
      "Epoch 485, loss nan,           len(batch_idx) = 15\n",
      "Epoch 486, loss nan,           len(batch_idx) = 15\n",
      "Epoch 487, loss nan,           len(batch_idx) = 15\n",
      "Epoch 488, loss nan,           len(batch_idx) = 15\n",
      "Epoch 489, loss nan,           len(batch_idx) = 15\n",
      "Epoch 490, loss nan,           len(batch_idx) = 15\n",
      "Epoch 491, loss nan,           len(batch_idx) = 15\n",
      "Epoch 492, loss nan,           len(batch_idx) = 15\n",
      "Epoch 493, loss nan,           len(batch_idx) = 15\n",
      "Epoch 494, loss nan,           len(batch_idx) = 15\n",
      "Epoch 495, loss nan,           len(batch_idx) = 15\n",
      "Epoch 496, loss nan,           len(batch_idx) = 15\n",
      "Epoch 497, loss nan,           len(batch_idx) = 15\n",
      "Epoch 498, loss nan,           len(batch_idx) = 15\n",
      "Epoch 499, loss nan,           len(batch_idx) = 15\n"
     ]
    }
   ],
   "source": [
    "opt_counter = itertools.count()\n",
    "opt_state = opt_init(weight_base)\n",
    "\n",
    "batch_size = 15\n",
    "# batch_iterator = random_neighbouring_subset(Ndat, batch_size)\n",
    "batch_iterator = random_subset(Ndat, batch_size)\n",
    "\n",
    "for epoch in range(num_epochs):\n",
    "    # get batch index from generator\n",
    "    batch_idx = next(batch_iterator)\n",
    "    \n",
    "    print(f\"Epoch {epoch}, loss {loss_data_batch(get_params(opt_state),batch_idx):.3f}, \\\n",
    "          len(batch_idx) = {len(batch_idx)}\")\n",
    "    \n",
    "    opt_state = update(next(opt_counter), opt_state, batch_idx)\n",
    "    \n",
    "    "
   ]
  },
  {
   "cell_type": "code",
   "execution_count": 71,
   "id": "f6340f89",
   "metadata": {},
   "outputs": [],
   "source": [
    "import matplotlib.pyplot as plt"
   ]
  },
  {
   "cell_type": "code",
   "execution_count": 105,
   "id": "8c006b15",
   "metadata": {},
   "outputs": [
    {
     "data": {
      "text/plain": [
       "[<matplotlib.lines.Line2D at 0x1aa9a52b0>]"
      ]
     },
     "execution_count": 105,
     "metadata": {},
     "output_type": "execute_result"
    },
    {
     "data": {
      "image/png": "[encoded data removed]",
      "text/plain": [
       "<Figure size 640x480 with 1 Axes>"
      ]
     },
     "metadata": {},
     "output_type": "display_data"
    }
   ],
   "source": [
    "plt.plot(jnp.einsum(\"i,ijk->jk\", get_params(opt_state), INPUT_GRID)[5, :])\n",
    "plt.plot(INPUT_GRID[0, 5,:])"
   ]
  },
  {
   "cell_type": "code",
   "execution_count": 257,
   "id": "44b034e1",
   "metadata": {},
   "outputs": [
    {
     "data": {
      "text/plain": [
       "array(['photon', '\\\\Sigma', 'g', 'V', 'V3', 'V8', 'V15', 'V24', 'V35',\n",
       "       'T3', 'T8', 'T15', 'T24', 'T35'], dtype='<U6')"
      ]
     },
     "execution_count": 257,
     "metadata": {},
     "output_type": "execute_result"
    }
   ],
   "source": [
    "convolution.FK_FLAVOURS"
   ]
  },
  {
   "cell_type": "code",
   "execution_count": 216,
   "id": "0bea7be6",
   "metadata": {},
   "outputs": [
    {
     "data": {
      "text/plain": [
       "73"
      ]
     },
     "execution_count": 216,
     "metadata": {},
     "output_type": "execute_result"
    }
   ],
   "source": [
    "len(chi2_contribs)"
   ]
  },
  {
   "cell_type": "code",
   "execution_count": 217,
   "id": "33141ca8",
   "metadata": {},
   "outputs": [
    {
     "data": {
      "text/plain": [
       "Array(nan, dtype=float32)"
      ]
     },
     "execution_count": 217,
     "metadata": {},
     "output_type": "execute_result"
    }
   ],
   "source": [
    "loss(get_params(opt_state), chi2_contribs)"
   ]
  },
  {
   "cell_type": "code",
   "execution_count": null,
   "id": "a4e4fca4",
   "metadata": {},
   "outputs": [],
   "source": [
    "loss()"
   ]
  },
  {
   "cell_type": "code",
   "execution_count": 180,
   "id": "d4f244a5",
   "metadata": {},
   "outputs": [],
   "source": [
    "ii = iter(batch_stream())"
   ]
  },
  {
   "cell_type": "code",
   "execution_count": 16,
   "id": "fc58d73a",
   "metadata": {},
   "outputs": [
    {
     "name": "stderr",
     "output_type": "stream",
     "text": [
      "No GPU/TPU found, falling back to CPU. (Set TF_CPP_MIN_LOG_LEVEL=0 and rerun for more info.)\n"
     ]
    },
    {
     "data": {
      "text/plain": [
       "Array(43581.004, dtype=float32)"
      ]
     },
     "execution_count": 16,
     "metadata": {},
     "output_type": "execute_result"
    }
   ],
   "source": [
    "\n",
    "\n",
    "cd = load_commondata(ds.commondata).with_cuts(ds.cuts)\n",
    "\n",
    "central_value = jnp.array(cd.central_values)\n",
    "\n",
    "covmat = covmats.covmat_from_systematics(cd, dataset_input=ds)\n",
    "\n",
    "\n",
    "\n",
    "sqrt_covmat = jnp.array(covmats.sqrt_covmat(covmat))\n",
    "\n",
    "jnp.sum(jla.solve_triangular(sqrt_covmat, central_value, lower=True)**2)\n",
    "\n",
    "\n",
    "\n"
   ]
  },
  {
   "cell_type": "code",
   "execution_count": 191,
   "id": "c624fdb3",
   "metadata": {},
   "outputs": [
    {
     "data": {
      "text/plain": [
       "[<PjitFunction of <function make_chi2.<locals>.chi2 at 0x7fa188021940>>,\n",
       " <PjitFunction of <function make_chi2.<locals>.chi2 at 0x7f9badeea160>>,\n",
       " <PjitFunction of <function make_chi2.<locals>.chi2 at 0x7f9d2d025a60>>,\n",
       " <PjitFunction of <function make_chi2.<locals>.chi2 at 0x7f9e01c2b790>>,\n",
       " <PjitFunction of <function make_chi2.<locals>.chi2 at 0x7f9bade95160>>,\n",
       " <PjitFunction of <function make_chi2.<locals>.chi2 at 0x7f9bade67ca0>>,\n",
       " <PjitFunction of <function make_chi2.<locals>.chi2 at 0x7f9badee85e0>>,\n",
       " <PjitFunction of <function make_chi2.<locals>.chi2 at 0x7f9badef3040>>,\n",
       " <PjitFunction of <function make_chi2.<locals>.chi2 at 0x7f9d23cdb700>>,\n",
       " <PjitFunction of <function make_chi2.<locals>.chi2 at 0x7f9badec5ee0>>]"
      ]
     },
     "execution_count": 191,
     "metadata": {},
     "output_type": "execute_result"
    }
   ],
   "source": [
    "next(ii)"
   ]
  },
  {
   "cell_type": "code",
   "execution_count": 101,
   "id": "b14c1e00",
   "metadata": {},
   "outputs": [],
   "source": [
    "covmats.systematics_matrix_from_commondata??"
   ]
  },
  {
   "cell_type": "code",
   "execution_count": 56,
   "id": "541933bf",
   "metadata": {},
   "outputs": [],
   "source": [
    "a = np.random.rand(len(covmat))"
   ]
  },
  {
   "cell_type": "code",
   "execution_count": 67,
   "id": "66aa9b13",
   "metadata": {},
   "outputs": [],
   "source": [
    "import scipy.linalg as la"
   ]
  },
  {
   "cell_type": "code",
   "execution_count": 68,
   "id": "6b570b71",
   "metadata": {},
   "outputs": [
    {
     "data": {
      "text/plain": [
       "76949.52986563856"
      ]
     },
     "execution_count": 68,
     "metadata": {},
     "output_type": "execute_result"
    }
   ],
   "source": [
    "a@la.inv(covmat)@a"
   ]
  },
  {
   "cell_type": "code",
   "execution_count": 98,
   "id": "303de66c",
   "metadata": {},
   "outputs": [
    {
     "data": {
      "text/plain": [
       "Array(76949.53, dtype=float32)"
      ]
     },
     "execution_count": 98,
     "metadata": {},
     "output_type": "execute_result"
    }
   ],
   "source": [
    "jnp.sum(jla.solve_triangular(sqrt_covmat, a, lower=True)**2)"
   ]
  },
  {
   "cell_type": "code",
   "execution_count": 69,
   "id": "5e30dfa5",
   "metadata": {},
   "outputs": [],
   "source": [
    "from validphys.calcutils import calc_chi2"
   ]
  },
  {
   "cell_type": "code",
   "execution_count": 70,
   "id": "5c53a747",
   "metadata": {},
   "outputs": [
    {
     "data": {
      "text/plain": [
       "76949.52986563857"
      ]
     },
     "execution_count": 70,
     "metadata": {},
     "output_type": "execute_result"
    }
   ],
   "source": [
    "calc_chi2(la.cholesky(covmat, lower=True), a)"
   ]
  },
  {
   "cell_type": "code",
   "execution_count": 74,
   "id": "30bda46c",
   "metadata": {},
   "outputs": [
    {
     "data": {
      "text/plain": [
       "76949.52986563857"
      ]
     },
     "execution_count": 74,
     "metadata": {},
     "output_type": "execute_result"
    }
   ],
   "source": [
    "calc_chi2(covmats.sqrt_covmat(covmat), a)"
   ]
  },
  {
   "cell_type": "code",
   "execution_count": 76,
   "id": "3ac84aa7",
   "metadata": {},
   "outputs": [],
   "source": [
    "sm = covmats.systematics_matrix_from_commondata(cd, ds)"
   ]
  },
  {
   "cell_type": "code",
   "execution_count": 77,
   "id": "c0eb39f5",
   "metadata": {},
   "outputs": [
    {
     "data": {
      "text/plain": [
       "(121, 226)"
      ]
     },
     "execution_count": 77,
     "metadata": {},
     "output_type": "execute_result"
    }
   ],
   "source": [
    "sm.shape"
   ]
  },
  {
   "cell_type": "code",
   "execution_count": 80,
   "id": "22c75508",
   "metadata": {},
   "outputs": [],
   "source": [
    "q,r = la.qr(sm)"
   ]
  },
  {
   "cell_type": "code",
   "execution_count": 81,
   "id": "24d988f7",
   "metadata": {},
   "outputs": [
    {
     "data": {
      "text/plain": [
       "array([[1., 0., 0., ..., 0., 0., 0.],\n",
       "       [0., 1., 0., ..., 0., 0., 0.],\n",
       "       [0., 0., 1., ..., 0., 0., 0.],\n",
       "       ...,\n",
       "       [0., 0., 0., ..., 1., 0., 0.],\n",
       "       [0., 0., 0., ..., 0., 1., 0.],\n",
       "       [0., 0., 0., ..., 0., 0., 1.]])"
      ]
     },
     "execution_count": 81,
     "metadata": {},
     "output_type": "execute_result"
    }
   ],
   "source": [
    "q"
   ]
  },
  {
   "cell_type": "code",
   "execution_count": 86,
   "id": "6b915878",
   "metadata": {},
   "outputs": [
    {
     "ename": "ValueError",
     "evalue": "expected square matrix",
     "output_type": "error",
     "traceback": [
      "\u001b[0;31m---------------------------------------------------------------------------\u001b[0m",
      "\u001b[0;31mValueError\u001b[0m                                Traceback (most recent call last)",
      "Input \u001b[0;32mIn [86]\u001b[0m, in \u001b[0;36m<cell line: 1>\u001b[0;34m()\u001b[0m\n\u001b[0;32m----> 1\u001b[0m \u001b[43mla\u001b[49m\u001b[38;5;241;43m.\u001b[39;49m\u001b[43msolve_triangular\u001b[49m\u001b[43m(\u001b[49m\u001b[43mr\u001b[49m\u001b[43m,\u001b[49m\u001b[43m \u001b[49m\u001b[43ma\u001b[49m\u001b[43m)\u001b[49m\n",
      "File \u001b[0;32m~/anaconda3/envs/nnpdfdev/lib/python3.9/site-packages/scipy/linalg/_basic.py:341\u001b[0m, in \u001b[0;36msolve_triangular\u001b[0;34m(a, b, trans, lower, unit_diagonal, overwrite_b, debug, check_finite)\u001b[0m\n\u001b[1;32m    339\u001b[0m b1 \u001b[38;5;241m=\u001b[39m _asarray_validated(b, check_finite\u001b[38;5;241m=\u001b[39mcheck_finite)\n\u001b[1;32m    340\u001b[0m \u001b[38;5;28;01mif\u001b[39;00m \u001b[38;5;28mlen\u001b[39m(a1\u001b[38;5;241m.\u001b[39mshape) \u001b[38;5;241m!=\u001b[39m \u001b[38;5;241m2\u001b[39m \u001b[38;5;129;01mor\u001b[39;00m a1\u001b[38;5;241m.\u001b[39mshape[\u001b[38;5;241m0\u001b[39m] \u001b[38;5;241m!=\u001b[39m a1\u001b[38;5;241m.\u001b[39mshape[\u001b[38;5;241m1\u001b[39m]:\n\u001b[0;32m--> 341\u001b[0m     \u001b[38;5;28;01mraise\u001b[39;00m \u001b[38;5;167;01mValueError\u001b[39;00m(\u001b[38;5;124m'\u001b[39m\u001b[38;5;124mexpected square matrix\u001b[39m\u001b[38;5;124m'\u001b[39m)\n\u001b[1;32m    342\u001b[0m \u001b[38;5;28;01mif\u001b[39;00m a1\u001b[38;5;241m.\u001b[39mshape[\u001b[38;5;241m0\u001b[39m] \u001b[38;5;241m!=\u001b[39m b1\u001b[38;5;241m.\u001b[39mshape[\u001b[38;5;241m0\u001b[39m]:\n\u001b[1;32m    343\u001b[0m     \u001b[38;5;28;01mraise\u001b[39;00m \u001b[38;5;167;01mValueError\u001b[39;00m(\u001b[38;5;124m'\u001b[39m\u001b[38;5;124mshapes of a \u001b[39m\u001b[38;5;132;01m{}\u001b[39;00m\u001b[38;5;124m and b \u001b[39m\u001b[38;5;132;01m{}\u001b[39;00m\u001b[38;5;124m are incompatible\u001b[39m\u001b[38;5;124m'\u001b[39m\n\u001b[1;32m    344\u001b[0m                      \u001b[38;5;241m.\u001b[39mformat(a1\u001b[38;5;241m.\u001b[39mshape, b1\u001b[38;5;241m.\u001b[39mshape))\n",
      "\u001b[0;31mValueError\u001b[0m: expected square matrix"
     ]
    }
   ],
   "source": [
    "la.solve_triangular(r, a)"
   ]
  },
  {
   "cell_type": "code",
   "execution_count": 88,
   "id": "0e131235",
   "metadata": {},
   "outputs": [],
   "source": [
    "import matplotlib.pyplot as plt"
   ]
  },
  {
   "cell_type": "code",
   "execution_count": 90,
   "id": "397aba2a",
   "metadata": {},
   "outputs": [
    {
     "data": {
      "text/plain": [
       "<matplotlib.image.AxesImage at 0x7f15e24861c0>"
      ]
     },
     "execution_count": 90,
     "metadata": {},
     "output_type": "execute_result"
    },
    {
     "data": {
      "image/png": "[encoded data removed]",
      "text/plain": [
       "<Figure size 537.917x288 with 1 Axes>"
      ]
     },
     "metadata": {
      "needs_background": "light"
     },
     "output_type": "display_data"
    }
   ],
   "source": [
    "plt.matshow(q@r)"
   ]
  },
  {
   "cell_type": "code",
   "execution_count": 66,
   "id": "6438c348",
   "metadata": {},
   "outputs": [],
   "source": [
    "la.cholesky??"
   ]
  },
  {
   "cell_type": "code",
   "execution_count": null,
   "id": "c3483628",
   "metadata": {},
   "outputs": [],
   "source": [
    "from val"
   ]
  },
  {
   "cell_type": "code",
   "execution_count": 48,
   "id": "4badd379",
   "metadata": {},
   "outputs": [
    {
     "data": {
      "text/plain": [
       "array([[ 2.68593312e-04,  1.83984561e-04,  7.67906773e-05, ...,\n",
       "        -7.63211469e-05, -1.05104702e-04, -1.37744623e-04],\n",
       "       [ 1.83984561e-04,  4.04746250e-04,  6.08510678e-05, ...,\n",
       "        -1.27447854e-04, -1.71832192e-04, -2.22663390e-04],\n",
       "       [ 7.67906773e-05,  6.08510678e-05,  1.91100734e-04, ...,\n",
       "         1.14004879e-04,  1.45105124e-04,  1.87405121e-04],\n",
       "       ...,\n",
       "       [-7.63211469e-05, -1.27447854e-04,  1.14004879e-04, ...,\n",
       "         2.33261176e-03,  1.15595913e-03,  1.43098653e-03],\n",
       "       [-1.05104702e-04, -1.71832192e-04,  1.45105124e-04, ...,\n",
       "         1.15595913e-03,  4.07094629e-03,  1.80012082e-03],\n",
       "       [-1.37744623e-04, -2.22663390e-04,  1.87405121e-04, ...,\n",
       "         1.43098653e-03,  1.80012082e-03,  6.43026459e-03]])"
      ]
     },
     "execution_count": 48,
     "metadata": {},
     "output_type": "execute_result"
    }
   ],
   "source": [
    "covmat"
   ]
  },
  {
   "cell_type": "code",
   "execution_count": 42,
   "id": "d57cfdbe",
   "metadata": {},
   "outputs": [],
   "source": [
    "covmat_from_systematics??"
   ]
  },
  {
   "cell_type": "code",
   "execution_count": 23,
   "id": "bc07ef47",
   "metadata": {},
   "outputs": [
    {
     "data": {
      "text/plain": [
       "entry\n",
       "46     0.9734\n",
       "47     0.9821\n",
       "59     0.9716\n",
       "60     0.9817\n",
       "61     0.9942\n",
       "        ...  \n",
       "256    0.6717\n",
       "257    0.7194\n",
       "258    0.6959\n",
       "259    0.7020\n",
       "260    0.7724\n",
       "Name: data, Length: 121, dtype: float64"
      ]
     },
     "execution_count": 23,
     "metadata": {},
     "output_type": "execute_result"
    }
   ],
   "source": [
    "cd.central_values"
   ]
  },
  {
   "cell_type": "code",
   "execution_count": 302,
   "id": "db5c2e17",
   "metadata": {},
   "outputs": [],
   "source": []
  },
  {
   "cell_type": "code",
   "execution_count": 303,
   "id": "f853ceee",
   "metadata": {},
   "outputs": [],
   "source": []
  },
  {
   "cell_type": "code",
   "execution_count": 304,
   "id": "09c48060",
   "metadata": {},
   "outputs": [],
   "source": []
  },
  {
   "cell_type": "code",
   "execution_count": 305,
   "id": "168f82d3",
   "metadata": {},
   "outputs": [
    {
     "name": "stdout",
     "output_type": "stream",
     "text": [
      "LHAPDF 6.4.0 loading /home/zah/anaconda3/envs/nnpdfdev/share/LHAPDF/NNPDF40_nlo_as_01180/NNPDF40_nlo_as_01180_0000.dat\n",
      "NNPDF40_nlo_as_01180 PDF set, member #0, version 1\n"
     ]
    }
   ],
   "source": []
  },
  {
   "cell_type": "code",
   "execution_count": 317,
   "id": "f21429e1",
   "metadata": {},
   "outputs": [],
   "source": []
  },
  {
   "cell_type": "code",
   "execution_count": 318,
   "id": "a09f447b",
   "metadata": {},
   "outputs": [
    {
     "data": {
      "text/plain": [
       "(14, 50)"
      ]
     },
     "execution_count": 318,
     "metadata": {},
     "output_type": "execute_result"
    }
   ],
   "source": [
    "pdf_base.shape"
   ]
  },
  {
   "cell_type": "code",
   "execution_count": 319,
   "id": "d7a5990e",
   "metadata": {},
   "outputs": [
    {
     "data": {
      "text/plain": [
       "(14, 50)"
      ]
     },
     "execution_count": 319,
     "metadata": {},
     "output_type": "execute_result"
    }
   ],
   "source": [
    "vals.shape"
   ]
  },
  {
   "cell_type": "code",
   "execution_count": 320,
   "id": "385b5f73",
   "metadata": {},
   "outputs": [
    {
     "data": {
      "text/plain": [
       "Array(5888.8696, dtype=float32)"
      ]
     },
     "execution_count": 320,
     "metadata": {},
     "output_type": "execute_result"
    }
   ],
   "source": [
    "loss(vals, chi2_contribs)"
   ]
  },
  {
   "cell_type": "code",
   "execution_count": 157,
   "id": "407c0fcb",
   "metadata": {},
   "outputs": [],
   "source": [
    "def loss(nn):\n",
    "    return nn - vals"
   ]
  },
  {
   "cell_type": "code",
   "execution_count": 158,
   "id": "1ccf7c0b",
   "metadata": {},
   "outputs": [
    {
     "data": {
      "text/plain": [
       "(1, 14, 50)"
      ]
     },
     "execution_count": 158,
     "metadata": {},
     "output_type": "execute_result"
    }
   ],
   "source": [
    "vals.shape"
   ]
  },
  {
   "cell_type": "code",
   "execution_count": 159,
   "id": "0d74baf5",
   "metadata": {},
   "outputs": [],
   "source": [
    "tb = load_fktable(ds.fkspecs[0])"
   ]
  },
  {
   "cell_type": "code",
   "execution_count": 160,
   "id": "a3fe4f45",
   "metadata": {},
   "outputs": [
    {
     "data": {
      "text/plain": [
       "array([ 1,  1,  1,  2,  1,  3,  1,  4,  1,  5,  1,  6,  1,  9,  1, 10,  1,\n",
       "       11,  2,  2,  2,  3,  2,  4,  2,  5,  2,  6,  2,  9,  2, 10,  2, 11,\n",
       "        3,  3,  3,  4,  3,  5,  3,  6,  3,  9,  3, 10,  3, 11,  4,  4,  4,\n",
       "        5,  4,  6,  4,  9,  4, 10,  4, 11,  5,  5,  5,  6,  5,  9,  5, 10,\n",
       "        5, 11,  6,  6,  6,  9,  6, 10,  6, 11,  9,  9,  9, 10,  9, 11, 10,\n",
       "       10, 10, 11, 11, 11])"
      ]
     },
     "execution_count": 160,
     "metadata": {},
     "output_type": "execute_result"
    }
   ],
   "source": [
    "tb.luminosity_mapping"
   ]
  },
  {
   "cell_type": "code",
   "execution_count": 162,
   "id": "30c24796",
   "metadata": {},
   "outputs": [
    {
     "data": {
      "text/plain": [
       "(17, 45, 50, 50)"
      ]
     },
     "execution_count": 162,
     "metadata": {},
     "output_type": "execute_result"
    }
   ],
   "source": [
    "tb.get_np_fktable().shape"
   ]
  },
  {
   "cell_type": "code",
   "execution_count": 163,
   "id": "1c12bf6a",
   "metadata": {},
   "outputs": [],
   "source": [
    "from jax.example_libraries import stax"
   ]
  },
  {
   "cell_type": "code",
   "execution_count": 183,
   "id": "311895c2",
   "metadata": {},
   "outputs": [],
   "source": [
    "init, predict = stax.serial(stax.Dense((2)), stax.Dense((3)))"
   ]
  },
  {
   "cell_type": "code",
   "execution_count": 184,
   "id": "a7823c40",
   "metadata": {},
   "outputs": [],
   "source": [
    "from jax import random"
   ]
  },
  {
   "cell_type": "code",
   "execution_count": 185,
   "id": "fe78b55b",
   "metadata": {},
   "outputs": [],
   "source": [
    "rng = random.PRNGKey(3)"
   ]
  },
  {
   "cell_type": "code",
   "execution_count": 188,
   "id": "5278bec2",
   "metadata": {
    "scrolled": true
   },
   "outputs": [
    {
     "data": {
      "text/plain": [
       "((3,),\n",
       " [(Array([[-0.99891424,  0.79900575]], dtype=float32),\n",
       "   Array([0.01032689, 0.01061993], dtype=float32)),\n",
       "  (Array([[-0.97583795, -0.5411103 , -0.47663605],\n",
       "          [-1.1263915 , -0.7123102 , -1.2609658 ]], dtype=float32),\n",
       "   Array([-0.0023886 , -0.00962158,  0.01378133], dtype=float32))])"
      ]
     },
     "execution_count": 188,
     "metadata": {},
     "output_type": "execute_result"
    }
   ],
   "source": [
    "init(rng, (1,))"
   ]
  },
  {
   "cell_type": "code",
   "execution_count": 189,
   "id": "c0cb607c",
   "metadata": {},
   "outputs": [],
   "source": [
    "import numpy as np"
   ]
  },
  {
   "cell_type": "code",
   "execution_count": 192,
   "id": "60c12863",
   "metadata": {},
   "outputs": [],
   "source": [
    "initial = np.random.rand(50)"
   ]
  },
  {
   "cell_type": "code",
   "execution_count": 193,
   "id": "9ab99b82",
   "metadata": {},
   "outputs": [],
   "source": [
    "import matplotlib.pyplot as plt"
   ]
  },
  {
   "cell_type": "code",
   "execution_count": 194,
   "id": "e9e337a4",
   "metadata": {},
   "outputs": [
    {
     "data": {
      "text/plain": [
       "[<matplotlib.lines.Line2D at 0x7f178fad7640>]"
      ]
     },
     "execution_count": 194,
     "metadata": {},
     "output_type": "execute_result"
    },
    {
     "data": {
      "image/png": "[encoded data removed]",
      "text/plain": [
       "<Figure size 432x288 with 1 Axes>"
      ]
     },
     "metadata": {
      "needs_background": "light"
     },
     "output_type": "display_data"
    }
   ],
   "source": [
    "plt.plot(initial)"
   ]
  },
  {
   "cell_type": "code",
   "execution_count": 197,
   "id": "22fb5d91",
   "metadata": {},
   "outputs": [
    {
     "data": {
      "text/plain": [
       "[<matplotlib.lines.Line2D at 0x7f178f96f0a0>]"
      ]
     },
     "execution_count": 197,
     "metadata": {},
     "output_type": "execute_result"
    },
    {
     "data": {
      "image/png": "[encoded data removed]",
      "text/plain": [
       "<Figure size 432x288 with 1 Axes>"
      ]
     },
     "metadata": {
      "needs_background": "light"
     },
     "output_type": "display_data"
    }
   ],
   "source": [
    "plt.plot(np.convolve(initial, [0.2, 0.6, 0.2]))"
   ]
  },
  {
   "cell_type": "code",
   "execution_count": 370,
   "id": "103aef54",
   "metadata": {},
   "outputs": [],
   "source": [
    "from jax.example_libraries import stax"
   ]
  },
  {
   "cell_type": "code",
   "execution_count": 373,
   "id": "ad45df73",
   "metadata": {},
   "outputs": [
    {
     "data": {
      "text/plain": [
       "(14, 50)"
      ]
     },
     "execution_count": 373,
     "metadata": {},
     "output_type": "execute_result"
    }
   ],
   "source": [
    "pdf_base.shape"
   ]
  },
  {
   "cell_type": "code",
   "execution_count": 379,
   "id": "91a7e316",
   "metadata": {},
   "outputs": [],
   "source": [
    "init, apply = stax.Conv(1, (1,10))"
   ]
  },
  {
   "cell_type": "code",
   "execution_count": 380,
   "id": "d1a84359",
   "metadata": {},
   "outputs": [],
   "source": [
    "stax.Conv??"
   ]
  },
  {
   "cell_type": "code",
   "execution_count": 382,
   "id": "cfe128e7",
   "metadata": {},
   "outputs": [],
   "source": [
    "init??"
   ]
  },
  {
   "cell_type": "code",
   "execution_count": 384,
   "id": "f851a889",
   "metadata": {},
   "outputs": [
    {
     "ename": "IndexError",
     "evalue": "tuple index out of range",
     "output_type": "error",
     "traceback": [
      "\u001b[0;31m---------------------------------------------------------------------------\u001b[0m",
      "\u001b[0;31mIndexError\u001b[0m                                Traceback (most recent call last)",
      "Input \u001b[0;32mIn [384]\u001b[0m, in \u001b[0;36m<cell line: 1>\u001b[0;34m()\u001b[0m\n\u001b[0;32m----> 1\u001b[0m \u001b[43minit\u001b[49m\u001b[43m(\u001b[49m\u001b[43mrng\u001b[49m\u001b[43m,\u001b[49m\u001b[43m \u001b[49m\u001b[43m(\u001b[49m\u001b[38;5;241;43m14\u001b[39;49m\u001b[43m,\u001b[49m\u001b[38;5;241;43m50\u001b[39;49m\u001b[43m,\u001b[49m\u001b[38;5;241;43m1\u001b[39;49m\u001b[43m)\u001b[49m\u001b[43m)\u001b[49m\n",
      "File \u001b[0;32m~/anaconda3/envs/nnpdfdev/lib/python3.9/site-packages/jax/example_libraries/stax.py:75\u001b[0m, in \u001b[0;36mGeneralConv.<locals>.init_fun\u001b[0;34m(rng, input_shape)\u001b[0m\n\u001b[1;32m     73\u001b[0m \u001b[38;5;28;01mdef\u001b[39;00m \u001b[38;5;21minit_fun\u001b[39m(rng, input_shape):\n\u001b[1;32m     74\u001b[0m   filter_shape_iter \u001b[38;5;241m=\u001b[39m \u001b[38;5;28miter\u001b[39m(filter_shape)\n\u001b[0;32m---> 75\u001b[0m   kernel_shape \u001b[38;5;241m=\u001b[39m [out_chan \u001b[38;5;28;01mif\u001b[39;00m c \u001b[38;5;241m==\u001b[39m \u001b[38;5;124m'\u001b[39m\u001b[38;5;124mO\u001b[39m\u001b[38;5;124m'\u001b[39m \u001b[38;5;28;01melse\u001b[39;00m\n\u001b[1;32m     76\u001b[0m                   input_shape[lhs_spec\u001b[38;5;241m.\u001b[39mindex(\u001b[38;5;124m'\u001b[39m\u001b[38;5;124mC\u001b[39m\u001b[38;5;124m'\u001b[39m)] \u001b[38;5;28;01mif\u001b[39;00m c \u001b[38;5;241m==\u001b[39m \u001b[38;5;124m'\u001b[39m\u001b[38;5;124mI\u001b[39m\u001b[38;5;124m'\u001b[39m \u001b[38;5;28;01melse\u001b[39;00m\n\u001b[1;32m     77\u001b[0m                   \u001b[38;5;28mnext\u001b[39m(filter_shape_iter) \u001b[38;5;28;01mfor\u001b[39;00m c \u001b[38;5;129;01min\u001b[39;00m rhs_spec]\n\u001b[1;32m     78\u001b[0m   output_shape \u001b[38;5;241m=\u001b[39m lax\u001b[38;5;241m.\u001b[39mconv_general_shape_tuple(\n\u001b[1;32m     79\u001b[0m       input_shape, kernel_shape, strides, padding, dimension_numbers)\n\u001b[1;32m     80\u001b[0m   bias_shape \u001b[38;5;241m=\u001b[39m [out_chan \u001b[38;5;28;01mif\u001b[39;00m c \u001b[38;5;241m==\u001b[39m \u001b[38;5;124m'\u001b[39m\u001b[38;5;124mC\u001b[39m\u001b[38;5;124m'\u001b[39m \u001b[38;5;28;01melse\u001b[39;00m \u001b[38;5;241m1\u001b[39m \u001b[38;5;28;01mfor\u001b[39;00m c \u001b[38;5;129;01min\u001b[39;00m out_spec]\n",
      "File \u001b[0;32m~/anaconda3/envs/nnpdfdev/lib/python3.9/site-packages/jax/example_libraries/stax.py:76\u001b[0m, in \u001b[0;36m<listcomp>\u001b[0;34m(.0)\u001b[0m\n\u001b[1;32m     73\u001b[0m \u001b[38;5;28;01mdef\u001b[39;00m \u001b[38;5;21minit_fun\u001b[39m(rng, input_shape):\n\u001b[1;32m     74\u001b[0m   filter_shape_iter \u001b[38;5;241m=\u001b[39m \u001b[38;5;28miter\u001b[39m(filter_shape)\n\u001b[1;32m     75\u001b[0m   kernel_shape \u001b[38;5;241m=\u001b[39m [out_chan \u001b[38;5;28;01mif\u001b[39;00m c \u001b[38;5;241m==\u001b[39m \u001b[38;5;124m'\u001b[39m\u001b[38;5;124mO\u001b[39m\u001b[38;5;124m'\u001b[39m \u001b[38;5;28;01melse\u001b[39;00m\n\u001b[0;32m---> 76\u001b[0m                   \u001b[43minput_shape\u001b[49m\u001b[43m[\u001b[49m\u001b[43mlhs_spec\u001b[49m\u001b[38;5;241;43m.\u001b[39;49m\u001b[43mindex\u001b[49m\u001b[43m(\u001b[49m\u001b[38;5;124;43m'\u001b[39;49m\u001b[38;5;124;43mC\u001b[39;49m\u001b[38;5;124;43m'\u001b[39;49m\u001b[43m)\u001b[49m\u001b[43m]\u001b[49m \u001b[38;5;28;01mif\u001b[39;00m c \u001b[38;5;241m==\u001b[39m \u001b[38;5;124m'\u001b[39m\u001b[38;5;124mI\u001b[39m\u001b[38;5;124m'\u001b[39m \u001b[38;5;28;01melse\u001b[39;00m\n\u001b[1;32m     77\u001b[0m                   \u001b[38;5;28mnext\u001b[39m(filter_shape_iter) \u001b[38;5;28;01mfor\u001b[39;00m c \u001b[38;5;129;01min\u001b[39;00m rhs_spec]\n\u001b[1;32m     78\u001b[0m   output_shape \u001b[38;5;241m=\u001b[39m lax\u001b[38;5;241m.\u001b[39mconv_general_shape_tuple(\n\u001b[1;32m     79\u001b[0m       input_shape, kernel_shape, strides, padding, dimension_numbers)\n\u001b[1;32m     80\u001b[0m   bias_shape \u001b[38;5;241m=\u001b[39m [out_chan \u001b[38;5;28;01mif\u001b[39;00m c \u001b[38;5;241m==\u001b[39m \u001b[38;5;124m'\u001b[39m\u001b[38;5;124mC\u001b[39m\u001b[38;5;124m'\u001b[39m \u001b[38;5;28;01melse\u001b[39;00m \u001b[38;5;241m1\u001b[39m \u001b[38;5;28;01mfor\u001b[39;00m c \u001b[38;5;129;01min\u001b[39;00m out_spec]\n",
      "\u001b[0;31mIndexError\u001b[0m: tuple index out of range"
     ]
    }
   ],
   "source": [
    "init(rng, (14,50,1))"
   ]
  },
  {
   "cell_type": "code",
   "execution_count": 385,
   "id": "5b9a004d",
   "metadata": {},
   "outputs": [
    {
     "name": "stdout",
     "output_type": "stream",
     "text": [
      "> \u001b[0;32m/home/zah/anaconda3/envs/nnpdfdev/lib/python3.9/site-packages/jax/example_libraries/stax.py\u001b[0m(76)\u001b[0;36m<listcomp>\u001b[0;34m()\u001b[0m\n",
      "\u001b[0;32m     74 \u001b[0;31m    \u001b[0mfilter_shape_iter\u001b[0m \u001b[0;34m=\u001b[0m \u001b[0miter\u001b[0m\u001b[0;34m(\u001b[0m\u001b[0mfilter_shape\u001b[0m\u001b[0;34m)\u001b[0m\u001b[0;34m\u001b[0m\u001b[0;34m\u001b[0m\u001b[0m\n",
      "\u001b[0m\u001b[0;32m     75 \u001b[0;31m    kernel_shape = [out_chan if c == 'O' else\n",
      "\u001b[0m\u001b[0;32m---> 76 \u001b[0;31m                    \u001b[0minput_shape\u001b[0m\u001b[0;34m[\u001b[0m\u001b[0mlhs_spec\u001b[0m\u001b[0;34m.\u001b[0m\u001b[0mindex\u001b[0m\u001b[0;34m(\u001b[0m\u001b[0;34m'C'\u001b[0m\u001b[0;34m)\u001b[0m\u001b[0;34m]\u001b[0m \u001b[0;32mif\u001b[0m \u001b[0mc\u001b[0m \u001b[0;34m==\u001b[0m \u001b[0;34m'I'\u001b[0m \u001b[0;32melse\u001b[0m\u001b[0;34m\u001b[0m\u001b[0;34m\u001b[0m\u001b[0m\n",
      "\u001b[0m\u001b[0;32m     77 \u001b[0;31m                    next(filter_shape_iter) for c in rhs_spec]\n",
      "\u001b[0m\u001b[0;32m     78 \u001b[0;31m    output_shape = lax.conv_general_shape_tuple(\n",
      "\u001b[0m\n",
      "ipdb> lhs_spec\n",
      "'NHWC'\n",
      "ipdb> q\n"
     ]
    }
   ],
   "source": [
    "%debug"
   ]
  },
  {
   "cell_type": "code",
   "execution_count": 393,
   "id": "4d5cd6e8",
   "metadata": {},
   "outputs": [],
   "source": [
    "@jax.jit\n",
    "def f(obj):\n",
    "    return obj[\"inte\"]"
   ]
  },
  {
   "cell_type": "code",
   "execution_count": 394,
   "id": "e10be83f",
   "metadata": {},
   "outputs": [],
   "source": [
    "class X:\n",
    "    inte = 1"
   ]
  },
  {
   "cell_type": "code",
   "execution_count": 395,
   "id": "c6420ee2",
   "metadata": {},
   "outputs": [
    {
     "data": {
      "text/plain": [
       "Array(1, dtype=int32, weak_type=True)"
      ]
     },
     "execution_count": 395,
     "metadata": {},
     "output_type": "execute_result"
    }
   ],
   "source": [
    "f({\"inte\":1})"
   ]
  },
  {
   "cell_type": "code",
   "execution_count": null,
   "id": "e441a56c",
   "metadata": {},
   "outputs": [],
   "source": []
  }
 ],
 "metadata": {
  "kernelspec": {
   "display_name": "Python 3 (ipykernel)",
   "language": "python",
   "name": "python3"
  },
  "language_info": {
   "codemirror_mode": {
    "name": "ipython",
    "version": 3
   },
   "file_extension": ".py",
   "mimetype": "text/x-python",
   "name": "python",
   "nbconvert_exporter": "python",
   "pygments_lexer": "ipython3",
   "version": "3.9.2"
  }
 },
 "nbformat": 4,
 "nbformat_minor": 5
}
