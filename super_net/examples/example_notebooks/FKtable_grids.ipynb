{
 "cells": [
  {
   "cell_type": "markdown",
   "id": "1d61be2b",
   "metadata": {},
   "source": [
    "# Interpolation of FKtable on new x-grid"
   ]
  },
  {
   "cell_type": "code",
   "execution_count": 1,
   "id": "fcb5f738",
   "metadata": {},
   "outputs": [
    {
     "name": "stdout",
     "output_type": "stream",
     "text": [
      "Intel MKL WARNING: Support of Intel(R) Streaming SIMD Extensions 4.2 (Intel(R) SSE4.2) enabled only processors has been deprecated. Intel oneAPI Math Kernel Library 2025.0 will require Intel(R) Advanced Vector Extensions (Intel(R) AVX) instructions.\n",
      "Intel MKL WARNING: Support of Intel(R) Streaming SIMD Extensions 4.2 (Intel(R) SSE4.2) enabled only processors has been deprecated. Intel oneAPI Math Kernel Library 2025.0 will require Intel(R) Advanced Vector Extensions (Intel(R) AVX) instructions.\n"
     ]
    }
   ],
   "source": [
    "from validphys.coredata import FKTableData\n",
    "from validphys.api import API\n",
    "from validphys.fkparser import load_fktable\n",
    "import numpy as np\n",
    "import pandas as pd\n",
    "from scipy.interpolate import (interp1d,RegularGridInterpolator, \n",
    "                               LinearNDInterpolator, interp2d, griddata,\n",
    "                              NearestNDInterpolator, interpn)\n",
    "import matplotlib.pyplot as plt\n",
    "import plotly.express as px\n",
    "import plotly.graph_objects as go\n",
    "\n",
    "import warnings\n",
    "# interp2d is deprecated and scipy complains\n",
    "warnings.filterwarnings(\"ignore\")"
   ]
  },
  {
   "cell_type": "markdown",
   "id": "32ee38f4",
   "metadata": {},
   "source": [
    "### Simple Example of Interpolation using scipy.interpolate"
   ]
  },
  {
   "cell_type": "code",
   "execution_count": 2,
   "id": "b2193040",
   "metadata": {},
   "outputs": [
    {
     "data": {
      "text/plain": [
       "array([-2.77555756e-17, -5.55111512e-17,  0.00000000e+00,  0.00000000e+00,\n",
       "        0.00000000e+00,  0.00000000e+00,  0.00000000e+00,  0.00000000e+00,\n",
       "        0.00000000e+00,  0.00000000e+00])"
      ]
     },
     "execution_count": 2,
     "metadata": {},
     "output_type": "execute_result"
    }
   ],
   "source": [
    "x = np.array([1,2,3])\n",
    "y = x\n",
    "# default `kind` for spline interpolator is linear\n",
    "f = interp1d(x, y, fill_value=\"extrapolate\")\n",
    "x_new = np.linspace(0.1,1,10)\n",
    "\n",
    "f(x_new) - x_new"
   ]
  },
  {
   "cell_type": "code",
   "execution_count": 3,
   "id": "58883ff9",
   "metadata": {},
   "outputs": [],
   "source": [
    "inp = {\n",
    "    \"fit\": \"210713-n3fit-001\",\n",
    "    \"dataset_inputs\": {\"from_\": \"fit\"},\n",
    "    \"use_cuts\": \"internal\",\n",
    "    \"theoryid\": 200\n",
    "}\n",
    "\n",
    "inp_400 = {\n",
    "    \"fit\": \"210713-n3fit-001\",\n",
    "    \"dataset_inputs\": {\"from_\": \"fit\"},\n",
    "    \"use_cuts\": \"internal\",\n",
    "    \"theoryid\": 400\n",
    "}"
   ]
  },
  {
   "cell_type": "code",
   "execution_count": 4,
   "id": "7b0da902",
   "metadata": {},
   "outputs": [],
   "source": [
    "data = API.data(**inp)\n",
    "data_400 = API.data(**inp_400)"
   ]
  },
  {
   "cell_type": "code",
   "execution_count": 5,
   "id": "680b5bcc",
   "metadata": {},
   "outputs": [],
   "source": [
    "datasets = data.datasets\n",
    "datasets_400 = data_400.datasets\n",
    "\n",
    "fktable_dis = load_fktable(datasets[0].fkspecs[0])\n",
    "fktable_dis_400 = load_fktable(datasets_400[0].fkspecs[0])\n",
    "\n",
    "fktable_had = load_fktable(datasets[22].fkspecs[0])\n",
    "fktable_had_400 = load_fktable(datasets_400[22].fkspecs[0])\n",
    "\n",
    "new_xgrid = fktable_dis_400.xgrid"
   ]
  },
  {
   "cell_type": "markdown",
   "id": "e61b5827",
   "metadata": {},
   "source": [
    "## DIS FKTable interpolation"
   ]
  },
  {
   "cell_type": "code",
   "execution_count": 6,
   "id": "92759ed5",
   "metadata": {},
   "outputs": [],
   "source": [
    "def interp1d_(fktable, fktable_400):\n",
    "    \"\"\"\n",
    "    \"\"\"\n",
    "    \n",
    "    xgrid = fktable.xgrid\n",
    "    xgrid_new = fktable_400.xgrid\n",
    "\n",
    "    dfs=[]\n",
    "    for d, grp in fktable.sigma.groupby('data'): \n",
    "\n",
    "        x_vals = xgrid[grp.index.get_level_values('x')]\n",
    "\n",
    "        interpolators = {col: interp1d(x_vals, grp[col].values, kind='slinear', fill_value=0, bounds_error=False)\n",
    "                        for col in grp.columns}\n",
    "        \n",
    "        tmp_index = pd.MultiIndex.from_product([[d],range(len(xgrid_new))], names=['data','x'])\n",
    "\n",
    "        d = dict()\n",
    "        \n",
    "        for col in grp.columns:\n",
    "            d[f\"{col}\"] = interpolators[col](xgrid_new)\n",
    "\n",
    "        tmp_df = pd.DataFrame(d,index=tmp_index)\n",
    "\n",
    "        dfs.append(tmp_df)\n",
    "    \n",
    "    return pd.concat(dfs, axis=0)\n",
    "\n"
   ]
  },
  {
   "cell_type": "markdown",
   "id": "353acd6e",
   "metadata": {},
   "source": [
    "## Test of DIS interpolation"
   ]
  },
  {
   "cell_type": "code",
   "execution_count": 7,
   "id": "629401d7",
   "metadata": {
    "collapsed": true
   },
   "outputs": [
    {
     "name": "stdout",
     "output_type": "stream",
     "text": [
      "\n",
      "Dataset = NMCPD_dw_ite\n",
      "time needed for griddata = 0.15586400032043457\n",
      "\n",
      "\n",
      "Dataset = NMCPD_dw_ite\n",
      "time needed for griddata = 0.15121102333068848\n",
      "\n",
      "\n",
      "Dataset = NMC\n",
      "time needed for griddata = 0.31128811836242676\n",
      "\n",
      "\n",
      "Dataset = SLACP_dwsh\n",
      "time needed for griddata = 0.11115813255310059\n",
      "\n",
      "\n",
      "Dataset = SLACD_dw_ite\n",
      "time needed for griddata = 0.10625815391540527\n",
      "\n",
      "\n",
      "Dataset = BCDMSP_dwsh\n",
      "time needed for griddata = 0.30986690521240234\n",
      "\n",
      "\n",
      "Dataset = BCDMSD_dw_ite\n",
      "time needed for griddata = 0.20801424980163574\n",
      "\n",
      "\n",
      "Dataset = CHORUSNUPb_dw_ite\n",
      "time needed for griddata = 0.6159191131591797\n",
      "\n",
      "\n",
      "Dataset = CHORUSNBPb_dw_ite\n",
      "time needed for griddata = 0.5928218364715576\n",
      "\n",
      "\n",
      "Dataset = NTVNUDMNFe_dw_ite\n",
      "time needed for griddata = 0.05926990509033203\n",
      "\n",
      "\n",
      "Dataset = NTVNBDMNFe_dw_ite\n",
      "time needed for griddata = 0.04531574249267578\n",
      "\n",
      "\n",
      "Dataset = HERACOMBNCEM\n",
      "time needed for griddata = 0.1915600299835205\n",
      "\n",
      "\n",
      "Dataset = HERACOMBNCEP460\n",
      "time needed for griddata = 0.2445387840270996\n",
      "\n",
      "\n",
      "Dataset = HERACOMBNCEP575\n",
      "time needed for griddata = 0.32440900802612305\n",
      "\n",
      "\n",
      "Dataset = HERACOMBNCEP820\n",
      "time needed for griddata = 0.08336305618286133\n",
      "\n",
      "\n",
      "Dataset = HERACOMBNCEP920\n",
      "time needed for griddata = 0.44548487663269043\n",
      "\n",
      "\n",
      "Dataset = HERACOMBCCEM\n",
      "time needed for griddata = 0.04938817024230957\n",
      "\n",
      "\n",
      "Dataset = HERACOMBCCEP\n",
      "time needed for griddata = 0.0921788215637207\n",
      "\n",
      "\n",
      "Dataset = HERACOMB_SIGMARED_C\n",
      "time needed for griddata = 0.04336881637573242\n",
      "\n",
      "\n",
      "Dataset = HERACOMB_SIGMARED_B\n",
      "time needed for griddata = 0.0192410945892334\n",
      "\n"
     ]
    },
    {
     "ename": "KeyboardInterrupt",
     "evalue": "",
     "output_type": "error",
     "traceback": [
      "\u001b[0;31m---------------------------------------------------------------------------\u001b[0m",
      "\u001b[0;31mKeyboardInterrupt\u001b[0m                         Traceback (most recent call last)",
      "Cell \u001b[0;32mIn[7], line 9\u001b[0m\n\u001b[1;32m      6\u001b[0m ds_name \u001b[38;5;241m=\u001b[39m \u001b[38;5;28mstr\u001b[39m(ds)\n\u001b[1;32m      8\u001b[0m \u001b[38;5;28;01mfor\u001b[39;00m fk, fk_400 \u001b[38;5;129;01min\u001b[39;00m \u001b[38;5;28mzip\u001b[39m(ds\u001b[38;5;241m.\u001b[39mfkspecs, ds_400\u001b[38;5;241m.\u001b[39mfkspecs):\n\u001b[0;32m----> 9\u001b[0m     tab\u001b[38;5;241m=\u001b[39m\u001b[43mload_fktable\u001b[49m\u001b[43m(\u001b[49m\u001b[43mfk\u001b[49m\u001b[43m)\u001b[49m\n\u001b[1;32m     10\u001b[0m     tab_400\u001b[38;5;241m=\u001b[39mload_fktable(fk_400)        \n\u001b[1;32m     12\u001b[0m     \u001b[38;5;28;01mif\u001b[39;00m \u001b[38;5;129;01mnot\u001b[39;00m (tab\u001b[38;5;241m.\u001b[39mhadronic \u001b[38;5;129;01mand\u001b[39;00m tab_400\u001b[38;5;241m.\u001b[39mhadronic):\n",
      "File \u001b[0;32m~/miniconda3/envs/super_net/lib/python3.9/site-packages/validphys/fkparser.py:57\u001b[0m, in \u001b[0;36mload_fktable\u001b[0;34m(spec)\u001b[0m\n\u001b[1;32m     55\u001b[0m \u001b[38;5;28;01mif\u001b[39;00m spec\u001b[38;5;241m.\u001b[39mlegacy:\n\u001b[1;32m     56\u001b[0m     \u001b[38;5;28;01mwith\u001b[39;00m open_fkpath(spec\u001b[38;5;241m.\u001b[39mfkpath) \u001b[38;5;28;01mas\u001b[39;00m handle:\n\u001b[0;32m---> 57\u001b[0m         tabledata \u001b[38;5;241m=\u001b[39m \u001b[43mparse_fktable\u001b[49m\u001b[43m(\u001b[49m\u001b[43mhandle\u001b[49m\u001b[43m)\u001b[49m\n\u001b[1;32m     58\u001b[0m \u001b[38;5;28;01melse\u001b[39;00m:\n\u001b[1;32m     59\u001b[0m     tabledata \u001b[38;5;241m=\u001b[39m pineappl_reader(spec)\n",
      "File \u001b[0;32m~/miniconda3/envs/super_net/lib/python3.9/site-packages/validphys/fkparser.py:306\u001b[0m, in \u001b[0;36mparse_fktable\u001b[0;34m(f)\u001b[0m\n\u001b[1;32m    304\u001b[0m _check_required_sections(res, lineno)\n\u001b[1;32m    305\u001b[0m Q0 \u001b[38;5;241m=\u001b[39m res[\u001b[38;5;124m'\u001b[39m\u001b[38;5;124mTheoryInfo\u001b[39m\u001b[38;5;124m'\u001b[39m][\u001b[38;5;124m'\u001b[39m\u001b[38;5;124mQ0\u001b[39m\u001b[38;5;124m'\u001b[39m]\n\u001b[0;32m--> 306\u001b[0m sigma \u001b[38;5;241m=\u001b[39m \u001b[43m_build_sigma\u001b[49m\u001b[43m(\u001b[49m\u001b[43mf\u001b[49m\u001b[43m,\u001b[49m\u001b[43m \u001b[49m\u001b[43mres\u001b[49m\u001b[43m)\u001b[49m\n\u001b[1;32m    307\u001b[0m hadronic \u001b[38;5;241m=\u001b[39m res[\u001b[38;5;124m'\u001b[39m\u001b[38;5;124mGridInfo\u001b[39m\u001b[38;5;124m'\u001b[39m]\u001b[38;5;241m.\u001b[39mhadronic\n\u001b[1;32m    308\u001b[0m ndata \u001b[38;5;241m=\u001b[39m res[\u001b[38;5;124m'\u001b[39m\u001b[38;5;124mGridInfo\u001b[39m\u001b[38;5;124m'\u001b[39m]\u001b[38;5;241m.\u001b[39mndata\n",
      "File \u001b[0;32m~/miniconda3/envs/super_net/lib/python3.9/site-packages/validphys/fkparser.py:217\u001b[0m, in \u001b[0;36m_build_sigma\u001b[0;34m(f, res)\u001b[0m\n\u001b[1;32m    214\u001b[0m gi \u001b[38;5;241m=\u001b[39m res[\u001b[38;5;124m\"\u001b[39m\u001b[38;5;124mGridInfo\u001b[39m\u001b[38;5;124m\"\u001b[39m]\n\u001b[1;32m    215\u001b[0m fm \u001b[38;5;241m=\u001b[39m res[\u001b[38;5;124m\"\u001b[39m\u001b[38;5;124mFlavourMap\u001b[39m\u001b[38;5;124m\"\u001b[39m]\n\u001b[1;32m    216\u001b[0m table \u001b[38;5;241m=\u001b[39m (\n\u001b[0;32m--> 217\u001b[0m     \u001b[43m_parse_hadronic_fast_kernel\u001b[49m\u001b[43m(\u001b[49m\u001b[43mf\u001b[49m\u001b[43m)\u001b[49m \u001b[38;5;28;01mif\u001b[39;00m gi\u001b[38;5;241m.\u001b[39mhadronic \u001b[38;5;28;01melse\u001b[39;00m _parse_dis_fast_kernel(f)\n\u001b[1;32m    218\u001b[0m )\n\u001b[1;32m    219\u001b[0m \u001b[38;5;66;03m# Filter out empty flavour indices\u001b[39;00m\n\u001b[1;32m    220\u001b[0m table \u001b[38;5;241m=\u001b[39m table\u001b[38;5;241m.\u001b[39mloc[:, fm\u001b[38;5;241m.\u001b[39mravel()]\n",
      "File \u001b[0;32m~/miniconda3/envs/super_net/lib/python3.9/site-packages/validphys/fkparser.py:173\u001b[0m, in \u001b[0;36m_parse_hadronic_fast_kernel\u001b[0;34m(f)\u001b[0m\n\u001b[1;32m    168\u001b[0m \u001b[38;5;124;03m\"\"\"Parse the FastKernel secrion of an hadronic FKTable into a DataFrame.\u001b[39;00m\n\u001b[1;32m    169\u001b[0m \u001b[38;5;124;03m``f`` should be a stream containing only the section\"\"\"\u001b[39;00m\n\u001b[1;32m    170\u001b[0m \u001b[38;5;66;03m# Note that we need the slower whitespace here because it turns out\u001b[39;00m\n\u001b[1;32m    171\u001b[0m \u001b[38;5;66;03m# that there are fktables where space and tab are used as separators\u001b[39;00m\n\u001b[1;32m    172\u001b[0m \u001b[38;5;66;03m# within the same table.\u001b[39;00m\n\u001b[0;32m--> 173\u001b[0m df \u001b[38;5;241m=\u001b[39m \u001b[43mpd\u001b[49m\u001b[38;5;241;43m.\u001b[39;49m\u001b[43mread_csv\u001b[49m\u001b[43m(\u001b[49m\u001b[43mf\u001b[49m\u001b[43m,\u001b[49m\u001b[43m \u001b[49m\u001b[43msep\u001b[49m\u001b[38;5;241;43m=\u001b[39;49m\u001b[38;5;124;43mr\u001b[39;49m\u001b[38;5;124;43m'\u001b[39;49m\u001b[38;5;124;43m\\\u001b[39;49m\u001b[38;5;124;43ms+\u001b[39;49m\u001b[38;5;124;43m'\u001b[39;49m\u001b[43m,\u001b[49m\u001b[43m \u001b[49m\u001b[43mheader\u001b[49m\u001b[38;5;241;43m=\u001b[39;49m\u001b[38;5;28;43;01mNone\u001b[39;49;00m\u001b[43m,\u001b[49m\u001b[43m \u001b[49m\u001b[43mindex_col\u001b[49m\u001b[38;5;241;43m=\u001b[39;49m\u001b[43m(\u001b[49m\u001b[38;5;241;43m0\u001b[39;49m\u001b[43m,\u001b[49m\u001b[38;5;241;43m1\u001b[39;49m\u001b[43m,\u001b[49m\u001b[38;5;241;43m2\u001b[39;49m\u001b[43m)\u001b[49m\u001b[43m)\u001b[49m\n\u001b[1;32m    174\u001b[0m df\u001b[38;5;241m.\u001b[39mcolumns \u001b[38;5;241m=\u001b[39m \u001b[38;5;28mlist\u001b[39m(\u001b[38;5;28mrange\u001b[39m(\u001b[38;5;241m14\u001b[39m\u001b[38;5;241m*\u001b[39m\u001b[38;5;241m14\u001b[39m))\n\u001b[1;32m    175\u001b[0m df\u001b[38;5;241m.\u001b[39mindex\u001b[38;5;241m.\u001b[39mnames \u001b[38;5;241m=\u001b[39m [\u001b[38;5;124m'\u001b[39m\u001b[38;5;124mdata\u001b[39m\u001b[38;5;124m'\u001b[39m, \u001b[38;5;124m'\u001b[39m\u001b[38;5;124mx1\u001b[39m\u001b[38;5;124m'\u001b[39m, \u001b[38;5;124m'\u001b[39m\u001b[38;5;124mx2\u001b[39m\u001b[38;5;124m'\u001b[39m]\n",
      "File \u001b[0;32m~/miniconda3/envs/super_net/lib/python3.9/site-packages/pandas/util/_decorators.py:211\u001b[0m, in \u001b[0;36mdeprecate_kwarg.<locals>._deprecate_kwarg.<locals>.wrapper\u001b[0;34m(*args, **kwargs)\u001b[0m\n\u001b[1;32m    209\u001b[0m     \u001b[38;5;28;01melse\u001b[39;00m:\n\u001b[1;32m    210\u001b[0m         kwargs[new_arg_name] \u001b[38;5;241m=\u001b[39m new_arg_value\n\u001b[0;32m--> 211\u001b[0m \u001b[38;5;28;01mreturn\u001b[39;00m \u001b[43mfunc\u001b[49m\u001b[43m(\u001b[49m\u001b[38;5;241;43m*\u001b[39;49m\u001b[43margs\u001b[49m\u001b[43m,\u001b[49m\u001b[43m \u001b[49m\u001b[38;5;241;43m*\u001b[39;49m\u001b[38;5;241;43m*\u001b[39;49m\u001b[43mkwargs\u001b[49m\u001b[43m)\u001b[49m\n",
      "File \u001b[0;32m~/miniconda3/envs/super_net/lib/python3.9/site-packages/pandas/util/_decorators.py:331\u001b[0m, in \u001b[0;36mdeprecate_nonkeyword_arguments.<locals>.decorate.<locals>.wrapper\u001b[0;34m(*args, **kwargs)\u001b[0m\n\u001b[1;32m    325\u001b[0m \u001b[38;5;28;01mif\u001b[39;00m \u001b[38;5;28mlen\u001b[39m(args) \u001b[38;5;241m>\u001b[39m num_allow_args:\n\u001b[1;32m    326\u001b[0m     warnings\u001b[38;5;241m.\u001b[39mwarn(\n\u001b[1;32m    327\u001b[0m         msg\u001b[38;5;241m.\u001b[39mformat(arguments\u001b[38;5;241m=\u001b[39m_format_argument_list(allow_args)),\n\u001b[1;32m    328\u001b[0m         \u001b[38;5;167;01mFutureWarning\u001b[39;00m,\n\u001b[1;32m    329\u001b[0m         stacklevel\u001b[38;5;241m=\u001b[39mfind_stack_level(),\n\u001b[1;32m    330\u001b[0m     )\n\u001b[0;32m--> 331\u001b[0m \u001b[38;5;28;01mreturn\u001b[39;00m \u001b[43mfunc\u001b[49m\u001b[43m(\u001b[49m\u001b[38;5;241;43m*\u001b[39;49m\u001b[43margs\u001b[49m\u001b[43m,\u001b[49m\u001b[43m \u001b[49m\u001b[38;5;241;43m*\u001b[39;49m\u001b[38;5;241;43m*\u001b[39;49m\u001b[43mkwargs\u001b[49m\u001b[43m)\u001b[49m\n",
      "File \u001b[0;32m~/miniconda3/envs/super_net/lib/python3.9/site-packages/pandas/io/parsers/readers.py:950\u001b[0m, in \u001b[0;36mread_csv\u001b[0;34m(filepath_or_buffer, sep, delimiter, header, names, index_col, usecols, squeeze, prefix, mangle_dupe_cols, dtype, engine, converters, true_values, false_values, skipinitialspace, skiprows, skipfooter, nrows, na_values, keep_default_na, na_filter, verbose, skip_blank_lines, parse_dates, infer_datetime_format, keep_date_col, date_parser, dayfirst, cache_dates, iterator, chunksize, compression, thousands, decimal, lineterminator, quotechar, quoting, doublequote, escapechar, comment, encoding, encoding_errors, dialect, error_bad_lines, warn_bad_lines, on_bad_lines, delim_whitespace, low_memory, memory_map, float_precision, storage_options)\u001b[0m\n\u001b[1;32m    935\u001b[0m kwds_defaults \u001b[38;5;241m=\u001b[39m _refine_defaults_read(\n\u001b[1;32m    936\u001b[0m     dialect,\n\u001b[1;32m    937\u001b[0m     delimiter,\n\u001b[0;32m   (...)\u001b[0m\n\u001b[1;32m    946\u001b[0m     defaults\u001b[38;5;241m=\u001b[39m{\u001b[38;5;124m\"\u001b[39m\u001b[38;5;124mdelimiter\u001b[39m\u001b[38;5;124m\"\u001b[39m: \u001b[38;5;124m\"\u001b[39m\u001b[38;5;124m,\u001b[39m\u001b[38;5;124m\"\u001b[39m},\n\u001b[1;32m    947\u001b[0m )\n\u001b[1;32m    948\u001b[0m kwds\u001b[38;5;241m.\u001b[39mupdate(kwds_defaults)\n\u001b[0;32m--> 950\u001b[0m \u001b[38;5;28;01mreturn\u001b[39;00m \u001b[43m_read\u001b[49m\u001b[43m(\u001b[49m\u001b[43mfilepath_or_buffer\u001b[49m\u001b[43m,\u001b[49m\u001b[43m \u001b[49m\u001b[43mkwds\u001b[49m\u001b[43m)\u001b[49m\n",
      "File \u001b[0;32m~/miniconda3/envs/super_net/lib/python3.9/site-packages/pandas/io/parsers/readers.py:611\u001b[0m, in \u001b[0;36m_read\u001b[0;34m(filepath_or_buffer, kwds)\u001b[0m\n\u001b[1;32m    608\u001b[0m     \u001b[38;5;28;01mreturn\u001b[39;00m parser\n\u001b[1;32m    610\u001b[0m \u001b[38;5;28;01mwith\u001b[39;00m parser:\n\u001b[0;32m--> 611\u001b[0m     \u001b[38;5;28;01mreturn\u001b[39;00m \u001b[43mparser\u001b[49m\u001b[38;5;241;43m.\u001b[39;49m\u001b[43mread\u001b[49m\u001b[43m(\u001b[49m\u001b[43mnrows\u001b[49m\u001b[43m)\u001b[49m\n",
      "File \u001b[0;32m~/miniconda3/envs/super_net/lib/python3.9/site-packages/pandas/io/parsers/readers.py:1778\u001b[0m, in \u001b[0;36mTextFileReader.read\u001b[0;34m(self, nrows)\u001b[0m\n\u001b[1;32m   1771\u001b[0m nrows \u001b[38;5;241m=\u001b[39m validate_integer(\u001b[38;5;124m\"\u001b[39m\u001b[38;5;124mnrows\u001b[39m\u001b[38;5;124m\"\u001b[39m, nrows)\n\u001b[1;32m   1772\u001b[0m \u001b[38;5;28;01mtry\u001b[39;00m:\n\u001b[1;32m   1773\u001b[0m     \u001b[38;5;66;03m# error: \"ParserBase\" has no attribute \"read\"\u001b[39;00m\n\u001b[1;32m   1774\u001b[0m     (\n\u001b[1;32m   1775\u001b[0m         index,\n\u001b[1;32m   1776\u001b[0m         columns,\n\u001b[1;32m   1777\u001b[0m         col_dict,\n\u001b[0;32m-> 1778\u001b[0m     ) \u001b[38;5;241m=\u001b[39m \u001b[38;5;28;43mself\u001b[39;49m\u001b[38;5;241;43m.\u001b[39;49m\u001b[43m_engine\u001b[49m\u001b[38;5;241;43m.\u001b[39;49m\u001b[43mread\u001b[49m\u001b[43m(\u001b[49m\u001b[43m  \u001b[49m\u001b[38;5;66;43;03m# type: ignore[attr-defined]\u001b[39;49;00m\n\u001b[1;32m   1779\u001b[0m \u001b[43m        \u001b[49m\u001b[43mnrows\u001b[49m\n\u001b[1;32m   1780\u001b[0m \u001b[43m    \u001b[49m\u001b[43m)\u001b[49m\n\u001b[1;32m   1781\u001b[0m \u001b[38;5;28;01mexcept\u001b[39;00m \u001b[38;5;167;01mException\u001b[39;00m:\n\u001b[1;32m   1782\u001b[0m     \u001b[38;5;28mself\u001b[39m\u001b[38;5;241m.\u001b[39mclose()\n",
      "File \u001b[0;32m~/miniconda3/envs/super_net/lib/python3.9/site-packages/pandas/io/parsers/c_parser_wrapper.py:230\u001b[0m, in \u001b[0;36mCParserWrapper.read\u001b[0;34m(self, nrows)\u001b[0m\n\u001b[1;32m    228\u001b[0m \u001b[38;5;28;01mtry\u001b[39;00m:\n\u001b[1;32m    229\u001b[0m     \u001b[38;5;28;01mif\u001b[39;00m \u001b[38;5;28mself\u001b[39m\u001b[38;5;241m.\u001b[39mlow_memory:\n\u001b[0;32m--> 230\u001b[0m         chunks \u001b[38;5;241m=\u001b[39m \u001b[38;5;28;43mself\u001b[39;49m\u001b[38;5;241;43m.\u001b[39;49m\u001b[43m_reader\u001b[49m\u001b[38;5;241;43m.\u001b[39;49m\u001b[43mread_low_memory\u001b[49m\u001b[43m(\u001b[49m\u001b[43mnrows\u001b[49m\u001b[43m)\u001b[49m\n\u001b[1;32m    231\u001b[0m         \u001b[38;5;66;03m# destructive to chunks\u001b[39;00m\n\u001b[1;32m    232\u001b[0m         data \u001b[38;5;241m=\u001b[39m _concatenate_chunks(chunks)\n",
      "File \u001b[0;32m~/miniconda3/envs/super_net/lib/python3.9/site-packages/pandas/_libs/parsers.pyx:808\u001b[0m, in \u001b[0;36mpandas._libs.parsers.TextReader.read_low_memory\u001b[0;34m()\u001b[0m\n",
      "File \u001b[0;32m~/miniconda3/envs/super_net/lib/python3.9/site-packages/pandas/_libs/parsers.pyx:866\u001b[0m, in \u001b[0;36mpandas._libs.parsers.TextReader._read_rows\u001b[0;34m()\u001b[0m\n",
      "File \u001b[0;32m~/miniconda3/envs/super_net/lib/python3.9/site-packages/pandas/_libs/parsers.pyx:852\u001b[0m, in \u001b[0;36mpandas._libs.parsers.TextReader._tokenize_rows\u001b[0;34m()\u001b[0m\n",
      "File \u001b[0;32m~/miniconda3/envs/super_net/lib/python3.9/site-packages/pandas/_libs/parsers.pyx:1965\u001b[0m, in \u001b[0;36mpandas._libs.parsers.raise_parser_error\u001b[0;34m()\u001b[0m\n",
      "File \u001b[0;32m~/miniconda3/envs/super_net/lib/python3.9/_compression.py:68\u001b[0m, in \u001b[0;36mDecompressReader.readinto\u001b[0;34m(self, b)\u001b[0m\n\u001b[1;32m     66\u001b[0m \u001b[38;5;28;01mdef\u001b[39;00m \u001b[38;5;21mreadinto\u001b[39m(\u001b[38;5;28mself\u001b[39m, b):\n\u001b[1;32m     67\u001b[0m     \u001b[38;5;28;01mwith\u001b[39;00m \u001b[38;5;28mmemoryview\u001b[39m(b) \u001b[38;5;28;01mas\u001b[39;00m view, view\u001b[38;5;241m.\u001b[39mcast(\u001b[38;5;124m\"\u001b[39m\u001b[38;5;124mB\u001b[39m\u001b[38;5;124m\"\u001b[39m) \u001b[38;5;28;01mas\u001b[39;00m byte_view:\n\u001b[0;32m---> 68\u001b[0m         data \u001b[38;5;241m=\u001b[39m \u001b[38;5;28;43mself\u001b[39;49m\u001b[38;5;241;43m.\u001b[39;49m\u001b[43mread\u001b[49m\u001b[43m(\u001b[49m\u001b[38;5;28;43mlen\u001b[39;49m\u001b[43m(\u001b[49m\u001b[43mbyte_view\u001b[49m\u001b[43m)\u001b[49m\u001b[43m)\u001b[49m\n\u001b[1;32m     69\u001b[0m         byte_view[:\u001b[38;5;28mlen\u001b[39m(data)] \u001b[38;5;241m=\u001b[39m data\n\u001b[1;32m     70\u001b[0m     \u001b[38;5;28;01mreturn\u001b[39;00m \u001b[38;5;28mlen\u001b[39m(data)\n",
      "File \u001b[0;32m~/miniconda3/envs/super_net/lib/python3.9/gzip.py:495\u001b[0m, in \u001b[0;36m_GzipReader.read\u001b[0;34m(self, size)\u001b[0m\n\u001b[1;32m    492\u001b[0m \u001b[38;5;66;03m# Read a chunk of data from the file\u001b[39;00m\n\u001b[1;32m    493\u001b[0m buf \u001b[38;5;241m=\u001b[39m \u001b[38;5;28mself\u001b[39m\u001b[38;5;241m.\u001b[39m_fp\u001b[38;5;241m.\u001b[39mread(io\u001b[38;5;241m.\u001b[39mDEFAULT_BUFFER_SIZE)\n\u001b[0;32m--> 495\u001b[0m uncompress \u001b[38;5;241m=\u001b[39m \u001b[38;5;28;43mself\u001b[39;49m\u001b[38;5;241;43m.\u001b[39;49m\u001b[43m_decompressor\u001b[49m\u001b[38;5;241;43m.\u001b[39;49m\u001b[43mdecompress\u001b[49m\u001b[43m(\u001b[49m\u001b[43mbuf\u001b[49m\u001b[43m,\u001b[49m\u001b[43m \u001b[49m\u001b[43msize\u001b[49m\u001b[43m)\u001b[49m\n\u001b[1;32m    496\u001b[0m \u001b[38;5;28;01mif\u001b[39;00m \u001b[38;5;28mself\u001b[39m\u001b[38;5;241m.\u001b[39m_decompressor\u001b[38;5;241m.\u001b[39munconsumed_tail \u001b[38;5;241m!=\u001b[39m \u001b[38;5;124mb\u001b[39m\u001b[38;5;124m\"\u001b[39m\u001b[38;5;124m\"\u001b[39m:\n\u001b[1;32m    497\u001b[0m     \u001b[38;5;28mself\u001b[39m\u001b[38;5;241m.\u001b[39m_fp\u001b[38;5;241m.\u001b[39mprepend(\u001b[38;5;28mself\u001b[39m\u001b[38;5;241m.\u001b[39m_decompressor\u001b[38;5;241m.\u001b[39munconsumed_tail)\n",
      "\u001b[0;31mKeyboardInterrupt\u001b[0m: "
     ]
    }
   ],
   "source": [
    "import time\n",
    "\n",
    "# probably need to ignore the broken datasets as in the imagepdf nb\n",
    "\n",
    "for ds, ds_400 in zip(datasets, datasets_400):\n",
    "    ds_name = str(ds)\n",
    "\n",
    "    for fk, fk_400 in zip(ds.fkspecs, ds_400.fkspecs):\n",
    "        tab=load_fktable(fk)\n",
    "        tab_400=load_fktable(fk_400)        \n",
    "\n",
    "        if not (tab.hadronic and tab_400.hadronic):\n",
    "            \n",
    "            print()\n",
    "            print(f\"Dataset = {ds_name}\")\n",
    "            t0=time.time()\n",
    "            interp1d_(tab, tab_400)\n",
    "            t1=time.time()\n",
    "            print(f'time needed for griddata = {t1-t0}')\n",
    "            print()"
   ]
  },
  {
   "cell_type": "code",
   "execution_count": 11,
   "id": "ab3fbc7f",
   "metadata": {},
   "outputs": [
    {
     "name": "stdout",
     "output_type": "stream",
     "text": [
      "NMCPD_dw_ite\n"
     ]
    }
   ],
   "source": [
    "print(datasets[0])\n",
    "dis_200 = load_fktable(datasets[0].fkspecs[1])\n",
    "sigma_dis_200 = dis_200.sigma\n",
    "# get only first data point\n",
    "sigma_dis_200 = sigma_dis_200[sigma_dis_200.index.get_level_values('data')==31]\n",
    "xgrid_dis_200 = dis_200.xgrid[sigma_dis_200.index.get_level_values('x')]\n",
    "\n",
    "dis_400 = load_fktable(datasets_400[0].fkspecs[0])\n",
    "sigma_dis_400 = dis_400.sigma\n",
    "# get only first data point\n",
    "sigma_dis_400 = sigma_dis_400[sigma_dis_400.index.get_level_values('data')==31]\n",
    "xgrid_dis_400 = dis_400.xgrid[sigma_dis_400.index.get_level_values('x')]\n",
    "\n",
    "# sigma_dis_interpolated = interp1d_(load_fktable(datasets[0].fkspecs[0]), load_fktable(datasets_400[0].fkspecs[0]))\n",
    "sigma_dis_interpolated = interp1d_(load_fktable(datasets[0].fkspecs[0]), load_fktable(datasets_400[0].fkspecs[0]))\n",
    "sigma_dis_interpolated = sigma_dis_interpolated[sigma_dis_interpolated.index.get_level_values('data')==31]"
   ]
  },
  {
   "cell_type": "code",
   "execution_count": 12,
   "id": "e8ada1f3",
   "metadata": {},
   "outputs": [
    {
     "data": {
      "application/vnd.plotly.v1+json": {
       "config": {
        "plotlyServerURL": "https://plot.ly"
       },
       "data": [
        {
         "mode": "lines+markers",
         "name": "Theory 200 grid",
         "type": "scatter",
         "x": [
          0.006462086188072037,
          0.008211413818346237,
          0.010406430101627047,
          0.013145242377006214,
          0.016539677064696088,
          0.020713544990341646,
          0.025799184275975186,
          0.031932166531904796,
          0.03924441821929895,
          0.04785645013746829,
          0.05786975813970817,
          0.06936058914559116,
          0.08237606093198396,
          0.09693312844280857,
          0.11302028259806587,
          0.13060136558252977,
          0.1496206304489491,
          0.17000817878382546,
          0.19168509767881273,
          0.21456787498065333,
          0.23857191133923947,
          0.26361412378371596,
          0.28961474037494994,
          0.31649843172242276,
          0.34419493216439917,
          0.3726392886892116,
          0.40177185182881514,
          0.4315380974447697,
          0.4618883454802988,
          0.492777422893488,
          0.5241643033000918,
          0.5560117448787213,
          0.5882859401636978,
          0.6209561857723189,
          0.6539945762940527,
          0.6873757240323636,
          0.721076504650414,
          0.7550758277669313,
          0.7893544309706461,
          0.8238946954308234,
          0.8586804811765834,
          0.8936969801311311,
          0.9289305850712899,
          0.9643687728045999
         ],
         "y": [
          0.013610492460429668,
          0.32843849062919617,
          -0.3177516758441925,
          0.4095399677753449,
          -0.19767372310161593,
          0.05769628286361694,
          -0.0072703263722360125,
          0.003850334323942661,
          0.002066008746623993,
          0.001697177649475634,
          0.0013284384040161967,
          0.0010505188256502151,
          0.0008483259589411318,
          0.0007001857738941908,
          0.0005920151597820222,
          0.0005129195051267743,
          0.00045524336746893823,
          0.00041097291978076095,
          0.00037707842420786614,
          0.0003517012228257954,
          0.0003309185558464378,
          0.00031332951039075846,
          0.000298800237942487,
          0.00028669816674664617,
          0.0002758092596195638,
          0.0002657259174156934,
          0.00025578521308489144,
          0.0002490580955054611,
          0.00024161722103599456,
          0.00023465292179025712,
          0.00022810461814515293,
          0.0002220404276158661,
          0.00021637015743181107,
          0.0002108952758135274,
          0.000205698175705038,
          0.0002006861614063382,
          0.0001958767679752782,
          0.00019109112326987088,
          0.00018677502521313727,
          0.00018273277964908632,
          0.00017888678121380508,
          0.00017505075084045527,
          0.0001714187819743529,
          0.00016785717161837965
         ]
        },
        {
         "mode": "lines+markers",
         "name": "Linear Spline Interpolation Th 200",
         "type": "scatter",
         "x": [
          1.9999999999999954e-07,
          3.034304765867952e-07,
          4.6035014748963906e-07,
          6.984208530700364e-07,
          1.0596094959101024e-06,
          1.607585498470808e-06,
          2.438943292891682e-06,
          3.7002272069854957e-06,
          5.613757716930151e-06,
          8.516806677573355e-06,
          1.292101569074731e-05,
          1.9602505002391748e-05,
          2.97384953722449e-05,
          4.511438394964044e-05,
          6.843744918967896e-05,
          0.00010381172986576898,
          0.00015745605600841445,
          0.00023878782918561914,
          0.00036205449638139736,
          0.0005487795323670796,
          0.0008314068836488144,
          0.0012586797144272762,
          0.0019034634022867384,
          0.0028738675812817515,
          0.004328500638820811,
          0.006496206194633799,
          0.009699159574043398,
          0.014375068581090129,
          0.02108918668378717,
          0.030521584007828916,
          0.04341491741702269,
          0.060480028754447364,
          0.08228122126204893,
          0.10914375746330703,
          0.14112080644440345,
          0.17802566042569432,
          0.2195041265003886,
          0.2651137041582823,
          0.31438740076927585,
          0.3668753186482242,
          0.4221667753589648,
          0.4798989029610255,
          0.5397572337880445,
          0.601472197967335,
          0.6648139482473823,
          0.7295868442414312,
          0.7956242522922756,
          0.8627839323906108,
          0.9309440808717544,
          1
         ],
         "y": [
          0,
          0,
          0,
          0,
          0,
          0,
          0,
          0,
          0,
          0,
          0,
          0,
          0,
          0,
          0,
          0,
          0,
          0,
          0,
          0,
          0,
          0,
          0,
          0,
          0,
          0.01975109938702404,
          -0.1095385234215183,
          0.18954241966307928,
          0.052897639912334725,
          0.001292588519437729,
          0.0018873970311346971,
          0.0012653058674487352,
          0.000849799275087993,
          0.0006180810568574901,
          0.0004810191807191719,
          0.0003984366134296341,
          0.00034742742195628825,
          0.0003124915375010116,
          0.0002876484769760488,
          0.00026776920787738604,
          0.00025117599731811467,
          0.0002375565328451333,
          0.00022513550989966292,
          0.000214160403598677,
          0.0002040737004965117,
          0.000194678877609479,
          0.00018604126831171084,
          0.00017843725130754575,
          0.0001712164215278027,
          0
         ]
        },
        {
         "mode": "lines+markers",
         "name": "Theory 400 grid",
         "type": "scatter",
         "x": [
          1.9999999999999954e-07,
          3.034304765867952e-07,
          4.6035014748963906e-07,
          6.984208530700364e-07,
          1.0596094959101024e-06,
          1.607585498470808e-06,
          2.438943292891682e-06,
          3.7002272069854957e-06,
          5.613757716930151e-06,
          8.516806677573355e-06,
          1.292101569074731e-05,
          1.9602505002391748e-05,
          2.97384953722449e-05,
          4.511438394964044e-05,
          6.843744918967896e-05,
          0.00010381172986576898,
          0.00015745605600841445,
          0.00023878782918561914,
          0.00036205449638139736,
          0.0005487795323670796,
          0.0008314068836488144,
          0.0012586797144272762,
          0.0019034634022867384,
          0.0028738675812817515,
          0.004328500638820811,
          0.006496206194633799,
          0.009699159574043398,
          0.014375068581090129,
          0.02108918668378717,
          0.030521584007828916,
          0.04341491741702269,
          0.060480028754447364,
          0.08228122126204893,
          0.10914375746330703,
          0.14112080644440345,
          0.17802566042569432,
          0.2195041265003886,
          0.2651137041582823,
          0.31438740076927585,
          0.3668753186482242,
          0.4221667753589648,
          0.4798989029610255,
          0.5397572337880445,
          0.601472197967335,
          0.6648139482473823,
          0.7295868442414312,
          0.7956242522922756,
          0.8627839323906108,
          0.9309440808717544,
          1
         ],
         "y": [
          0,
          0,
          0,
          0,
          0,
          0,
          0,
          0,
          0,
          0,
          0,
          0,
          0,
          0,
          0,
          0,
          0,
          0,
          0,
          0,
          0,
          0,
          1.3575792031968011e-12,
          1.6859392479550802e-06,
          -0.014312599882404,
          0.13885470213407738,
          0.10990634548471011,
          0.06587401687144452,
          -0.017809172458870225,
          0.008050032920748832,
          0.0031825827492339745,
          0.0021003522932367662,
          0.001390251653186891,
          0.0009831713184126616,
          0.0007463249322032248,
          0.0006072365052776278,
          0.0005224533117269683,
          0.0004675062470826981,
          0.00042920088578586,
          0.00040049902470882604,
          0.0003776210948303441,
          0.00035831193038073664,
          0.0003412402033203867,
          0.00032577022896865254,
          0.0003117734096932652,
          0.0002967212078762319,
          0.0003017843753274685,
          0.0002333905539475964,
          0.0003355598374216454,
          8.768209535503794e-05
         ]
        }
       ],
       "layout": {
        "template": {
         "data": {
          "bar": [
           {
            "error_x": {
             "color": "#2a3f5f"
            },
            "error_y": {
             "color": "#2a3f5f"
            },
            "marker": {
             "line": {
              "color": "#E5ECF6",
              "width": 0.5
             },
             "pattern": {
              "fillmode": "overlay",
              "size": 10,
              "solidity": 0.2
             }
            },
            "type": "bar"
           }
          ],
          "barpolar": [
           {
            "marker": {
             "line": {
              "color": "#E5ECF6",
              "width": 0.5
             },
             "pattern": {
              "fillmode": "overlay",
              "size": 10,
              "solidity": 0.2
             }
            },
            "type": "barpolar"
           }
          ],
          "carpet": [
           {
            "aaxis": {
             "endlinecolor": "#2a3f5f",
             "gridcolor": "white",
             "linecolor": "white",
             "minorgridcolor": "white",
             "startlinecolor": "#2a3f5f"
            },
            "baxis": {
             "endlinecolor": "#2a3f5f",
             "gridcolor": "white",
             "linecolor": "white",
             "minorgridcolor": "white",
             "startlinecolor": "#2a3f5f"
            },
            "type": "carpet"
           }
          ],
          "choropleth": [
           {
            "colorbar": {
             "outlinewidth": 0,
             "ticks": ""
            },
            "type": "choropleth"
           }
          ],
          "contour": [
           {
            "colorbar": {
             "outlinewidth": 0,
             "ticks": ""
            },
            "colorscale": [
             [
              0,
              "#0d0887"
             ],
             [
              0.1111111111111111,
              "#46039f"
             ],
             [
              0.2222222222222222,
              "#7201a8"
             ],
             [
              0.3333333333333333,
              "#9c179e"
             ],
             [
              0.4444444444444444,
              "#bd3786"
             ],
             [
              0.5555555555555556,
              "#d8576b"
             ],
             [
              0.6666666666666666,
              "#ed7953"
             ],
             [
              0.7777777777777778,
              "#fb9f3a"
             ],
             [
              0.8888888888888888,
              "#fdca26"
             ],
             [
              1,
              "#f0f921"
             ]
            ],
            "type": "contour"
           }
          ],
          "contourcarpet": [
           {
            "colorbar": {
             "outlinewidth": 0,
             "ticks": ""
            },
            "type": "contourcarpet"
           }
          ],
          "heatmap": [
           {
            "colorbar": {
             "outlinewidth": 0,
             "ticks": ""
            },
            "colorscale": [
             [
              0,
              "#0d0887"
             ],
             [
              0.1111111111111111,
              "#46039f"
             ],
             [
              0.2222222222222222,
              "#7201a8"
             ],
             [
              0.3333333333333333,
              "#9c179e"
             ],
             [
              0.4444444444444444,
              "#bd3786"
             ],
             [
              0.5555555555555556,
              "#d8576b"
             ],
             [
              0.6666666666666666,
              "#ed7953"
             ],
             [
              0.7777777777777778,
              "#fb9f3a"
             ],
             [
              0.8888888888888888,
              "#fdca26"
             ],
             [
              1,
              "#f0f921"
             ]
            ],
            "type": "heatmap"
           }
          ],
          "heatmapgl": [
           {
            "colorbar": {
             "outlinewidth": 0,
             "ticks": ""
            },
            "colorscale": [
             [
              0,
              "#0d0887"
             ],
             [
              0.1111111111111111,
              "#46039f"
             ],
             [
              0.2222222222222222,
              "#7201a8"
             ],
             [
              0.3333333333333333,
              "#9c179e"
             ],
             [
              0.4444444444444444,
              "#bd3786"
             ],
             [
              0.5555555555555556,
              "#d8576b"
             ],
             [
              0.6666666666666666,
              "#ed7953"
             ],
             [
              0.7777777777777778,
              "#fb9f3a"
             ],
             [
              0.8888888888888888,
              "#fdca26"
             ],
             [
              1,
              "#f0f921"
             ]
            ],
            "type": "heatmapgl"
           }
          ],
          "histogram": [
           {
            "marker": {
             "pattern": {
              "fillmode": "overlay",
              "size": 10,
              "solidity": 0.2
             }
            },
            "type": "histogram"
           }
          ],
          "histogram2d": [
           {
            "colorbar": {
             "outlinewidth": 0,
             "ticks": ""
            },
            "colorscale": [
             [
              0,
              "#0d0887"
             ],
             [
              0.1111111111111111,
              "#46039f"
             ],
             [
              0.2222222222222222,
              "#7201a8"
             ],
             [
              0.3333333333333333,
              "#9c179e"
             ],
             [
              0.4444444444444444,
              "#bd3786"
             ],
             [
              0.5555555555555556,
              "#d8576b"
             ],
             [
              0.6666666666666666,
              "#ed7953"
             ],
             [
              0.7777777777777778,
              "#fb9f3a"
             ],
             [
              0.8888888888888888,
              "#fdca26"
             ],
             [
              1,
              "#f0f921"
             ]
            ],
            "type": "histogram2d"
           }
          ],
          "histogram2dcontour": [
           {
            "colorbar": {
             "outlinewidth": 0,
             "ticks": ""
            },
            "colorscale": [
             [
              0,
              "#0d0887"
             ],
             [
              0.1111111111111111,
              "#46039f"
             ],
             [
              0.2222222222222222,
              "#7201a8"
             ],
             [
              0.3333333333333333,
              "#9c179e"
             ],
             [
              0.4444444444444444,
              "#bd3786"
             ],
             [
              0.5555555555555556,
              "#d8576b"
             ],
             [
              0.6666666666666666,
              "#ed7953"
             ],
             [
              0.7777777777777778,
              "#fb9f3a"
             ],
             [
              0.8888888888888888,
              "#fdca26"
             ],
             [
              1,
              "#f0f921"
             ]
            ],
            "type": "histogram2dcontour"
           }
          ],
          "mesh3d": [
           {
            "colorbar": {
             "outlinewidth": 0,
             "ticks": ""
            },
            "type": "mesh3d"
           }
          ],
          "parcoords": [
           {
            "line": {
             "colorbar": {
              "outlinewidth": 0,
              "ticks": ""
             }
            },
            "type": "parcoords"
           }
          ],
          "pie": [
           {
            "automargin": true,
            "type": "pie"
           }
          ],
          "scatter": [
           {
            "fillpattern": {
             "fillmode": "overlay",
             "size": 10,
             "solidity": 0.2
            },
            "type": "scatter"
           }
          ],
          "scatter3d": [
           {
            "line": {
             "colorbar": {
              "outlinewidth": 0,
              "ticks": ""
             }
            },
            "marker": {
             "colorbar": {
              "outlinewidth": 0,
              "ticks": ""
             }
            },
            "type": "scatter3d"
           }
          ],
          "scattercarpet": [
           {
            "marker": {
             "colorbar": {
              "outlinewidth": 0,
              "ticks": ""
             }
            },
            "type": "scattercarpet"
           }
          ],
          "scattergeo": [
           {
            "marker": {
             "colorbar": {
              "outlinewidth": 0,
              "ticks": ""
             }
            },
            "type": "scattergeo"
           }
          ],
          "scattergl": [
           {
            "marker": {
             "colorbar": {
              "outlinewidth": 0,
              "ticks": ""
             }
            },
            "type": "scattergl"
           }
          ],
          "scattermapbox": [
           {
            "marker": {
             "colorbar": {
              "outlinewidth": 0,
              "ticks": ""
             }
            },
            "type": "scattermapbox"
           }
          ],
          "scatterpolar": [
           {
            "marker": {
             "colorbar": {
              "outlinewidth": 0,
              "ticks": ""
             }
            },
            "type": "scatterpolar"
           }
          ],
          "scatterpolargl": [
           {
            "marker": {
             "colorbar": {
              "outlinewidth": 0,
              "ticks": ""
             }
            },
            "type": "scatterpolargl"
           }
          ],
          "scatterternary": [
           {
            "marker": {
             "colorbar": {
              "outlinewidth": 0,
              "ticks": ""
             }
            },
            "type": "scatterternary"
           }
          ],
          "surface": [
           {
            "colorbar": {
             "outlinewidth": 0,
             "ticks": ""
            },
            "colorscale": [
             [
              0,
              "#0d0887"
             ],
             [
              0.1111111111111111,
              "#46039f"
             ],
             [
              0.2222222222222222,
              "#7201a8"
             ],
             [
              0.3333333333333333,
              "#9c179e"
             ],
             [
              0.4444444444444444,
              "#bd3786"
             ],
             [
              0.5555555555555556,
              "#d8576b"
             ],
             [
              0.6666666666666666,
              "#ed7953"
             ],
             [
              0.7777777777777778,
              "#fb9f3a"
             ],
             [
              0.8888888888888888,
              "#fdca26"
             ],
             [
              1,
              "#f0f921"
             ]
            ],
            "type": "surface"
           }
          ],
          "table": [
           {
            "cells": {
             "fill": {
              "color": "#EBF0F8"
             },
             "line": {
              "color": "white"
             }
            },
            "header": {
             "fill": {
              "color": "#C8D4E3"
             },
             "line": {
              "color": "white"
             }
            },
            "type": "table"
           }
          ]
         },
         "layout": {
          "annotationdefaults": {
           "arrowcolor": "#2a3f5f",
           "arrowhead": 0,
           "arrowwidth": 1
          },
          "autotypenumbers": "strict",
          "coloraxis": {
           "colorbar": {
            "outlinewidth": 0,
            "ticks": ""
           }
          },
          "colorscale": {
           "diverging": [
            [
             0,
             "#8e0152"
            ],
            [
             0.1,
             "#c51b7d"
            ],
            [
             0.2,
             "#de77ae"
            ],
            [
             0.3,
             "#f1b6da"
            ],
            [
             0.4,
             "#fde0ef"
            ],
            [
             0.5,
             "#f7f7f7"
            ],
            [
             0.6,
             "#e6f5d0"
            ],
            [
             0.7,
             "#b8e186"
            ],
            [
             0.8,
             "#7fbc41"
            ],
            [
             0.9,
             "#4d9221"
            ],
            [
             1,
             "#276419"
            ]
           ],
           "sequential": [
            [
             0,
             "#0d0887"
            ],
            [
             0.1111111111111111,
             "#46039f"
            ],
            [
             0.2222222222222222,
             "#7201a8"
            ],
            [
             0.3333333333333333,
             "#9c179e"
            ],
            [
             0.4444444444444444,
             "#bd3786"
            ],
            [
             0.5555555555555556,
             "#d8576b"
            ],
            [
             0.6666666666666666,
             "#ed7953"
            ],
            [
             0.7777777777777778,
             "#fb9f3a"
            ],
            [
             0.8888888888888888,
             "#fdca26"
            ],
            [
             1,
             "#f0f921"
            ]
           ],
           "sequentialminus": [
            [
             0,
             "#0d0887"
            ],
            [
             0.1111111111111111,
             "#46039f"
            ],
            [
             0.2222222222222222,
             "#7201a8"
            ],
            [
             0.3333333333333333,
             "#9c179e"
            ],
            [
             0.4444444444444444,
             "#bd3786"
            ],
            [
             0.5555555555555556,
             "#d8576b"
            ],
            [
             0.6666666666666666,
             "#ed7953"
            ],
            [
             0.7777777777777778,
             "#fb9f3a"
            ],
            [
             0.8888888888888888,
             "#fdca26"
            ],
            [
             1,
             "#f0f921"
            ]
           ]
          },
          "colorway": [
           "#636efa",
           "#EF553B",
           "#00cc96",
           "#ab63fa",
           "#FFA15A",
           "#19d3f3",
           "#FF6692",
           "#B6E880",
           "#FF97FF",
           "#FECB52"
          ],
          "font": {
           "color": "#2a3f5f"
          },
          "geo": {
           "bgcolor": "white",
           "lakecolor": "white",
           "landcolor": "#E5ECF6",
           "showlakes": true,
           "showland": true,
           "subunitcolor": "white"
          },
          "hoverlabel": {
           "align": "left"
          },
          "hovermode": "closest",
          "mapbox": {
           "style": "light"
          },
          "paper_bgcolor": "white",
          "plot_bgcolor": "#E5ECF6",
          "polar": {
           "angularaxis": {
            "gridcolor": "white",
            "linecolor": "white",
            "ticks": ""
           },
           "bgcolor": "#E5ECF6",
           "radialaxis": {
            "gridcolor": "white",
            "linecolor": "white",
            "ticks": ""
           }
          },
          "scene": {
           "xaxis": {
            "backgroundcolor": "#E5ECF6",
            "gridcolor": "white",
            "gridwidth": 2,
            "linecolor": "white",
            "showbackground": true,
            "ticks": "",
            "zerolinecolor": "white"
           },
           "yaxis": {
            "backgroundcolor": "#E5ECF6",
            "gridcolor": "white",
            "gridwidth": 2,
            "linecolor": "white",
            "showbackground": true,
            "ticks": "",
            "zerolinecolor": "white"
           },
           "zaxis": {
            "backgroundcolor": "#E5ECF6",
            "gridcolor": "white",
            "gridwidth": 2,
            "linecolor": "white",
            "showbackground": true,
            "ticks": "",
            "zerolinecolor": "white"
           }
          },
          "shapedefaults": {
           "line": {
            "color": "#2a3f5f"
           }
          },
          "ternary": {
           "aaxis": {
            "gridcolor": "white",
            "linecolor": "white",
            "ticks": ""
           },
           "baxis": {
            "gridcolor": "white",
            "linecolor": "white",
            "ticks": ""
           },
           "bgcolor": "#E5ECF6",
           "caxis": {
            "gridcolor": "white",
            "linecolor": "white",
            "ticks": ""
           }
          },
          "title": {
           "x": 0.05
          },
          "xaxis": {
           "automargin": true,
           "gridcolor": "white",
           "linecolor": "white",
           "ticks": "",
           "title": {
            "standoff": 15
           },
           "zerolinecolor": "white",
           "zerolinewidth": 2
          },
          "yaxis": {
           "automargin": true,
           "gridcolor": "white",
           "linecolor": "white",
           "ticks": "",
           "title": {
            "standoff": 15
           },
           "zerolinecolor": "white",
           "zerolinewidth": 2
          }
         }
        }
       }
      },
      "text/html": [
       "<div>                            <div id=\"7da3e447-949c-4fb5-8eea-117bcfdb8522\" class=\"plotly-graph-div\" style=\"height:525px; width:100%;\"></div>            <script type=\"text/javascript\">                require([\"plotly\"], function(Plotly) {                    window.PLOTLYENV=window.PLOTLYENV || {};                                    if (document.getElementById(\"7da3e447-949c-4fb5-8eea-117bcfdb8522\")) {                    Plotly.newPlot(                        \"7da3e447-949c-4fb5-8eea-117bcfdb8522\",                        [{\"mode\":\"lines+markers\",\"name\":\"Theory 200 grid\",\"x\":[0.006462086188072037,0.008211413818346237,0.010406430101627047,0.013145242377006214,0.016539677064696088,0.020713544990341646,0.025799184275975186,0.031932166531904796,0.03924441821929895,0.04785645013746829,0.05786975813970817,0.06936058914559116,0.08237606093198396,0.09693312844280857,0.11302028259806587,0.13060136558252977,0.1496206304489491,0.17000817878382546,0.19168509767881273,0.21456787498065333,0.23857191133923947,0.26361412378371596,0.28961474037494994,0.31649843172242276,0.34419493216439917,0.3726392886892116,0.40177185182881514,0.4315380974447697,0.4618883454802988,0.492777422893488,0.5241643033000918,0.5560117448787213,0.5882859401636978,0.6209561857723189,0.6539945762940527,0.6873757240323636,0.721076504650414,0.7550758277669313,0.7893544309706461,0.8238946954308234,0.8586804811765834,0.8936969801311311,0.9289305850712899,0.9643687728045999],\"y\":[0.013610492460429668,0.32843849062919617,-0.3177516758441925,0.4095399677753449,-0.19767372310161593,0.05769628286361694,-0.0072703263722360125,0.003850334323942661,0.002066008746623993,0.001697177649475634,0.0013284384040161967,0.0010505188256502151,0.0008483259589411318,0.0007001857738941908,0.0005920151597820222,0.0005129195051267743,0.00045524336746893823,0.00041097291978076095,0.00037707842420786614,0.0003517012228257954,0.0003309185558464378,0.00031332951039075846,0.000298800237942487,0.00028669816674664617,0.0002758092596195638,0.0002657259174156934,0.00025578521308489144,0.0002490580955054611,0.00024161722103599456,0.00023465292179025712,0.00022810461814515293,0.0002220404276158661,0.00021637015743181107,0.0002108952758135274,0.000205698175705038,0.0002006861614063382,0.0001958767679752782,0.00019109112326987088,0.00018677502521313727,0.00018273277964908632,0.00017888678121380508,0.00017505075084045527,0.0001714187819743529,0.00016785717161837965],\"type\":\"scatter\"},{\"mode\":\"lines+markers\",\"name\":\"Linear Spline Interpolation Th 200\",\"x\":[1.9999999999999954e-07,3.034304765867952e-07,4.6035014748963906e-07,6.984208530700364e-07,1.0596094959101024e-06,1.607585498470808e-06,2.438943292891682e-06,3.7002272069854957e-06,5.613757716930151e-06,8.516806677573355e-06,1.292101569074731e-05,1.9602505002391748e-05,2.97384953722449e-05,4.511438394964044e-05,6.843744918967896e-05,0.00010381172986576898,0.00015745605600841445,0.00023878782918561914,0.00036205449638139736,0.0005487795323670796,0.0008314068836488144,0.0012586797144272762,0.0019034634022867384,0.0028738675812817515,0.004328500638820811,0.006496206194633799,0.009699159574043398,0.014375068581090129,0.02108918668378717,0.030521584007828916,0.04341491741702269,0.060480028754447364,0.08228122126204893,0.10914375746330703,0.14112080644440345,0.17802566042569432,0.2195041265003886,0.2651137041582823,0.31438740076927585,0.3668753186482242,0.4221667753589648,0.4798989029610255,0.5397572337880445,0.601472197967335,0.6648139482473823,0.7295868442414312,0.7956242522922756,0.8627839323906108,0.9309440808717544,1.0],\"y\":[0.0,0.0,0.0,0.0,0.0,0.0,0.0,0.0,0.0,0.0,0.0,0.0,0.0,0.0,0.0,0.0,0.0,0.0,0.0,0.0,0.0,0.0,0.0,0.0,0.0,0.01975109938702404,-0.1095385234215183,0.18954241966307928,0.052897639912334725,0.001292588519437729,0.0018873970311346971,0.0012653058674487352,0.000849799275087993,0.0006180810568574901,0.0004810191807191719,0.0003984366134296341,0.00034742742195628825,0.0003124915375010116,0.0002876484769760488,0.00026776920787738604,0.00025117599731811467,0.0002375565328451333,0.00022513550989966292,0.000214160403598677,0.0002040737004965117,0.000194678877609479,0.00018604126831171084,0.00017843725130754575,0.0001712164215278027,0.0],\"type\":\"scatter\"},{\"mode\":\"lines+markers\",\"name\":\"Theory 400 grid\",\"x\":[1.9999999999999954e-07,3.034304765867952e-07,4.6035014748963906e-07,6.984208530700364e-07,1.0596094959101024e-06,1.607585498470808e-06,2.438943292891682e-06,3.7002272069854957e-06,5.613757716930151e-06,8.516806677573355e-06,1.292101569074731e-05,1.9602505002391748e-05,2.97384953722449e-05,4.511438394964044e-05,6.843744918967896e-05,0.00010381172986576898,0.00015745605600841445,0.00023878782918561914,0.00036205449638139736,0.0005487795323670796,0.0008314068836488144,0.0012586797144272762,0.0019034634022867384,0.0028738675812817515,0.004328500638820811,0.006496206194633799,0.009699159574043398,0.014375068581090129,0.02108918668378717,0.030521584007828916,0.04341491741702269,0.060480028754447364,0.08228122126204893,0.10914375746330703,0.14112080644440345,0.17802566042569432,0.2195041265003886,0.2651137041582823,0.31438740076927585,0.3668753186482242,0.4221667753589648,0.4798989029610255,0.5397572337880445,0.601472197967335,0.6648139482473823,0.7295868442414312,0.7956242522922756,0.8627839323906108,0.9309440808717544,1.0],\"y\":[0.0,0.0,0.0,0.0,0.0,0.0,0.0,0.0,0.0,0.0,0.0,0.0,0.0,0.0,0.0,0.0,0.0,0.0,0.0,0.0,0.0,0.0,1.3575792031968011e-12,1.6859392479550802e-06,-0.014312599882404,0.13885470213407738,0.10990634548471011,0.06587401687144452,-0.017809172458870225,0.008050032920748832,0.0031825827492339745,0.0021003522932367662,0.001390251653186891,0.0009831713184126616,0.0007463249322032248,0.0006072365052776278,0.0005224533117269683,0.0004675062470826981,0.00042920088578586,0.00040049902470882604,0.0003776210948303441,0.00035831193038073664,0.0003412402033203867,0.00032577022896865254,0.0003117734096932652,0.0002967212078762319,0.0003017843753274685,0.0002333905539475964,0.0003355598374216454,8.768209535503794e-05],\"type\":\"scatter\"}],                        {\"template\":{\"data\":{\"histogram2dcontour\":[{\"type\":\"histogram2dcontour\",\"colorbar\":{\"outlinewidth\":0,\"ticks\":\"\"},\"colorscale\":[[0.0,\"#0d0887\"],[0.1111111111111111,\"#46039f\"],[0.2222222222222222,\"#7201a8\"],[0.3333333333333333,\"#9c179e\"],[0.4444444444444444,\"#bd3786\"],[0.5555555555555556,\"#d8576b\"],[0.6666666666666666,\"#ed7953\"],[0.7777777777777778,\"#fb9f3a\"],[0.8888888888888888,\"#fdca26\"],[1.0,\"#f0f921\"]]}],\"choropleth\":[{\"type\":\"choropleth\",\"colorbar\":{\"outlinewidth\":0,\"ticks\":\"\"}}],\"histogram2d\":[{\"type\":\"histogram2d\",\"colorbar\":{\"outlinewidth\":0,\"ticks\":\"\"},\"colorscale\":[[0.0,\"#0d0887\"],[0.1111111111111111,\"#46039f\"],[0.2222222222222222,\"#7201a8\"],[0.3333333333333333,\"#9c179e\"],[0.4444444444444444,\"#bd3786\"],[0.5555555555555556,\"#d8576b\"],[0.6666666666666666,\"#ed7953\"],[0.7777777777777778,\"#fb9f3a\"],[0.8888888888888888,\"#fdca26\"],[1.0,\"#f0f921\"]]}],\"heatmap\":[{\"type\":\"heatmap\",\"colorbar\":{\"outlinewidth\":0,\"ticks\":\"\"},\"colorscale\":[[0.0,\"#0d0887\"],[0.1111111111111111,\"#46039f\"],[0.2222222222222222,\"#7201a8\"],[0.3333333333333333,\"#9c179e\"],[0.4444444444444444,\"#bd3786\"],[0.5555555555555556,\"#d8576b\"],[0.6666666666666666,\"#ed7953\"],[0.7777777777777778,\"#fb9f3a\"],[0.8888888888888888,\"#fdca26\"],[1.0,\"#f0f921\"]]}],\"heatmapgl\":[{\"type\":\"heatmapgl\",\"colorbar\":{\"outlinewidth\":0,\"ticks\":\"\"},\"colorscale\":[[0.0,\"#0d0887\"],[0.1111111111111111,\"#46039f\"],[0.2222222222222222,\"#7201a8\"],[0.3333333333333333,\"#9c179e\"],[0.4444444444444444,\"#bd3786\"],[0.5555555555555556,\"#d8576b\"],[0.6666666666666666,\"#ed7953\"],[0.7777777777777778,\"#fb9f3a\"],[0.8888888888888888,\"#fdca26\"],[1.0,\"#f0f921\"]]}],\"contourcarpet\":[{\"type\":\"contourcarpet\",\"colorbar\":{\"outlinewidth\":0,\"ticks\":\"\"}}],\"contour\":[{\"type\":\"contour\",\"colorbar\":{\"outlinewidth\":0,\"ticks\":\"\"},\"colorscale\":[[0.0,\"#0d0887\"],[0.1111111111111111,\"#46039f\"],[0.2222222222222222,\"#7201a8\"],[0.3333333333333333,\"#9c179e\"],[0.4444444444444444,\"#bd3786\"],[0.5555555555555556,\"#d8576b\"],[0.6666666666666666,\"#ed7953\"],[0.7777777777777778,\"#fb9f3a\"],[0.8888888888888888,\"#fdca26\"],[1.0,\"#f0f921\"]]}],\"surface\":[{\"type\":\"surface\",\"colorbar\":{\"outlinewidth\":0,\"ticks\":\"\"},\"colorscale\":[[0.0,\"#0d0887\"],[0.1111111111111111,\"#46039f\"],[0.2222222222222222,\"#7201a8\"],[0.3333333333333333,\"#9c179e\"],[0.4444444444444444,\"#bd3786\"],[0.5555555555555556,\"#d8576b\"],[0.6666666666666666,\"#ed7953\"],[0.7777777777777778,\"#fb9f3a\"],[0.8888888888888888,\"#fdca26\"],[1.0,\"#f0f921\"]]}],\"mesh3d\":[{\"type\":\"mesh3d\",\"colorbar\":{\"outlinewidth\":0,\"ticks\":\"\"}}],\"scatter\":[{\"fillpattern\":{\"fillmode\":\"overlay\",\"size\":10,\"solidity\":0.2},\"type\":\"scatter\"}],\"parcoords\":[{\"type\":\"parcoords\",\"line\":{\"colorbar\":{\"outlinewidth\":0,\"ticks\":\"\"}}}],\"scatterpolargl\":[{\"type\":\"scatterpolargl\",\"marker\":{\"colorbar\":{\"outlinewidth\":0,\"ticks\":\"\"}}}],\"bar\":[{\"error_x\":{\"color\":\"#2a3f5f\"},\"error_y\":{\"color\":\"#2a3f5f\"},\"marker\":{\"line\":{\"color\":\"#E5ECF6\",\"width\":0.5},\"pattern\":{\"fillmode\":\"overlay\",\"size\":10,\"solidity\":0.2}},\"type\":\"bar\"}],\"scattergeo\":[{\"type\":\"scattergeo\",\"marker\":{\"colorbar\":{\"outlinewidth\":0,\"ticks\":\"\"}}}],\"scatterpolar\":[{\"type\":\"scatterpolar\",\"marker\":{\"colorbar\":{\"outlinewidth\":0,\"ticks\":\"\"}}}],\"histogram\":[{\"marker\":{\"pattern\":{\"fillmode\":\"overlay\",\"size\":10,\"solidity\":0.2}},\"type\":\"histogram\"}],\"scattergl\":[{\"type\":\"scattergl\",\"marker\":{\"colorbar\":{\"outlinewidth\":0,\"ticks\":\"\"}}}],\"scatter3d\":[{\"type\":\"scatter3d\",\"line\":{\"colorbar\":{\"outlinewidth\":0,\"ticks\":\"\"}},\"marker\":{\"colorbar\":{\"outlinewidth\":0,\"ticks\":\"\"}}}],\"scattermapbox\":[{\"type\":\"scattermapbox\",\"marker\":{\"colorbar\":{\"outlinewidth\":0,\"ticks\":\"\"}}}],\"scatterternary\":[{\"type\":\"scatterternary\",\"marker\":{\"colorbar\":{\"outlinewidth\":0,\"ticks\":\"\"}}}],\"scattercarpet\":[{\"type\":\"scattercarpet\",\"marker\":{\"colorbar\":{\"outlinewidth\":0,\"ticks\":\"\"}}}],\"carpet\":[{\"aaxis\":{\"endlinecolor\":\"#2a3f5f\",\"gridcolor\":\"white\",\"linecolor\":\"white\",\"minorgridcolor\":\"white\",\"startlinecolor\":\"#2a3f5f\"},\"baxis\":{\"endlinecolor\":\"#2a3f5f\",\"gridcolor\":\"white\",\"linecolor\":\"white\",\"minorgridcolor\":\"white\",\"startlinecolor\":\"#2a3f5f\"},\"type\":\"carpet\"}],\"table\":[{\"cells\":{\"fill\":{\"color\":\"#EBF0F8\"},\"line\":{\"color\":\"white\"}},\"header\":{\"fill\":{\"color\":\"#C8D4E3\"},\"line\":{\"color\":\"white\"}},\"type\":\"table\"}],\"barpolar\":[{\"marker\":{\"line\":{\"color\":\"#E5ECF6\",\"width\":0.5},\"pattern\":{\"fillmode\":\"overlay\",\"size\":10,\"solidity\":0.2}},\"type\":\"barpolar\"}],\"pie\":[{\"automargin\":true,\"type\":\"pie\"}]},\"layout\":{\"autotypenumbers\":\"strict\",\"colorway\":[\"#636efa\",\"#EF553B\",\"#00cc96\",\"#ab63fa\",\"#FFA15A\",\"#19d3f3\",\"#FF6692\",\"#B6E880\",\"#FF97FF\",\"#FECB52\"],\"font\":{\"color\":\"#2a3f5f\"},\"hovermode\":\"closest\",\"hoverlabel\":{\"align\":\"left\"},\"paper_bgcolor\":\"white\",\"plot_bgcolor\":\"#E5ECF6\",\"polar\":{\"bgcolor\":\"#E5ECF6\",\"angularaxis\":{\"gridcolor\":\"white\",\"linecolor\":\"white\",\"ticks\":\"\"},\"radialaxis\":{\"gridcolor\":\"white\",\"linecolor\":\"white\",\"ticks\":\"\"}},\"ternary\":{\"bgcolor\":\"#E5ECF6\",\"aaxis\":{\"gridcolor\":\"white\",\"linecolor\":\"white\",\"ticks\":\"\"},\"baxis\":{\"gridcolor\":\"white\",\"linecolor\":\"white\",\"ticks\":\"\"},\"caxis\":{\"gridcolor\":\"white\",\"linecolor\":\"white\",\"ticks\":\"\"}},\"coloraxis\":{\"colorbar\":{\"outlinewidth\":0,\"ticks\":\"\"}},\"colorscale\":{\"sequential\":[[0.0,\"#0d0887\"],[0.1111111111111111,\"#46039f\"],[0.2222222222222222,\"#7201a8\"],[0.3333333333333333,\"#9c179e\"],[0.4444444444444444,\"#bd3786\"],[0.5555555555555556,\"#d8576b\"],[0.6666666666666666,\"#ed7953\"],[0.7777777777777778,\"#fb9f3a\"],[0.8888888888888888,\"#fdca26\"],[1.0,\"#f0f921\"]],\"sequentialminus\":[[0.0,\"#0d0887\"],[0.1111111111111111,\"#46039f\"],[0.2222222222222222,\"#7201a8\"],[0.3333333333333333,\"#9c179e\"],[0.4444444444444444,\"#bd3786\"],[0.5555555555555556,\"#d8576b\"],[0.6666666666666666,\"#ed7953\"],[0.7777777777777778,\"#fb9f3a\"],[0.8888888888888888,\"#fdca26\"],[1.0,\"#f0f921\"]],\"diverging\":[[0,\"#8e0152\"],[0.1,\"#c51b7d\"],[0.2,\"#de77ae\"],[0.3,\"#f1b6da\"],[0.4,\"#fde0ef\"],[0.5,\"#f7f7f7\"],[0.6,\"#e6f5d0\"],[0.7,\"#b8e186\"],[0.8,\"#7fbc41\"],[0.9,\"#4d9221\"],[1,\"#276419\"]]},\"xaxis\":{\"gridcolor\":\"white\",\"linecolor\":\"white\",\"ticks\":\"\",\"title\":{\"standoff\":15},\"zerolinecolor\":\"white\",\"automargin\":true,\"zerolinewidth\":2},\"yaxis\":{\"gridcolor\":\"white\",\"linecolor\":\"white\",\"ticks\":\"\",\"title\":{\"standoff\":15},\"zerolinecolor\":\"white\",\"automargin\":true,\"zerolinewidth\":2},\"scene\":{\"xaxis\":{\"backgroundcolor\":\"#E5ECF6\",\"gridcolor\":\"white\",\"linecolor\":\"white\",\"showbackground\":true,\"ticks\":\"\",\"zerolinecolor\":\"white\",\"gridwidth\":2},\"yaxis\":{\"backgroundcolor\":\"#E5ECF6\",\"gridcolor\":\"white\",\"linecolor\":\"white\",\"showbackground\":true,\"ticks\":\"\",\"zerolinecolor\":\"white\",\"gridwidth\":2},\"zaxis\":{\"backgroundcolor\":\"#E5ECF6\",\"gridcolor\":\"white\",\"linecolor\":\"white\",\"showbackground\":true,\"ticks\":\"\",\"zerolinecolor\":\"white\",\"gridwidth\":2}},\"shapedefaults\":{\"line\":{\"color\":\"#2a3f5f\"}},\"annotationdefaults\":{\"arrowcolor\":\"#2a3f5f\",\"arrowhead\":0,\"arrowwidth\":1},\"geo\":{\"bgcolor\":\"white\",\"landcolor\":\"#E5ECF6\",\"subunitcolor\":\"white\",\"showland\":true,\"showlakes\":true,\"lakecolor\":\"white\"},\"title\":{\"x\":0.05},\"mapbox\":{\"style\":\"light\"}}}},                        {\"responsive\": true}                    ).then(function(){\n",
       "                            \n",
       "var gd = document.getElementById('7da3e447-949c-4fb5-8eea-117bcfdb8522');\n",
       "var x = new MutationObserver(function (mutations, observer) {{\n",
       "        var display = window.getComputedStyle(gd).display;\n",
       "        if (!display || display === 'none') {{\n",
       "            console.log([gd, 'removed!']);\n",
       "            Plotly.purge(gd);\n",
       "            observer.disconnect();\n",
       "        }}\n",
       "}});\n",
       "\n",
       "// Listen for the removal of the full notebook cells\n",
       "var notebookContainer = gd.closest('#notebook-container');\n",
       "if (notebookContainer) {{\n",
       "    x.observe(notebookContainer, {childList: true});\n",
       "}}\n",
       "\n",
       "// Listen for the clearing of the current output cell\n",
       "var outputEl = gd.closest('.output');\n",
       "if (outputEl) {{\n",
       "    x.observe(outputEl, {childList: true});\n",
       "}}\n",
       "\n",
       "                        })                };                });            </script>        </div>"
      ]
     },
     "metadata": {},
     "output_type": "display_data"
    }
   ],
   "source": [
    "fig = go.Figure()\n",
    "\n",
    "# Add traces\n",
    "fig.add_trace(go.Scatter(x=xgrid_dis_200, y=sigma_dis_200[1],\n",
    "                    mode='lines+markers',\n",
    "                    name='Theory 200 grid'))\n",
    "\n",
    "fig.add_trace(go.Scatter(x=xgrid_dis_400,\n",
    "                         y=sigma_dis_interpolated['1'],\n",
    "                    mode='lines+markers',\n",
    "                    name='Linear Spline Interpolation Th 200'))\n",
    "\n",
    "\n",
    "\n",
    "fig.add_trace(go.Scatter(x=xgrid_dis_400, y=sigma_dis_400[1],\n",
    "                    mode='lines+markers',\n",
    "                    name='Theory 400 grid'))\n",
    "\n",
    "\n",
    "\n",
    "# fig.add_trace(go.Scatter(x=full_df.x_new, y=full_df['1_new_quad'],\n",
    "#                     mode='lines+markers',\n",
    "#                     name='Quadratic Spline Interpolation'))\n",
    "\n",
    "# fig.add_trace(go.Scatter(x=full_df.x_new, y=full_df['1_new_cube'],\n",
    "#                     mode='lines+markers',\n",
    "#                     name='Cubic Spline Interpolation'))\n",
    "\n",
    "fig.show()"
   ]
  },
  {
   "cell_type": "markdown",
   "id": "a3b7fe2c",
   "metadata": {},
   "source": [
    "## Hadronic FKTable Interpolation "
   ]
  },
  {
   "cell_type": "markdown",
   "id": "605eb0ef",
   "metadata": {},
   "source": [
    "### Example1: Using deprecated interp2d"
   ]
  },
  {
   "cell_type": "markdown",
   "id": "3e0a8f83",
   "metadata": {},
   "source": [
    "### Simple Example of 2D interpolation:\n",
    "\n",
    "Given 3 data points and for each of them a function evaluated on a 2x2 xgrid. The function we want to fit is: f(x1,x2,data)=x1+x2 + data\n"
   ]
  },
  {
   "cell_type": "code",
   "execution_count": 13,
   "id": "e79f3617",
   "metadata": {},
   "outputs": [
    {
     "data": {
      "text/html": [
       "<div>\n",
       "<style scoped>\n",
       "    .dataframe tbody tr th:only-of-type {\n",
       "        vertical-align: middle;\n",
       "    }\n",
       "\n",
       "    .dataframe tbody tr th {\n",
       "        vertical-align: top;\n",
       "    }\n",
       "\n",
       "    .dataframe thead th {\n",
       "        text-align: right;\n",
       "    }\n",
       "</style>\n",
       "<table border=\"1\" class=\"dataframe\">\n",
       "  <thead>\n",
       "    <tr style=\"text-align: right;\">\n",
       "      <th></th>\n",
       "      <th></th>\n",
       "      <th>col1</th>\n",
       "    </tr>\n",
       "    <tr>\n",
       "      <th>x1</th>\n",
       "      <th>x2</th>\n",
       "      <th></th>\n",
       "    </tr>\n",
       "  </thead>\n",
       "  <tbody>\n",
       "    <tr>\n",
       "      <th rowspan=\"3\" valign=\"top\">0</th>\n",
       "      <th>0</th>\n",
       "      <td>0.20</td>\n",
       "    </tr>\n",
       "    <tr>\n",
       "      <th>1</th>\n",
       "      <td>0.25</td>\n",
       "    </tr>\n",
       "    <tr>\n",
       "      <th>2</th>\n",
       "      <td>0.30</td>\n",
       "    </tr>\n",
       "    <tr>\n",
       "      <th rowspan=\"3\" valign=\"top\">1</th>\n",
       "      <th>0</th>\n",
       "      <td>0.25</td>\n",
       "    </tr>\n",
       "    <tr>\n",
       "      <th>1</th>\n",
       "      <td>0.30</td>\n",
       "    </tr>\n",
       "    <tr>\n",
       "      <th>2</th>\n",
       "      <td>0.35</td>\n",
       "    </tr>\n",
       "    <tr>\n",
       "      <th rowspan=\"3\" valign=\"top\">2</th>\n",
       "      <th>0</th>\n",
       "      <td>0.30</td>\n",
       "    </tr>\n",
       "    <tr>\n",
       "      <th>1</th>\n",
       "      <td>0.35</td>\n",
       "    </tr>\n",
       "    <tr>\n",
       "      <th>2</th>\n",
       "      <td>0.40</td>\n",
       "    </tr>\n",
       "    <tr>\n",
       "      <th rowspan=\"3\" valign=\"top\">0</th>\n",
       "      <th>0</th>\n",
       "      <td>1.20</td>\n",
       "    </tr>\n",
       "    <tr>\n",
       "      <th>1</th>\n",
       "      <td>1.25</td>\n",
       "    </tr>\n",
       "    <tr>\n",
       "      <th>2</th>\n",
       "      <td>1.30</td>\n",
       "    </tr>\n",
       "    <tr>\n",
       "      <th rowspan=\"3\" valign=\"top\">1</th>\n",
       "      <th>0</th>\n",
       "      <td>1.25</td>\n",
       "    </tr>\n",
       "    <tr>\n",
       "      <th>1</th>\n",
       "      <td>1.30</td>\n",
       "    </tr>\n",
       "    <tr>\n",
       "      <th>2</th>\n",
       "      <td>1.35</td>\n",
       "    </tr>\n",
       "    <tr>\n",
       "      <th rowspan=\"3\" valign=\"top\">2</th>\n",
       "      <th>0</th>\n",
       "      <td>1.30</td>\n",
       "    </tr>\n",
       "    <tr>\n",
       "      <th>1</th>\n",
       "      <td>1.35</td>\n",
       "    </tr>\n",
       "    <tr>\n",
       "      <th>2</th>\n",
       "      <td>1.40</td>\n",
       "    </tr>\n",
       "    <tr>\n",
       "      <th rowspan=\"3\" valign=\"top\">0</th>\n",
       "      <th>0</th>\n",
       "      <td>2.20</td>\n",
       "    </tr>\n",
       "    <tr>\n",
       "      <th>1</th>\n",
       "      <td>2.25</td>\n",
       "    </tr>\n",
       "    <tr>\n",
       "      <th>2</th>\n",
       "      <td>2.30</td>\n",
       "    </tr>\n",
       "    <tr>\n",
       "      <th rowspan=\"3\" valign=\"top\">1</th>\n",
       "      <th>0</th>\n",
       "      <td>2.25</td>\n",
       "    </tr>\n",
       "    <tr>\n",
       "      <th>1</th>\n",
       "      <td>2.30</td>\n",
       "    </tr>\n",
       "    <tr>\n",
       "      <th>2</th>\n",
       "      <td>2.35</td>\n",
       "    </tr>\n",
       "    <tr>\n",
       "      <th rowspan=\"3\" valign=\"top\">2</th>\n",
       "      <th>0</th>\n",
       "      <td>2.30</td>\n",
       "    </tr>\n",
       "    <tr>\n",
       "      <th>1</th>\n",
       "      <td>2.35</td>\n",
       "    </tr>\n",
       "    <tr>\n",
       "      <th>2</th>\n",
       "      <td>2.40</td>\n",
       "    </tr>\n",
       "  </tbody>\n",
       "</table>\n",
       "</div>"
      ],
      "text/plain": [
       "       col1\n",
       "x1 x2      \n",
       "0  0   0.20\n",
       "   1   0.25\n",
       "   2   0.30\n",
       "1  0   0.25\n",
       "   1   0.30\n",
       "   2   0.35\n",
       "2  0   0.30\n",
       "   1   0.35\n",
       "   2   0.40\n",
       "0  0   1.20\n",
       "   1   1.25\n",
       "   2   1.30\n",
       "1  0   1.25\n",
       "   1   1.30\n",
       "   2   1.35\n",
       "2  0   1.30\n",
       "   1   1.35\n",
       "   2   1.40\n",
       "0  0   2.20\n",
       "   1   2.25\n",
       "   2   2.30\n",
       "1  0   2.25\n",
       "   1   2.30\n",
       "   2   2.35\n",
       "2  0   2.30\n",
       "   1   2.35\n",
       "   2   2.40"
      ]
     },
     "execution_count": 13,
     "metadata": {},
     "output_type": "execute_result"
    }
   ],
   "source": [
    "ex_xgrid = np.array([0.1,0.2])\n",
    "\n",
    "ex_dict = {\"data\":[0,0,0,0,1,1,1,1,2,2,2,2],\"x1\":[0,0,1,1,0,0,1,1,0,0,1,1],\"x2\":[0,1,0,1,0,1,0,1,0,1,0,1],\n",
    "          \"col1\":[0.2,0.3,0.3,0.4,1.2,1.3,1.3,1.4,2.2,2.3,2.3,2.4]}\n",
    "\n",
    "ex_df = pd.DataFrame.from_dict(ex_dict)\n",
    "ex_df.set_index(['data', 'x1', 'x2'], inplace=True)\n",
    "\n",
    "\n",
    "ex_dfs = []\n",
    "\n",
    "for d, grp in ex_df.groupby('data'):\n",
    "    x1_vals = ex_xgrid[grp.index.get_level_values('x1')]\n",
    "    x2_vals = ex_xgrid[grp.index.get_level_values('x2')]\n",
    "\n",
    "    interpolator = interp2d(x1_vals,x2_vals, grp['col1'])\n",
    "\n",
    "    # test the interpolator\n",
    "    new_ex_xgrid = np.array([0.1,0.15,0.2])\n",
    "    len_grid = len(new_ex_xgrid)\n",
    "    \n",
    "    interpolated_grid = interpolator(new_ex_xgrid,new_ex_xgrid)\n",
    "    \n",
    "    tmp_index = pd.MultiIndex.from_product([range(3),range(3)], names=['x1','x2'])\n",
    "    tmp_df = pd.DataFrame({'col1':interpolated_grid.flatten()},index=tmp_index)\n",
    "    \n",
    "    ex_dfs.append(tmp_df)\n",
    "\n",
    "        \n",
    "pd.concat(ex_dfs, axis=0)"
   ]
  },
  {
   "cell_type": "code",
   "execution_count": 14,
   "id": "6519fc38",
   "metadata": {},
   "outputs": [],
   "source": [
    "\n",
    "\n",
    "def interp2d_(fktable, fktable_400):\n",
    "    \"\"\"\n",
    "    \"\"\"\n",
    "    \n",
    "    xgrid = fktable.xgrid\n",
    "    xgrid_new = fktable_400.xgrid\n",
    "\n",
    "    dfs=[]\n",
    "    for d, grp in fktable.sigma.groupby('data'): \n",
    "\n",
    "        x1_vals = xgrid[grp.index.get_level_values('x1')]\n",
    "        x2_vals = xgrid[grp.index.get_level_values('x2')]\n",
    "\n",
    "        interpolators = [interp2d(x1_vals,x2_vals, grp[col].values)\n",
    "                        for col in grp.columns]\n",
    "\n",
    "        tmp_index = pd.MultiIndex.from_product([[d],range(50),range(50)], names=['data','x1','x2'])\n",
    "\n",
    "        d = dict()\n",
    "\n",
    "        for col, interp in zip(grp.columns, interpolators):\n",
    "            d[f\"{col}\"] = interp(xgrid_new, xgrid_new).flatten()\n",
    "\n",
    "        tmp_df = pd.DataFrame(d,index=tmp_index)\n",
    "\n",
    "        dfs.append(tmp_df)\n",
    "    \n",
    "    return pd.concat(dfs, axis=0)\n"
   ]
  },
  {
   "cell_type": "markdown",
   "id": "a553f717",
   "metadata": {},
   "source": [
    "### Example2 Using: griddata"
   ]
  },
  {
   "cell_type": "markdown",
   "id": "57d524ef",
   "metadata": {},
   "source": [
    "#### Simple example"
   ]
  },
  {
   "cell_type": "code",
   "execution_count": 15,
   "id": "b8da539c",
   "metadata": {},
   "outputs": [
    {
     "data": {
      "text/html": [
       "<div>\n",
       "<style scoped>\n",
       "    .dataframe tbody tr th:only-of-type {\n",
       "        vertical-align: middle;\n",
       "    }\n",
       "\n",
       "    .dataframe tbody tr th {\n",
       "        vertical-align: top;\n",
       "    }\n",
       "\n",
       "    .dataframe thead th {\n",
       "        text-align: right;\n",
       "    }\n",
       "</style>\n",
       "<table border=\"1\" class=\"dataframe\">\n",
       "  <thead>\n",
       "    <tr style=\"text-align: right;\">\n",
       "      <th></th>\n",
       "      <th></th>\n",
       "      <th>col1</th>\n",
       "    </tr>\n",
       "    <tr>\n",
       "      <th>x1</th>\n",
       "      <th>x2</th>\n",
       "      <th></th>\n",
       "    </tr>\n",
       "  </thead>\n",
       "  <tbody>\n",
       "    <tr>\n",
       "      <th rowspan=\"3\" valign=\"top\">0</th>\n",
       "      <th>0</th>\n",
       "      <td>0.0</td>\n",
       "    </tr>\n",
       "    <tr>\n",
       "      <th>1</th>\n",
       "      <td>0.0</td>\n",
       "    </tr>\n",
       "    <tr>\n",
       "      <th>2</th>\n",
       "      <td>0.0</td>\n",
       "    </tr>\n",
       "    <tr>\n",
       "      <th rowspan=\"3\" valign=\"top\">1</th>\n",
       "      <th>0</th>\n",
       "      <td>0.0</td>\n",
       "    </tr>\n",
       "    <tr>\n",
       "      <th>1</th>\n",
       "      <td>0.3</td>\n",
       "    </tr>\n",
       "    <tr>\n",
       "      <th>2</th>\n",
       "      <td>0.0</td>\n",
       "    </tr>\n",
       "    <tr>\n",
       "      <th rowspan=\"3\" valign=\"top\">2</th>\n",
       "      <th>0</th>\n",
       "      <td>0.0</td>\n",
       "    </tr>\n",
       "    <tr>\n",
       "      <th>1</th>\n",
       "      <td>0.0</td>\n",
       "    </tr>\n",
       "    <tr>\n",
       "      <th>2</th>\n",
       "      <td>0.0</td>\n",
       "    </tr>\n",
       "    <tr>\n",
       "      <th rowspan=\"3\" valign=\"top\">0</th>\n",
       "      <th>0</th>\n",
       "      <td>0.0</td>\n",
       "    </tr>\n",
       "    <tr>\n",
       "      <th>1</th>\n",
       "      <td>0.0</td>\n",
       "    </tr>\n",
       "    <tr>\n",
       "      <th>2</th>\n",
       "      <td>0.0</td>\n",
       "    </tr>\n",
       "    <tr>\n",
       "      <th rowspan=\"3\" valign=\"top\">1</th>\n",
       "      <th>0</th>\n",
       "      <td>0.0</td>\n",
       "    </tr>\n",
       "    <tr>\n",
       "      <th>1</th>\n",
       "      <td>1.3</td>\n",
       "    </tr>\n",
       "    <tr>\n",
       "      <th>2</th>\n",
       "      <td>0.0</td>\n",
       "    </tr>\n",
       "    <tr>\n",
       "      <th rowspan=\"3\" valign=\"top\">2</th>\n",
       "      <th>0</th>\n",
       "      <td>0.0</td>\n",
       "    </tr>\n",
       "    <tr>\n",
       "      <th>1</th>\n",
       "      <td>0.0</td>\n",
       "    </tr>\n",
       "    <tr>\n",
       "      <th>2</th>\n",
       "      <td>0.0</td>\n",
       "    </tr>\n",
       "    <tr>\n",
       "      <th rowspan=\"3\" valign=\"top\">0</th>\n",
       "      <th>0</th>\n",
       "      <td>0.0</td>\n",
       "    </tr>\n",
       "    <tr>\n",
       "      <th>1</th>\n",
       "      <td>0.0</td>\n",
       "    </tr>\n",
       "    <tr>\n",
       "      <th>2</th>\n",
       "      <td>0.0</td>\n",
       "    </tr>\n",
       "    <tr>\n",
       "      <th rowspan=\"3\" valign=\"top\">1</th>\n",
       "      <th>0</th>\n",
       "      <td>0.0</td>\n",
       "    </tr>\n",
       "    <tr>\n",
       "      <th>1</th>\n",
       "      <td>2.3</td>\n",
       "    </tr>\n",
       "    <tr>\n",
       "      <th>2</th>\n",
       "      <td>0.0</td>\n",
       "    </tr>\n",
       "    <tr>\n",
       "      <th rowspan=\"3\" valign=\"top\">2</th>\n",
       "      <th>0</th>\n",
       "      <td>0.0</td>\n",
       "    </tr>\n",
       "    <tr>\n",
       "      <th>1</th>\n",
       "      <td>0.0</td>\n",
       "    </tr>\n",
       "    <tr>\n",
       "      <th>2</th>\n",
       "      <td>0.0</td>\n",
       "    </tr>\n",
       "  </tbody>\n",
       "</table>\n",
       "</div>"
      ],
      "text/plain": [
       "       col1\n",
       "x1 x2      \n",
       "0  0    0.0\n",
       "   1    0.0\n",
       "   2    0.0\n",
       "1  0    0.0\n",
       "   1    0.3\n",
       "   2    0.0\n",
       "2  0    0.0\n",
       "   1    0.0\n",
       "   2    0.0\n",
       "0  0    0.0\n",
       "   1    0.0\n",
       "   2    0.0\n",
       "1  0    0.0\n",
       "   1    1.3\n",
       "   2    0.0\n",
       "2  0    0.0\n",
       "   1    0.0\n",
       "   2    0.0\n",
       "0  0    0.0\n",
       "   1    0.0\n",
       "   2    0.0\n",
       "1  0    0.0\n",
       "   1    2.3\n",
       "   2    0.0\n",
       "2  0    0.0\n",
       "   1    0.0\n",
       "   2    0.0"
      ]
     },
     "execution_count": 15,
     "metadata": {},
     "output_type": "execute_result"
    }
   ],
   "source": [
    "ex_xgrid = np.array([0.1,0.2])\n",
    "\n",
    "ex_dict = {\"data\":[0,0,0,0,1,1,1,1,2,2,2,2],\"x1\":[0,0,1,1,0,0,1,1,0,0,1,1],\"x2\":[0,1,0,1,0,1,0,1,0,1,0,1],\n",
    "          \"col1\":[0.2,0.3,0.3,0.4,1.2,1.3,1.3,1.4,2.2,2.3,2.3,2.4]}\n",
    "\n",
    "ex_df = pd.DataFrame.from_dict(ex_dict)\n",
    "ex_df.set_index(['data', 'x1', 'x2'], inplace=True)\n",
    "\n",
    "\n",
    "ex_dfs = []\n",
    "\n",
    "for d, grp in ex_df.groupby('data'):\n",
    "    x1_vals = ex_xgrid[grp.index.get_level_values('x1')]\n",
    "    x2_vals = ex_xgrid[grp.index.get_level_values('x2')]\n",
    "    \n",
    "\n",
    "    # test the interpolator\n",
    "    new_ex_xgrid = np.array([0.05,0.15,0.25])\n",
    "    len_grid = len(new_ex_xgrid)\n",
    "    \n",
    "    new_ex_xgrid_mesh = np.meshgrid(new_ex_xgrid, new_ex_xgrid)\n",
    "\n",
    "    # Flatten the grid into two separate 1D arrays\n",
    "    new_ex_xgrid_flat = np.ravel(new_ex_xgrid_mesh[0])\n",
    "    new_ex_ygrid_flat = np.ravel(new_ex_xgrid_mesh[1])\n",
    "\n",
    "    # Evaluate griddata at all combinations of new_ex_xgrid values\n",
    "    interpolated_grid = griddata(points=(x1_vals, x2_vals), \n",
    "                            values=grp['col1'], \n",
    "                            xi=(new_ex_xgrid_flat, new_ex_ygrid_flat), method='linear', fill_value=0)\n",
    "\n",
    "\n",
    "    \n",
    "    tmp_index = pd.MultiIndex.from_product([range(len(new_ex_xgrid)),range(len(new_ex_xgrid))], names=['x1','x2'])\n",
    "    tmp_df = pd.DataFrame({'col1':interpolated_grid},index=tmp_index)\n",
    "    \n",
    "    ex_dfs.append(tmp_df)\n",
    "\n",
    "        \n",
    "pd.concat(ex_dfs, axis=0)"
   ]
  },
  {
   "cell_type": "code",
   "execution_count": 16,
   "id": "ac51b293",
   "metadata": {
    "scrolled": true
   },
   "outputs": [],
   "source": [
    "# # possibility, but quite slow\n",
    "# grid_z0 = griddata(points, values, (grid_x, grid_y), method='nearest')\n",
    "# grid_z1 = griddata(points, values, (grid_x, grid_y), method='linear')\n",
    "\n",
    "# fill_value = 123  # Whatever you like\n",
    "# grid_z0[np.isnan(grid_z1)] = fill_value"
   ]
  },
  {
   "cell_type": "code",
   "execution_count": 26,
   "id": "5c1c7484",
   "metadata": {},
   "outputs": [],
   "source": [
    "def griddata_(fktable, fktable_400):\n",
    "    \"\"\"\n",
    "    \"\"\"\n",
    "    \n",
    "    xgrid = fktable.xgrid\n",
    "    xgrid_new = fktable_400.xgrid\n",
    "\n",
    "    dfs=[]\n",
    "    for d, grp in fktable.sigma.groupby('data'): \n",
    "\n",
    "        x1_vals = xgrid[grp.index.get_level_values('x1')]\n",
    "        x2_vals = xgrid[grp.index.get_level_values('x2')]\n",
    "\n",
    "        new_xgrid_mesh = np.meshgrid(xgrid_new, xgrid_new)\n",
    "\n",
    "        # Flatten the grid into two separate 1D arrays\n",
    "        new_x1grid_flat = np.ravel(new_xgrid_mesh[0])\n",
    "        new_x2grid_flat = np.ravel(new_xgrid_mesh[1])\n",
    "\n",
    "#         interpolated_grids = {col: griddata(points=(x1_vals,x2_vals), values=grp[col].values,\n",
    "#                                       xi=(new_x1grid_flat,new_x2grid_flat), method='nearest')\n",
    "#                         for col in grp.columns}\n",
    "        \n",
    "        interpolated_grids = {col: griddata(points=(x1_vals,x2_vals), values=grp[col].values,\n",
    "                              xi=(new_x1grid_flat,new_x2grid_flat), method='linear', fill_value=0)\n",
    "                for col in grp.columns}\n",
    "\n",
    "        tmp_index = pd.MultiIndex.from_product([[d],range(len(xgrid_new)),range(len(xgrid_new))], names=['data','x1','x2'])\n",
    "\n",
    "        col_dict = dict()\n",
    "\n",
    "        # set to zero in extrapolation regions\n",
    "        idx_x1_m = np.where(new_x1grid_flat<np.min(x1_vals))[0]\n",
    "        idx_x1_p = np.where(new_x1grid_flat>np.max(x1_vals))[0]\n",
    "        idx_x1 = np.unique(np.concatenate((idx_x1_m, idx_x1_p)))\n",
    "        \n",
    "        idx_x2_m = np.where(new_x2grid_flat<np.min(x2_vals))[0]\n",
    "        idx_x2_p = np.where(new_x2grid_flat>np.max(x2_vals))[0]\n",
    "        idx_x2 = np.unique(np.concatenate((idx_x2_m, idx_x2_p)))\n",
    "        \n",
    "        extrapolation_region = np.unique(np.concatenate((idx_x1,idx_x2)))    \n",
    "\n",
    "        for col in grp.columns:            \n",
    "#             interpolated_grids[col][extrapolation_region]=0\n",
    "            col_dict[f\"{col}\"] = interpolated_grids[col]\n",
    "        \n",
    "        tmp_df = pd.DataFrame(col_dict,index=tmp_index)\n",
    "\n",
    "        dfs.append(tmp_df)\n",
    "\n",
    "    return pd.concat(dfs, axis=0)"
   ]
  },
  {
   "cell_type": "markdown",
   "id": "b1ea9d36",
   "metadata": {},
   "source": [
    "## Test of Hadronic Implementation"
   ]
  },
  {
   "cell_type": "code",
   "execution_count": 27,
   "id": "df23ea95",
   "metadata": {},
   "outputs": [],
   "source": [
    "ds=20\n",
    "dp=4\n",
    "\n",
    "had_200 = load_fktable(datasets[ds].fkspecs[0])\n",
    "sigma_had_200 = had_200.sigma\n",
    "# get only 1 datapoint\n",
    "sigma_had_200 = sigma_had_200[sigma_had_200.index.get_level_values('data')==dp]\n",
    "# fixed x1, sigma as func of x2\n",
    "sigma_had_200 = sigma_had_200[sigma_had_200.index.get_level_values('x1')==sigma_had_200.index.get_level_values('x1')[33]]\n",
    "\n",
    "x2grid_had_200 = had_200.xgrid[sigma_had_200.index.get_level_values('x2')]\n",
    "x1val_200 = np.unique(had_200.xgrid[sigma_had_200.index.get_level_values('x1')])\n",
    "\n",
    "sigma_had_200\n",
    "\n",
    "had_400 = load_fktable(datasets_400[ds].fkspecs[0])\n",
    "sigma_had_400 = had_400.sigma\n",
    "# get only 1 datapoint\n",
    "sigma_had_400 = sigma_had_400[sigma_had_400.index.get_level_values('data')==dp]\n",
    "# fixed x1, sigma as func of x2\n",
    "x1_idx = np.where(np.abs(had_400.xgrid - x1val_200) == np.min(np.abs(had_400.xgrid - x1val_200)) )[0][0]\n",
    "sigma_had_400 = sigma_had_400[sigma_had_400.index.get_level_values('x1')==x1_idx]\n",
    "\n",
    "x2grid_had_400 = had_400.xgrid[sigma_had_400.index.get_level_values('x2')]\n",
    "\n",
    "sigma_had_interpolated = griddata_(load_fktable(datasets[ds].fkspecs[0]), load_fktable(datasets_400[ds].fkspecs[0]))\n",
    "# get only 1 datapoint\n",
    "sigma_had_interpolated = sigma_had_interpolated[sigma_had_interpolated.index.get_level_values('data')==dp]\n",
    "# fixed x1, sigma as func of x2\n",
    "sigma_had_interpolated = sigma_had_interpolated[sigma_had_interpolated.index.get_level_values('x1')==x1_idx]\n"
   ]
  },
  {
   "cell_type": "code",
   "execution_count": 28,
   "id": "35bfbeaf",
   "metadata": {},
   "outputs": [
    {
     "data": {
      "application/vnd.plotly.v1+json": {
       "config": {
        "plotlyServerURL": "https://plot.ly"
       },
       "data": [
        {
         "mode": "lines+markers",
         "name": "Theory 200 grid",
         "type": "scatter",
         "x": [
          0.1513691864136627,
          0.1718072020185354,
          0.19351950774110482,
          0.21642316669124803,
          0.24043441342442204,
          0.26547114785744835,
          0.2914546456721418,
          0.318310629525828,
          0.34596985003778685,
          0.37436831014382704,
          0.40344724285484723,
          0.43315292784227316,
          0.46343641021473797,
          0.494253166710632,
          0.5255627504338757,
          0.5573284347365492,
          0.5895168692559658,
          0.6220977557689522,
          0.6550435478676653,
          0.6883291760310861,
          0.7219317980960877,
          0.7558305741699504,
          0.7900064644737235,
          0.8244420483287564,
          0.8591213624003013,
          0.8940297563271963
         ],
         "y": [
          0.18225168647646905,
          1.0490174342536924,
          0.26929575316071513,
          -0.08426702954292298,
          0.046448550272136936,
          0.048851375808119775,
          0.018510924029499293,
          0.01574986524615437,
          0.014746610250659287,
          0.012295299571305514,
          0.010689684822186829,
          0.009558908556997776,
          0.008626838553082198,
          0.0079042628101632,
          0.007251609638929366,
          0.006721795297656209,
          0.0062897831968031824,
          0.00590937329946086,
          0.005573545897677541,
          0.005279701333791017,
          0.005019848321266474,
          0.0047878971067070964,
          0.004581053611356765,
          0.004475081469900906,
          0.004205947879739106,
          0.00651823904676363
         ]
        },
        {
         "mode": "lines+markers",
         "name": "Theory 400 grid",
         "type": "scatter",
         "x": [
          1.9999999999999954e-07,
          3.034304765867952e-07,
          4.6035014748963906e-07,
          6.984208530700364e-07,
          1.0596094959101024e-06,
          1.607585498470808e-06,
          2.438943292891682e-06,
          3.7002272069854957e-06,
          5.613757716930151e-06,
          8.516806677573355e-06,
          1.292101569074731e-05,
          1.9602505002391748e-05,
          2.97384953722449e-05,
          4.511438394964044e-05,
          6.843744918967896e-05,
          0.00010381172986576898,
          0.00015745605600841445,
          0.00023878782918561914,
          0.00036205449638139736,
          0.0005487795323670796,
          0.0008314068836488144,
          0.0012586797144272762,
          0.0019034634022867384,
          0.0028738675812817515,
          0.004328500638820811,
          0.006496206194633799,
          0.009699159574043398,
          0.014375068581090129,
          0.02108918668378717,
          0.030521584007828916,
          0.04341491741702269,
          0.060480028754447364,
          0.08228122126204893,
          0.10914375746330703,
          0.14112080644440345,
          0.17802566042569432,
          0.2195041265003886,
          0.2651137041582823,
          0.31438740076927585,
          0.3668753186482242,
          0.4221667753589648,
          0.4798989029610255,
          0.5397572337880445,
          0.601472197967335,
          0.6648139482473823,
          0.7295868442414312,
          0.7956242522922756,
          0.8627839323906108,
          0.9309440808717544,
          1
         ],
         "y": [
          0,
          0,
          0,
          0,
          0,
          0,
          0,
          0,
          0,
          0,
          0,
          0,
          0,
          0,
          0,
          0,
          0,
          0,
          0,
          0,
          0,
          0,
          0,
          0,
          0,
          0,
          0,
          0,
          0,
          0,
          0,
          0,
          0,
          0,
          0,
          0.9371902569835221,
          0.3927603321442107,
          -0.021585278752808815,
          0.08563394258120446,
          0.05310500169542,
          0.04071666905438808,
          0.03442615839986706,
          0.03057235385061151,
          0.02475622323826615,
          0.023301616986257354,
          0.022004748686230494,
          0.02016696062248097,
          0.016476026495557166,
          0.018753082690227522,
          0.4056271597499533
         ]
        },
        {
         "mode": "lines+markers",
         "name": "2D Interpolation Th 200",
         "type": "scatter",
         "x": [
          1.9999999999999954e-07,
          3.034304765867952e-07,
          4.6035014748963906e-07,
          6.984208530700364e-07,
          1.0596094959101024e-06,
          1.607585498470808e-06,
          2.438943292891682e-06,
          3.7002272069854957e-06,
          5.613757716930151e-06,
          8.516806677573355e-06,
          1.292101569074731e-05,
          1.9602505002391748e-05,
          2.97384953722449e-05,
          4.511438394964044e-05,
          6.843744918967896e-05,
          0.00010381172986576898,
          0.00015745605600841445,
          0.00023878782918561914,
          0.00036205449638139736,
          0.0005487795323670796,
          0.0008314068836488144,
          0.0012586797144272762,
          0.0019034634022867384,
          0.0028738675812817515,
          0.004328500638820811,
          0.006496206194633799,
          0.009699159574043398,
          0.014375068581090129,
          0.02108918668378717,
          0.030521584007828916,
          0.04341491741702269,
          0.060480028754447364,
          0.08228122126204893,
          0.10914375746330703,
          0.14112080644440345,
          0.17802566042569432,
          0.2195041265003886,
          0.2651137041582823,
          0.31438740076927585,
          0.3668753186482242,
          0.4221667753589648,
          0.4798989029610255,
          0.5397572337880445,
          0.601472197967335,
          0.6648139482473823,
          0.7295868442414312,
          0.7956242522922756,
          0.8627839323906108,
          0.9309440808717544,
          1
         ],
         "y": [
          0,
          0,
          0,
          0,
          0,
          0,
          0,
          0,
          0,
          0,
          0,
          0,
          0,
          0,
          0,
          0,
          0,
          0,
          0,
          0,
          0,
          0,
          0,
          0,
          0,
          0,
          0,
          0,
          0,
          0,
          0,
          0,
          0,
          0,
          0,
          0.6023889782464709,
          -0.04885784146320546,
          0.039283006599300854,
          0.013518200988580639,
          0.010905970820639889,
          0.008230670108261298,
          0.006968275619640984,
          0.005942800648539437,
          0.0051470330585847305,
          0.004599584018059476,
          0.004168210044838479,
          0.00384374206366952,
          0.003644640554089193,
          0,
          0
         ]
        }
       ],
       "layout": {
        "template": {
         "data": {
          "bar": [
           {
            "error_x": {
             "color": "#2a3f5f"
            },
            "error_y": {
             "color": "#2a3f5f"
            },
            "marker": {
             "line": {
              "color": "#E5ECF6",
              "width": 0.5
             },
             "pattern": {
              "fillmode": "overlay",
              "size": 10,
              "solidity": 0.2
             }
            },
            "type": "bar"
           }
          ],
          "barpolar": [
           {
            "marker": {
             "line": {
              "color": "#E5ECF6",
              "width": 0.5
             },
             "pattern": {
              "fillmode": "overlay",
              "size": 10,
              "solidity": 0.2
             }
            },
            "type": "barpolar"
           }
          ],
          "carpet": [
           {
            "aaxis": {
             "endlinecolor": "#2a3f5f",
             "gridcolor": "white",
             "linecolor": "white",
             "minorgridcolor": "white",
             "startlinecolor": "#2a3f5f"
            },
            "baxis": {
             "endlinecolor": "#2a3f5f",
             "gridcolor": "white",
             "linecolor": "white",
             "minorgridcolor": "white",
             "startlinecolor": "#2a3f5f"
            },
            "type": "carpet"
           }
          ],
          "choropleth": [
           {
            "colorbar": {
             "outlinewidth": 0,
             "ticks": ""
            },
            "type": "choropleth"
           }
          ],
          "contour": [
           {
            "colorbar": {
             "outlinewidth": 0,
             "ticks": ""
            },
            "colorscale": [
             [
              0,
              "#0d0887"
             ],
             [
              0.1111111111111111,
              "#46039f"
             ],
             [
              0.2222222222222222,
              "#7201a8"
             ],
             [
              0.3333333333333333,
              "#9c179e"
             ],
             [
              0.4444444444444444,
              "#bd3786"
             ],
             [
              0.5555555555555556,
              "#d8576b"
             ],
             [
              0.6666666666666666,
              "#ed7953"
             ],
             [
              0.7777777777777778,
              "#fb9f3a"
             ],
             [
              0.8888888888888888,
              "#fdca26"
             ],
             [
              1,
              "#f0f921"
             ]
            ],
            "type": "contour"
           }
          ],
          "contourcarpet": [
           {
            "colorbar": {
             "outlinewidth": 0,
             "ticks": ""
            },
            "type": "contourcarpet"
           }
          ],
          "heatmap": [
           {
            "colorbar": {
             "outlinewidth": 0,
             "ticks": ""
            },
            "colorscale": [
             [
              0,
              "#0d0887"
             ],
             [
              0.1111111111111111,
              "#46039f"
             ],
             [
              0.2222222222222222,
              "#7201a8"
             ],
             [
              0.3333333333333333,
              "#9c179e"
             ],
             [
              0.4444444444444444,
              "#bd3786"
             ],
             [
              0.5555555555555556,
              "#d8576b"
             ],
             [
              0.6666666666666666,
              "#ed7953"
             ],
             [
              0.7777777777777778,
              "#fb9f3a"
             ],
             [
              0.8888888888888888,
              "#fdca26"
             ],
             [
              1,
              "#f0f921"
             ]
            ],
            "type": "heatmap"
           }
          ],
          "heatmapgl": [
           {
            "colorbar": {
             "outlinewidth": 0,
             "ticks": ""
            },
            "colorscale": [
             [
              0,
              "#0d0887"
             ],
             [
              0.1111111111111111,
              "#46039f"
             ],
             [
              0.2222222222222222,
              "#7201a8"
             ],
             [
              0.3333333333333333,
              "#9c179e"
             ],
             [
              0.4444444444444444,
              "#bd3786"
             ],
             [
              0.5555555555555556,
              "#d8576b"
             ],
             [
              0.6666666666666666,
              "#ed7953"
             ],
             [
              0.7777777777777778,
              "#fb9f3a"
             ],
             [
              0.8888888888888888,
              "#fdca26"
             ],
             [
              1,
              "#f0f921"
             ]
            ],
            "type": "heatmapgl"
           }
          ],
          "histogram": [
           {
            "marker": {
             "pattern": {
              "fillmode": "overlay",
              "size": 10,
              "solidity": 0.2
             }
            },
            "type": "histogram"
           }
          ],
          "histogram2d": [
           {
            "colorbar": {
             "outlinewidth": 0,
             "ticks": ""
            },
            "colorscale": [
             [
              0,
              "#0d0887"
             ],
             [
              0.1111111111111111,
              "#46039f"
             ],
             [
              0.2222222222222222,
              "#7201a8"
             ],
             [
              0.3333333333333333,
              "#9c179e"
             ],
             [
              0.4444444444444444,
              "#bd3786"
             ],
             [
              0.5555555555555556,
              "#d8576b"
             ],
             [
              0.6666666666666666,
              "#ed7953"
             ],
             [
              0.7777777777777778,
              "#fb9f3a"
             ],
             [
              0.8888888888888888,
              "#fdca26"
             ],
             [
              1,
              "#f0f921"
             ]
            ],
            "type": "histogram2d"
           }
          ],
          "histogram2dcontour": [
           {
            "colorbar": {
             "outlinewidth": 0,
             "ticks": ""
            },
            "colorscale": [
             [
              0,
              "#0d0887"
             ],
             [
              0.1111111111111111,
              "#46039f"
             ],
             [
              0.2222222222222222,
              "#7201a8"
             ],
             [
              0.3333333333333333,
              "#9c179e"
             ],
             [
              0.4444444444444444,
              "#bd3786"
             ],
             [
              0.5555555555555556,
              "#d8576b"
             ],
             [
              0.6666666666666666,
              "#ed7953"
             ],
             [
              0.7777777777777778,
              "#fb9f3a"
             ],
             [
              0.8888888888888888,
              "#fdca26"
             ],
             [
              1,
              "#f0f921"
             ]
            ],
            "type": "histogram2dcontour"
           }
          ],
          "mesh3d": [
           {
            "colorbar": {
             "outlinewidth": 0,
             "ticks": ""
            },
            "type": "mesh3d"
           }
          ],
          "parcoords": [
           {
            "line": {
             "colorbar": {
              "outlinewidth": 0,
              "ticks": ""
             }
            },
            "type": "parcoords"
           }
          ],
          "pie": [
           {
            "automargin": true,
            "type": "pie"
           }
          ],
          "scatter": [
           {
            "fillpattern": {
             "fillmode": "overlay",
             "size": 10,
             "solidity": 0.2
            },
            "type": "scatter"
           }
          ],
          "scatter3d": [
           {
            "line": {
             "colorbar": {
              "outlinewidth": 0,
              "ticks": ""
             }
            },
            "marker": {
             "colorbar": {
              "outlinewidth": 0,
              "ticks": ""
             }
            },
            "type": "scatter3d"
           }
          ],
          "scattercarpet": [
           {
            "marker": {
             "colorbar": {
              "outlinewidth": 0,
              "ticks": ""
             }
            },
            "type": "scattercarpet"
           }
          ],
          "scattergeo": [
           {
            "marker": {
             "colorbar": {
              "outlinewidth": 0,
              "ticks": ""
             }
            },
            "type": "scattergeo"
           }
          ],
          "scattergl": [
           {
            "marker": {
             "colorbar": {
              "outlinewidth": 0,
              "ticks": ""
             }
            },
            "type": "scattergl"
           }
          ],
          "scattermapbox": [
           {
            "marker": {
             "colorbar": {
              "outlinewidth": 0,
              "ticks": ""
             }
            },
            "type": "scattermapbox"
           }
          ],
          "scatterpolar": [
           {
            "marker": {
             "colorbar": {
              "outlinewidth": 0,
              "ticks": ""
             }
            },
            "type": "scatterpolar"
           }
          ],
          "scatterpolargl": [
           {
            "marker": {
             "colorbar": {
              "outlinewidth": 0,
              "ticks": ""
             }
            },
            "type": "scatterpolargl"
           }
          ],
          "scatterternary": [
           {
            "marker": {
             "colorbar": {
              "outlinewidth": 0,
              "ticks": ""
             }
            },
            "type": "scatterternary"
           }
          ],
          "surface": [
           {
            "colorbar": {
             "outlinewidth": 0,
             "ticks": ""
            },
            "colorscale": [
             [
              0,
              "#0d0887"
             ],
             [
              0.1111111111111111,
              "#46039f"
             ],
             [
              0.2222222222222222,
              "#7201a8"
             ],
             [
              0.3333333333333333,
              "#9c179e"
             ],
             [
              0.4444444444444444,
              "#bd3786"
             ],
             [
              0.5555555555555556,
              "#d8576b"
             ],
             [
              0.6666666666666666,
              "#ed7953"
             ],
             [
              0.7777777777777778,
              "#fb9f3a"
             ],
             [
              0.8888888888888888,
              "#fdca26"
             ],
             [
              1,
              "#f0f921"
             ]
            ],
            "type": "surface"
           }
          ],
          "table": [
           {
            "cells": {
             "fill": {
              "color": "#EBF0F8"
             },
             "line": {
              "color": "white"
             }
            },
            "header": {
             "fill": {
              "color": "#C8D4E3"
             },
             "line": {
              "color": "white"
             }
            },
            "type": "table"
           }
          ]
         },
         "layout": {
          "annotationdefaults": {
           "arrowcolor": "#2a3f5f",
           "arrowhead": 0,
           "arrowwidth": 1
          },
          "autotypenumbers": "strict",
          "coloraxis": {
           "colorbar": {
            "outlinewidth": 0,
            "ticks": ""
           }
          },
          "colorscale": {
           "diverging": [
            [
             0,
             "#8e0152"
            ],
            [
             0.1,
             "#c51b7d"
            ],
            [
             0.2,
             "#de77ae"
            ],
            [
             0.3,
             "#f1b6da"
            ],
            [
             0.4,
             "#fde0ef"
            ],
            [
             0.5,
             "#f7f7f7"
            ],
            [
             0.6,
             "#e6f5d0"
            ],
            [
             0.7,
             "#b8e186"
            ],
            [
             0.8,
             "#7fbc41"
            ],
            [
             0.9,
             "#4d9221"
            ],
            [
             1,
             "#276419"
            ]
           ],
           "sequential": [
            [
             0,
             "#0d0887"
            ],
            [
             0.1111111111111111,
             "#46039f"
            ],
            [
             0.2222222222222222,
             "#7201a8"
            ],
            [
             0.3333333333333333,
             "#9c179e"
            ],
            [
             0.4444444444444444,
             "#bd3786"
            ],
            [
             0.5555555555555556,
             "#d8576b"
            ],
            [
             0.6666666666666666,
             "#ed7953"
            ],
            [
             0.7777777777777778,
             "#fb9f3a"
            ],
            [
             0.8888888888888888,
             "#fdca26"
            ],
            [
             1,
             "#f0f921"
            ]
           ],
           "sequentialminus": [
            [
             0,
             "#0d0887"
            ],
            [
             0.1111111111111111,
             "#46039f"
            ],
            [
             0.2222222222222222,
             "#7201a8"
            ],
            [
             0.3333333333333333,
             "#9c179e"
            ],
            [
             0.4444444444444444,
             "#bd3786"
            ],
            [
             0.5555555555555556,
             "#d8576b"
            ],
            [
             0.6666666666666666,
             "#ed7953"
            ],
            [
             0.7777777777777778,
             "#fb9f3a"
            ],
            [
             0.8888888888888888,
             "#fdca26"
            ],
            [
             1,
             "#f0f921"
            ]
           ]
          },
          "colorway": [
           "#636efa",
           "#EF553B",
           "#00cc96",
           "#ab63fa",
           "#FFA15A",
           "#19d3f3",
           "#FF6692",
           "#B6E880",
           "#FF97FF",
           "#FECB52"
          ],
          "font": {
           "color": "#2a3f5f"
          },
          "geo": {
           "bgcolor": "white",
           "lakecolor": "white",
           "landcolor": "#E5ECF6",
           "showlakes": true,
           "showland": true,
           "subunitcolor": "white"
          },
          "hoverlabel": {
           "align": "left"
          },
          "hovermode": "closest",
          "mapbox": {
           "style": "light"
          },
          "paper_bgcolor": "white",
          "plot_bgcolor": "#E5ECF6",
          "polar": {
           "angularaxis": {
            "gridcolor": "white",
            "linecolor": "white",
            "ticks": ""
           },
           "bgcolor": "#E5ECF6",
           "radialaxis": {
            "gridcolor": "white",
            "linecolor": "white",
            "ticks": ""
           }
          },
          "scene": {
           "xaxis": {
            "backgroundcolor": "#E5ECF6",
            "gridcolor": "white",
            "gridwidth": 2,
            "linecolor": "white",
            "showbackground": true,
            "ticks": "",
            "zerolinecolor": "white"
           },
           "yaxis": {
            "backgroundcolor": "#E5ECF6",
            "gridcolor": "white",
            "gridwidth": 2,
            "linecolor": "white",
            "showbackground": true,
            "ticks": "",
            "zerolinecolor": "white"
           },
           "zaxis": {
            "backgroundcolor": "#E5ECF6",
            "gridcolor": "white",
            "gridwidth": 2,
            "linecolor": "white",
            "showbackground": true,
            "ticks": "",
            "zerolinecolor": "white"
           }
          },
          "shapedefaults": {
           "line": {
            "color": "#2a3f5f"
           }
          },
          "ternary": {
           "aaxis": {
            "gridcolor": "white",
            "linecolor": "white",
            "ticks": ""
           },
           "baxis": {
            "gridcolor": "white",
            "linecolor": "white",
            "ticks": ""
           },
           "bgcolor": "#E5ECF6",
           "caxis": {
            "gridcolor": "white",
            "linecolor": "white",
            "ticks": ""
           }
          },
          "title": {
           "x": 0.05
          },
          "xaxis": {
           "automargin": true,
           "gridcolor": "white",
           "linecolor": "white",
           "ticks": "",
           "title": {
            "standoff": 15
           },
           "zerolinecolor": "white",
           "zerolinewidth": 2
          },
          "yaxis": {
           "automargin": true,
           "gridcolor": "white",
           "linecolor": "white",
           "ticks": "",
           "title": {
            "standoff": 15
           },
           "zerolinecolor": "white",
           "zerolinewidth": 2
          }
         }
        }
       }
      },
      "text/html": [
       "<div>                            <div id=\"e11d77f2-22ca-4560-b38a-33bde05e6f9b\" class=\"plotly-graph-div\" style=\"height:525px; width:100%;\"></div>            <script type=\"text/javascript\">                require([\"plotly\"], function(Plotly) {                    window.PLOTLYENV=window.PLOTLYENV || {};                                    if (document.getElementById(\"e11d77f2-22ca-4560-b38a-33bde05e6f9b\")) {                    Plotly.newPlot(                        \"e11d77f2-22ca-4560-b38a-33bde05e6f9b\",                        [{\"mode\":\"lines+markers\",\"name\":\"Theory 200 grid\",\"x\":[0.1513691864136627,0.1718072020185354,0.19351950774110482,0.21642316669124803,0.24043441342442204,0.26547114785744835,0.2914546456721418,0.318310629525828,0.34596985003778685,0.37436831014382704,0.40344724285484723,0.43315292784227316,0.46343641021473797,0.494253166710632,0.5255627504338757,0.5573284347365492,0.5895168692559658,0.6220977557689522,0.6550435478676653,0.6883291760310861,0.7219317980960877,0.7558305741699504,0.7900064644737235,0.8244420483287564,0.8591213624003013,0.8940297563271963],\"y\":[0.18225168647646905,1.0490174342536924,0.26929575316071513,-0.08426702954292298,0.046448550272136936,0.048851375808119775,0.018510924029499293,0.01574986524615437,0.014746610250659287,0.012295299571305514,0.010689684822186829,0.009558908556997776,0.008626838553082198,0.0079042628101632,0.007251609638929366,0.006721795297656209,0.0062897831968031824,0.00590937329946086,0.005573545897677541,0.005279701333791017,0.005019848321266474,0.0047878971067070964,0.004581053611356765,0.004475081469900906,0.004205947879739106,0.00651823904676363],\"type\":\"scatter\"},{\"mode\":\"lines+markers\",\"name\":\"Theory 400 grid\",\"x\":[1.9999999999999954e-07,3.034304765867952e-07,4.6035014748963906e-07,6.984208530700364e-07,1.0596094959101024e-06,1.607585498470808e-06,2.438943292891682e-06,3.7002272069854957e-06,5.613757716930151e-06,8.516806677573355e-06,1.292101569074731e-05,1.9602505002391748e-05,2.97384953722449e-05,4.511438394964044e-05,6.843744918967896e-05,0.00010381172986576898,0.00015745605600841445,0.00023878782918561914,0.00036205449638139736,0.0005487795323670796,0.0008314068836488144,0.0012586797144272762,0.0019034634022867384,0.0028738675812817515,0.004328500638820811,0.006496206194633799,0.009699159574043398,0.014375068581090129,0.02108918668378717,0.030521584007828916,0.04341491741702269,0.060480028754447364,0.08228122126204893,0.10914375746330703,0.14112080644440345,0.17802566042569432,0.2195041265003886,0.2651137041582823,0.31438740076927585,0.3668753186482242,0.4221667753589648,0.4798989029610255,0.5397572337880445,0.601472197967335,0.6648139482473823,0.7295868442414312,0.7956242522922756,0.8627839323906108,0.9309440808717544,1.0],\"y\":[0.0,0.0,0.0,0.0,0.0,0.0,0.0,0.0,0.0,0.0,0.0,0.0,0.0,0.0,0.0,0.0,0.0,0.0,0.0,0.0,0.0,0.0,0.0,0.0,0.0,0.0,0.0,0.0,0.0,0.0,0.0,0.0,0.0,0.0,0.0,0.9371902569835221,0.3927603321442107,-0.021585278752808815,0.08563394258120446,0.05310500169542,0.04071666905438808,0.03442615839986706,0.03057235385061151,0.02475622323826615,0.023301616986257354,0.022004748686230494,0.02016696062248097,0.016476026495557166,0.018753082690227522,0.4056271597499533],\"type\":\"scatter\"},{\"mode\":\"lines+markers\",\"name\":\"2D Interpolation Th 200\",\"x\":[1.9999999999999954e-07,3.034304765867952e-07,4.6035014748963906e-07,6.984208530700364e-07,1.0596094959101024e-06,1.607585498470808e-06,2.438943292891682e-06,3.7002272069854957e-06,5.613757716930151e-06,8.516806677573355e-06,1.292101569074731e-05,1.9602505002391748e-05,2.97384953722449e-05,4.511438394964044e-05,6.843744918967896e-05,0.00010381172986576898,0.00015745605600841445,0.00023878782918561914,0.00036205449638139736,0.0005487795323670796,0.0008314068836488144,0.0012586797144272762,0.0019034634022867384,0.0028738675812817515,0.004328500638820811,0.006496206194633799,0.009699159574043398,0.014375068581090129,0.02108918668378717,0.030521584007828916,0.04341491741702269,0.060480028754447364,0.08228122126204893,0.10914375746330703,0.14112080644440345,0.17802566042569432,0.2195041265003886,0.2651137041582823,0.31438740076927585,0.3668753186482242,0.4221667753589648,0.4798989029610255,0.5397572337880445,0.601472197967335,0.6648139482473823,0.7295868442414312,0.7956242522922756,0.8627839323906108,0.9309440808717544,1.0],\"y\":[0.0,0.0,0.0,0.0,0.0,0.0,0.0,0.0,0.0,0.0,0.0,0.0,0.0,0.0,0.0,0.0,0.0,0.0,0.0,0.0,0.0,0.0,0.0,0.0,0.0,0.0,0.0,0.0,0.0,0.0,0.0,0.0,0.0,0.0,0.0,0.6023889782464709,-0.04885784146320546,0.039283006599300854,0.013518200988580639,0.010905970820639889,0.008230670108261298,0.006968275619640984,0.005942800648539437,0.0051470330585847305,0.004599584018059476,0.004168210044838479,0.00384374206366952,0.003644640554089193,0.0,0.0],\"type\":\"scatter\"}],                        {\"template\":{\"data\":{\"histogram2dcontour\":[{\"type\":\"histogram2dcontour\",\"colorbar\":{\"outlinewidth\":0,\"ticks\":\"\"},\"colorscale\":[[0.0,\"#0d0887\"],[0.1111111111111111,\"#46039f\"],[0.2222222222222222,\"#7201a8\"],[0.3333333333333333,\"#9c179e\"],[0.4444444444444444,\"#bd3786\"],[0.5555555555555556,\"#d8576b\"],[0.6666666666666666,\"#ed7953\"],[0.7777777777777778,\"#fb9f3a\"],[0.8888888888888888,\"#fdca26\"],[1.0,\"#f0f921\"]]}],\"choropleth\":[{\"type\":\"choropleth\",\"colorbar\":{\"outlinewidth\":0,\"ticks\":\"\"}}],\"histogram2d\":[{\"type\":\"histogram2d\",\"colorbar\":{\"outlinewidth\":0,\"ticks\":\"\"},\"colorscale\":[[0.0,\"#0d0887\"],[0.1111111111111111,\"#46039f\"],[0.2222222222222222,\"#7201a8\"],[0.3333333333333333,\"#9c179e\"],[0.4444444444444444,\"#bd3786\"],[0.5555555555555556,\"#d8576b\"],[0.6666666666666666,\"#ed7953\"],[0.7777777777777778,\"#fb9f3a\"],[0.8888888888888888,\"#fdca26\"],[1.0,\"#f0f921\"]]}],\"heatmap\":[{\"type\":\"heatmap\",\"colorbar\":{\"outlinewidth\":0,\"ticks\":\"\"},\"colorscale\":[[0.0,\"#0d0887\"],[0.1111111111111111,\"#46039f\"],[0.2222222222222222,\"#7201a8\"],[0.3333333333333333,\"#9c179e\"],[0.4444444444444444,\"#bd3786\"],[0.5555555555555556,\"#d8576b\"],[0.6666666666666666,\"#ed7953\"],[0.7777777777777778,\"#fb9f3a\"],[0.8888888888888888,\"#fdca26\"],[1.0,\"#f0f921\"]]}],\"heatmapgl\":[{\"type\":\"heatmapgl\",\"colorbar\":{\"outlinewidth\":0,\"ticks\":\"\"},\"colorscale\":[[0.0,\"#0d0887\"],[0.1111111111111111,\"#46039f\"],[0.2222222222222222,\"#7201a8\"],[0.3333333333333333,\"#9c179e\"],[0.4444444444444444,\"#bd3786\"],[0.5555555555555556,\"#d8576b\"],[0.6666666666666666,\"#ed7953\"],[0.7777777777777778,\"#fb9f3a\"],[0.8888888888888888,\"#fdca26\"],[1.0,\"#f0f921\"]]}],\"contourcarpet\":[{\"type\":\"contourcarpet\",\"colorbar\":{\"outlinewidth\":0,\"ticks\":\"\"}}],\"contour\":[{\"type\":\"contour\",\"colorbar\":{\"outlinewidth\":0,\"ticks\":\"\"},\"colorscale\":[[0.0,\"#0d0887\"],[0.1111111111111111,\"#46039f\"],[0.2222222222222222,\"#7201a8\"],[0.3333333333333333,\"#9c179e\"],[0.4444444444444444,\"#bd3786\"],[0.5555555555555556,\"#d8576b\"],[0.6666666666666666,\"#ed7953\"],[0.7777777777777778,\"#fb9f3a\"],[0.8888888888888888,\"#fdca26\"],[1.0,\"#f0f921\"]]}],\"surface\":[{\"type\":\"surface\",\"colorbar\":{\"outlinewidth\":0,\"ticks\":\"\"},\"colorscale\":[[0.0,\"#0d0887\"],[0.1111111111111111,\"#46039f\"],[0.2222222222222222,\"#7201a8\"],[0.3333333333333333,\"#9c179e\"],[0.4444444444444444,\"#bd3786\"],[0.5555555555555556,\"#d8576b\"],[0.6666666666666666,\"#ed7953\"],[0.7777777777777778,\"#fb9f3a\"],[0.8888888888888888,\"#fdca26\"],[1.0,\"#f0f921\"]]}],\"mesh3d\":[{\"type\":\"mesh3d\",\"colorbar\":{\"outlinewidth\":0,\"ticks\":\"\"}}],\"scatter\":[{\"fillpattern\":{\"fillmode\":\"overlay\",\"size\":10,\"solidity\":0.2},\"type\":\"scatter\"}],\"parcoords\":[{\"type\":\"parcoords\",\"line\":{\"colorbar\":{\"outlinewidth\":0,\"ticks\":\"\"}}}],\"scatterpolargl\":[{\"type\":\"scatterpolargl\",\"marker\":{\"colorbar\":{\"outlinewidth\":0,\"ticks\":\"\"}}}],\"bar\":[{\"error_x\":{\"color\":\"#2a3f5f\"},\"error_y\":{\"color\":\"#2a3f5f\"},\"marker\":{\"line\":{\"color\":\"#E5ECF6\",\"width\":0.5},\"pattern\":{\"fillmode\":\"overlay\",\"size\":10,\"solidity\":0.2}},\"type\":\"bar\"}],\"scattergeo\":[{\"type\":\"scattergeo\",\"marker\":{\"colorbar\":{\"outlinewidth\":0,\"ticks\":\"\"}}}],\"scatterpolar\":[{\"type\":\"scatterpolar\",\"marker\":{\"colorbar\":{\"outlinewidth\":0,\"ticks\":\"\"}}}],\"histogram\":[{\"marker\":{\"pattern\":{\"fillmode\":\"overlay\",\"size\":10,\"solidity\":0.2}},\"type\":\"histogram\"}],\"scattergl\":[{\"type\":\"scattergl\",\"marker\":{\"colorbar\":{\"outlinewidth\":0,\"ticks\":\"\"}}}],\"scatter3d\":[{\"type\":\"scatter3d\",\"line\":{\"colorbar\":{\"outlinewidth\":0,\"ticks\":\"\"}},\"marker\":{\"colorbar\":{\"outlinewidth\":0,\"ticks\":\"\"}}}],\"scattermapbox\":[{\"type\":\"scattermapbox\",\"marker\":{\"colorbar\":{\"outlinewidth\":0,\"ticks\":\"\"}}}],\"scatterternary\":[{\"type\":\"scatterternary\",\"marker\":{\"colorbar\":{\"outlinewidth\":0,\"ticks\":\"\"}}}],\"scattercarpet\":[{\"type\":\"scattercarpet\",\"marker\":{\"colorbar\":{\"outlinewidth\":0,\"ticks\":\"\"}}}],\"carpet\":[{\"aaxis\":{\"endlinecolor\":\"#2a3f5f\",\"gridcolor\":\"white\",\"linecolor\":\"white\",\"minorgridcolor\":\"white\",\"startlinecolor\":\"#2a3f5f\"},\"baxis\":{\"endlinecolor\":\"#2a3f5f\",\"gridcolor\":\"white\",\"linecolor\":\"white\",\"minorgridcolor\":\"white\",\"startlinecolor\":\"#2a3f5f\"},\"type\":\"carpet\"}],\"table\":[{\"cells\":{\"fill\":{\"color\":\"#EBF0F8\"},\"line\":{\"color\":\"white\"}},\"header\":{\"fill\":{\"color\":\"#C8D4E3\"},\"line\":{\"color\":\"white\"}},\"type\":\"table\"}],\"barpolar\":[{\"marker\":{\"line\":{\"color\":\"#E5ECF6\",\"width\":0.5},\"pattern\":{\"fillmode\":\"overlay\",\"size\":10,\"solidity\":0.2}},\"type\":\"barpolar\"}],\"pie\":[{\"automargin\":true,\"type\":\"pie\"}]},\"layout\":{\"autotypenumbers\":\"strict\",\"colorway\":[\"#636efa\",\"#EF553B\",\"#00cc96\",\"#ab63fa\",\"#FFA15A\",\"#19d3f3\",\"#FF6692\",\"#B6E880\",\"#FF97FF\",\"#FECB52\"],\"font\":{\"color\":\"#2a3f5f\"},\"hovermode\":\"closest\",\"hoverlabel\":{\"align\":\"left\"},\"paper_bgcolor\":\"white\",\"plot_bgcolor\":\"#E5ECF6\",\"polar\":{\"bgcolor\":\"#E5ECF6\",\"angularaxis\":{\"gridcolor\":\"white\",\"linecolor\":\"white\",\"ticks\":\"\"},\"radialaxis\":{\"gridcolor\":\"white\",\"linecolor\":\"white\",\"ticks\":\"\"}},\"ternary\":{\"bgcolor\":\"#E5ECF6\",\"aaxis\":{\"gridcolor\":\"white\",\"linecolor\":\"white\",\"ticks\":\"\"},\"baxis\":{\"gridcolor\":\"white\",\"linecolor\":\"white\",\"ticks\":\"\"},\"caxis\":{\"gridcolor\":\"white\",\"linecolor\":\"white\",\"ticks\":\"\"}},\"coloraxis\":{\"colorbar\":{\"outlinewidth\":0,\"ticks\":\"\"}},\"colorscale\":{\"sequential\":[[0.0,\"#0d0887\"],[0.1111111111111111,\"#46039f\"],[0.2222222222222222,\"#7201a8\"],[0.3333333333333333,\"#9c179e\"],[0.4444444444444444,\"#bd3786\"],[0.5555555555555556,\"#d8576b\"],[0.6666666666666666,\"#ed7953\"],[0.7777777777777778,\"#fb9f3a\"],[0.8888888888888888,\"#fdca26\"],[1.0,\"#f0f921\"]],\"sequentialminus\":[[0.0,\"#0d0887\"],[0.1111111111111111,\"#46039f\"],[0.2222222222222222,\"#7201a8\"],[0.3333333333333333,\"#9c179e\"],[0.4444444444444444,\"#bd3786\"],[0.5555555555555556,\"#d8576b\"],[0.6666666666666666,\"#ed7953\"],[0.7777777777777778,\"#fb9f3a\"],[0.8888888888888888,\"#fdca26\"],[1.0,\"#f0f921\"]],\"diverging\":[[0,\"#8e0152\"],[0.1,\"#c51b7d\"],[0.2,\"#de77ae\"],[0.3,\"#f1b6da\"],[0.4,\"#fde0ef\"],[0.5,\"#f7f7f7\"],[0.6,\"#e6f5d0\"],[0.7,\"#b8e186\"],[0.8,\"#7fbc41\"],[0.9,\"#4d9221\"],[1,\"#276419\"]]},\"xaxis\":{\"gridcolor\":\"white\",\"linecolor\":\"white\",\"ticks\":\"\",\"title\":{\"standoff\":15},\"zerolinecolor\":\"white\",\"automargin\":true,\"zerolinewidth\":2},\"yaxis\":{\"gridcolor\":\"white\",\"linecolor\":\"white\",\"ticks\":\"\",\"title\":{\"standoff\":15},\"zerolinecolor\":\"white\",\"automargin\":true,\"zerolinewidth\":2},\"scene\":{\"xaxis\":{\"backgroundcolor\":\"#E5ECF6\",\"gridcolor\":\"white\",\"linecolor\":\"white\",\"showbackground\":true,\"ticks\":\"\",\"zerolinecolor\":\"white\",\"gridwidth\":2},\"yaxis\":{\"backgroundcolor\":\"#E5ECF6\",\"gridcolor\":\"white\",\"linecolor\":\"white\",\"showbackground\":true,\"ticks\":\"\",\"zerolinecolor\":\"white\",\"gridwidth\":2},\"zaxis\":{\"backgroundcolor\":\"#E5ECF6\",\"gridcolor\":\"white\",\"linecolor\":\"white\",\"showbackground\":true,\"ticks\":\"\",\"zerolinecolor\":\"white\",\"gridwidth\":2}},\"shapedefaults\":{\"line\":{\"color\":\"#2a3f5f\"}},\"annotationdefaults\":{\"arrowcolor\":\"#2a3f5f\",\"arrowhead\":0,\"arrowwidth\":1},\"geo\":{\"bgcolor\":\"white\",\"landcolor\":\"#E5ECF6\",\"subunitcolor\":\"white\",\"showland\":true,\"showlakes\":true,\"lakecolor\":\"white\"},\"title\":{\"x\":0.05},\"mapbox\":{\"style\":\"light\"}}}},                        {\"responsive\": true}                    ).then(function(){\n",
       "                            \n",
       "var gd = document.getElementById('e11d77f2-22ca-4560-b38a-33bde05e6f9b');\n",
       "var x = new MutationObserver(function (mutations, observer) {{\n",
       "        var display = window.getComputedStyle(gd).display;\n",
       "        if (!display || display === 'none') {{\n",
       "            console.log([gd, 'removed!']);\n",
       "            Plotly.purge(gd);\n",
       "            observer.disconnect();\n",
       "        }}\n",
       "}});\n",
       "\n",
       "// Listen for the removal of the full notebook cells\n",
       "var notebookContainer = gd.closest('#notebook-container');\n",
       "if (notebookContainer) {{\n",
       "    x.observe(notebookContainer, {childList: true});\n",
       "}}\n",
       "\n",
       "// Listen for the clearing of the current output cell\n",
       "var outputEl = gd.closest('.output');\n",
       "if (outputEl) {{\n",
       "    x.observe(outputEl, {childList: true});\n",
       "}}\n",
       "\n",
       "                        })                };                });            </script>        </div>"
      ]
     },
     "metadata": {},
     "output_type": "display_data"
    }
   ],
   "source": [
    "fig = go.Figure()\n",
    "col=15\n",
    "# Add traces\n",
    "fig.add_trace(go.Scatter(x=x2grid_had_200, y=sigma_had_200[col],\n",
    "                    mode='lines+markers',\n",
    "                    name='Theory 200 grid'))\n",
    "\n",
    "\n",
    "fig.add_trace(go.Scatter(x=x2grid_had_400, y=sigma_had_400[col],\n",
    "                    mode='lines+markers',\n",
    "                    name='Theory 400 grid'))\n",
    "\n",
    "fig.add_trace(go.Scatter(x=x2grid_had_400,\n",
    "                         y=sigma_had_interpolated[f'{col}'],\n",
    "                    mode='lines+markers',\n",
    "                    name='2D Interpolation Th 200'))\n",
    "\n",
    "\n",
    "\n",
    "fig.show()"
   ]
  },
  {
   "cell_type": "code",
   "execution_count": 72,
   "id": "a7e2b7d0",
   "metadata": {},
   "outputs": [
    {
     "data": {
      "text/html": [
       "<div>\n",
       "<style scoped>\n",
       "    .dataframe tbody tr th:only-of-type {\n",
       "        vertical-align: middle;\n",
       "    }\n",
       "\n",
       "    .dataframe tbody tr th {\n",
       "        vertical-align: top;\n",
       "    }\n",
       "\n",
       "    .dataframe thead th {\n",
       "        text-align: right;\n",
       "    }\n",
       "</style>\n",
       "<table border=\"1\" class=\"dataframe\">\n",
       "  <thead>\n",
       "    <tr style=\"text-align: right;\">\n",
       "      <th></th>\n",
       "      <th></th>\n",
       "      <th></th>\n",
       "      <th>15</th>\n",
       "      <th>16</th>\n",
       "      <th>17</th>\n",
       "      <th>19</th>\n",
       "      <th>20</th>\n",
       "      <th>24</th>\n",
       "      <th>25</th>\n",
       "      <th>29</th>\n",
       "      <th>30</th>\n",
       "      <th>31</th>\n",
       "      <th>...</th>\n",
       "      <th>146</th>\n",
       "      <th>150</th>\n",
       "      <th>151</th>\n",
       "      <th>155</th>\n",
       "      <th>156</th>\n",
       "      <th>157</th>\n",
       "      <th>159</th>\n",
       "      <th>160</th>\n",
       "      <th>164</th>\n",
       "      <th>165</th>\n",
       "    </tr>\n",
       "    <tr>\n",
       "      <th>data</th>\n",
       "      <th>x1</th>\n",
       "      <th>x2</th>\n",
       "      <th></th>\n",
       "      <th></th>\n",
       "      <th></th>\n",
       "      <th></th>\n",
       "      <th></th>\n",
       "      <th></th>\n",
       "      <th></th>\n",
       "      <th></th>\n",
       "      <th></th>\n",
       "      <th></th>\n",
       "      <th></th>\n",
       "      <th></th>\n",
       "      <th></th>\n",
       "      <th></th>\n",
       "      <th></th>\n",
       "      <th></th>\n",
       "      <th></th>\n",
       "      <th></th>\n",
       "      <th></th>\n",
       "      <th></th>\n",
       "      <th></th>\n",
       "    </tr>\n",
       "  </thead>\n",
       "  <tbody>\n",
       "    <tr>\n",
       "      <th rowspan=\"35\" valign=\"top\">5</th>\n",
       "      <th rowspan=\"35\" valign=\"top\">3</th>\n",
       "      <th>5</th>\n",
       "      <td>0.000031</td>\n",
       "      <td>-3.571636e-08</td>\n",
       "      <td>-2.347446e-22</td>\n",
       "      <td>-2.464362e-22</td>\n",
       "      <td>0.000000e+00</td>\n",
       "      <td>6.229416e-06</td>\n",
       "      <td>-6.229416e-06</td>\n",
       "      <td>-6.060400e-08</td>\n",
       "      <td>6.522245e-11</td>\n",
       "      <td>-1.626196e-24</td>\n",
       "      <td>...</td>\n",
       "      <td>-5.856424e-24</td>\n",
       "      <td>1.245883e-05</td>\n",
       "      <td>2.076471e-06</td>\n",
       "      <td>-6.229456e-06</td>\n",
       "      <td>7.143258e-09</td>\n",
       "      <td>0.000000e+00</td>\n",
       "      <td>-5.856424e-24</td>\n",
       "      <td>0.000000e+00</td>\n",
       "      <td>2.076471e-06</td>\n",
       "      <td>1.453529e-05</td>\n",
       "    </tr>\n",
       "    <tr>\n",
       "      <th>6</th>\n",
       "      <td>0.000471</td>\n",
       "      <td>-9.049938e-07</td>\n",
       "      <td>-7.402461e-21</td>\n",
       "      <td>-3.793357e-21</td>\n",
       "      <td>-4.042137e-26</td>\n",
       "      <td>9.410777e-05</td>\n",
       "      <td>-9.410776e-05</td>\n",
       "      <td>-9.666424e-07</td>\n",
       "      <td>1.342987e-09</td>\n",
       "      <td>9.005689e-24</td>\n",
       "      <td>...</td>\n",
       "      <td>1.002761e-21</td>\n",
       "      <td>1.882156e-04</td>\n",
       "      <td>3.136927e-05</td>\n",
       "      <td>-9.410807e-05</td>\n",
       "      <td>1.809979e-07</td>\n",
       "      <td>0.000000e+00</td>\n",
       "      <td>1.002761e-21</td>\n",
       "      <td>7.885926e-21</td>\n",
       "      <td>3.136927e-05</td>\n",
       "      <td>2.195849e-04</td>\n",
       "    </tr>\n",
       "    <tr>\n",
       "      <th>7</th>\n",
       "      <td>0.000361</td>\n",
       "      <td>-1.823013e-06</td>\n",
       "      <td>3.694787e-22</td>\n",
       "      <td>-4.686687e-21</td>\n",
       "      <td>0.000000e+00</td>\n",
       "      <td>7.223379e-05</td>\n",
       "      <td>-7.223378e-05</td>\n",
       "      <td>-8.003624e-07</td>\n",
       "      <td>1.619324e-09</td>\n",
       "      <td>2.744588e-23</td>\n",
       "      <td>...</td>\n",
       "      <td>-6.774060e-22</td>\n",
       "      <td>1.444678e-04</td>\n",
       "      <td>2.407797e-05</td>\n",
       "      <td>-7.223533e-05</td>\n",
       "      <td>3.645988e-07</td>\n",
       "      <td>6.345037e-23</td>\n",
       "      <td>-6.774060e-22</td>\n",
       "      <td>-9.348281e-22</td>\n",
       "      <td>2.407797e-05</td>\n",
       "      <td>1.685458e-04</td>\n",
       "    </tr>\n",
       "    <tr>\n",
       "      <th>8</th>\n",
       "      <td>0.000001</td>\n",
       "      <td>-3.412575e-07</td>\n",
       "      <td>6.821376e-21</td>\n",
       "      <td>1.659741e-21</td>\n",
       "      <td>4.718722e-22</td>\n",
       "      <td>2.444969e-07</td>\n",
       "      <td>-2.444943e-07</td>\n",
       "      <td>-3.747381e-08</td>\n",
       "      <td>-2.829476e-09</td>\n",
       "      <td>5.131658e-24</td>\n",
       "      <td>...</td>\n",
       "      <td>1.719491e-22</td>\n",
       "      <td>4.891188e-07</td>\n",
       "      <td>8.152071e-08</td>\n",
       "      <td>-2.449965e-07</td>\n",
       "      <td>6.824501e-08</td>\n",
       "      <td>0.000000e+00</td>\n",
       "      <td>1.719491e-22</td>\n",
       "      <td>4.573919e-21</td>\n",
       "      <td>8.152071e-08</td>\n",
       "      <td>5.706414e-07</td>\n",
       "    </tr>\n",
       "    <tr>\n",
       "      <th>9</th>\n",
       "      <td>-0.000004</td>\n",
       "      <td>1.404160e-06</td>\n",
       "      <td>-2.003831e-21</td>\n",
       "      <td>-2.200502e-22</td>\n",
       "      <td>4.503577e-22</td>\n",
       "      <td>-8.558997e-07</td>\n",
       "      <td>8.558993e-07</td>\n",
       "      <td>-2.657237e-09</td>\n",
       "      <td>-7.044804e-09</td>\n",
       "      <td>2.121233e-24</td>\n",
       "      <td>...</td>\n",
       "      <td>3.428177e-23</td>\n",
       "      <td>-1.711756e-06</td>\n",
       "      <td>-2.852925e-07</td>\n",
       "      <td>8.563489e-07</td>\n",
       "      <td>-2.808397e-07</td>\n",
       "      <td>3.458650e-22</td>\n",
       "      <td>3.428177e-23</td>\n",
       "      <td>-3.310715e-23</td>\n",
       "      <td>-2.852925e-07</td>\n",
       "      <td>-1.997048e-06</td>\n",
       "    </tr>\n",
       "    <tr>\n",
       "      <th>10</th>\n",
       "      <td>0.000034</td>\n",
       "      <td>1.860175e-06</td>\n",
       "      <td>-2.269753e-21</td>\n",
       "      <td>6.673897e-23</td>\n",
       "      <td>1.487929e-22</td>\n",
       "      <td>6.787464e-06</td>\n",
       "      <td>-6.787463e-06</td>\n",
       "      <td>-7.964934e-08</td>\n",
       "      <td>-8.238936e-09</td>\n",
       "      <td>-7.312612e-25</td>\n",
       "      <td>...</td>\n",
       "      <td>-3.974452e-23</td>\n",
       "      <td>1.357497e-05</td>\n",
       "      <td>2.262495e-06</td>\n",
       "      <td>-6.786154e-06</td>\n",
       "      <td>-3.720433e-07</td>\n",
       "      <td>0.000000e+00</td>\n",
       "      <td>-3.974452e-23</td>\n",
       "      <td>-6.884459e-22</td>\n",
       "      <td>2.262495e-06</td>\n",
       "      <td>1.583746e-05</td>\n",
       "    </tr>\n",
       "    <tr>\n",
       "      <th>11</th>\n",
       "      <td>0.000019</td>\n",
       "      <td>2.062199e-06</td>\n",
       "      <td>-1.659004e-21</td>\n",
       "      <td>-2.123182e-22</td>\n",
       "      <td>5.162952e-22</td>\n",
       "      <td>3.846456e-06</td>\n",
       "      <td>-3.846458e-06</td>\n",
       "      <td>-4.752754e-08</td>\n",
       "      <td>-8.802672e-09</td>\n",
       "      <td>8.887208e-25</td>\n",
       "      <td>...</td>\n",
       "      <td>-1.695651e-22</td>\n",
       "      <td>7.692950e-06</td>\n",
       "      <td>1.282158e-06</td>\n",
       "      <td>-3.844616e-06</td>\n",
       "      <td>-4.124483e-07</td>\n",
       "      <td>2.180259e-23</td>\n",
       "      <td>-1.695651e-22</td>\n",
       "      <td>4.694446e-22</td>\n",
       "      <td>1.282158e-06</td>\n",
       "      <td>8.975107e-06</td>\n",
       "    </tr>\n",
       "    <tr>\n",
       "      <th>12</th>\n",
       "      <td>0.000011</td>\n",
       "      <td>2.294315e-06</td>\n",
       "      <td>1.312326e-22</td>\n",
       "      <td>-2.564064e-22</td>\n",
       "      <td>-2.434220e-22</td>\n",
       "      <td>2.155623e-06</td>\n",
       "      <td>-2.155623e-06</td>\n",
       "      <td>-2.744046e-08</td>\n",
       "      <td>-9.348312e-09</td>\n",
       "      <td>4.098128e-25</td>\n",
       "      <td>...</td>\n",
       "      <td>-1.538835e-22</td>\n",
       "      <td>4.311267e-06</td>\n",
       "      <td>7.185443e-07</td>\n",
       "      <td>-2.153467e-06</td>\n",
       "      <td>-4.588719e-07</td>\n",
       "      <td>-1.156787e-22</td>\n",
       "      <td>-1.538835e-22</td>\n",
       "      <td>0.000000e+00</td>\n",
       "      <td>7.185443e-07</td>\n",
       "      <td>5.029814e-06</td>\n",
       "    </tr>\n",
       "    <tr>\n",
       "      <th>13</th>\n",
       "      <td>0.000010</td>\n",
       "      <td>2.411945e-06</td>\n",
       "      <td>9.953018e-22</td>\n",
       "      <td>-3.502632e-22</td>\n",
       "      <td>1.070315e-22</td>\n",
       "      <td>1.953358e-06</td>\n",
       "      <td>-1.953359e-06</td>\n",
       "      <td>-2.381107e-08</td>\n",
       "      <td>-9.576574e-09</td>\n",
       "      <td>-3.960128e-24</td>\n",
       "      <td>...</td>\n",
       "      <td>-1.302840e-23</td>\n",
       "      <td>3.906732e-06</td>\n",
       "      <td>6.511219e-07</td>\n",
       "      <td>-1.951078e-06</td>\n",
       "      <td>-4.823978e-07</td>\n",
       "      <td>6.751691e-23</td>\n",
       "      <td>-1.302840e-23</td>\n",
       "      <td>-1.156423e-21</td>\n",
       "      <td>6.511219e-07</td>\n",
       "      <td>4.557855e-06</td>\n",
       "    </tr>\n",
       "    <tr>\n",
       "      <th>14</th>\n",
       "      <td>0.000008</td>\n",
       "      <td>2.457784e-06</td>\n",
       "      <td>1.640672e-21</td>\n",
       "      <td>1.246212e-22</td>\n",
       "      <td>1.446957e-22</td>\n",
       "      <td>1.681613e-06</td>\n",
       "      <td>-1.681611e-06</td>\n",
       "      <td>-2.000669e-08</td>\n",
       "      <td>-9.594939e-09</td>\n",
       "      <td>1.586525e-24</td>\n",
       "      <td>...</td>\n",
       "      <td>5.506638e-24</td>\n",
       "      <td>3.363235e-06</td>\n",
       "      <td>5.605392e-07</td>\n",
       "      <td>-1.679488e-06</td>\n",
       "      <td>-4.915652e-07</td>\n",
       "      <td>2.200854e-24</td>\n",
       "      <td>5.506638e-24</td>\n",
       "      <td>-7.571696e-23</td>\n",
       "      <td>5.605392e-07</td>\n",
       "      <td>3.923774e-06</td>\n",
       "    </tr>\n",
       "    <tr>\n",
       "      <th>15</th>\n",
       "      <td>0.000007</td>\n",
       "      <td>2.470180e-06</td>\n",
       "      <td>1.374566e-21</td>\n",
       "      <td>-1.690613e-23</td>\n",
       "      <td>-2.714812e-22</td>\n",
       "      <td>1.401205e-06</td>\n",
       "      <td>-1.401207e-06</td>\n",
       "      <td>-1.634923e-08</td>\n",
       "      <td>-9.515576e-09</td>\n",
       "      <td>6.106692e-25</td>\n",
       "      <td>...</td>\n",
       "      <td>-1.060071e-22</td>\n",
       "      <td>2.802420e-06</td>\n",
       "      <td>4.670699e-07</td>\n",
       "      <td>-1.399405e-06</td>\n",
       "      <td>-4.940444e-07</td>\n",
       "      <td>-5.616951e-23</td>\n",
       "      <td>-1.060071e-22</td>\n",
       "      <td>6.644517e-22</td>\n",
       "      <td>4.670699e-07</td>\n",
       "      <td>3.269489e-06</td>\n",
       "    </tr>\n",
       "    <tr>\n",
       "      <th>16</th>\n",
       "      <td>0.000006</td>\n",
       "      <td>2.461037e-06</td>\n",
       "      <td>1.027197e-21</td>\n",
       "      <td>-1.211539e-22</td>\n",
       "      <td>-1.473655e-23</td>\n",
       "      <td>1.221484e-06</td>\n",
       "      <td>-1.221484e-06</td>\n",
       "      <td>-1.395098e-08</td>\n",
       "      <td>-9.372130e-09</td>\n",
       "      <td>-1.411491e-25</td>\n",
       "      <td>...</td>\n",
       "      <td>4.950137e-23</td>\n",
       "      <td>2.442973e-06</td>\n",
       "      <td>4.071620e-07</td>\n",
       "      <td>-1.220210e-06</td>\n",
       "      <td>-4.922155e-07</td>\n",
       "      <td>4.035335e-23</td>\n",
       "      <td>4.950137e-23</td>\n",
       "      <td>3.988075e-22</td>\n",
       "      <td>4.071620e-07</td>\n",
       "      <td>2.850135e-06</td>\n",
       "    </tr>\n",
       "    <tr>\n",
       "      <th>17</th>\n",
       "      <td>0.000005</td>\n",
       "      <td>2.433742e-06</td>\n",
       "      <td>5.390216e-22</td>\n",
       "      <td>2.049448e-22</td>\n",
       "      <td>-3.450799e-23</td>\n",
       "      <td>1.067757e-06</td>\n",
       "      <td>-1.067757e-06</td>\n",
       "      <td>-1.194810e-08</td>\n",
       "      <td>-9.182985e-09</td>\n",
       "      <td>-2.959539e-25</td>\n",
       "      <td>...</td>\n",
       "      <td>-1.002241e-22</td>\n",
       "      <td>2.135517e-06</td>\n",
       "      <td>3.559195e-07</td>\n",
       "      <td>-1.067163e-06</td>\n",
       "      <td>-4.867562e-07</td>\n",
       "      <td>6.515796e-24</td>\n",
       "      <td>-1.002241e-22</td>\n",
       "      <td>-2.292640e-23</td>\n",
       "      <td>3.559195e-07</td>\n",
       "      <td>2.491436e-06</td>\n",
       "    </tr>\n",
       "    <tr>\n",
       "      <th>18</th>\n",
       "      <td>0.000005</td>\n",
       "      <td>2.391082e-06</td>\n",
       "      <td>-3.341502e-22</td>\n",
       "      <td>-5.696743e-24</td>\n",
       "      <td>5.996929e-24</td>\n",
       "      <td>9.351804e-07</td>\n",
       "      <td>-9.351809e-07</td>\n",
       "      <td>-1.025120e-08</td>\n",
       "      <td>-8.964309e-09</td>\n",
       "      <td>-5.907571e-25</td>\n",
       "      <td>...</td>\n",
       "      <td>2.615037e-23</td>\n",
       "      <td>1.870363e-06</td>\n",
       "      <td>3.117269e-07</td>\n",
       "      <td>-9.353842e-07</td>\n",
       "      <td>-4.782240e-07</td>\n",
       "      <td>-2.433751e-23</td>\n",
       "      <td>2.615037e-23</td>\n",
       "      <td>-2.344561e-23</td>\n",
       "      <td>3.117269e-07</td>\n",
       "      <td>2.182090e-06</td>\n",
       "    </tr>\n",
       "    <tr>\n",
       "      <th>19</th>\n",
       "      <td>0.000004</td>\n",
       "      <td>2.343491e-06</td>\n",
       "      <td>3.771601e-22</td>\n",
       "      <td>1.616341e-22</td>\n",
       "      <td>-9.183716e-24</td>\n",
       "      <td>8.393584e-07</td>\n",
       "      <td>-8.393583e-07</td>\n",
       "      <td>-9.029136e-09</td>\n",
       "      <td>-8.733884e-09</td>\n",
       "      <td>9.093220e-25</td>\n",
       "      <td>...</td>\n",
       "      <td>1.182106e-23</td>\n",
       "      <td>1.678719e-06</td>\n",
       "      <td>2.797865e-07</td>\n",
       "      <td>-8.404699e-07</td>\n",
       "      <td>-4.687056e-07</td>\n",
       "      <td>4.095066e-23</td>\n",
       "      <td>1.182106e-23</td>\n",
       "      <td>5.272725e-22</td>\n",
       "      <td>2.797865e-07</td>\n",
       "      <td>1.958504e-06</td>\n",
       "    </tr>\n",
       "    <tr>\n",
       "      <th>20</th>\n",
       "      <td>0.000004</td>\n",
       "      <td>2.294769e-06</td>\n",
       "      <td>-1.875424e-22</td>\n",
       "      <td>1.857198e-22</td>\n",
       "      <td>1.169091e-23</td>\n",
       "      <td>7.603407e-07</td>\n",
       "      <td>-7.603407e-07</td>\n",
       "      <td>-8.042636e-09</td>\n",
       "      <td>-8.500330e-09</td>\n",
       "      <td>6.425622e-25</td>\n",
       "      <td>...</td>\n",
       "      <td>5.193772e-23</td>\n",
       "      <td>1.520682e-06</td>\n",
       "      <td>2.534468e-07</td>\n",
       "      <td>-7.624470e-07</td>\n",
       "      <td>-4.589606e-07</td>\n",
       "      <td>4.083924e-23</td>\n",
       "      <td>5.193772e-23</td>\n",
       "      <td>-6.973304e-24</td>\n",
       "      <td>2.534468e-07</td>\n",
       "      <td>1.774129e-06</td>\n",
       "    </tr>\n",
       "    <tr>\n",
       "      <th>21</th>\n",
       "      <td>0.000003</td>\n",
       "      <td>2.242866e-06</td>\n",
       "      <td>-3.543874e-22</td>\n",
       "      <td>8.512086e-23</td>\n",
       "      <td>-1.844024e-23</td>\n",
       "      <td>6.885547e-07</td>\n",
       "      <td>-6.885546e-07</td>\n",
       "      <td>-7.166899e-09</td>\n",
       "      <td>-8.265656e-09</td>\n",
       "      <td>-6.265194e-25</td>\n",
       "      <td>...</td>\n",
       "      <td>1.165464e-23</td>\n",
       "      <td>1.377108e-06</td>\n",
       "      <td>2.295182e-07</td>\n",
       "      <td>-6.917322e-07</td>\n",
       "      <td>-4.485801e-07</td>\n",
       "      <td>6.233600e-23</td>\n",
       "      <td>1.165464e-23</td>\n",
       "      <td>8.010907e-23</td>\n",
       "      <td>2.295182e-07</td>\n",
       "      <td>1.606626e-06</td>\n",
       "    </tr>\n",
       "    <tr>\n",
       "      <th>22</th>\n",
       "      <td>0.000003</td>\n",
       "      <td>2.192014e-06</td>\n",
       "      <td>2.456437e-22</td>\n",
       "      <td>2.226656e-22</td>\n",
       "      <td>3.207217e-22</td>\n",
       "      <td>6.344365e-07</td>\n",
       "      <td>-6.344367e-07</td>\n",
       "      <td>-6.525372e-09</td>\n",
       "      <td>-8.036822e-09</td>\n",
       "      <td>3.647970e-25</td>\n",
       "      <td>...</td>\n",
       "      <td>2.052546e-23</td>\n",
       "      <td>1.268872e-06</td>\n",
       "      <td>2.114787e-07</td>\n",
       "      <td>-6.387358e-07</td>\n",
       "      <td>-4.384092e-07</td>\n",
       "      <td>3.253272e-22</td>\n",
       "      <td>2.052546e-23</td>\n",
       "      <td>-7.883289e-23</td>\n",
       "      <td>2.114787e-07</td>\n",
       "      <td>1.480351e-06</td>\n",
       "    </tr>\n",
       "    <tr>\n",
       "      <th>23</th>\n",
       "      <td>0.000003</td>\n",
       "      <td>2.140745e-06</td>\n",
       "      <td>-4.973361e-22</td>\n",
       "      <td>1.462274e-23</td>\n",
       "      <td>-5.643607e-23</td>\n",
       "      <td>5.815834e-07</td>\n",
       "      <td>-5.815835e-07</td>\n",
       "      <td>-5.908700e-09</td>\n",
       "      <td>-7.813397e-09</td>\n",
       "      <td>-1.840760e-24</td>\n",
       "      <td>...</td>\n",
       "      <td>-5.053512e-23</td>\n",
       "      <td>1.163166e-06</td>\n",
       "      <td>1.938610e-07</td>\n",
       "      <td>-5.870463e-07</td>\n",
       "      <td>-4.281555e-07</td>\n",
       "      <td>5.909912e-24</td>\n",
       "      <td>-5.053512e-23</td>\n",
       "      <td>-5.711933e-23</td>\n",
       "      <td>1.938610e-07</td>\n",
       "      <td>1.357027e-06</td>\n",
       "    </tr>\n",
       "    <tr>\n",
       "      <th>24</th>\n",
       "      <td>0.000003</td>\n",
       "      <td>2.088470e-06</td>\n",
       "      <td>-2.708403e-23</td>\n",
       "      <td>9.058139e-23</td>\n",
       "      <td>1.445176e-23</td>\n",
       "      <td>5.345953e-07</td>\n",
       "      <td>-5.345950e-07</td>\n",
       "      <td>-5.370381e-09</td>\n",
       "      <td>-7.595929e-09</td>\n",
       "      <td>-2.322879e-25</td>\n",
       "      <td>...</td>\n",
       "      <td>-1.835229e-23</td>\n",
       "      <td>1.069189e-06</td>\n",
       "      <td>1.781982e-07</td>\n",
       "      <td>-5.412482e-07</td>\n",
       "      <td>-4.177002e-07</td>\n",
       "      <td>-4.663677e-25</td>\n",
       "      <td>-1.835229e-23</td>\n",
       "      <td>-3.013614e-24</td>\n",
       "      <td>1.781982e-07</td>\n",
       "      <td>1.247388e-06</td>\n",
       "    </tr>\n",
       "    <tr>\n",
       "      <th>25</th>\n",
       "      <td>0.000003</td>\n",
       "      <td>2.038251e-06</td>\n",
       "      <td>-2.406535e-22</td>\n",
       "      <td>2.982936e-23</td>\n",
       "      <td>1.802947e-23</td>\n",
       "      <td>4.972722e-07</td>\n",
       "      <td>-4.972726e-07</td>\n",
       "      <td>-4.958607e-09</td>\n",
       "      <td>-7.387871e-09</td>\n",
       "      <td>-5.484519e-26</td>\n",
       "      <td>...</td>\n",
       "      <td>3.834777e-23</td>\n",
       "      <td>9.945429e-07</td>\n",
       "      <td>1.657572e-07</td>\n",
       "      <td>-5.051490e-07</td>\n",
       "      <td>-4.076561e-07</td>\n",
       "      <td>1.137629e-23</td>\n",
       "      <td>3.834777e-23</td>\n",
       "      <td>-6.196778e-25</td>\n",
       "      <td>1.657572e-07</td>\n",
       "      <td>1.160300e-06</td>\n",
       "    </tr>\n",
       "    <tr>\n",
       "      <th>26</th>\n",
       "      <td>0.000002</td>\n",
       "      <td>1.990294e-06</td>\n",
       "      <td>-1.007321e-22</td>\n",
       "      <td>-1.423298e-22</td>\n",
       "      <td>-3.406102e-24</td>\n",
       "      <td>4.642348e-07</td>\n",
       "      <td>-4.642348e-07</td>\n",
       "      <td>-4.605900e-09</td>\n",
       "      <td>-7.189148e-09</td>\n",
       "      <td>5.624355e-25</td>\n",
       "      <td>...</td>\n",
       "      <td>1.184346e-23</td>\n",
       "      <td>9.284690e-07</td>\n",
       "      <td>1.547447e-07</td>\n",
       "      <td>-4.735001e-07</td>\n",
       "      <td>-3.980648e-07</td>\n",
       "      <td>6.396647e-24</td>\n",
       "      <td>1.184346e-23</td>\n",
       "      <td>1.007270e-24</td>\n",
       "      <td>1.547447e-07</td>\n",
       "      <td>1.083212e-06</td>\n",
       "    </tr>\n",
       "    <tr>\n",
       "      <th>27</th>\n",
       "      <td>0.000002</td>\n",
       "      <td>1.943447e-06</td>\n",
       "      <td>1.988325e-22</td>\n",
       "      <td>1.958416e-23</td>\n",
       "      <td>1.820095e-24</td>\n",
       "      <td>4.340682e-07</td>\n",
       "      <td>-4.340684e-07</td>\n",
       "      <td>-4.289044e-09</td>\n",
       "      <td>-6.998420e-09</td>\n",
       "      <td>1.114477e-25</td>\n",
       "      <td>...</td>\n",
       "      <td>5.563375e-24</td>\n",
       "      <td>8.681341e-07</td>\n",
       "      <td>1.446891e-07</td>\n",
       "      <td>-4.445111e-07</td>\n",
       "      <td>-3.886951e-07</td>\n",
       "      <td>-1.295253e-24</td>\n",
       "      <td>5.563375e-24</td>\n",
       "      <td>-7.667315e-24</td>\n",
       "      <td>1.446891e-07</td>\n",
       "      <td>1.012823e-06</td>\n",
       "    </tr>\n",
       "    <tr>\n",
       "      <th>28</th>\n",
       "      <td>0.000002</td>\n",
       "      <td>1.898113e-06</td>\n",
       "      <td>-4.046807e-22</td>\n",
       "      <td>7.766506e-23</td>\n",
       "      <td>3.051080e-24</td>\n",
       "      <td>4.071860e-07</td>\n",
       "      <td>-4.071859e-07</td>\n",
       "      <td>-4.013612e-09</td>\n",
       "      <td>-6.816482e-09</td>\n",
       "      <td>-5.875273e-25</td>\n",
       "      <td>...</td>\n",
       "      <td>-1.717921e-23</td>\n",
       "      <td>8.143699e-07</td>\n",
       "      <td>1.357283e-07</td>\n",
       "      <td>-4.187518e-07</td>\n",
       "      <td>-3.796277e-07</td>\n",
       "      <td>1.567269e-23</td>\n",
       "      <td>-1.717921e-23</td>\n",
       "      <td>-1.326672e-23</td>\n",
       "      <td>1.357283e-07</td>\n",
       "      <td>9.500984e-07</td>\n",
       "    </tr>\n",
       "    <tr>\n",
       "      <th>29</th>\n",
       "      <td>0.000002</td>\n",
       "      <td>1.858890e-06</td>\n",
       "      <td>-3.159037e-23</td>\n",
       "      <td>7.838814e-23</td>\n",
       "      <td>1.117154e-23</td>\n",
       "      <td>3.831456e-07</td>\n",
       "      <td>-3.831455e-07</td>\n",
       "      <td>-3.779775e-09</td>\n",
       "      <td>-6.652167e-09</td>\n",
       "      <td>3.027751e-25</td>\n",
       "      <td>...</td>\n",
       "      <td>-1.864709e-23</td>\n",
       "      <td>7.662888e-07</td>\n",
       "      <td>1.277148e-07</td>\n",
       "      <td>-3.963612e-07</td>\n",
       "      <td>-3.717831e-07</td>\n",
       "      <td>-4.650662e-24</td>\n",
       "      <td>-1.864709e-23</td>\n",
       "      <td>-5.243123e-24</td>\n",
       "      <td>1.277148e-07</td>\n",
       "      <td>8.940043e-07</td>\n",
       "    </tr>\n",
       "    <tr>\n",
       "      <th>30</th>\n",
       "      <td>0.000002</td>\n",
       "      <td>1.817126e-06</td>\n",
       "      <td>4.861619e-22</td>\n",
       "      <td>2.884338e-23</td>\n",
       "      <td>-7.344062e-24</td>\n",
       "      <td>3.614600e-07</td>\n",
       "      <td>-3.614599e-07</td>\n",
       "      <td>-3.570122e-09</td>\n",
       "      <td>-6.487940e-09</td>\n",
       "      <td>-6.754201e-26</td>\n",
       "      <td>...</td>\n",
       "      <td>-1.060474e-23</td>\n",
       "      <td>7.229179e-07</td>\n",
       "      <td>1.204864e-07</td>\n",
       "      <td>-3.757778e-07</td>\n",
       "      <td>-3.634302e-07</td>\n",
       "      <td>-7.939083e-24</td>\n",
       "      <td>-1.060474e-23</td>\n",
       "      <td>-1.137205e-22</td>\n",
       "      <td>1.204864e-07</td>\n",
       "      <td>8.434041e-07</td>\n",
       "    </tr>\n",
       "    <tr>\n",
       "      <th>31</th>\n",
       "      <td>0.000002</td>\n",
       "      <td>1.773098e-06</td>\n",
       "      <td>-3.028709e-22</td>\n",
       "      <td>6.827333e-23</td>\n",
       "      <td>6.849051e-23</td>\n",
       "      <td>3.407246e-07</td>\n",
       "      <td>-3.407247e-07</td>\n",
       "      <td>-3.367048e-09</td>\n",
       "      <td>-6.323628e-09</td>\n",
       "      <td>-2.730875e-25</td>\n",
       "      <td>...</td>\n",
       "      <td>-1.925134e-23</td>\n",
       "      <td>6.814478e-07</td>\n",
       "      <td>1.135747e-07</td>\n",
       "      <td>-3.558616e-07</td>\n",
       "      <td>-3.546247e-07</td>\n",
       "      <td>-1.288002e-24</td>\n",
       "      <td>-1.925134e-23</td>\n",
       "      <td>1.931524e-22</td>\n",
       "      <td>1.135747e-07</td>\n",
       "      <td>7.950218e-07</td>\n",
       "    </tr>\n",
       "    <tr>\n",
       "      <th>32</th>\n",
       "      <td>0.000002</td>\n",
       "      <td>1.733839e-06</td>\n",
       "      <td>6.362701e-23</td>\n",
       "      <td>9.819492e-23</td>\n",
       "      <td>3.895716e-23</td>\n",
       "      <td>3.241920e-07</td>\n",
       "      <td>-3.241919e-07</td>\n",
       "      <td>-3.222019e-09</td>\n",
       "      <td>-6.172312e-09</td>\n",
       "      <td>2.995048e-25</td>\n",
       "      <td>...</td>\n",
       "      <td>-2.653414e-23</td>\n",
       "      <td>6.483817e-07</td>\n",
       "      <td>1.080636e-07</td>\n",
       "      <td>-3.404357e-07</td>\n",
       "      <td>-3.467726e-07</td>\n",
       "      <td>-1.515058e-23</td>\n",
       "      <td>-2.653414e-23</td>\n",
       "      <td>5.557933e-23</td>\n",
       "      <td>1.080636e-07</td>\n",
       "      <td>7.564460e-07</td>\n",
       "    </tr>\n",
       "    <tr>\n",
       "      <th>33</th>\n",
       "      <td>0.000002</td>\n",
       "      <td>1.697790e-06</td>\n",
       "      <td>2.457424e-22</td>\n",
       "      <td>9.058339e-23</td>\n",
       "      <td>2.210077e-22</td>\n",
       "      <td>3.091386e-07</td>\n",
       "      <td>-3.091387e-07</td>\n",
       "      <td>-3.091573e-09</td>\n",
       "      <td>-6.030883e-09</td>\n",
       "      <td>5.077337e-25</td>\n",
       "      <td>...</td>\n",
       "      <td>6.220481e-24</td>\n",
       "      <td>6.182744e-07</td>\n",
       "      <td>1.030457e-07</td>\n",
       "      <td>-3.262478e-07</td>\n",
       "      <td>-3.395626e-07</td>\n",
       "      <td>1.312136e-22</td>\n",
       "      <td>6.220481e-24</td>\n",
       "      <td>-3.337722e-23</td>\n",
       "      <td>1.030457e-07</td>\n",
       "      <td>7.213201e-07</td>\n",
       "    </tr>\n",
       "    <tr>\n",
       "      <th>34</th>\n",
       "      <td>0.000002</td>\n",
       "      <td>1.660911e-06</td>\n",
       "      <td>-7.596831e-23</td>\n",
       "      <td>4.576457e-23</td>\n",
       "      <td>9.985430e-24</td>\n",
       "      <td>2.906731e-07</td>\n",
       "      <td>-2.906730e-07</td>\n",
       "      <td>-2.914996e-09</td>\n",
       "      <td>-5.893791e-09</td>\n",
       "      <td>2.936095e-25</td>\n",
       "      <td>...</td>\n",
       "      <td>2.529342e-23</td>\n",
       "      <td>5.813443e-07</td>\n",
       "      <td>9.689056e-08</td>\n",
       "      <td>-3.090106e-07</td>\n",
       "      <td>-3.321865e-07</td>\n",
       "      <td>4.249254e-24</td>\n",
       "      <td>2.529342e-23</td>\n",
       "      <td>-1.390438e-23</td>\n",
       "      <td>9.689056e-08</td>\n",
       "      <td>6.782341e-07</td>\n",
       "    </tr>\n",
       "    <tr>\n",
       "      <th>35</th>\n",
       "      <td>0.000001</td>\n",
       "      <td>1.626865e-06</td>\n",
       "      <td>5.732778e-23</td>\n",
       "      <td>3.175686e-23</td>\n",
       "      <td>3.575086e-25</td>\n",
       "      <td>2.797486e-07</td>\n",
       "      <td>-2.797486e-07</td>\n",
       "      <td>-2.841240e-09</td>\n",
       "      <td>-5.764250e-09</td>\n",
       "      <td>2.019642e-25</td>\n",
       "      <td>...</td>\n",
       "      <td>-3.163365e-24</td>\n",
       "      <td>5.594946e-07</td>\n",
       "      <td>9.324907e-08</td>\n",
       "      <td>-2.992742e-07</td>\n",
       "      <td>-3.253779e-07</td>\n",
       "      <td>-8.987062e-23</td>\n",
       "      <td>-3.163365e-24</td>\n",
       "      <td>6.061356e-23</td>\n",
       "      <td>9.324907e-08</td>\n",
       "      <td>6.527436e-07</td>\n",
       "    </tr>\n",
       "    <tr>\n",
       "      <th>36</th>\n",
       "      <td>0.000001</td>\n",
       "      <td>1.593929e-06</td>\n",
       "      <td>-1.461566e-22</td>\n",
       "      <td>2.109933e-23</td>\n",
       "      <td>2.805942e-24</td>\n",
       "      <td>2.654515e-07</td>\n",
       "      <td>-2.654514e-07</td>\n",
       "      <td>-2.714197e-09</td>\n",
       "      <td>-5.640455e-09</td>\n",
       "      <td>8.379422e-26</td>\n",
       "      <td>...</td>\n",
       "      <td>-1.218651e-23</td>\n",
       "      <td>5.309007e-07</td>\n",
       "      <td>8.848340e-08</td>\n",
       "      <td>-2.860000e-07</td>\n",
       "      <td>-3.187905e-07</td>\n",
       "      <td>-2.988342e-24</td>\n",
       "      <td>-1.218651e-23</td>\n",
       "      <td>2.135931e-23</td>\n",
       "      <td>8.848340e-08</td>\n",
       "      <td>6.193837e-07</td>\n",
       "    </tr>\n",
       "    <tr>\n",
       "      <th>37</th>\n",
       "      <td>0.000001</td>\n",
       "      <td>1.592943e-06</td>\n",
       "      <td>4.467603e-23</td>\n",
       "      <td>-5.208351e-23</td>\n",
       "      <td>-1.071359e-23</td>\n",
       "      <td>2.581726e-07</td>\n",
       "      <td>-2.581727e-07</td>\n",
       "      <td>-2.664648e-09</td>\n",
       "      <td>-5.638260e-09</td>\n",
       "      <td>2.794696e-26</td>\n",
       "      <td>...</td>\n",
       "      <td>-6.031248e-24</td>\n",
       "      <td>5.163432e-07</td>\n",
       "      <td>8.605715e-08</td>\n",
       "      <td>-2.801229e-07</td>\n",
       "      <td>-3.185930e-07</td>\n",
       "      <td>-1.875668e-24</td>\n",
       "      <td>-6.031248e-24</td>\n",
       "      <td>3.809133e-24</td>\n",
       "      <td>8.605715e-08</td>\n",
       "      <td>6.024002e-07</td>\n",
       "    </tr>\n",
       "    <tr>\n",
       "      <th>38</th>\n",
       "      <td>0.000001</td>\n",
       "      <td>1.531824e-06</td>\n",
       "      <td>3.511682e-22</td>\n",
       "      <td>1.625476e-23</td>\n",
       "      <td>9.194051e-24</td>\n",
       "      <td>2.425858e-07</td>\n",
       "      <td>-2.425859e-07</td>\n",
       "      <td>-2.536921e-09</td>\n",
       "      <td>-5.417002e-09</td>\n",
       "      <td>-2.165092e-25</td>\n",
       "      <td>...</td>\n",
       "      <td>1.590749e-23</td>\n",
       "      <td>4.851694e-07</td>\n",
       "      <td>8.086155e-08</td>\n",
       "      <td>-2.652689e-07</td>\n",
       "      <td>-3.063692e-07</td>\n",
       "      <td>-1.991929e-24</td>\n",
       "      <td>1.590749e-23</td>\n",
       "      <td>1.037937e-23</td>\n",
       "      <td>8.086155e-08</td>\n",
       "      <td>5.660311e-07</td>\n",
       "    </tr>\n",
       "    <tr>\n",
       "      <th>39</th>\n",
       "      <td>0.000002</td>\n",
       "      <td>2.446829e-06</td>\n",
       "      <td>-1.056329e-22</td>\n",
       "      <td>-4.170457e-23</td>\n",
       "      <td>6.260293e-23</td>\n",
       "      <td>3.707257e-07</td>\n",
       "      <td>-3.707257e-07</td>\n",
       "      <td>-3.926404e-09</td>\n",
       "      <td>-8.688645e-09</td>\n",
       "      <td>-2.843522e-26</td>\n",
       "      <td>...</td>\n",
       "      <td>-2.372616e-23</td>\n",
       "      <td>7.414483e-07</td>\n",
       "      <td>1.235746e-07</td>\n",
       "      <td>-4.098901e-07</td>\n",
       "      <td>-4.893724e-07</td>\n",
       "      <td>4.430170e-24</td>\n",
       "      <td>-2.372616e-23</td>\n",
       "      <td>2.155068e-25</td>\n",
       "      <td>1.235746e-07</td>\n",
       "      <td>8.650230e-07</td>\n",
       "    </tr>\n",
       "  </tbody>\n",
       "</table>\n",
       "<p>35 rows × 56 columns</p>\n",
       "</div>"
      ],
      "text/plain": [
       "                 15            16            17            19            20   \\\n",
       "data x1 x2                                                                     \n",
       "5    3  5   0.000031 -3.571636e-08 -2.347446e-22 -2.464362e-22  0.000000e+00   \n",
       "        6   0.000471 -9.049938e-07 -7.402461e-21 -3.793357e-21 -4.042137e-26   \n",
       "        7   0.000361 -1.823013e-06  3.694787e-22 -4.686687e-21  0.000000e+00   \n",
       "        8   0.000001 -3.412575e-07  6.821376e-21  1.659741e-21  4.718722e-22   \n",
       "        9  -0.000004  1.404160e-06 -2.003831e-21 -2.200502e-22  4.503577e-22   \n",
       "        10  0.000034  1.860175e-06 -2.269753e-21  6.673897e-23  1.487929e-22   \n",
       "        11  0.000019  2.062199e-06 -1.659004e-21 -2.123182e-22  5.162952e-22   \n",
       "        12  0.000011  2.294315e-06  1.312326e-22 -2.564064e-22 -2.434220e-22   \n",
       "        13  0.000010  2.411945e-06  9.953018e-22 -3.502632e-22  1.070315e-22   \n",
       "        14  0.000008  2.457784e-06  1.640672e-21  1.246212e-22  1.446957e-22   \n",
       "        15  0.000007  2.470180e-06  1.374566e-21 -1.690613e-23 -2.714812e-22   \n",
       "        16  0.000006  2.461037e-06  1.027197e-21 -1.211539e-22 -1.473655e-23   \n",
       "        17  0.000005  2.433742e-06  5.390216e-22  2.049448e-22 -3.450799e-23   \n",
       "        18  0.000005  2.391082e-06 -3.341502e-22 -5.696743e-24  5.996929e-24   \n",
       "        19  0.000004  2.343491e-06  3.771601e-22  1.616341e-22 -9.183716e-24   \n",
       "        20  0.000004  2.294769e-06 -1.875424e-22  1.857198e-22  1.169091e-23   \n",
       "        21  0.000003  2.242866e-06 -3.543874e-22  8.512086e-23 -1.844024e-23   \n",
       "        22  0.000003  2.192014e-06  2.456437e-22  2.226656e-22  3.207217e-22   \n",
       "        23  0.000003  2.140745e-06 -4.973361e-22  1.462274e-23 -5.643607e-23   \n",
       "        24  0.000003  2.088470e-06 -2.708403e-23  9.058139e-23  1.445176e-23   \n",
       "        25  0.000003  2.038251e-06 -2.406535e-22  2.982936e-23  1.802947e-23   \n",
       "        26  0.000002  1.990294e-06 -1.007321e-22 -1.423298e-22 -3.406102e-24   \n",
       "        27  0.000002  1.943447e-06  1.988325e-22  1.958416e-23  1.820095e-24   \n",
       "        28  0.000002  1.898113e-06 -4.046807e-22  7.766506e-23  3.051080e-24   \n",
       "        29  0.000002  1.858890e-06 -3.159037e-23  7.838814e-23  1.117154e-23   \n",
       "        30  0.000002  1.817126e-06  4.861619e-22  2.884338e-23 -7.344062e-24   \n",
       "        31  0.000002  1.773098e-06 -3.028709e-22  6.827333e-23  6.849051e-23   \n",
       "        32  0.000002  1.733839e-06  6.362701e-23  9.819492e-23  3.895716e-23   \n",
       "        33  0.000002  1.697790e-06  2.457424e-22  9.058339e-23  2.210077e-22   \n",
       "        34  0.000002  1.660911e-06 -7.596831e-23  4.576457e-23  9.985430e-24   \n",
       "        35  0.000001  1.626865e-06  5.732778e-23  3.175686e-23  3.575086e-25   \n",
       "        36  0.000001  1.593929e-06 -1.461566e-22  2.109933e-23  2.805942e-24   \n",
       "        37  0.000001  1.592943e-06  4.467603e-23 -5.208351e-23 -1.071359e-23   \n",
       "        38  0.000001  1.531824e-06  3.511682e-22  1.625476e-23  9.194051e-24   \n",
       "        39  0.000002  2.446829e-06 -1.056329e-22 -4.170457e-23  6.260293e-23   \n",
       "\n",
       "                     24            25            29            30   \\\n",
       "data x1 x2                                                           \n",
       "5    3  5   6.229416e-06 -6.229416e-06 -6.060400e-08  6.522245e-11   \n",
       "        6   9.410777e-05 -9.410776e-05 -9.666424e-07  1.342987e-09   \n",
       "        7   7.223379e-05 -7.223378e-05 -8.003624e-07  1.619324e-09   \n",
       "        8   2.444969e-07 -2.444943e-07 -3.747381e-08 -2.829476e-09   \n",
       "        9  -8.558997e-07  8.558993e-07 -2.657237e-09 -7.044804e-09   \n",
       "        10  6.787464e-06 -6.787463e-06 -7.964934e-08 -8.238936e-09   \n",
       "        11  3.846456e-06 -3.846458e-06 -4.752754e-08 -8.802672e-09   \n",
       "        12  2.155623e-06 -2.155623e-06 -2.744046e-08 -9.348312e-09   \n",
       "        13  1.953358e-06 -1.953359e-06 -2.381107e-08 -9.576574e-09   \n",
       "        14  1.681613e-06 -1.681611e-06 -2.000669e-08 -9.594939e-09   \n",
       "        15  1.401205e-06 -1.401207e-06 -1.634923e-08 -9.515576e-09   \n",
       "        16  1.221484e-06 -1.221484e-06 -1.395098e-08 -9.372130e-09   \n",
       "        17  1.067757e-06 -1.067757e-06 -1.194810e-08 -9.182985e-09   \n",
       "        18  9.351804e-07 -9.351809e-07 -1.025120e-08 -8.964309e-09   \n",
       "        19  8.393584e-07 -8.393583e-07 -9.029136e-09 -8.733884e-09   \n",
       "        20  7.603407e-07 -7.603407e-07 -8.042636e-09 -8.500330e-09   \n",
       "        21  6.885547e-07 -6.885546e-07 -7.166899e-09 -8.265656e-09   \n",
       "        22  6.344365e-07 -6.344367e-07 -6.525372e-09 -8.036822e-09   \n",
       "        23  5.815834e-07 -5.815835e-07 -5.908700e-09 -7.813397e-09   \n",
       "        24  5.345953e-07 -5.345950e-07 -5.370381e-09 -7.595929e-09   \n",
       "        25  4.972722e-07 -4.972726e-07 -4.958607e-09 -7.387871e-09   \n",
       "        26  4.642348e-07 -4.642348e-07 -4.605900e-09 -7.189148e-09   \n",
       "        27  4.340682e-07 -4.340684e-07 -4.289044e-09 -6.998420e-09   \n",
       "        28  4.071860e-07 -4.071859e-07 -4.013612e-09 -6.816482e-09   \n",
       "        29  3.831456e-07 -3.831455e-07 -3.779775e-09 -6.652167e-09   \n",
       "        30  3.614600e-07 -3.614599e-07 -3.570122e-09 -6.487940e-09   \n",
       "        31  3.407246e-07 -3.407247e-07 -3.367048e-09 -6.323628e-09   \n",
       "        32  3.241920e-07 -3.241919e-07 -3.222019e-09 -6.172312e-09   \n",
       "        33  3.091386e-07 -3.091387e-07 -3.091573e-09 -6.030883e-09   \n",
       "        34  2.906731e-07 -2.906730e-07 -2.914996e-09 -5.893791e-09   \n",
       "        35  2.797486e-07 -2.797486e-07 -2.841240e-09 -5.764250e-09   \n",
       "        36  2.654515e-07 -2.654514e-07 -2.714197e-09 -5.640455e-09   \n",
       "        37  2.581726e-07 -2.581727e-07 -2.664648e-09 -5.638260e-09   \n",
       "        38  2.425858e-07 -2.425859e-07 -2.536921e-09 -5.417002e-09   \n",
       "        39  3.707257e-07 -3.707257e-07 -3.926404e-09 -8.688645e-09   \n",
       "\n",
       "                     31   ...           146           150           151  \\\n",
       "data x1 x2                ...                                             \n",
       "5    3  5  -1.626196e-24  ... -5.856424e-24  1.245883e-05  2.076471e-06   \n",
       "        6   9.005689e-24  ...  1.002761e-21  1.882156e-04  3.136927e-05   \n",
       "        7   2.744588e-23  ... -6.774060e-22  1.444678e-04  2.407797e-05   \n",
       "        8   5.131658e-24  ...  1.719491e-22  4.891188e-07  8.152071e-08   \n",
       "        9   2.121233e-24  ...  3.428177e-23 -1.711756e-06 -2.852925e-07   \n",
       "        10 -7.312612e-25  ... -3.974452e-23  1.357497e-05  2.262495e-06   \n",
       "        11  8.887208e-25  ... -1.695651e-22  7.692950e-06  1.282158e-06   \n",
       "        12  4.098128e-25  ... -1.538835e-22  4.311267e-06  7.185443e-07   \n",
       "        13 -3.960128e-24  ... -1.302840e-23  3.906732e-06  6.511219e-07   \n",
       "        14  1.586525e-24  ...  5.506638e-24  3.363235e-06  5.605392e-07   \n",
       "        15  6.106692e-25  ... -1.060071e-22  2.802420e-06  4.670699e-07   \n",
       "        16 -1.411491e-25  ...  4.950137e-23  2.442973e-06  4.071620e-07   \n",
       "        17 -2.959539e-25  ... -1.002241e-22  2.135517e-06  3.559195e-07   \n",
       "        18 -5.907571e-25  ...  2.615037e-23  1.870363e-06  3.117269e-07   \n",
       "        19  9.093220e-25  ...  1.182106e-23  1.678719e-06  2.797865e-07   \n",
       "        20  6.425622e-25  ...  5.193772e-23  1.520682e-06  2.534468e-07   \n",
       "        21 -6.265194e-25  ...  1.165464e-23  1.377108e-06  2.295182e-07   \n",
       "        22  3.647970e-25  ...  2.052546e-23  1.268872e-06  2.114787e-07   \n",
       "        23 -1.840760e-24  ... -5.053512e-23  1.163166e-06  1.938610e-07   \n",
       "        24 -2.322879e-25  ... -1.835229e-23  1.069189e-06  1.781982e-07   \n",
       "        25 -5.484519e-26  ...  3.834777e-23  9.945429e-07  1.657572e-07   \n",
       "        26  5.624355e-25  ...  1.184346e-23  9.284690e-07  1.547447e-07   \n",
       "        27  1.114477e-25  ...  5.563375e-24  8.681341e-07  1.446891e-07   \n",
       "        28 -5.875273e-25  ... -1.717921e-23  8.143699e-07  1.357283e-07   \n",
       "        29  3.027751e-25  ... -1.864709e-23  7.662888e-07  1.277148e-07   \n",
       "        30 -6.754201e-26  ... -1.060474e-23  7.229179e-07  1.204864e-07   \n",
       "        31 -2.730875e-25  ... -1.925134e-23  6.814478e-07  1.135747e-07   \n",
       "        32  2.995048e-25  ... -2.653414e-23  6.483817e-07  1.080636e-07   \n",
       "        33  5.077337e-25  ...  6.220481e-24  6.182744e-07  1.030457e-07   \n",
       "        34  2.936095e-25  ...  2.529342e-23  5.813443e-07  9.689056e-08   \n",
       "        35  2.019642e-25  ... -3.163365e-24  5.594946e-07  9.324907e-08   \n",
       "        36  8.379422e-26  ... -1.218651e-23  5.309007e-07  8.848340e-08   \n",
       "        37  2.794696e-26  ... -6.031248e-24  5.163432e-07  8.605715e-08   \n",
       "        38 -2.165092e-25  ...  1.590749e-23  4.851694e-07  8.086155e-08   \n",
       "        39 -2.843522e-26  ... -2.372616e-23  7.414483e-07  1.235746e-07   \n",
       "\n",
       "                     155           156           157           159  \\\n",
       "data x1 x2                                                           \n",
       "5    3  5  -6.229456e-06  7.143258e-09  0.000000e+00 -5.856424e-24   \n",
       "        6  -9.410807e-05  1.809979e-07  0.000000e+00  1.002761e-21   \n",
       "        7  -7.223533e-05  3.645988e-07  6.345037e-23 -6.774060e-22   \n",
       "        8  -2.449965e-07  6.824501e-08  0.000000e+00  1.719491e-22   \n",
       "        9   8.563489e-07 -2.808397e-07  3.458650e-22  3.428177e-23   \n",
       "        10 -6.786154e-06 -3.720433e-07  0.000000e+00 -3.974452e-23   \n",
       "        11 -3.844616e-06 -4.124483e-07  2.180259e-23 -1.695651e-22   \n",
       "        12 -2.153467e-06 -4.588719e-07 -1.156787e-22 -1.538835e-22   \n",
       "        13 -1.951078e-06 -4.823978e-07  6.751691e-23 -1.302840e-23   \n",
       "        14 -1.679488e-06 -4.915652e-07  2.200854e-24  5.506638e-24   \n",
       "        15 -1.399405e-06 -4.940444e-07 -5.616951e-23 -1.060071e-22   \n",
       "        16 -1.220210e-06 -4.922155e-07  4.035335e-23  4.950137e-23   \n",
       "        17 -1.067163e-06 -4.867562e-07  6.515796e-24 -1.002241e-22   \n",
       "        18 -9.353842e-07 -4.782240e-07 -2.433751e-23  2.615037e-23   \n",
       "        19 -8.404699e-07 -4.687056e-07  4.095066e-23  1.182106e-23   \n",
       "        20 -7.624470e-07 -4.589606e-07  4.083924e-23  5.193772e-23   \n",
       "        21 -6.917322e-07 -4.485801e-07  6.233600e-23  1.165464e-23   \n",
       "        22 -6.387358e-07 -4.384092e-07  3.253272e-22  2.052546e-23   \n",
       "        23 -5.870463e-07 -4.281555e-07  5.909912e-24 -5.053512e-23   \n",
       "        24 -5.412482e-07 -4.177002e-07 -4.663677e-25 -1.835229e-23   \n",
       "        25 -5.051490e-07 -4.076561e-07  1.137629e-23  3.834777e-23   \n",
       "        26 -4.735001e-07 -3.980648e-07  6.396647e-24  1.184346e-23   \n",
       "        27 -4.445111e-07 -3.886951e-07 -1.295253e-24  5.563375e-24   \n",
       "        28 -4.187518e-07 -3.796277e-07  1.567269e-23 -1.717921e-23   \n",
       "        29 -3.963612e-07 -3.717831e-07 -4.650662e-24 -1.864709e-23   \n",
       "        30 -3.757778e-07 -3.634302e-07 -7.939083e-24 -1.060474e-23   \n",
       "        31 -3.558616e-07 -3.546247e-07 -1.288002e-24 -1.925134e-23   \n",
       "        32 -3.404357e-07 -3.467726e-07 -1.515058e-23 -2.653414e-23   \n",
       "        33 -3.262478e-07 -3.395626e-07  1.312136e-22  6.220481e-24   \n",
       "        34 -3.090106e-07 -3.321865e-07  4.249254e-24  2.529342e-23   \n",
       "        35 -2.992742e-07 -3.253779e-07 -8.987062e-23 -3.163365e-24   \n",
       "        36 -2.860000e-07 -3.187905e-07 -2.988342e-24 -1.218651e-23   \n",
       "        37 -2.801229e-07 -3.185930e-07 -1.875668e-24 -6.031248e-24   \n",
       "        38 -2.652689e-07 -3.063692e-07 -1.991929e-24  1.590749e-23   \n",
       "        39 -4.098901e-07 -4.893724e-07  4.430170e-24 -2.372616e-23   \n",
       "\n",
       "                     160           164           165  \n",
       "data x1 x2                                            \n",
       "5    3  5   0.000000e+00  2.076471e-06  1.453529e-05  \n",
       "        6   7.885926e-21  3.136927e-05  2.195849e-04  \n",
       "        7  -9.348281e-22  2.407797e-05  1.685458e-04  \n",
       "        8   4.573919e-21  8.152071e-08  5.706414e-07  \n",
       "        9  -3.310715e-23 -2.852925e-07 -1.997048e-06  \n",
       "        10 -6.884459e-22  2.262495e-06  1.583746e-05  \n",
       "        11  4.694446e-22  1.282158e-06  8.975107e-06  \n",
       "        12  0.000000e+00  7.185443e-07  5.029814e-06  \n",
       "        13 -1.156423e-21  6.511219e-07  4.557855e-06  \n",
       "        14 -7.571696e-23  5.605392e-07  3.923774e-06  \n",
       "        15  6.644517e-22  4.670699e-07  3.269489e-06  \n",
       "        16  3.988075e-22  4.071620e-07  2.850135e-06  \n",
       "        17 -2.292640e-23  3.559195e-07  2.491436e-06  \n",
       "        18 -2.344561e-23  3.117269e-07  2.182090e-06  \n",
       "        19  5.272725e-22  2.797865e-07  1.958504e-06  \n",
       "        20 -6.973304e-24  2.534468e-07  1.774129e-06  \n",
       "        21  8.010907e-23  2.295182e-07  1.606626e-06  \n",
       "        22 -7.883289e-23  2.114787e-07  1.480351e-06  \n",
       "        23 -5.711933e-23  1.938610e-07  1.357027e-06  \n",
       "        24 -3.013614e-24  1.781982e-07  1.247388e-06  \n",
       "        25 -6.196778e-25  1.657572e-07  1.160300e-06  \n",
       "        26  1.007270e-24  1.547447e-07  1.083212e-06  \n",
       "        27 -7.667315e-24  1.446891e-07  1.012823e-06  \n",
       "        28 -1.326672e-23  1.357283e-07  9.500984e-07  \n",
       "        29 -5.243123e-24  1.277148e-07  8.940043e-07  \n",
       "        30 -1.137205e-22  1.204864e-07  8.434041e-07  \n",
       "        31  1.931524e-22  1.135747e-07  7.950218e-07  \n",
       "        32  5.557933e-23  1.080636e-07  7.564460e-07  \n",
       "        33 -3.337722e-23  1.030457e-07  7.213201e-07  \n",
       "        34 -1.390438e-23  9.689056e-08  6.782341e-07  \n",
       "        35  6.061356e-23  9.324907e-08  6.527436e-07  \n",
       "        36  2.135931e-23  8.848340e-08  6.193837e-07  \n",
       "        37  3.809133e-24  8.605715e-08  6.024002e-07  \n",
       "        38  1.037937e-23  8.086155e-08  5.660311e-07  \n",
       "        39  2.155068e-25  1.235746e-07  8.650230e-07  \n",
       "\n",
       "[35 rows x 56 columns]"
      ]
     },
     "execution_count": 72,
     "metadata": {},
     "output_type": "execute_result"
    }
   ],
   "source": [
    "sigma_had_200[sigma_had_200.index.get_level_values('x1')==3]"
   ]
  },
  {
   "cell_type": "markdown",
   "id": "2cdec508",
   "metadata": {},
   "source": [
    "## Test griddata versus interp2d"
   ]
  },
  {
   "cell_type": "code",
   "execution_count": 63,
   "id": "201db5d9",
   "metadata": {},
   "outputs": [],
   "source": [
    "sigma_1 = interp2d_(fktable_had, fktable_had_400)\n",
    "sigma_2 = griddata_(fktable_had, fktable_had_400)"
   ]
  },
  {
   "cell_type": "code",
   "execution_count": 64,
   "id": "88dc4330",
   "metadata": {},
   "outputs": [
    {
     "name": "stdout",
     "output_type": "stream",
     "text": [
      "\n",
      "Dataset = DYE886R_dw_ite\n",
      "time needed for griddata = 2.8714170455932617\n",
      "\n",
      "\n",
      "Dataset = DYE886R_dw_ite\n",
      "time needed for griddata = 3.4969239234924316\n",
      "\n",
      "\n",
      "Dataset = DYE886P\n",
      "time needed for griddata = 34.607521057128906\n",
      "\n",
      "\n",
      "Dataset = DYE605_dw_ite\n",
      "time needed for griddata = 41.15037703514099\n",
      "\n",
      "\n",
      "Dataset = DYE906R_dw_ite\n",
      "time needed for griddata = 1.9671008586883545\n",
      "\n",
      "\n",
      "Dataset = DYE906R_dw_ite\n",
      "time needed for griddata = 1.9105918407440186\n",
      "\n",
      "\n",
      "Dataset = DYE906R_dw_ite\n",
      "time needed for griddata = 1.7240381240844727\n",
      "\n",
      "\n",
      "Dataset = DYE906R_dw_ite\n"
     ]
    },
    {
     "ename": "QhullError",
     "evalue": "QH6154 Qhull precision error: Initial simplex is flat (facet 1 is coplanar with the interior point)\n\nWhile executing:  | qhull d Qz Q12 Qbb Qt Qc\nOptions selected for Qhull 2019.1.r 2019/06/21:\n  run-id 1095309642  delaunay  Qz-infinity-point  Q12-allow-wide  Qbbound-last\n  Qtriangulate  Qcoplanar-keep  _pre-merge  _zero-centrum  Qinterior-keep\n  Pgood  _max-width 0.46  Error-roundoff 1.3e-15  _one-merge 9e-15\n  Visible-distance 2.6e-15  U-max-coplanar 2.6e-15  Width-outside 5.2e-15\n  _wide-facet 1.5e-14  _maxoutside 1e-14\n\nThe input to qhull appears to be less than 3 dimensional, or a\ncomputation has overflowed.\n\nQhull could not construct a clearly convex simplex from points:\n- p1(v4):  0.49  0.93 0.022\n- p22(v3):   0.7  0.93  0.93\n- p21(v2):  0.93  0.93  0.73\n- p0(v1):  0.47  0.93     0\n\nThe center point is coplanar with a facet, or a vertex is coplanar\nwith a neighboring facet.  The maximum round off error for\ncomputing distances is 1.3e-15.  The center point, facets and distances\nto the center point are as follows:\n\ncenter point   0.6488   0.9306   0.4214\n\nfacet p22 p21 p0 distance=    0\nfacet p1 p21 p0 distance=    0\nfacet p1 p22 p0 distance=    0\nfacet p1 p22 p21 distance=    0\n\nThese points either have a maximum or minimum x-coordinate, or\nthey maximize the determinant for k coordinates.  Trial points\nare first selected from points that maximize a coordinate.\n\nThe min and max coordinates for each dimension are:\n  0:    0.4736    0.9306  difference= 0.457\n  1:    0.9306    0.9306  difference=    0\n  2:         0    0.9306  difference= 0.9306\n\nIf the input should be full dimensional, you have several options that\nmay determine an initial simplex:\n  - use 'QJ'  to joggle the input and make it full dimensional\n  - use 'QbB' to scale the points to the unit cube\n  - use 'QR0' to randomly rotate the input for different maximum points\n  - use 'Qs'  to search all points for the initial simplex\n  - use 'En'  to specify a maximum roundoff error less than 1.3e-15.\n  - trace execution with 'T3' to see the determinant for each point.\n\nIf the input is lower dimensional:\n  - use 'QJ' to joggle the input and make it full dimensional\n  - use 'Qbk:0Bk:0' to delete coordinate k from the input.  You should\n    pick the coordinate with the least range.  The hull will have the\n    correct topology.\n  - determine the flat containing the points, rotate the points\n    into a coordinate plane, and delete the other coordinates.\n  - add one or more points to make the input full dimensional.\n",
     "output_type": "error",
     "traceback": [
      "\u001b[0;31m---------------------------------------------------------------------------\u001b[0m",
      "\u001b[0;31mQhullError\u001b[0m                                Traceback (most recent call last)",
      "Cell \u001b[0;32mIn[64], line 17\u001b[0m\n\u001b[1;32m     15\u001b[0m \u001b[38;5;28mprint\u001b[39m(\u001b[38;5;124mf\u001b[39m\u001b[38;5;124m\"\u001b[39m\u001b[38;5;124mDataset = \u001b[39m\u001b[38;5;132;01m{\u001b[39;00mds_name\u001b[38;5;132;01m}\u001b[39;00m\u001b[38;5;124m\"\u001b[39m)\n\u001b[1;32m     16\u001b[0m t0\u001b[38;5;241m=\u001b[39mtime\u001b[38;5;241m.\u001b[39mtime()\n\u001b[0;32m---> 17\u001b[0m \u001b[43mgriddata_\u001b[49m\u001b[43m(\u001b[49m\u001b[43mtab\u001b[49m\u001b[43m,\u001b[49m\u001b[43m \u001b[49m\u001b[43mtab_400\u001b[49m\u001b[43m)\u001b[49m\n\u001b[1;32m     18\u001b[0m t1\u001b[38;5;241m=\u001b[39mtime\u001b[38;5;241m.\u001b[39mtime()\n\u001b[1;32m     19\u001b[0m \u001b[38;5;28mprint\u001b[39m(\u001b[38;5;124mf\u001b[39m\u001b[38;5;124m'\u001b[39m\u001b[38;5;124mtime needed for griddata = \u001b[39m\u001b[38;5;132;01m{\u001b[39;00mt1\u001b[38;5;241m-\u001b[39mt0\u001b[38;5;132;01m}\u001b[39;00m\u001b[38;5;124m'\u001b[39m)\n",
      "Cell \u001b[0;32mIn[62], line 20\u001b[0m, in \u001b[0;36mgriddata_\u001b[0;34m(fktable, fktable_400)\u001b[0m\n\u001b[1;32m     17\u001b[0m new_x1grid_flat \u001b[38;5;241m=\u001b[39m np\u001b[38;5;241m.\u001b[39mravel(new_xgrid_mesh[\u001b[38;5;241m0\u001b[39m])\n\u001b[1;32m     18\u001b[0m new_x2grid_flat \u001b[38;5;241m=\u001b[39m np\u001b[38;5;241m.\u001b[39mravel(new_xgrid_mesh[\u001b[38;5;241m1\u001b[39m])\n\u001b[0;32m---> 20\u001b[0m interpolated_grids \u001b[38;5;241m=\u001b[39m [griddata(points\u001b[38;5;241m=\u001b[39m(x1_vals,x2_vals), values\u001b[38;5;241m=\u001b[39mgrp[col]\u001b[38;5;241m.\u001b[39mvalues,\n\u001b[1;32m     21\u001b[0m                               xi\u001b[38;5;241m=\u001b[39m(new_x1grid_flat,new_x2grid_flat), method\u001b[38;5;241m=\u001b[39m\u001b[38;5;124m'\u001b[39m\u001b[38;5;124mlinear\u001b[39m\u001b[38;5;124m'\u001b[39m, fill_value\u001b[38;5;241m=\u001b[39m\u001b[38;5;241m0\u001b[39m)\n\u001b[1;32m     22\u001b[0m                 \u001b[38;5;28;01mfor\u001b[39;00m col \u001b[38;5;129;01min\u001b[39;00m grp\u001b[38;5;241m.\u001b[39mcolumns]\n\u001b[1;32m     24\u001b[0m tmp_index \u001b[38;5;241m=\u001b[39m pd\u001b[38;5;241m.\u001b[39mMultiIndex\u001b[38;5;241m.\u001b[39mfrom_product([[d],\u001b[38;5;28mrange\u001b[39m(\u001b[38;5;241m50\u001b[39m),\u001b[38;5;28mrange\u001b[39m(\u001b[38;5;241m50\u001b[39m)], names\u001b[38;5;241m=\u001b[39m[\u001b[38;5;124m'\u001b[39m\u001b[38;5;124mdata\u001b[39m\u001b[38;5;124m'\u001b[39m,\u001b[38;5;124m'\u001b[39m\u001b[38;5;124mx1\u001b[39m\u001b[38;5;124m'\u001b[39m,\u001b[38;5;124m'\u001b[39m\u001b[38;5;124mx2\u001b[39m\u001b[38;5;124m'\u001b[39m])\n\u001b[1;32m     26\u001b[0m d \u001b[38;5;241m=\u001b[39m \u001b[38;5;28mdict\u001b[39m()\n",
      "Cell \u001b[0;32mIn[62], line 20\u001b[0m, in \u001b[0;36m<listcomp>\u001b[0;34m(.0)\u001b[0m\n\u001b[1;32m     17\u001b[0m new_x1grid_flat \u001b[38;5;241m=\u001b[39m np\u001b[38;5;241m.\u001b[39mravel(new_xgrid_mesh[\u001b[38;5;241m0\u001b[39m])\n\u001b[1;32m     18\u001b[0m new_x2grid_flat \u001b[38;5;241m=\u001b[39m np\u001b[38;5;241m.\u001b[39mravel(new_xgrid_mesh[\u001b[38;5;241m1\u001b[39m])\n\u001b[0;32m---> 20\u001b[0m interpolated_grids \u001b[38;5;241m=\u001b[39m [\u001b[43mgriddata\u001b[49m\u001b[43m(\u001b[49m\u001b[43mpoints\u001b[49m\u001b[38;5;241;43m=\u001b[39;49m\u001b[43m(\u001b[49m\u001b[43mx1_vals\u001b[49m\u001b[43m,\u001b[49m\u001b[43mx2_vals\u001b[49m\u001b[43m)\u001b[49m\u001b[43m,\u001b[49m\u001b[43m \u001b[49m\u001b[43mvalues\u001b[49m\u001b[38;5;241;43m=\u001b[39;49m\u001b[43mgrp\u001b[49m\u001b[43m[\u001b[49m\u001b[43mcol\u001b[49m\u001b[43m]\u001b[49m\u001b[38;5;241;43m.\u001b[39;49m\u001b[43mvalues\u001b[49m\u001b[43m,\u001b[49m\n\u001b[1;32m     21\u001b[0m \u001b[43m                              \u001b[49m\u001b[43mxi\u001b[49m\u001b[38;5;241;43m=\u001b[39;49m\u001b[43m(\u001b[49m\u001b[43mnew_x1grid_flat\u001b[49m\u001b[43m,\u001b[49m\u001b[43mnew_x2grid_flat\u001b[49m\u001b[43m)\u001b[49m\u001b[43m,\u001b[49m\u001b[43m \u001b[49m\u001b[43mmethod\u001b[49m\u001b[38;5;241;43m=\u001b[39;49m\u001b[38;5;124;43m'\u001b[39;49m\u001b[38;5;124;43mlinear\u001b[39;49m\u001b[38;5;124;43m'\u001b[39;49m\u001b[43m,\u001b[49m\u001b[43m \u001b[49m\u001b[43mfill_value\u001b[49m\u001b[38;5;241;43m=\u001b[39;49m\u001b[38;5;241;43m0\u001b[39;49m\u001b[43m)\u001b[49m\n\u001b[1;32m     22\u001b[0m                 \u001b[38;5;28;01mfor\u001b[39;00m col \u001b[38;5;129;01min\u001b[39;00m grp\u001b[38;5;241m.\u001b[39mcolumns]\n\u001b[1;32m     24\u001b[0m tmp_index \u001b[38;5;241m=\u001b[39m pd\u001b[38;5;241m.\u001b[39mMultiIndex\u001b[38;5;241m.\u001b[39mfrom_product([[d],\u001b[38;5;28mrange\u001b[39m(\u001b[38;5;241m50\u001b[39m),\u001b[38;5;28mrange\u001b[39m(\u001b[38;5;241m50\u001b[39m)], names\u001b[38;5;241m=\u001b[39m[\u001b[38;5;124m'\u001b[39m\u001b[38;5;124mdata\u001b[39m\u001b[38;5;124m'\u001b[39m,\u001b[38;5;124m'\u001b[39m\u001b[38;5;124mx1\u001b[39m\u001b[38;5;124m'\u001b[39m,\u001b[38;5;124m'\u001b[39m\u001b[38;5;124mx2\u001b[39m\u001b[38;5;124m'\u001b[39m])\n\u001b[1;32m     26\u001b[0m d \u001b[38;5;241m=\u001b[39m \u001b[38;5;28mdict\u001b[39m()\n",
      "File \u001b[0;32m~/miniconda3/envs/super_net/lib/python3.9/site-packages/scipy/interpolate/_ndgriddata.py:264\u001b[0m, in \u001b[0;36mgriddata\u001b[0;34m(points, values, xi, method, fill_value, rescale)\u001b[0m\n\u001b[1;32m    262\u001b[0m     \u001b[38;5;28;01mreturn\u001b[39;00m ip(xi)\n\u001b[1;32m    263\u001b[0m \u001b[38;5;28;01melif\u001b[39;00m method \u001b[38;5;241m==\u001b[39m \u001b[38;5;124m'\u001b[39m\u001b[38;5;124mlinear\u001b[39m\u001b[38;5;124m'\u001b[39m:\n\u001b[0;32m--> 264\u001b[0m     ip \u001b[38;5;241m=\u001b[39m \u001b[43mLinearNDInterpolator\u001b[49m\u001b[43m(\u001b[49m\u001b[43mpoints\u001b[49m\u001b[43m,\u001b[49m\u001b[43m \u001b[49m\u001b[43mvalues\u001b[49m\u001b[43m,\u001b[49m\u001b[43m \u001b[49m\u001b[43mfill_value\u001b[49m\u001b[38;5;241;43m=\u001b[39;49m\u001b[43mfill_value\u001b[49m\u001b[43m,\u001b[49m\n\u001b[1;32m    265\u001b[0m \u001b[43m                              \u001b[49m\u001b[43mrescale\u001b[49m\u001b[38;5;241;43m=\u001b[39;49m\u001b[43mrescale\u001b[49m\u001b[43m)\u001b[49m\n\u001b[1;32m    266\u001b[0m     \u001b[38;5;28;01mreturn\u001b[39;00m ip(xi)\n\u001b[1;32m    267\u001b[0m \u001b[38;5;28;01melif\u001b[39;00m method \u001b[38;5;241m==\u001b[39m \u001b[38;5;124m'\u001b[39m\u001b[38;5;124mcubic\u001b[39m\u001b[38;5;124m'\u001b[39m \u001b[38;5;129;01mand\u001b[39;00m ndim \u001b[38;5;241m==\u001b[39m \u001b[38;5;241m2\u001b[39m:\n",
      "File \u001b[0;32minterpnd.pyx:281\u001b[0m, in \u001b[0;36mscipy.interpolate.interpnd.LinearNDInterpolator.__init__\u001b[0;34m()\u001b[0m\n",
      "File \u001b[0;32m_qhull.pyx:1841\u001b[0m, in \u001b[0;36mscipy.spatial._qhull.Delaunay.__init__\u001b[0;34m()\u001b[0m\n",
      "File \u001b[0;32m_qhull.pyx:353\u001b[0m, in \u001b[0;36mscipy.spatial._qhull._Qhull.__init__\u001b[0;34m()\u001b[0m\n",
      "\u001b[0;31mQhullError\u001b[0m: QH6154 Qhull precision error: Initial simplex is flat (facet 1 is coplanar with the interior point)\n\nWhile executing:  | qhull d Qz Q12 Qbb Qt Qc\nOptions selected for Qhull 2019.1.r 2019/06/21:\n  run-id 1095309642  delaunay  Qz-infinity-point  Q12-allow-wide  Qbbound-last\n  Qtriangulate  Qcoplanar-keep  _pre-merge  _zero-centrum  Qinterior-keep\n  Pgood  _max-width 0.46  Error-roundoff 1.3e-15  _one-merge 9e-15\n  Visible-distance 2.6e-15  U-max-coplanar 2.6e-15  Width-outside 5.2e-15\n  _wide-facet 1.5e-14  _maxoutside 1e-14\n\nThe input to qhull appears to be less than 3 dimensional, or a\ncomputation has overflowed.\n\nQhull could not construct a clearly convex simplex from points:\n- p1(v4):  0.49  0.93 0.022\n- p22(v3):   0.7  0.93  0.93\n- p21(v2):  0.93  0.93  0.73\n- p0(v1):  0.47  0.93     0\n\nThe center point is coplanar with a facet, or a vertex is coplanar\nwith a neighboring facet.  The maximum round off error for\ncomputing distances is 1.3e-15.  The center point, facets and distances\nto the center point are as follows:\n\ncenter point   0.6488   0.9306   0.4214\n\nfacet p22 p21 p0 distance=    0\nfacet p1 p21 p0 distance=    0\nfacet p1 p22 p0 distance=    0\nfacet p1 p22 p21 distance=    0\n\nThese points either have a maximum or minimum x-coordinate, or\nthey maximize the determinant for k coordinates.  Trial points\nare first selected from points that maximize a coordinate.\n\nThe min and max coordinates for each dimension are:\n  0:    0.4736    0.9306  difference= 0.457\n  1:    0.9306    0.9306  difference=    0\n  2:         0    0.9306  difference= 0.9306\n\nIf the input should be full dimensional, you have several options that\nmay determine an initial simplex:\n  - use 'QJ'  to joggle the input and make it full dimensional\n  - use 'QbB' to scale the points to the unit cube\n  - use 'QR0' to randomly rotate the input for different maximum points\n  - use 'Qs'  to search all points for the initial simplex\n  - use 'En'  to specify a maximum roundoff error less than 1.3e-15.\n  - trace execution with 'T3' to see the determinant for each point.\n\nIf the input is lower dimensional:\n  - use 'QJ' to joggle the input and make it full dimensional\n  - use 'Qbk:0Bk:0' to delete coordinate k from the input.  You should\n    pick the coordinate with the least range.  The hull will have the\n    correct topology.\n  - determine the flat containing the points, rotate the points\n    into a coordinate plane, and delete the other coordinates.\n  - add one or more points to make the input full dimensional.\n"
     ]
    }
   ],
   "source": [
    "import time\n",
    "\n",
    "# probably need to ignore the broken datasets as in the imagepdf nb\n",
    "\n",
    "for ds, ds_400 in zip(datasets, datasets_400):\n",
    "    ds_name = str(ds)\n",
    "\n",
    "    for fk, fk_400 in zip(ds.fkspecs, ds_400.fkspecs):\n",
    "        tab=load_fktable(fk)\n",
    "        tab_400=load_fktable(fk_400)        \n",
    "\n",
    "        if tab.hadronic and tab_400.hadronic:\n",
    "            \n",
    "            print()\n",
    "            print(f\"Dataset = {ds_name}\")\n",
    "            t0=time.time()\n",
    "            griddata_(tab, tab_400)\n",
    "            t1=time.time()\n",
    "            print(f'time needed for griddata = {t1-t0}')\n",
    "            print()\n",
    "#             t0=time.time()\n",
    "#             interp2d_(tab, tab_400)\n",
    "#             t1=time.time()\n",
    "#             print(f'time needed for interp2d = {t1-t0}')\n",
    "            \n",
    "            "
   ]
  },
  {
   "cell_type": "code",
   "execution_count": 29,
   "id": "f940ad03",
   "metadata": {},
   "outputs": [
    {
     "data": {
      "text/plain": [
       "0.00019656477386740742"
      ]
     },
     "execution_count": 29,
     "metadata": {},
     "output_type": "execute_result"
    }
   ],
   "source": [
    "np.max(sigma_1.to_numpy()- sigma_2.to_numpy())"
   ]
  },
  {
   "cell_type": "code",
   "execution_count": null,
   "id": "204cdae5",
   "metadata": {},
   "outputs": [],
   "source": []
  }
 ],
 "metadata": {
  "kernelspec": {
   "display_name": "Python 3 (ipykernel)",
   "language": "python",
   "name": "python3"
  },
  "language_info": {
   "codemirror_mode": {
    "name": "ipython",
    "version": 3
   },
   "file_extension": ".py",
   "mimetype": "text/x-python",
   "name": "python",
   "nbconvert_exporter": "python",
   "pygments_lexer": "ipython3",
   "version": "3.9.2"
  }
 },
 "nbformat": 4,
 "nbformat_minor": 5
}
